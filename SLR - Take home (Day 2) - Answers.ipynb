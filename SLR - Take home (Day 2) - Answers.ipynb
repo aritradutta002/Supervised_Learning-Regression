{
 "cells": [
  {
   "cell_type": "markdown",
   "metadata": {},
   "source": [
    "<table align=\"center\" width=100%>\n",
    "    <tr>\n",
    "        <td width=\"15%\">\n",
    "            <img src=\"homework.png\">\n",
    "        </td>\n",
    "        <td>\n",
    "            <div align=\"center\">\n",
    "                <font color=\"#21618C\" size=8px>\n",
    "                    <b> Take-Home <br>(Day 2)\n",
    "                    </b>\n",
    "                </font>\n",
    "            </div>\n",
    "        </td>\n",
    "    </tr>\n",
    "</table>"
   ]
  },
  {
   "cell_type": "markdown",
   "metadata": {},
   "source": [
    "#### Import the required libraries"
   ]
  },
  {
   "cell_type": "code",
   "execution_count": 62,
   "metadata": {},
   "outputs": [],
   "source": [
    "# type your code here\n",
    "import numpy as np\n",
    "import pandas as pd\n",
    "import scipy.stats as stats\n",
    "import matplotlib.pyplot as plt\n",
    "import seaborn as sns\n",
    "%matplotlib inline\n",
    "import statsmodels.api as sm\n",
    "from sklearn.preprocessing import StandardScaler\n",
    "from mlxtend.feature_selection import SequentialFeatureSelector as sfs\n",
    "from sklearn.linear_model import LinearRegression\n",
    "from sklearn.model_selection import cross_val_score\n",
    "from sklearn.feature_selection import RFECV"
   ]
  },
  {
   "cell_type": "markdown",
   "metadata": {},
   "source": [
    "#### Read the data\n",
    "\n",
    "Load the csv file and print the first five observations."
   ]
  },
  {
   "cell_type": "code",
   "execution_count": 2,
   "metadata": {},
   "outputs": [
    {
     "data": {
      "text/html": [
       "<div>\n",
       "<style scoped>\n",
       "    .dataframe tbody tr th:only-of-type {\n",
       "        vertical-align: middle;\n",
       "    }\n",
       "\n",
       "    .dataframe tbody tr th {\n",
       "        vertical-align: top;\n",
       "    }\n",
       "\n",
       "    .dataframe thead th {\n",
       "        text-align: right;\n",
       "    }\n",
       "</style>\n",
       "<table border=\"1\" class=\"dataframe\">\n",
       "  <thead>\n",
       "    <tr style=\"text-align: right;\">\n",
       "      <th></th>\n",
       "      <th>carat</th>\n",
       "      <th>cut</th>\n",
       "      <th>color</th>\n",
       "      <th>depth</th>\n",
       "      <th>table</th>\n",
       "      <th>price</th>\n",
       "      <th>x</th>\n",
       "      <th>y</th>\n",
       "      <th>z</th>\n",
       "    </tr>\n",
       "  </thead>\n",
       "  <tbody>\n",
       "    <tr>\n",
       "      <th>0</th>\n",
       "      <td>0.30</td>\n",
       "      <td>Good</td>\n",
       "      <td>F</td>\n",
       "      <td>61.1</td>\n",
       "      <td>61.0</td>\n",
       "      <td>682</td>\n",
       "      <td>4.29</td>\n",
       "      <td>4.32</td>\n",
       "      <td>2.63</td>\n",
       "    </tr>\n",
       "    <tr>\n",
       "      <th>1</th>\n",
       "      <td>0.72</td>\n",
       "      <td>Ideal</td>\n",
       "      <td>H</td>\n",
       "      <td>62.0</td>\n",
       "      <td>56.0</td>\n",
       "      <td>2443</td>\n",
       "      <td>5.80</td>\n",
       "      <td>5.74</td>\n",
       "      <td>3.58</td>\n",
       "    </tr>\n",
       "    <tr>\n",
       "      <th>2</th>\n",
       "      <td>1.71</td>\n",
       "      <td>Premium</td>\n",
       "      <td>J</td>\n",
       "      <td>62.9</td>\n",
       "      <td>58.0</td>\n",
       "      <td>8848</td>\n",
       "      <td>7.64</td>\n",
       "      <td>7.58</td>\n",
       "      <td>4.79</td>\n",
       "    </tr>\n",
       "    <tr>\n",
       "      <th>3</th>\n",
       "      <td>1.01</td>\n",
       "      <td>Premium</td>\n",
       "      <td>E</td>\n",
       "      <td>59.2</td>\n",
       "      <td>59.0</td>\n",
       "      <td>7287</td>\n",
       "      <td>6.67</td>\n",
       "      <td>6.60</td>\n",
       "      <td>3.93</td>\n",
       "    </tr>\n",
       "    <tr>\n",
       "      <th>4</th>\n",
       "      <td>0.52</td>\n",
       "      <td>Ideal</td>\n",
       "      <td>D</td>\n",
       "      <td>62.7</td>\n",
       "      <td>56.0</td>\n",
       "      <td>1720</td>\n",
       "      <td>5.17</td>\n",
       "      <td>5.14</td>\n",
       "      <td>3.23</td>\n",
       "    </tr>\n",
       "  </tbody>\n",
       "</table>\n",
       "</div>"
      ],
      "text/plain": [
       "   carat      cut color  depth  table  price     x     y     z\n",
       "0   0.30     Good     F   61.1   61.0    682  4.29  4.32  2.63\n",
       "1   0.72    Ideal     H   62.0   56.0   2443  5.80  5.74  3.58\n",
       "2   1.71  Premium     J   62.9   58.0   8848  7.64  7.58  4.79\n",
       "3   1.01  Premium     E   59.2   59.0   7287  6.67  6.60  3.93\n",
       "4   0.52    Ideal     D   62.7   56.0   1720  5.17  5.14  3.23"
      ]
     },
     "execution_count": 2,
     "metadata": {},
     "output_type": "execute_result"
    }
   ],
   "source": [
    "# type your code here\n",
    "df = pd.read_csv('diamond_data.csv')\n",
    "df.head()"
   ]
  },
  {
   "cell_type": "markdown",
   "metadata": {},
   "source": [
    "Our objective is to predict the price of the diamond."
   ]
  },
  {
   "cell_type": "markdown",
   "metadata": {},
   "source": [
    "**The data definition is as follows:** <br>\n",
    "\n",
    "**carat**: Weight of the diamond\n",
    "\n",
    "**cut**: Quality of the cut (Fair, Good, Very Good, Premium, Ideal)\n",
    "\n",
    "**color**: Diamond color\n",
    "\n",
    "**depth**: Total depth percentage (it is calculated as: 2 * z / (x + y))\n",
    "\n",
    "**table**: Width of top of the diamond relative to the widest point \n",
    "\n",
    "**price**: Price of a diamond in US dollars (target/dependent variable)\n",
    "\n",
    "**x**: Length of a diamond in mm\n",
    "\n",
    "**y**: Width of a diamond in mm\n",
    "\n",
    "**z**: Depth of a diamond in mm"
   ]
  },
  {
   "cell_type": "code",
   "execution_count": 8,
   "metadata": {},
   "outputs": [
    {
     "data": {
      "text/plain": [
       "carat    0\n",
       "cut      0\n",
       "color    0\n",
       "depth    0\n",
       "table    0\n",
       "price    0\n",
       "x        0\n",
       "y        0\n",
       "z        0\n",
       "dtype: int64"
      ]
     },
     "execution_count": 8,
     "metadata": {},
     "output_type": "execute_result"
    }
   ],
   "source": [
    "df.isnull().sum()"
   ]
  },
  {
   "cell_type": "code",
   "execution_count": 9,
   "metadata": {},
   "outputs": [
    {
     "name": "stdout",
     "output_type": "stream",
     "text": [
      "<class 'pandas.core.frame.DataFrame'>\n",
      "RangeIndex: 1547 entries, 0 to 1546\n",
      "Data columns (total 9 columns):\n",
      " #   Column  Non-Null Count  Dtype  \n",
      "---  ------  --------------  -----  \n",
      " 0   carat   1547 non-null   float64\n",
      " 1   cut     1547 non-null   object \n",
      " 2   color   1547 non-null   object \n",
      " 3   depth   1547 non-null   float64\n",
      " 4   table   1547 non-null   float64\n",
      " 5   price   1547 non-null   int64  \n",
      " 6   x       1547 non-null   float64\n",
      " 7   y       1547 non-null   float64\n",
      " 8   z       1547 non-null   float64\n",
      "dtypes: float64(6), int64(1), object(2)\n",
      "memory usage: 108.9+ KB\n"
     ]
    }
   ],
   "source": [
    "df.info()"
   ]
  },
  {
   "cell_type": "code",
   "execution_count": 10,
   "metadata": {},
   "outputs": [
    {
     "data": {
      "text/plain": [
       "Ideal        611\n",
       "Premium      389\n",
       "Very Good    358\n",
       "Good         148\n",
       "Fair          41\n",
       "Name: cut, dtype: int64"
      ]
     },
     "execution_count": 10,
     "metadata": {},
     "output_type": "execute_result"
    }
   ],
   "source": [
    "df['cut'].value_counts()"
   ]
  },
  {
   "cell_type": "code",
   "execution_count": 11,
   "metadata": {},
   "outputs": [
    {
     "data": {
      "text/plain": [
       "G    317\n",
       "E    281\n",
       "F    274\n",
       "H    244\n",
       "D    206\n",
       "I    141\n",
       "J     84\n",
       "Name: color, dtype: int64"
      ]
     },
     "execution_count": 11,
     "metadata": {},
     "output_type": "execute_result"
    }
   ],
   "source": [
    "df['color'].value_counts()"
   ]
  },
  {
   "cell_type": "code",
   "execution_count": 12,
   "metadata": {},
   "outputs": [],
   "source": [
    "num_data = df.select_dtypes(include = np.number)\n",
    "cat_data = df.select_dtypes(exclude = np.number)"
   ]
  },
  {
   "cell_type": "code",
   "execution_count": 14,
   "metadata": {},
   "outputs": [
    {
     "data": {
      "image/png": "[encoded data removed]",
      "text/plain": [
       "<Figure size 432x288 with 1 Axes>"
      ]
     },
     "metadata": {
      "needs_background": "light"
     },
     "output_type": "display_data"
    },
    {
     "data": {
      "image/png": "[encoded data removed]",
      "text/plain": [
       "<Figure size 432x288 with 1 Axes>"
      ]
     },
     "metadata": {
      "needs_background": "light"
     },
     "output_type": "display_data"
    },
    {
     "data": {
      "image/png": "[encoded data removed]",
      "text/plain": [
       "<Figure size 432x288 with 1 Axes>"
      ]
     },
     "metadata": {
      "needs_background": "light"
     },
     "output_type": "display_data"
    },
    {
     "data": {
      "image/png": "[encoded data removed]",
      "text/plain": [
       "<Figure size 432x288 with 1 Axes>"
      ]
     },
     "metadata": {
      "needs_background": "light"
     },
     "output_type": "display_data"
    },
    {
     "data": {
      "image/png": "[encoded data removed]",
      "text/plain": [
       "<Figure size 432x288 with 1 Axes>"
      ]
     },
     "metadata": {
      "needs_background": "light"
     },
     "output_type": "display_data"
    },
    {
     "data": {
      "image/png": "[encoded data removed]",
      "text/plain": [
       "<Figure size 432x288 with 1 Axes>"
      ]
     },
     "metadata": {
      "needs_background": "light"
     },
     "output_type": "display_data"
    },
    {
     "data": {
      "image/png": "[encoded data removed]",
      "text/plain": [
       "<Figure size 432x288 with 1 Axes>"
      ]
     },
     "metadata": {
      "needs_background": "light"
     },
     "output_type": "display_data"
    }
   ],
   "source": [
    "for i in num_data.columns:\n",
    "    sns.boxplot(num_data[i])\n",
    "    plt.show()"
   ]
  },
  {
   "cell_type": "code",
   "execution_count": 15,
   "metadata": {},
   "outputs": [
    {
     "name": "stderr",
     "output_type": "stream",
     "text": [
      "<ipython-input-15-0aaae5d69a49>:7: SettingWithCopyWarning: \n",
      "A value is trying to be set on a copy of a slice from a DataFrame.\n",
      "Try using .loc[row_indexer,col_indexer] = value instead\n",
      "\n",
      "See the caveats in the documentation: https://pandas.pydata.org/pandas-docs/stable/user_guide/indexing.html#returning-a-view-versus-a-copy\n",
      "  num_data[i] = num_data[i].replace(num_data[num_data[i]>ub][i],num_data[i].quantile(0.99))\n",
      "<ipython-input-15-0aaae5d69a49>:8: SettingWithCopyWarning: \n",
      "A value is trying to be set on a copy of a slice from a DataFrame.\n",
      "Try using .loc[row_indexer,col_indexer] = value instead\n",
      "\n",
      "See the caveats in the documentation: https://pandas.pydata.org/pandas-docs/stable/user_guide/indexing.html#returning-a-view-versus-a-copy\n",
      "  num_data[i] = num_data[i].replace(num_data[num_data[i]<lb][i],num_data[i].quantile(0.01))\n"
     ]
    },
    {
     "data": {
      "image/png": "[encoded data removed]",
      "text/plain": [
       "<Figure size 432x288 with 1 Axes>"
      ]
     },
     "metadata": {
      "needs_background": "light"
     },
     "output_type": "display_data"
    },
    {
     "name": "stderr",
     "output_type": "stream",
     "text": [
      "<ipython-input-15-0aaae5d69a49>:7: SettingWithCopyWarning: \n",
      "A value is trying to be set on a copy of a slice from a DataFrame.\n",
      "Try using .loc[row_indexer,col_indexer] = value instead\n",
      "\n",
      "See the caveats in the documentation: https://pandas.pydata.org/pandas-docs/stable/user_guide/indexing.html#returning-a-view-versus-a-copy\n",
      "  num_data[i] = num_data[i].replace(num_data[num_data[i]>ub][i],num_data[i].quantile(0.99))\n",
      "<ipython-input-15-0aaae5d69a49>:8: SettingWithCopyWarning: \n",
      "A value is trying to be set on a copy of a slice from a DataFrame.\n",
      "Try using .loc[row_indexer,col_indexer] = value instead\n",
      "\n",
      "See the caveats in the documentation: https://pandas.pydata.org/pandas-docs/stable/user_guide/indexing.html#returning-a-view-versus-a-copy\n",
      "  num_data[i] = num_data[i].replace(num_data[num_data[i]<lb][i],num_data[i].quantile(0.01))\n"
     ]
    },
    {
     "data": {
      "image/png": "[encoded data removed]",
      "text/plain": [
       "<Figure size 432x288 with 1 Axes>"
      ]
     },
     "metadata": {
      "needs_background": "light"
     },
     "output_type": "display_data"
    },
    {
     "name": "stderr",
     "output_type": "stream",
     "text": [
      "<ipython-input-15-0aaae5d69a49>:7: SettingWithCopyWarning: \n",
      "A value is trying to be set on a copy of a slice from a DataFrame.\n",
      "Try using .loc[row_indexer,col_indexer] = value instead\n",
      "\n",
      "See the caveats in the documentation: https://pandas.pydata.org/pandas-docs/stable/user_guide/indexing.html#returning-a-view-versus-a-copy\n",
      "  num_data[i] = num_data[i].replace(num_data[num_data[i]>ub][i],num_data[i].quantile(0.99))\n",
      "<ipython-input-15-0aaae5d69a49>:8: SettingWithCopyWarning: \n",
      "A value is trying to be set on a copy of a slice from a DataFrame.\n",
      "Try using .loc[row_indexer,col_indexer] = value instead\n",
      "\n",
      "See the caveats in the documentation: https://pandas.pydata.org/pandas-docs/stable/user_guide/indexing.html#returning-a-view-versus-a-copy\n",
      "  num_data[i] = num_data[i].replace(num_data[num_data[i]<lb][i],num_data[i].quantile(0.01))\n"
     ]
    },
    {
     "data": {
      "image/png": "[encoded data removed]",
      "text/plain": [
       "<Figure size 432x288 with 1 Axes>"
      ]
     },
     "metadata": {
      "needs_background": "light"
     },
     "output_type": "display_data"
    },
    {
     "name": "stderr",
     "output_type": "stream",
     "text": [
      "<ipython-input-15-0aaae5d69a49>:7: SettingWithCopyWarning: \n",
      "A value is trying to be set on a copy of a slice from a DataFrame.\n",
      "Try using .loc[row_indexer,col_indexer] = value instead\n",
      "\n",
      "See the caveats in the documentation: https://pandas.pydata.org/pandas-docs/stable/user_guide/indexing.html#returning-a-view-versus-a-copy\n",
      "  num_data[i] = num_data[i].replace(num_data[num_data[i]>ub][i],num_data[i].quantile(0.99))\n",
      "<ipython-input-15-0aaae5d69a49>:8: SettingWithCopyWarning: \n",
      "A value is trying to be set on a copy of a slice from a DataFrame.\n",
      "Try using .loc[row_indexer,col_indexer] = value instead\n",
      "\n",
      "See the caveats in the documentation: https://pandas.pydata.org/pandas-docs/stable/user_guide/indexing.html#returning-a-view-versus-a-copy\n",
      "  num_data[i] = num_data[i].replace(num_data[num_data[i]<lb][i],num_data[i].quantile(0.01))\n"
     ]
    },
    {
     "data": {
      "image/png": "[encoded data removed]",
      "text/plain": [
       "<Figure size 432x288 with 1 Axes>"
      ]
     },
     "metadata": {
      "needs_background": "light"
     },
     "output_type": "display_data"
    },
    {
     "name": "stderr",
     "output_type": "stream",
     "text": [
      "<ipython-input-15-0aaae5d69a49>:7: SettingWithCopyWarning: \n",
      "A value is trying to be set on a copy of a slice from a DataFrame.\n",
      "Try using .loc[row_indexer,col_indexer] = value instead\n",
      "\n",
      "See the caveats in the documentation: https://pandas.pydata.org/pandas-docs/stable/user_guide/indexing.html#returning-a-view-versus-a-copy\n",
      "  num_data[i] = num_data[i].replace(num_data[num_data[i]>ub][i],num_data[i].quantile(0.99))\n",
      "<ipython-input-15-0aaae5d69a49>:8: SettingWithCopyWarning: \n",
      "A value is trying to be set on a copy of a slice from a DataFrame.\n",
      "Try using .loc[row_indexer,col_indexer] = value instead\n",
      "\n",
      "See the caveats in the documentation: https://pandas.pydata.org/pandas-docs/stable/user_guide/indexing.html#returning-a-view-versus-a-copy\n",
      "  num_data[i] = num_data[i].replace(num_data[num_data[i]<lb][i],num_data[i].quantile(0.01))\n"
     ]
    },
    {
     "data": {
      "image/png": "[encoded data removed]",
      "text/plain": [
       "<Figure size 432x288 with 1 Axes>"
      ]
     },
     "metadata": {
      "needs_background": "light"
     },
     "output_type": "display_data"
    },
    {
     "name": "stderr",
     "output_type": "stream",
     "text": [
      "<ipython-input-15-0aaae5d69a49>:7: SettingWithCopyWarning: \n",
      "A value is trying to be set on a copy of a slice from a DataFrame.\n",
      "Try using .loc[row_indexer,col_indexer] = value instead\n",
      "\n",
      "See the caveats in the documentation: https://pandas.pydata.org/pandas-docs/stable/user_guide/indexing.html#returning-a-view-versus-a-copy\n",
      "  num_data[i] = num_data[i].replace(num_data[num_data[i]>ub][i],num_data[i].quantile(0.99))\n",
      "<ipython-input-15-0aaae5d69a49>:8: SettingWithCopyWarning: \n",
      "A value is trying to be set on a copy of a slice from a DataFrame.\n",
      "Try using .loc[row_indexer,col_indexer] = value instead\n",
      "\n",
      "See the caveats in the documentation: https://pandas.pydata.org/pandas-docs/stable/user_guide/indexing.html#returning-a-view-versus-a-copy\n",
      "  num_data[i] = num_data[i].replace(num_data[num_data[i]<lb][i],num_data[i].quantile(0.01))\n"
     ]
    },
    {
     "data": {
      "image/png": "[encoded data removed]",
      "text/plain": [
       "<Figure size 432x288 with 1 Axes>"
      ]
     },
     "metadata": {
      "needs_background": "light"
     },
     "output_type": "display_data"
    },
    {
     "name": "stderr",
     "output_type": "stream",
     "text": [
      "<ipython-input-15-0aaae5d69a49>:7: SettingWithCopyWarning: \n",
      "A value is trying to be set on a copy of a slice from a DataFrame.\n",
      "Try using .loc[row_indexer,col_indexer] = value instead\n",
      "\n",
      "See the caveats in the documentation: https://pandas.pydata.org/pandas-docs/stable/user_guide/indexing.html#returning-a-view-versus-a-copy\n",
      "  num_data[i] = num_data[i].replace(num_data[num_data[i]>ub][i],num_data[i].quantile(0.99))\n",
      "<ipython-input-15-0aaae5d69a49>:8: SettingWithCopyWarning: \n",
      "A value is trying to be set on a copy of a slice from a DataFrame.\n",
      "Try using .loc[row_indexer,col_indexer] = value instead\n",
      "\n",
      "See the caveats in the documentation: https://pandas.pydata.org/pandas-docs/stable/user_guide/indexing.html#returning-a-view-versus-a-copy\n",
      "  num_data[i] = num_data[i].replace(num_data[num_data[i]<lb][i],num_data[i].quantile(0.01))\n"
     ]
    },
    {
     "data": {
      "image/png": "[encoded data removed]",
      "text/plain": [
       "<Figure size 432x288 with 1 Axes>"
      ]
     },
     "metadata": {
      "needs_background": "light"
     },
     "output_type": "display_data"
    }
   ],
   "source": [
    "for i in num_data.columns:\n",
    "    q1 = num_data[i].quantile(0.25)\n",
    "    q3 = num_data[i].quantile(0.75)\n",
    "    iqr = q3 - q1\n",
    "    ub = q3 + 1.5*iqr\n",
    "    lb = q1 - 1.5*iqr\n",
    "    num_data[i] = num_data[i].replace(num_data[num_data[i]>ub][i],num_data[i].quantile(0.99))\n",
    "    num_data[i] = num_data[i].replace(num_data[num_data[i]<lb][i],num_data[i].quantile(0.01))\n",
    "    sns.boxplot(num_data[i])\n",
    "    plt.show()"
   ]
  },
  {
   "cell_type": "code",
   "execution_count": 17,
   "metadata": {},
   "outputs": [],
   "source": [
    "cat_data = pd.get_dummies(cat_data,drop_first=True)"
   ]
  },
  {
   "cell_type": "code",
   "execution_count": 18,
   "metadata": {},
   "outputs": [
    {
     "data": {
      "text/html": [
       "<div>\n",
       "<style scoped>\n",
       "    .dataframe tbody tr th:only-of-type {\n",
       "        vertical-align: middle;\n",
       "    }\n",
       "\n",
       "    .dataframe tbody tr th {\n",
       "        vertical-align: top;\n",
       "    }\n",
       "\n",
       "    .dataframe thead th {\n",
       "        text-align: right;\n",
       "    }\n",
       "</style>\n",
       "<table border=\"1\" class=\"dataframe\">\n",
       "  <thead>\n",
       "    <tr style=\"text-align: right;\">\n",
       "      <th></th>\n",
       "      <th>carat</th>\n",
       "      <th>depth</th>\n",
       "      <th>table</th>\n",
       "      <th>price</th>\n",
       "      <th>x</th>\n",
       "      <th>y</th>\n",
       "      <th>z</th>\n",
       "      <th>cut_Good</th>\n",
       "      <th>cut_Ideal</th>\n",
       "      <th>cut_Premium</th>\n",
       "      <th>cut_Very Good</th>\n",
       "      <th>color_E</th>\n",
       "      <th>color_F</th>\n",
       "      <th>color_G</th>\n",
       "      <th>color_H</th>\n",
       "      <th>color_I</th>\n",
       "      <th>color_J</th>\n",
       "    </tr>\n",
       "  </thead>\n",
       "  <tbody>\n",
       "    <tr>\n",
       "      <th>0</th>\n",
       "      <td>0.30</td>\n",
       "      <td>61.1</td>\n",
       "      <td>61.0</td>\n",
       "      <td>682.00</td>\n",
       "      <td>4.29</td>\n",
       "      <td>4.32</td>\n",
       "      <td>2.63</td>\n",
       "      <td>1</td>\n",
       "      <td>0</td>\n",
       "      <td>0</td>\n",
       "      <td>0</td>\n",
       "      <td>0</td>\n",
       "      <td>1</td>\n",
       "      <td>0</td>\n",
       "      <td>0</td>\n",
       "      <td>0</td>\n",
       "      <td>0</td>\n",
       "    </tr>\n",
       "    <tr>\n",
       "      <th>1</th>\n",
       "      <td>0.72</td>\n",
       "      <td>62.0</td>\n",
       "      <td>56.0</td>\n",
       "      <td>2443.00</td>\n",
       "      <td>5.80</td>\n",
       "      <td>5.74</td>\n",
       "      <td>3.58</td>\n",
       "      <td>0</td>\n",
       "      <td>1</td>\n",
       "      <td>0</td>\n",
       "      <td>0</td>\n",
       "      <td>0</td>\n",
       "      <td>0</td>\n",
       "      <td>0</td>\n",
       "      <td>1</td>\n",
       "      <td>0</td>\n",
       "      <td>0</td>\n",
       "    </tr>\n",
       "    <tr>\n",
       "      <th>2</th>\n",
       "      <td>1.71</td>\n",
       "      <td>62.9</td>\n",
       "      <td>58.0</td>\n",
       "      <td>8848.00</td>\n",
       "      <td>7.64</td>\n",
       "      <td>7.58</td>\n",
       "      <td>4.79</td>\n",
       "      <td>0</td>\n",
       "      <td>0</td>\n",
       "      <td>1</td>\n",
       "      <td>0</td>\n",
       "      <td>0</td>\n",
       "      <td>0</td>\n",
       "      <td>0</td>\n",
       "      <td>0</td>\n",
       "      <td>0</td>\n",
       "      <td>1</td>\n",
       "    </tr>\n",
       "    <tr>\n",
       "      <th>3</th>\n",
       "      <td>1.01</td>\n",
       "      <td>59.2</td>\n",
       "      <td>59.0</td>\n",
       "      <td>7287.00</td>\n",
       "      <td>6.67</td>\n",
       "      <td>6.60</td>\n",
       "      <td>3.93</td>\n",
       "      <td>0</td>\n",
       "      <td>0</td>\n",
       "      <td>1</td>\n",
       "      <td>0</td>\n",
       "      <td>1</td>\n",
       "      <td>0</td>\n",
       "      <td>0</td>\n",
       "      <td>0</td>\n",
       "      <td>0</td>\n",
       "      <td>0</td>\n",
       "    </tr>\n",
       "    <tr>\n",
       "      <th>4</th>\n",
       "      <td>0.52</td>\n",
       "      <td>62.7</td>\n",
       "      <td>56.0</td>\n",
       "      <td>1720.00</td>\n",
       "      <td>5.17</td>\n",
       "      <td>5.14</td>\n",
       "      <td>3.23</td>\n",
       "      <td>0</td>\n",
       "      <td>1</td>\n",
       "      <td>0</td>\n",
       "      <td>0</td>\n",
       "      <td>0</td>\n",
       "      <td>0</td>\n",
       "      <td>0</td>\n",
       "      <td>0</td>\n",
       "      <td>0</td>\n",
       "      <td>0</td>\n",
       "    </tr>\n",
       "    <tr>\n",
       "      <th>...</th>\n",
       "      <td>...</td>\n",
       "      <td>...</td>\n",
       "      <td>...</td>\n",
       "      <td>...</td>\n",
       "      <td>...</td>\n",
       "      <td>...</td>\n",
       "      <td>...</td>\n",
       "      <td>...</td>\n",
       "      <td>...</td>\n",
       "      <td>...</td>\n",
       "      <td>...</td>\n",
       "      <td>...</td>\n",
       "      <td>...</td>\n",
       "      <td>...</td>\n",
       "      <td>...</td>\n",
       "      <td>...</td>\n",
       "      <td>...</td>\n",
       "    </tr>\n",
       "    <tr>\n",
       "      <th>1542</th>\n",
       "      <td>1.05</td>\n",
       "      <td>64.2</td>\n",
       "      <td>61.0</td>\n",
       "      <td>4878.00</td>\n",
       "      <td>6.33</td>\n",
       "      <td>6.41</td>\n",
       "      <td>4.09</td>\n",
       "      <td>1</td>\n",
       "      <td>0</td>\n",
       "      <td>0</td>\n",
       "      <td>0</td>\n",
       "      <td>1</td>\n",
       "      <td>0</td>\n",
       "      <td>0</td>\n",
       "      <td>0</td>\n",
       "      <td>0</td>\n",
       "      <td>0</td>\n",
       "    </tr>\n",
       "    <tr>\n",
       "      <th>1543</th>\n",
       "      <td>0.40</td>\n",
       "      <td>62.1</td>\n",
       "      <td>53.0</td>\n",
       "      <td>573.00</td>\n",
       "      <td>4.75</td>\n",
       "      <td>4.78</td>\n",
       "      <td>2.96</td>\n",
       "      <td>0</td>\n",
       "      <td>1</td>\n",
       "      <td>0</td>\n",
       "      <td>0</td>\n",
       "      <td>0</td>\n",
       "      <td>0</td>\n",
       "      <td>1</td>\n",
       "      <td>0</td>\n",
       "      <td>0</td>\n",
       "      <td>0</td>\n",
       "    </tr>\n",
       "    <tr>\n",
       "      <th>1544</th>\n",
       "      <td>0.50</td>\n",
       "      <td>62.5</td>\n",
       "      <td>57.0</td>\n",
       "      <td>1082.00</td>\n",
       "      <td>5.06</td>\n",
       "      <td>5.09</td>\n",
       "      <td>3.17</td>\n",
       "      <td>0</td>\n",
       "      <td>1</td>\n",
       "      <td>0</td>\n",
       "      <td>0</td>\n",
       "      <td>0</td>\n",
       "      <td>0</td>\n",
       "      <td>0</td>\n",
       "      <td>0</td>\n",
       "      <td>0</td>\n",
       "      <td>1</td>\n",
       "    </tr>\n",
       "    <tr>\n",
       "      <th>1545</th>\n",
       "      <td>1.50</td>\n",
       "      <td>63.8</td>\n",
       "      <td>57.0</td>\n",
       "      <td>17687.08</td>\n",
       "      <td>7.17</td>\n",
       "      <td>7.21</td>\n",
       "      <td>4.59</td>\n",
       "      <td>0</td>\n",
       "      <td>0</td>\n",
       "      <td>0</td>\n",
       "      <td>1</td>\n",
       "      <td>0</td>\n",
       "      <td>0</td>\n",
       "      <td>0</td>\n",
       "      <td>1</td>\n",
       "      <td>0</td>\n",
       "      <td>0</td>\n",
       "    </tr>\n",
       "    <tr>\n",
       "      <th>1546</th>\n",
       "      <td>0.42</td>\n",
       "      <td>60.5</td>\n",
       "      <td>59.0</td>\n",
       "      <td>921.00</td>\n",
       "      <td>4.79</td>\n",
       "      <td>4.83</td>\n",
       "      <td>2.91</td>\n",
       "      <td>0</td>\n",
       "      <td>0</td>\n",
       "      <td>1</td>\n",
       "      <td>0</td>\n",
       "      <td>0</td>\n",
       "      <td>0</td>\n",
       "      <td>1</td>\n",
       "      <td>0</td>\n",
       "      <td>0</td>\n",
       "      <td>0</td>\n",
       "    </tr>\n",
       "  </tbody>\n",
       "</table>\n",
       "<p>1547 rows × 17 columns</p>\n",
       "</div>"
      ],
      "text/plain": [
       "      carat  depth  table     price     x     y     z  cut_Good  cut_Ideal  \\\n",
       "0      0.30   61.1   61.0    682.00  4.29  4.32  2.63         1          0   \n",
       "1      0.72   62.0   56.0   2443.00  5.80  5.74  3.58         0          1   \n",
       "2      1.71   62.9   58.0   8848.00  7.64  7.58  4.79         0          0   \n",
       "3      1.01   59.2   59.0   7287.00  6.67  6.60  3.93         0          0   \n",
       "4      0.52   62.7   56.0   1720.00  5.17  5.14  3.23         0          1   \n",
       "...     ...    ...    ...       ...   ...   ...   ...       ...        ...   \n",
       "1542   1.05   64.2   61.0   4878.00  6.33  6.41  4.09         1          0   \n",
       "1543   0.40   62.1   53.0    573.00  4.75  4.78  2.96         0          1   \n",
       "1544   0.50   62.5   57.0   1082.00  5.06  5.09  3.17         0          1   \n",
       "1545   1.50   63.8   57.0  17687.08  7.17  7.21  4.59         0          0   \n",
       "1546   0.42   60.5   59.0    921.00  4.79  4.83  2.91         0          0   \n",
       "\n",
       "      cut_Premium  cut_Very Good  color_E  color_F  color_G  color_H  color_I  \\\n",
       "0               0              0        0        1        0        0        0   \n",
       "1               0              0        0        0        0        1        0   \n",
       "2               1              0        0        0        0        0        0   \n",
       "3               1              0        1        0        0        0        0   \n",
       "4               0              0        0        0        0        0        0   \n",
       "...           ...            ...      ...      ...      ...      ...      ...   \n",
       "1542            0              0        1        0        0        0        0   \n",
       "1543            0              0        0        0        1        0        0   \n",
       "1544            0              0        0        0        0        0        0   \n",
       "1545            0              1        0        0        0        1        0   \n",
       "1546            1              0        0        0        1        0        0   \n",
       "\n",
       "      color_J  \n",
       "0           0  \n",
       "1           0  \n",
       "2           1  \n",
       "3           0  \n",
       "4           0  \n",
       "...       ...  \n",
       "1542        0  \n",
       "1543        0  \n",
       "1544        1  \n",
       "1545        0  \n",
       "1546        0  \n",
       "\n",
       "[1547 rows x 17 columns]"
      ]
     },
     "execution_count": 18,
     "metadata": {},
     "output_type": "execute_result"
    }
   ],
   "source": [
    "df = pd.concat((num_data,cat_data),axis = 1)\n",
    "df"
   ]
  },
  {
   "cell_type": "code",
   "execution_count": 20,
   "metadata": {},
   "outputs": [
    {
     "data": {
      "text/html": [
       "<div>\n",
       "<style scoped>\n",
       "    .dataframe tbody tr th:only-of-type {\n",
       "        vertical-align: middle;\n",
       "    }\n",
       "\n",
       "    .dataframe tbody tr th {\n",
       "        vertical-align: top;\n",
       "    }\n",
       "\n",
       "    .dataframe thead th {\n",
       "        text-align: right;\n",
       "    }\n",
       "</style>\n",
       "<table border=\"1\" class=\"dataframe\">\n",
       "  <thead>\n",
       "    <tr style=\"text-align: right;\">\n",
       "      <th></th>\n",
       "      <th>carat</th>\n",
       "      <th>depth</th>\n",
       "      <th>table</th>\n",
       "      <th>price</th>\n",
       "      <th>x</th>\n",
       "      <th>y</th>\n",
       "      <th>z</th>\n",
       "      <th>cut_Good</th>\n",
       "      <th>cut_Ideal</th>\n",
       "      <th>cut_Premium</th>\n",
       "      <th>cut_Very Good</th>\n",
       "      <th>color_E</th>\n",
       "      <th>color_F</th>\n",
       "      <th>color_G</th>\n",
       "      <th>color_H</th>\n",
       "      <th>color_I</th>\n",
       "      <th>color_J</th>\n",
       "    </tr>\n",
       "  </thead>\n",
       "  <tbody>\n",
       "    <tr>\n",
       "      <th>0</th>\n",
       "      <td>-1.021107</td>\n",
       "      <td>-0.454574</td>\n",
       "      <td>1.629463</td>\n",
       "      <td>-0.740856</td>\n",
       "      <td>-1.263882</td>\n",
       "      <td>-1.249387</td>\n",
       "      <td>-1.296248</td>\n",
       "      <td>3.074525</td>\n",
       "      <td>-0.807947</td>\n",
       "      <td>-0.579590</td>\n",
       "      <td>-0.548720</td>\n",
       "      <td>-0.471125</td>\n",
       "      <td>2.155455</td>\n",
       "      <td>-0.507665</td>\n",
       "      <td>-0.432736</td>\n",
       "      <td>-0.316677</td>\n",
       "      <td>-0.239617</td>\n",
       "    </tr>\n",
       "    <tr>\n",
       "      <th>1</th>\n",
       "      <td>-0.154507</td>\n",
       "      <td>0.188601</td>\n",
       "      <td>-0.654555</td>\n",
       "      <td>-0.366332</td>\n",
       "      <td>0.076712</td>\n",
       "      <td>0.022883</td>\n",
       "      <td>0.074751</td>\n",
       "      <td>-0.325254</td>\n",
       "      <td>1.237705</td>\n",
       "      <td>-0.579590</td>\n",
       "      <td>-0.548720</td>\n",
       "      <td>-0.471125</td>\n",
       "      <td>-0.463939</td>\n",
       "      <td>-0.507665</td>\n",
       "      <td>2.310879</td>\n",
       "      <td>-0.316677</td>\n",
       "      <td>-0.239617</td>\n",
       "    </tr>\n",
       "    <tr>\n",
       "      <th>2</th>\n",
       "      <td>1.888192</td>\n",
       "      <td>0.831776</td>\n",
       "      <td>0.259052</td>\n",
       "      <td>0.995863</td>\n",
       "      <td>1.710284</td>\n",
       "      <td>1.671457</td>\n",
       "      <td>1.820972</td>\n",
       "      <td>-0.325254</td>\n",
       "      <td>-0.807947</td>\n",
       "      <td>1.725359</td>\n",
       "      <td>-0.548720</td>\n",
       "      <td>-0.471125</td>\n",
       "      <td>-0.463939</td>\n",
       "      <td>-0.507665</td>\n",
       "      <td>-0.432736</td>\n",
       "      <td>-0.316677</td>\n",
       "      <td>4.173328</td>\n",
       "    </tr>\n",
       "    <tr>\n",
       "      <th>3</th>\n",
       "      <td>0.443859</td>\n",
       "      <td>-1.812387</td>\n",
       "      <td>0.715856</td>\n",
       "      <td>0.663874</td>\n",
       "      <td>0.849107</td>\n",
       "      <td>0.793412</td>\n",
       "      <td>0.579856</td>\n",
       "      <td>-0.325254</td>\n",
       "      <td>-0.807947</td>\n",
       "      <td>1.725359</td>\n",
       "      <td>-0.548720</td>\n",
       "      <td>2.122578</td>\n",
       "      <td>-0.463939</td>\n",
       "      <td>-0.507665</td>\n",
       "      <td>-0.432736</td>\n",
       "      <td>-0.316677</td>\n",
       "      <td>-0.239617</td>\n",
       "    </tr>\n",
       "    <tr>\n",
       "      <th>4</th>\n",
       "      <td>-0.567174</td>\n",
       "      <td>0.688848</td>\n",
       "      <td>-0.654555</td>\n",
       "      <td>-0.520098</td>\n",
       "      <td>-0.482609</td>\n",
       "      <td>-0.514696</td>\n",
       "      <td>-0.430354</td>\n",
       "      <td>-0.325254</td>\n",
       "      <td>1.237705</td>\n",
       "      <td>-0.579590</td>\n",
       "      <td>-0.548720</td>\n",
       "      <td>-0.471125</td>\n",
       "      <td>-0.463939</td>\n",
       "      <td>-0.507665</td>\n",
       "      <td>-0.432736</td>\n",
       "      <td>-0.316677</td>\n",
       "      <td>-0.239617</td>\n",
       "    </tr>\n",
       "    <tr>\n",
       "      <th>...</th>\n",
       "      <td>...</td>\n",
       "      <td>...</td>\n",
       "      <td>...</td>\n",
       "      <td>...</td>\n",
       "      <td>...</td>\n",
       "      <td>...</td>\n",
       "      <td>...</td>\n",
       "      <td>...</td>\n",
       "      <td>...</td>\n",
       "      <td>...</td>\n",
       "      <td>...</td>\n",
       "      <td>...</td>\n",
       "      <td>...</td>\n",
       "      <td>...</td>\n",
       "      <td>...</td>\n",
       "      <td>...</td>\n",
       "      <td>...</td>\n",
       "    </tr>\n",
       "    <tr>\n",
       "      <th>1542</th>\n",
       "      <td>0.526393</td>\n",
       "      <td>1.760806</td>\n",
       "      <td>1.629463</td>\n",
       "      <td>0.151536</td>\n",
       "      <td>0.547252</td>\n",
       "      <td>0.623179</td>\n",
       "      <td>0.810762</td>\n",
       "      <td>3.074525</td>\n",
       "      <td>-0.807947</td>\n",
       "      <td>-0.579590</td>\n",
       "      <td>-0.548720</td>\n",
       "      <td>2.122578</td>\n",
       "      <td>-0.463939</td>\n",
       "      <td>-0.507665</td>\n",
       "      <td>-0.432736</td>\n",
       "      <td>-0.316677</td>\n",
       "      <td>-0.239617</td>\n",
       "    </tr>\n",
       "    <tr>\n",
       "      <th>1543</th>\n",
       "      <td>-0.814774</td>\n",
       "      <td>0.260065</td>\n",
       "      <td>-2.024966</td>\n",
       "      <td>-0.764038</td>\n",
       "      <td>-0.855489</td>\n",
       "      <td>-0.837243</td>\n",
       "      <td>-0.820006</td>\n",
       "      <td>-0.325254</td>\n",
       "      <td>1.237705</td>\n",
       "      <td>-0.579590</td>\n",
       "      <td>-0.548720</td>\n",
       "      <td>-0.471125</td>\n",
       "      <td>-0.463939</td>\n",
       "      <td>1.969804</td>\n",
       "      <td>-0.432736</td>\n",
       "      <td>-0.316677</td>\n",
       "      <td>-0.239617</td>\n",
       "    </tr>\n",
       "    <tr>\n",
       "      <th>1544</th>\n",
       "      <td>-0.608440</td>\n",
       "      <td>0.545920</td>\n",
       "      <td>-0.197751</td>\n",
       "      <td>-0.655786</td>\n",
       "      <td>-0.580268</td>\n",
       "      <td>-0.559494</td>\n",
       "      <td>-0.516943</td>\n",
       "      <td>-0.325254</td>\n",
       "      <td>1.237705</td>\n",
       "      <td>-0.579590</td>\n",
       "      <td>-0.548720</td>\n",
       "      <td>-0.471125</td>\n",
       "      <td>-0.463939</td>\n",
       "      <td>-0.507665</td>\n",
       "      <td>-0.432736</td>\n",
       "      <td>-0.316677</td>\n",
       "      <td>4.173328</td>\n",
       "    </tr>\n",
       "    <tr>\n",
       "      <th>1545</th>\n",
       "      <td>1.454892</td>\n",
       "      <td>1.474950</td>\n",
       "      <td>-0.197751</td>\n",
       "      <td>2.875730</td>\n",
       "      <td>1.293013</td>\n",
       "      <td>1.339951</td>\n",
       "      <td>1.532340</td>\n",
       "      <td>-0.325254</td>\n",
       "      <td>-0.807947</td>\n",
       "      <td>-0.579590</td>\n",
       "      <td>1.822424</td>\n",
       "      <td>-0.471125</td>\n",
       "      <td>-0.463939</td>\n",
       "      <td>-0.507665</td>\n",
       "      <td>2.310879</td>\n",
       "      <td>-0.316677</td>\n",
       "      <td>-0.239617</td>\n",
       "    </tr>\n",
       "    <tr>\n",
       "      <th>1546</th>\n",
       "      <td>-0.773507</td>\n",
       "      <td>-0.883357</td>\n",
       "      <td>0.715856</td>\n",
       "      <td>-0.690027</td>\n",
       "      <td>-0.819977</td>\n",
       "      <td>-0.792445</td>\n",
       "      <td>-0.892164</td>\n",
       "      <td>-0.325254</td>\n",
       "      <td>-0.807947</td>\n",
       "      <td>1.725359</td>\n",
       "      <td>-0.548720</td>\n",
       "      <td>-0.471125</td>\n",
       "      <td>-0.463939</td>\n",
       "      <td>1.969804</td>\n",
       "      <td>-0.432736</td>\n",
       "      <td>-0.316677</td>\n",
       "      <td>-0.239617</td>\n",
       "    </tr>\n",
       "  </tbody>\n",
       "</table>\n",
       "<p>1547 rows × 17 columns</p>\n",
       "</div>"
      ],
      "text/plain": [
       "         carat     depth     table     price         x         y         z  \\\n",
       "0    -1.021107 -0.454574  1.629463 -0.740856 -1.263882 -1.249387 -1.296248   \n",
       "1    -0.154507  0.188601 -0.654555 -0.366332  0.076712  0.022883  0.074751   \n",
       "2     1.888192  0.831776  0.259052  0.995863  1.710284  1.671457  1.820972   \n",
       "3     0.443859 -1.812387  0.715856  0.663874  0.849107  0.793412  0.579856   \n",
       "4    -0.567174  0.688848 -0.654555 -0.520098 -0.482609 -0.514696 -0.430354   \n",
       "...        ...       ...       ...       ...       ...       ...       ...   \n",
       "1542  0.526393  1.760806  1.629463  0.151536  0.547252  0.623179  0.810762   \n",
       "1543 -0.814774  0.260065 -2.024966 -0.764038 -0.855489 -0.837243 -0.820006   \n",
       "1544 -0.608440  0.545920 -0.197751 -0.655786 -0.580268 -0.559494 -0.516943   \n",
       "1545  1.454892  1.474950 -0.197751  2.875730  1.293013  1.339951  1.532340   \n",
       "1546 -0.773507 -0.883357  0.715856 -0.690027 -0.819977 -0.792445 -0.892164   \n",
       "\n",
       "      cut_Good  cut_Ideal  cut_Premium  cut_Very Good   color_E   color_F  \\\n",
       "0     3.074525  -0.807947    -0.579590      -0.548720 -0.471125  2.155455   \n",
       "1    -0.325254   1.237705    -0.579590      -0.548720 -0.471125 -0.463939   \n",
       "2    -0.325254  -0.807947     1.725359      -0.548720 -0.471125 -0.463939   \n",
       "3    -0.325254  -0.807947     1.725359      -0.548720  2.122578 -0.463939   \n",
       "4    -0.325254   1.237705    -0.579590      -0.548720 -0.471125 -0.463939   \n",
       "...        ...        ...          ...            ...       ...       ...   \n",
       "1542  3.074525  -0.807947    -0.579590      -0.548720  2.122578 -0.463939   \n",
       "1543 -0.325254   1.237705    -0.579590      -0.548720 -0.471125 -0.463939   \n",
       "1544 -0.325254   1.237705    -0.579590      -0.548720 -0.471125 -0.463939   \n",
       "1545 -0.325254  -0.807947    -0.579590       1.822424 -0.471125 -0.463939   \n",
       "1546 -0.325254  -0.807947     1.725359      -0.548720 -0.471125 -0.463939   \n",
       "\n",
       "       color_G   color_H   color_I   color_J  \n",
       "0    -0.507665 -0.432736 -0.316677 -0.239617  \n",
       "1    -0.507665  2.310879 -0.316677 -0.239617  \n",
       "2    -0.507665 -0.432736 -0.316677  4.173328  \n",
       "3    -0.507665 -0.432736 -0.316677 -0.239617  \n",
       "4    -0.507665 -0.432736 -0.316677 -0.239617  \n",
       "...        ...       ...       ...       ...  \n",
       "1542 -0.507665 -0.432736 -0.316677 -0.239617  \n",
       "1543  1.969804 -0.432736 -0.316677 -0.239617  \n",
       "1544 -0.507665 -0.432736 -0.316677  4.173328  \n",
       "1545 -0.507665  2.310879 -0.316677 -0.239617  \n",
       "1546  1.969804 -0.432736 -0.316677 -0.239617  \n",
       "\n",
       "[1547 rows x 17 columns]"
      ]
     },
     "execution_count": 20,
     "metadata": {},
     "output_type": "execute_result"
    }
   ],
   "source": [
    "sc = StandardScaler()\n",
    "data_sc = sc.fit_transform(df)\n",
    "data_sc = pd.DataFrame(data_sc,columns=df.columns)\n",
    "data_sc"
   ]
  },
  {
   "cell_type": "markdown",
   "metadata": {},
   "source": [
    "### Let's begin with some hands-on practice exercises"
   ]
  },
  {
   "cell_type": "markdown",
   "metadata": {},
   "source": [
    "<table align=\"left\">\n",
    "    <tr>\n",
    "        <td width=\"6%\">\n",
    "            <img src=\"question_icon.png\">\n",
    "        </td>\n",
    "        <td>\n",
    "            <div align=\"left\", style=\"font-size:120%\">\n",
    "                <font color=\"#21618C\">\n",
    "                    <b>1. Is the variable representing the width of a diamond skewed? If yes, apply an appropriate technique to make the distribution less skewed </b>\n",
    "                </font>\n",
    "            </div>\n",
    "        </td>\n",
    "    </tr>\n",
    "</table>"
   ]
  },
  {
   "cell_type": "code",
   "execution_count": 22,
   "metadata": {},
   "outputs": [
    {
     "data": {
      "text/plain": [
       "0.4383878452014628"
      ]
     },
     "execution_count": 22,
     "metadata": {},
     "output_type": "execute_result"
    }
   ],
   "source": [
    "# type your code here\n",
    "df['y'].skew()"
   ]
  },
  {
   "cell_type": "code",
   "execution_count": 7,
   "metadata": {},
   "outputs": [
    {
     "data": {
      "text/plain": [
       "0.033020411524122724"
      ]
     },
     "execution_count": 7,
     "metadata": {},
     "output_type": "execute_result"
    }
   ],
   "source": [
    "data = df.copy()\n",
    "data['y'],lam = stats.boxcox(df['y'])\n",
    "data['y'].skew()"
   ]
  },
  {
   "cell_type": "markdown",
   "metadata": {},
   "source": [
    "<table align=\"left\">\n",
    "    <tr>\n",
    "        <td width=\"6%\">\n",
    "            <img src=\"question_icon.png\">\n",
    "        </td>\n",
    "        <td>\n",
    "            <div align=\"left\", style=\"font-size:120%\">\n",
    "                <font color=\"#21618C\">\n",
    "                    <b>2. Build a full model and check whether the errors have a serial correlation or not</b>\n",
    "                </font>\n",
    "            </div>\n",
    "        </td>\n",
    "    </tr>\n",
    "</table>"
   ]
  },
  {
   "cell_type": "code",
   "execution_count": 23,
   "metadata": {},
   "outputs": [
    {
     "data": {
      "text/html": [
       "<table class=\"simpletable\">\n",
       "<caption>OLS Regression Results</caption>\n",
       "<tr>\n",
       "  <th>Dep. Variable:</th>          <td>price</td>      <th>  R-squared:         </th> <td>   0.870</td>\n",
       "</tr>\n",
       "<tr>\n",
       "  <th>Model:</th>                   <td>OLS</td>       <th>  Adj. R-squared:    </th> <td>   0.869</td>\n",
       "</tr>\n",
       "<tr>\n",
       "  <th>Method:</th>             <td>Least Squares</td>  <th>  F-statistic:       </th> <td>   641.9</td>\n",
       "</tr>\n",
       "<tr>\n",
       "  <th>Date:</th>             <td>Sun, 04 Oct 2020</td> <th>  Prob (F-statistic):</th>  <td>  0.00</td> \n",
       "</tr>\n",
       "<tr>\n",
       "  <th>Time:</th>                 <td>02:33:27</td>     <th>  Log-Likelihood:    </th> <td> -614.90</td>\n",
       "</tr>\n",
       "<tr>\n",
       "  <th>No. Observations:</th>      <td>  1547</td>      <th>  AIC:               </th> <td>   1264.</td>\n",
       "</tr>\n",
       "<tr>\n",
       "  <th>Df Residuals:</th>          <td>  1530</td>      <th>  BIC:               </th> <td>   1355.</td>\n",
       "</tr>\n",
       "<tr>\n",
       "  <th>Df Model:</th>              <td>    16</td>      <th>                     </th>     <td> </td>   \n",
       "</tr>\n",
       "<tr>\n",
       "  <th>Covariance Type:</th>      <td>nonrobust</td>    <th>                     </th>     <td> </td>   \n",
       "</tr>\n",
       "</table>\n",
       "<table class=\"simpletable\">\n",
       "<tr>\n",
       "        <td></td>           <th>coef</th>     <th>std err</th>      <th>t</th>      <th>P>|t|</th>  <th>[0.025</th>    <th>0.975]</th>  \n",
       "</tr>\n",
       "<tr>\n",
       "  <th>const</th>         <td>  8.89e-18</td> <td>    0.009</td> <td> 9.66e-16</td> <td> 1.000</td> <td>   -0.018</td> <td>    0.018</td>\n",
       "</tr>\n",
       "<tr>\n",
       "  <th>carat</th>         <td>    1.5535</td> <td>    0.043</td> <td>   36.533</td> <td> 0.000</td> <td>    1.470</td> <td>    1.637</td>\n",
       "</tr>\n",
       "<tr>\n",
       "  <th>depth</th>         <td>    0.0261</td> <td>    0.039</td> <td>    0.668</td> <td> 0.504</td> <td>   -0.051</td> <td>    0.103</td>\n",
       "</tr>\n",
       "<tr>\n",
       "  <th>table</th>         <td>   -0.0266</td> <td>    0.012</td> <td>   -2.155</td> <td> 0.031</td> <td>   -0.051</td> <td>   -0.002</td>\n",
       "</tr>\n",
       "<tr>\n",
       "  <th>x</th>             <td>   -0.7480</td> <td>    0.268</td> <td>   -2.794</td> <td> 0.005</td> <td>   -1.273</td> <td>   -0.223</td>\n",
       "</tr>\n",
       "<tr>\n",
       "  <th>y</th>             <td>    0.5458</td> <td>    0.253</td> <td>    2.159</td> <td> 0.031</td> <td>    0.050</td> <td>    1.042</td>\n",
       "</tr>\n",
       "<tr>\n",
       "  <th>z</th>             <td>   -0.4064</td> <td>    0.309</td> <td>   -1.314</td> <td> 0.189</td> <td>   -1.013</td> <td>    0.200</td>\n",
       "</tr>\n",
       "<tr>\n",
       "  <th>cut_Good</th>      <td>    0.0490</td> <td>    0.020</td> <td>    2.490</td> <td> 0.013</td> <td>    0.010</td> <td>    0.088</td>\n",
       "</tr>\n",
       "<tr>\n",
       "  <th>cut_Ideal</th>     <td>    0.1611</td> <td>    0.032</td> <td>    4.997</td> <td> 0.000</td> <td>    0.098</td> <td>    0.224</td>\n",
       "</tr>\n",
       "<tr>\n",
       "  <th>cut_Premium</th>   <td>    0.1213</td> <td>    0.027</td> <td>    4.427</td> <td> 0.000</td> <td>    0.068</td> <td>    0.175</td>\n",
       "</tr>\n",
       "<tr>\n",
       "  <th>cut_Very Good</th> <td>    0.1155</td> <td>    0.027</td> <td>    4.225</td> <td> 0.000</td> <td>    0.062</td> <td>    0.169</td>\n",
       "</tr>\n",
       "<tr>\n",
       "  <th>color_E</th>       <td>   -0.0031</td> <td>    0.013</td> <td>   -0.239</td> <td> 0.811</td> <td>   -0.028</td> <td>    0.022</td>\n",
       "</tr>\n",
       "<tr>\n",
       "  <th>color_F</th>       <td>    0.0203</td> <td>    0.013</td> <td>    1.590</td> <td> 0.112</td> <td>   -0.005</td> <td>    0.045</td>\n",
       "</tr>\n",
       "<tr>\n",
       "  <th>color_G</th>       <td>   -0.0066</td> <td>    0.013</td> <td>   -0.504</td> <td> 0.614</td> <td>   -0.032</td> <td>    0.019</td>\n",
       "</tr>\n",
       "<tr>\n",
       "  <th>color_H</th>       <td>   -0.0541</td> <td>    0.013</td> <td>   -4.298</td> <td> 0.000</td> <td>   -0.079</td> <td>   -0.029</td>\n",
       "</tr>\n",
       "<tr>\n",
       "  <th>color_I</th>       <td>   -0.0724</td> <td>    0.012</td> <td>   -6.271</td> <td> 0.000</td> <td>   -0.095</td> <td>   -0.050</td>\n",
       "</tr>\n",
       "<tr>\n",
       "  <th>color_J</th>       <td>   -0.0986</td> <td>    0.011</td> <td>   -9.045</td> <td> 0.000</td> <td>   -0.120</td> <td>   -0.077</td>\n",
       "</tr>\n",
       "</table>\n",
       "<table class=\"simpletable\">\n",
       "<tr>\n",
       "  <th>Omnibus:</th>       <td>732.501</td> <th>  Durbin-Watson:     </th> <td>   1.934</td>\n",
       "</tr>\n",
       "<tr>\n",
       "  <th>Prob(Omnibus):</th> <td> 0.000</td>  <th>  Jarque-Bera (JB):  </th> <td>7291.698</td>\n",
       "</tr>\n",
       "<tr>\n",
       "  <th>Skew:</th>          <td> 1.963</td>  <th>  Prob(JB):          </th> <td>    0.00</td>\n",
       "</tr>\n",
       "<tr>\n",
       "  <th>Kurtosis:</th>      <td>12.885</td>  <th>  Cond. No.          </th> <td>    84.8</td>\n",
       "</tr>\n",
       "</table><br/><br/>Warnings:<br/>[1] Standard Errors assume that the covariance matrix of the errors is correctly specified."
      ],
      "text/plain": [
       "<class 'statsmodels.iolib.summary.Summary'>\n",
       "\"\"\"\n",
       "                            OLS Regression Results                            \n",
       "==============================================================================\n",
       "Dep. Variable:                  price   R-squared:                       0.870\n",
       "Model:                            OLS   Adj. R-squared:                  0.869\n",
       "Method:                 Least Squares   F-statistic:                     641.9\n",
       "Date:                Sun, 04 Oct 2020   Prob (F-statistic):               0.00\n",
       "Time:                        02:33:27   Log-Likelihood:                -614.90\n",
       "No. Observations:                1547   AIC:                             1264.\n",
       "Df Residuals:                    1530   BIC:                             1355.\n",
       "Df Model:                          16                                         \n",
       "Covariance Type:            nonrobust                                         \n",
       "=================================================================================\n",
       "                    coef    std err          t      P>|t|      [0.025      0.975]\n",
       "---------------------------------------------------------------------------------\n",
       "const           8.89e-18      0.009   9.66e-16      1.000      -0.018       0.018\n",
       "carat             1.5535      0.043     36.533      0.000       1.470       1.637\n",
       "depth             0.0261      0.039      0.668      0.504      -0.051       0.103\n",
       "table            -0.0266      0.012     -2.155      0.031      -0.051      -0.002\n",
       "x                -0.7480      0.268     -2.794      0.005      -1.273      -0.223\n",
       "y                 0.5458      0.253      2.159      0.031       0.050       1.042\n",
       "z                -0.4064      0.309     -1.314      0.189      -1.013       0.200\n",
       "cut_Good          0.0490      0.020      2.490      0.013       0.010       0.088\n",
       "cut_Ideal         0.1611      0.032      4.997      0.000       0.098       0.224\n",
       "cut_Premium       0.1213      0.027      4.427      0.000       0.068       0.175\n",
       "cut_Very Good     0.1155      0.027      4.225      0.000       0.062       0.169\n",
       "color_E          -0.0031      0.013     -0.239      0.811      -0.028       0.022\n",
       "color_F           0.0203      0.013      1.590      0.112      -0.005       0.045\n",
       "color_G          -0.0066      0.013     -0.504      0.614      -0.032       0.019\n",
       "color_H          -0.0541      0.013     -4.298      0.000      -0.079      -0.029\n",
       "color_I          -0.0724      0.012     -6.271      0.000      -0.095      -0.050\n",
       "color_J          -0.0986      0.011     -9.045      0.000      -0.120      -0.077\n",
       "==============================================================================\n",
       "Omnibus:                      732.501   Durbin-Watson:                   1.934\n",
       "Prob(Omnibus):                  0.000   Jarque-Bera (JB):             7291.698\n",
       "Skew:                           1.963   Prob(JB):                         0.00\n",
       "Kurtosis:                      12.885   Cond. No.                         84.8\n",
       "==============================================================================\n",
       "\n",
       "Warnings:\n",
       "[1] Standard Errors assume that the covariance matrix of the errors is correctly specified.\n",
       "\"\"\""
      ]
     },
     "execution_count": 23,
     "metadata": {},
     "output_type": "execute_result"
    }
   ],
   "source": [
    "# type your code here\n",
    "inp = data_sc.drop('price',1)\n",
    "out = data_sc['price']\n",
    "inpc = sm.add_constant(inp)\n",
    "ols = sm.OLS(out,inpc)\n",
    "ols_mod = ols.fit()\n",
    "ols_mod.summary()"
   ]
  },
  {
   "cell_type": "markdown",
   "metadata": {},
   "source": [
    "As the Durbin-Watson Test value (1.934) is in range of 1.5 - 2.5 so there is no auto collinearity present in the data."
   ]
  },
  {
   "cell_type": "code",
   "execution_count": 26,
   "metadata": {},
   "outputs": [
    {
     "data": {
      "text/plain": [
       "1.9649093359338539"
      ]
     },
     "execution_count": 26,
     "metadata": {},
     "output_type": "execute_result"
    }
   ],
   "source": [
    "ols_mod.resid.skew()"
   ]
  },
  {
   "cell_type": "code",
   "execution_count": 28,
   "metadata": {},
   "outputs": [
    {
     "data": {
      "text/plain": [
       "array([4.40761031, 4.91360268, 5.34605109, ..., 4.60034129, 5.55067043,\n",
       "       4.53436813])"
      ]
     },
     "execution_count": 28,
     "metadata": {},
     "output_type": "execute_result"
    }
   ],
   "source": [
    "box_out,lam = stats.boxcox(df['price'])\n",
    "box_out"
   ]
  },
  {
   "cell_type": "code",
   "execution_count": 29,
   "metadata": {},
   "outputs": [
    {
     "data": {
      "text/html": [
       "<table class=\"simpletable\">\n",
       "<caption>OLS Regression Results</caption>\n",
       "<tr>\n",
       "  <th>Dep. Variable:</th>            <td>y</td>        <th>  R-squared:         </th> <td>   0.950</td>\n",
       "</tr>\n",
       "<tr>\n",
       "  <th>Model:</th>                   <td>OLS</td>       <th>  Adj. R-squared:    </th> <td>   0.950</td>\n",
       "</tr>\n",
       "<tr>\n",
       "  <th>Method:</th>             <td>Least Squares</td>  <th>  F-statistic:       </th> <td>   1834.</td>\n",
       "</tr>\n",
       "<tr>\n",
       "  <th>Date:</th>             <td>Sun, 04 Oct 2020</td> <th>  Prob (F-statistic):</th>  <td>  0.00</td> \n",
       "</tr>\n",
       "<tr>\n",
       "  <th>Time:</th>                 <td>02:47:21</td>     <th>  Log-Likelihood:    </th> <td>  1617.4</td>\n",
       "</tr>\n",
       "<tr>\n",
       "  <th>No. Observations:</th>      <td>  1547</td>      <th>  AIC:               </th> <td>  -3201.</td>\n",
       "</tr>\n",
       "<tr>\n",
       "  <th>Df Residuals:</th>          <td>  1530</td>      <th>  BIC:               </th> <td>  -3110.</td>\n",
       "</tr>\n",
       "<tr>\n",
       "  <th>Df Model:</th>              <td>    16</td>      <th>                     </th>     <td> </td>   \n",
       "</tr>\n",
       "<tr>\n",
       "  <th>Covariance Type:</th>      <td>nonrobust</td>    <th>                     </th>     <td> </td>   \n",
       "</tr>\n",
       "</table>\n",
       "<table class=\"simpletable\">\n",
       "<tr>\n",
       "        <td></td>           <th>coef</th>     <th>std err</th>      <th>t</th>      <th>P>|t|</th>  <th>[0.025</th>    <th>0.975]</th>  \n",
       "</tr>\n",
       "<tr>\n",
       "  <th>const</th>         <td>    4.8815</td> <td>    0.002</td> <td> 2244.835</td> <td> 0.000</td> <td>    4.877</td> <td>    4.886</td>\n",
       "</tr>\n",
       "<tr>\n",
       "  <th>carat</th>         <td>   -0.1722</td> <td>    0.010</td> <td>  -17.139</td> <td> 0.000</td> <td>   -0.192</td> <td>   -0.152</td>\n",
       "</tr>\n",
       "<tr>\n",
       "  <th>depth</th>         <td>   -0.0107</td> <td>    0.009</td> <td>   -1.161</td> <td> 0.246</td> <td>   -0.029</td> <td>    0.007</td>\n",
       "</tr>\n",
       "<tr>\n",
       "  <th>table</th>         <td>    0.0054</td> <td>    0.003</td> <td>    1.864</td> <td> 0.063</td> <td>   -0.000</td> <td>    0.011</td>\n",
       "</tr>\n",
       "<tr>\n",
       "  <th>x</th>             <td>    0.1272</td> <td>    0.063</td> <td>    2.012</td> <td> 0.044</td> <td>    0.003</td> <td>    0.251</td>\n",
       "</tr>\n",
       "<tr>\n",
       "  <th>y</th>             <td>    0.0718</td> <td>    0.060</td> <td>    1.203</td> <td> 0.229</td> <td>   -0.045</td> <td>    0.189</td>\n",
       "</tr>\n",
       "<tr>\n",
       "  <th>z</th>             <td>    0.3500</td> <td>    0.073</td> <td>    4.789</td> <td> 0.000</td> <td>    0.207</td> <td>    0.493</td>\n",
       "</tr>\n",
       "<tr>\n",
       "  <th>cut_Good</th>      <td>    0.0055</td> <td>    0.005</td> <td>    1.187</td> <td> 0.236</td> <td>   -0.004</td> <td>    0.015</td>\n",
       "</tr>\n",
       "<tr>\n",
       "  <th>cut_Ideal</th>     <td>    0.0311</td> <td>    0.008</td> <td>    4.087</td> <td> 0.000</td> <td>    0.016</td> <td>    0.046</td>\n",
       "</tr>\n",
       "<tr>\n",
       "  <th>cut_Premium</th>   <td>    0.0158</td> <td>    0.006</td> <td>    2.440</td> <td> 0.015</td> <td>    0.003</td> <td>    0.029</td>\n",
       "</tr>\n",
       "<tr>\n",
       "  <th>cut_Very Good</th> <td>    0.0169</td> <td>    0.006</td> <td>    2.616</td> <td> 0.009</td> <td>    0.004</td> <td>    0.030</td>\n",
       "</tr>\n",
       "<tr>\n",
       "  <th>color_E</th>       <td>   -0.0013</td> <td>    0.003</td> <td>   -0.414</td> <td> 0.679</td> <td>   -0.007</td> <td>    0.005</td>\n",
       "</tr>\n",
       "<tr>\n",
       "  <th>color_F</th>       <td>    0.0016</td> <td>    0.003</td> <td>    0.515</td> <td> 0.607</td> <td>   -0.004</td> <td>    0.007</td>\n",
       "</tr>\n",
       "<tr>\n",
       "  <th>color_G</th>       <td>   -0.0010</td> <td>    0.003</td> <td>   -0.323</td> <td> 0.747</td> <td>   -0.007</td> <td>    0.005</td>\n",
       "</tr>\n",
       "<tr>\n",
       "  <th>color_H</th>       <td>   -0.0233</td> <td>    0.003</td> <td>   -7.838</td> <td> 0.000</td> <td>   -0.029</td> <td>   -0.017</td>\n",
       "</tr>\n",
       "<tr>\n",
       "  <th>color_I</th>       <td>   -0.0307</td> <td>    0.003</td> <td>  -11.252</td> <td> 0.000</td> <td>   -0.036</td> <td>   -0.025</td>\n",
       "</tr>\n",
       "<tr>\n",
       "  <th>color_J</th>       <td>   -0.0335</td> <td>    0.003</td> <td>  -13.021</td> <td> 0.000</td> <td>   -0.039</td> <td>   -0.028</td>\n",
       "</tr>\n",
       "</table>\n",
       "<table class=\"simpletable\">\n",
       "<tr>\n",
       "  <th>Omnibus:</th>       <td>35.334</td> <th>  Durbin-Watson:     </th> <td>   2.012</td>\n",
       "</tr>\n",
       "<tr>\n",
       "  <th>Prob(Omnibus):</th> <td> 0.000</td> <th>  Jarque-Bera (JB):  </th> <td>  56.896</td>\n",
       "</tr>\n",
       "<tr>\n",
       "  <th>Skew:</th>          <td>-0.200</td> <th>  Prob(JB):          </th> <td>4.42e-13</td>\n",
       "</tr>\n",
       "<tr>\n",
       "  <th>Kurtosis:</th>      <td> 3.850</td> <th>  Cond. No.          </th> <td>    84.8</td>\n",
       "</tr>\n",
       "</table><br/><br/>Warnings:<br/>[1] Standard Errors assume that the covariance matrix of the errors is correctly specified."
      ],
      "text/plain": [
       "<class 'statsmodels.iolib.summary.Summary'>\n",
       "\"\"\"\n",
       "                            OLS Regression Results                            \n",
       "==============================================================================\n",
       "Dep. Variable:                      y   R-squared:                       0.950\n",
       "Model:                            OLS   Adj. R-squared:                  0.950\n",
       "Method:                 Least Squares   F-statistic:                     1834.\n",
       "Date:                Sun, 04 Oct 2020   Prob (F-statistic):               0.00\n",
       "Time:                        02:47:21   Log-Likelihood:                 1617.4\n",
       "No. Observations:                1547   AIC:                            -3201.\n",
       "Df Residuals:                    1530   BIC:                            -3110.\n",
       "Df Model:                          16                                         \n",
       "Covariance Type:            nonrobust                                         \n",
       "=================================================================================\n",
       "                    coef    std err          t      P>|t|      [0.025      0.975]\n",
       "---------------------------------------------------------------------------------\n",
       "const             4.8815      0.002   2244.835      0.000       4.877       4.886\n",
       "carat            -0.1722      0.010    -17.139      0.000      -0.192      -0.152\n",
       "depth            -0.0107      0.009     -1.161      0.246      -0.029       0.007\n",
       "table             0.0054      0.003      1.864      0.063      -0.000       0.011\n",
       "x                 0.1272      0.063      2.012      0.044       0.003       0.251\n",
       "y                 0.0718      0.060      1.203      0.229      -0.045       0.189\n",
       "z                 0.3500      0.073      4.789      0.000       0.207       0.493\n",
       "cut_Good          0.0055      0.005      1.187      0.236      -0.004       0.015\n",
       "cut_Ideal         0.0311      0.008      4.087      0.000       0.016       0.046\n",
       "cut_Premium       0.0158      0.006      2.440      0.015       0.003       0.029\n",
       "cut_Very Good     0.0169      0.006      2.616      0.009       0.004       0.030\n",
       "color_E          -0.0013      0.003     -0.414      0.679      -0.007       0.005\n",
       "color_F           0.0016      0.003      0.515      0.607      -0.004       0.007\n",
       "color_G          -0.0010      0.003     -0.323      0.747      -0.007       0.005\n",
       "color_H          -0.0233      0.003     -7.838      0.000      -0.029      -0.017\n",
       "color_I          -0.0307      0.003    -11.252      0.000      -0.036      -0.025\n",
       "color_J          -0.0335      0.003    -13.021      0.000      -0.039      -0.028\n",
       "==============================================================================\n",
       "Omnibus:                       35.334   Durbin-Watson:                   2.012\n",
       "Prob(Omnibus):                  0.000   Jarque-Bera (JB):               56.896\n",
       "Skew:                          -0.200   Prob(JB):                     4.42e-13\n",
       "Kurtosis:                       3.850   Cond. No.                         84.8\n",
       "==============================================================================\n",
       "\n",
       "Warnings:\n",
       "[1] Standard Errors assume that the covariance matrix of the errors is correctly specified.\n",
       "\"\"\""
      ]
     },
     "execution_count": 29,
     "metadata": {},
     "output_type": "execute_result"
    }
   ],
   "source": [
    "inp = data_sc.drop('price',1)\n",
    "inpc = sm.add_constant(inp)\n",
    "ols = sm.OLS(box_out,inpc)\n",
    "ols_mod = ols.fit()\n",
    "ols_mod.summary()"
   ]
  },
  {
   "cell_type": "code",
   "execution_count": 30,
   "metadata": {},
   "outputs": [
    {
     "data": {
      "text/plain": [
       "-0.19980002819632275"
      ]
     },
     "execution_count": 30,
     "metadata": {},
     "output_type": "execute_result"
    }
   ],
   "source": [
    "ols_mod.resid.skew()"
   ]
  },
  {
   "cell_type": "markdown",
   "metadata": {},
   "source": [
    "<table align=\"left\">\n",
    "    <tr>\n",
    "        <td width=\"6%\">\n",
    "            <img src=\"question_icon.png\">\n",
    "        </td>\n",
    "        <td>\n",
    "            <div align=\"left\", style=\"font-size:120%\">\n",
    "                <font color=\"#21618C\">\n",
    "                    <b>3. Add the features one-by-one to obtain the set of features which explains the price of a diamond with the highest accuracy\n",
    "                    </b>\n",
    "                </font>\n",
    "            </div>\n",
    "        </td>\n",
    "    </tr>\n",
    "</table>"
   ]
  },
  {
   "cell_type": "code",
   "execution_count": 40,
   "metadata": {},
   "outputs": [],
   "source": [
    "# type your code here\n",
    "lr = LinearRegression()\n",
    "forward = sfs(estimator = lr, k_features = 'best', forward=True, scoring = 'neg_mean_squared_error')\n",
    "sfs_forward = forward.fit(inp,box_out)"
   ]
  },
  {
   "cell_type": "code",
   "execution_count": 41,
   "metadata": {},
   "outputs": [
    {
     "data": {
      "text/plain": [
       "('carat',\n",
       " 'depth',\n",
       " 'table',\n",
       " 'x',\n",
       " 'y',\n",
       " 'z',\n",
       " 'cut_Good',\n",
       " 'cut_Ideal',\n",
       " 'cut_Premium',\n",
       " 'cut_Very Good',\n",
       " 'color_H',\n",
       " 'color_I',\n",
       " 'color_J')"
      ]
     },
     "execution_count": 41,
     "metadata": {},
     "output_type": "execute_result"
    }
   ],
   "source": [
    "feat_forward = sfs_forward.k_feature_names_\n",
    "feat_forward"
   ]
  },
  {
   "cell_type": "markdown",
   "metadata": {},
   "source": [
    "<table align=\"left\">\n",
    "    <tr>\n",
    "        <td width=\"6%\">\n",
    "            <img src=\"question_icon.png\">\n",
    "        </td>\n",
    "        <td>\n",
    "            <div align=\"left\", style=\"font-size:120%\">\n",
    "                <font color=\"#21618C\">\n",
    "                    <b>4. Use the 4-fold cross validation method and compute the coefficient of determination for each model\n",
    "                    </b>\n",
    "                </font>\n",
    "            </div>\n",
    "        </td>\n",
    "    </tr>\n",
    "</table>"
   ]
  },
  {
   "cell_type": "code",
   "execution_count": 44,
   "metadata": {},
   "outputs": [
    {
     "data": {
      "text/plain": [
       "0.08600014348402624"
      ]
     },
     "execution_count": 44,
     "metadata": {},
     "output_type": "execute_result"
    }
   ],
   "source": [
    "# type your code here\n",
    "lr = LinearRegression()\n",
    "mse = abs(cross_val_score(lr,inp,box_out,cv = 4, scoring='neg_mean_squared_error'))\n",
    "be = np.mean(mse)\n",
    "ve = np.std(mse)\n",
    "cva = ve/be\n",
    "cva"
   ]
  },
  {
   "cell_type": "markdown",
   "metadata": {},
   "source": [
    "Valid Model"
   ]
  },
  {
   "cell_type": "markdown",
   "metadata": {},
   "source": [
    "<table align=\"left\">\n",
    "    <tr>\n",
    "        <td width=\"6%\">\n",
    "            <img src=\"question_icon.png\">\n",
    "        </td>\n",
    "        <td>\n",
    "            <div align=\"left\", style=\"font-size:120%\">\n",
    "                <font color=\"#21618C\">\n",
    "                    <b>5. Identify the most insignificant numerical variable among all the numeric variables in the data\n",
    "                    </b>\n",
    "                </font>\n",
    "            </div>\n",
    "        </td>\n",
    "    </tr>\n",
    "</table>"
   ]
  },
  {
   "cell_type": "code",
   "execution_count": 60,
   "metadata": {},
   "outputs": [
    {
     "data": {
      "text/html": [
       "<table class=\"simpletable\">\n",
       "<caption>OLS Regression Results</caption>\n",
       "<tr>\n",
       "  <th>Dep. Variable:</th>            <td>y</td>        <th>  R-squared:         </th> <td>   0.937</td>\n",
       "</tr>\n",
       "<tr>\n",
       "  <th>Model:</th>                   <td>OLS</td>       <th>  Adj. R-squared:    </th> <td>   0.936</td>\n",
       "</tr>\n",
       "<tr>\n",
       "  <th>Method:</th>             <td>Least Squares</td>  <th>  F-statistic:       </th> <td>   3798.</td>\n",
       "</tr>\n",
       "<tr>\n",
       "  <th>Date:</th>             <td>Sun, 04 Oct 2020</td> <th>  Prob (F-statistic):</th>  <td>  0.00</td> \n",
       "</tr>\n",
       "<tr>\n",
       "  <th>Time:</th>                 <td>03:11:25</td>     <th>  Log-Likelihood:    </th> <td>  1428.0</td>\n",
       "</tr>\n",
       "<tr>\n",
       "  <th>No. Observations:</th>      <td>  1547</td>      <th>  AIC:               </th> <td>  -2842.</td>\n",
       "</tr>\n",
       "<tr>\n",
       "  <th>Df Residuals:</th>          <td>  1540</td>      <th>  BIC:               </th> <td>  -2805.</td>\n",
       "</tr>\n",
       "<tr>\n",
       "  <th>Df Model:</th>              <td>     6</td>      <th>                     </th>     <td> </td>   \n",
       "</tr>\n",
       "<tr>\n",
       "  <th>Covariance Type:</th>      <td>nonrobust</td>    <th>                     </th>     <td> </td>   \n",
       "</tr>\n",
       "</table>\n",
       "<table class=\"simpletable\">\n",
       "<tr>\n",
       "    <td></td>       <th>coef</th>     <th>std err</th>      <th>t</th>      <th>P>|t|</th>  <th>[0.025</th>    <th>0.975]</th>  \n",
       "</tr>\n",
       "<tr>\n",
       "  <th>const</th> <td>    3.2890</td> <td>    0.467</td> <td>    7.042</td> <td> 0.000</td> <td>    2.373</td> <td>    4.205</td>\n",
       "</tr>\n",
       "<tr>\n",
       "  <th>carat</th> <td>   -0.4109</td> <td>    0.023</td> <td>  -17.800</td> <td> 0.000</td> <td>   -0.456</td> <td>   -0.366</td>\n",
       "</tr>\n",
       "<tr>\n",
       "  <th>depth</th> <td>   -0.0132</td> <td>    0.007</td> <td>   -1.806</td> <td> 0.071</td> <td>   -0.028</td> <td>    0.001</td>\n",
       "</tr>\n",
       "<tr>\n",
       "  <th>table</th> <td>   -0.0023</td> <td>    0.001</td> <td>   -1.907</td> <td> 0.057</td> <td>   -0.005</td> <td> 6.54e-05</td>\n",
       "</tr>\n",
       "<tr>\n",
       "  <th>x</th>     <td>    0.1237</td> <td>    0.059</td> <td>    2.081</td> <td> 0.038</td> <td>    0.007</td> <td>    0.240</td>\n",
       "</tr>\n",
       "<tr>\n",
       "  <th>y</th>     <td>    0.0674</td> <td>    0.055</td> <td>    1.220</td> <td> 0.223</td> <td>   -0.041</td> <td>    0.176</td>\n",
       "</tr>\n",
       "<tr>\n",
       "  <th>z</th>     <td>    0.5034</td> <td>    0.117</td> <td>    4.300</td> <td> 0.000</td> <td>    0.274</td> <td>    0.733</td>\n",
       "</tr>\n",
       "</table>\n",
       "<table class=\"simpletable\">\n",
       "<tr>\n",
       "  <th>Omnibus:</th>       <td> 5.888</td> <th>  Durbin-Watson:     </th> <td>   2.020</td>\n",
       "</tr>\n",
       "<tr>\n",
       "  <th>Prob(Omnibus):</th> <td> 0.053</td> <th>  Jarque-Bera (JB):  </th> <td>   7.177</td>\n",
       "</tr>\n",
       "<tr>\n",
       "  <th>Skew:</th>          <td>-0.024</td> <th>  Prob(JB):          </th> <td>  0.0276</td>\n",
       "</tr>\n",
       "<tr>\n",
       "  <th>Kurtosis:</th>      <td> 3.330</td> <th>  Cond. No.          </th> <td>1.67e+04</td>\n",
       "</tr>\n",
       "</table><br/><br/>Warnings:<br/>[1] Standard Errors assume that the covariance matrix of the errors is correctly specified.<br/>[2] The condition number is large, 1.67e+04. This might indicate that there are<br/>strong multicollinearity or other numerical problems."
      ],
      "text/plain": [
       "<class 'statsmodels.iolib.summary.Summary'>\n",
       "\"\"\"\n",
       "                            OLS Regression Results                            \n",
       "==============================================================================\n",
       "Dep. Variable:                      y   R-squared:                       0.937\n",
       "Model:                            OLS   Adj. R-squared:                  0.936\n",
       "Method:                 Least Squares   F-statistic:                     3798.\n",
       "Date:                Sun, 04 Oct 2020   Prob (F-statistic):               0.00\n",
       "Time:                        03:11:25   Log-Likelihood:                 1428.0\n",
       "No. Observations:                1547   AIC:                            -2842.\n",
       "Df Residuals:                    1540   BIC:                            -2805.\n",
       "Df Model:                           6                                         \n",
       "Covariance Type:            nonrobust                                         \n",
       "==============================================================================\n",
       "                 coef    std err          t      P>|t|      [0.025      0.975]\n",
       "------------------------------------------------------------------------------\n",
       "const          3.2890      0.467      7.042      0.000       2.373       4.205\n",
       "carat         -0.4109      0.023    -17.800      0.000      -0.456      -0.366\n",
       "depth         -0.0132      0.007     -1.806      0.071      -0.028       0.001\n",
       "table         -0.0023      0.001     -1.907      0.057      -0.005    6.54e-05\n",
       "x              0.1237      0.059      2.081      0.038       0.007       0.240\n",
       "y              0.0674      0.055      1.220      0.223      -0.041       0.176\n",
       "z              0.5034      0.117      4.300      0.000       0.274       0.733\n",
       "==============================================================================\n",
       "Omnibus:                        5.888   Durbin-Watson:                   2.020\n",
       "Prob(Omnibus):                  0.053   Jarque-Bera (JB):                7.177\n",
       "Skew:                          -0.024   Prob(JB):                       0.0276\n",
       "Kurtosis:                       3.330   Cond. No.                     1.67e+04\n",
       "==============================================================================\n",
       "\n",
       "Warnings:\n",
       "[1] Standard Errors assume that the covariance matrix of the errors is correctly specified.\n",
       "[2] The condition number is large, 1.67e+04. This might indicate that there are\n",
       "strong multicollinearity or other numerical problems.\n",
       "\"\"\""
      ]
     },
     "execution_count": 60,
     "metadata": {},
     "output_type": "execute_result"
    }
   ],
   "source": [
    "# type your code here\n",
    "inp = num_data.drop('price',1)\n",
    "inpc = sm.add_constant(inp)\n",
    "ols = sm.OLS(box_out,inpc)\n",
    "ols_mod = ols.fit()\n",
    "ols_mod.summary()"
   ]
  },
  {
   "cell_type": "code",
   "execution_count": 61,
   "metadata": {},
   "outputs": [
    {
     "data": {
      "text/plain": [
       "'y'"
      ]
     },
     "execution_count": 61,
     "metadata": {},
     "output_type": "execute_result"
    }
   ],
   "source": [
    "ols_mod.pvalues.idxmax()"
   ]
  },
  {
   "cell_type": "markdown",
   "metadata": {},
   "source": [
    "<table align=\"left\">\n",
    "    <tr>\n",
    "        <td width=\"6%\">\n",
    "            <img src=\"question_icon.png\">\n",
    "        </td>\n",
    "        <td>\n",
    "            <div align=\"left\", style=\"font-size:120%\">\n",
    "                <font color=\"#21618C\">\n",
    "                    <b>6. Do the residuals obtained from the full model follow a normal distribution?\n",
    "                    </b>\n",
    "                </font>\n",
    "            </div>\n",
    "        </td>\n",
    "    </tr>\n",
    "</table>"
   ]
  },
  {
   "cell_type": "code",
   "execution_count": 51,
   "metadata": {},
   "outputs": [
    {
     "data": {
      "text/plain": [
       "(1.9649093359338075, 9.920703690158295)"
      ]
     },
     "execution_count": 51,
     "metadata": {},
     "output_type": "execute_result"
    }
   ],
   "source": [
    "# type your code here\n",
    "inp = data_sc.drop('price',1)\n",
    "out = df['price']\n",
    "inpc = sm.add_constant(inp)\n",
    "ols = sm.OLS(out,inpc)\n",
    "ols_mod = ols.fit()\n",
    "ols_mod.summary()\n",
    "ols_mod.resid.skew(),ols_mod.resid.kurt() "
   ]
  },
  {
   "cell_type": "markdown",
   "metadata": {},
   "source": [
    "Yes residuals do not follow normal distribution"
   ]
  },
  {
   "cell_type": "markdown",
   "metadata": {},
   "source": [
    "<table align=\"left\">\n",
    "    <tr>\n",
    "        <td width=\"6%\">\n",
    "            <img src=\"question_icon.png\">\n",
    "        </td>\n",
    "        <td>\n",
    "            <div align=\"left\", style=\"font-size:120%\">\n",
    "                <font color=\"#21618C\">\n",
    "                    <b>7. Is it possible to make the residuals normal? If yes, do the needful\n",
    "                    </b>\n",
    "                </font>\n",
    "            </div>\n",
    "        </td>\n",
    "    </tr>\n",
    "</table>"
   ]
  },
  {
   "cell_type": "code",
   "execution_count": 52,
   "metadata": {},
   "outputs": [
    {
     "data": {
      "text/plain": [
       "(-0.19980002819632275, 0.8571190630125862)"
      ]
     },
     "execution_count": 52,
     "metadata": {},
     "output_type": "execute_result"
    }
   ],
   "source": [
    "# type your code here\n",
    "box_out,lam = stats.boxcox(df['price'])\n",
    "inp = data_sc.drop('price',1)\n",
    "inpc = sm.add_constant(inp)\n",
    "ols = sm.OLS(box_out,inpc)\n",
    "ols_mod = ols.fit()\n",
    "ols_mod.summary()\n",
    "ols_mod.resid.skew(),ols_mod.resid.kurt() "
   ]
  },
  {
   "cell_type": "markdown",
   "metadata": {},
   "source": [
    "<table align=\"left\">\n",
    "    <tr>\n",
    "        <td width=\"6%\">\n",
    "            <img src=\"question_icon.png\">\n",
    "        </td>\n",
    "        <td>\n",
    "            <div align=\"left\", style=\"font-size:120%\">\n",
    "                <font color=\"#21618C\">\n",
    "                    <b>8. Consider the full model and remove the variables one-by-one to obtain the set of seven most significant variables\n",
    "                    </b>\n",
    "                </font>\n",
    "            </div>\n",
    "        </td>\n",
    "    </tr>\n",
    "</table>"
   ]
  },
  {
   "cell_type": "code",
   "execution_count": 55,
   "metadata": {},
   "outputs": [],
   "source": [
    "# type your code here\n",
    "lr = LinearRegression()\n",
    "backward = sfs(lr , k_features=7, forward = False , scoring = 'neg_mean_squared_error')\n",
    "sfs_backward = backward.fit(inp,box_out)"
   ]
  },
  {
   "cell_type": "code",
   "execution_count": 56,
   "metadata": {},
   "outputs": [
    {
     "data": {
      "text/plain": [
       "('carat', 'depth', 'z', 'cut_Ideal', 'color_H', 'color_I', 'color_J')"
      ]
     },
     "execution_count": 56,
     "metadata": {},
     "output_type": "execute_result"
    }
   ],
   "source": [
    "feat_back = sfs_backward.k_feature_names_\n",
    "feat_back"
   ]
  },
  {
   "cell_type": "markdown",
   "metadata": {},
   "source": [
    "<table align=\"left\">\n",
    "    <tr>\n",
    "        <td width=\"6%\">\n",
    "            <img src=\"question_icon.png\">\n",
    "        </td>\n",
    "        <td>\n",
    "            <div align=\"left\", style=\"font-size:120%\">\n",
    "                <font color=\"#21618C\">\n",
    "                    <b>9. Identify the colors of a diamond that are not significant while predicting the price?\n",
    "                    </b>\n",
    "                </font>\n",
    "            </div>\n",
    "        </td>\n",
    "    </tr>\n",
    "</table>"
   ]
  },
  {
   "cell_type": "code",
   "execution_count": 57,
   "metadata": {},
   "outputs": [
    {
     "data": {
      "text/html": [
       "<table class=\"simpletable\">\n",
       "<caption>OLS Regression Results</caption>\n",
       "<tr>\n",
       "  <th>Dep. Variable:</th>            <td>y</td>        <th>  R-squared:         </th> <td>   0.017</td>\n",
       "</tr>\n",
       "<tr>\n",
       "  <th>Model:</th>                   <td>OLS</td>       <th>  Adj. R-squared:    </th> <td>   0.013</td>\n",
       "</tr>\n",
       "<tr>\n",
       "  <th>Method:</th>             <td>Least Squares</td>  <th>  F-statistic:       </th> <td>   4.525</td>\n",
       "</tr>\n",
       "<tr>\n",
       "  <th>Date:</th>             <td>Sun, 04 Oct 2020</td> <th>  Prob (F-statistic):</th> <td>0.000148</td>\n",
       "</tr>\n",
       "<tr>\n",
       "  <th>Time:</th>                 <td>03:10:05</td>     <th>  Log-Likelihood:    </th> <td> -693.22</td>\n",
       "</tr>\n",
       "<tr>\n",
       "  <th>No. Observations:</th>      <td>  1547</td>      <th>  AIC:               </th> <td>   1400.</td>\n",
       "</tr>\n",
       "<tr>\n",
       "  <th>Df Residuals:</th>          <td>  1540</td>      <th>  BIC:               </th> <td>   1438.</td>\n",
       "</tr>\n",
       "<tr>\n",
       "  <th>Df Model:</th>              <td>     6</td>      <th>                     </th>     <td> </td>   \n",
       "</tr>\n",
       "<tr>\n",
       "  <th>Covariance Type:</th>      <td>nonrobust</td>    <th>                     </th>     <td> </td>   \n",
       "</tr>\n",
       "</table>\n",
       "<table class=\"simpletable\">\n",
       "<tr>\n",
       "     <td></td>        <th>coef</th>     <th>std err</th>      <th>t</th>      <th>P>|t|</th>  <th>[0.025</th>    <th>0.975]</th>  \n",
       "</tr>\n",
       "<tr>\n",
       "  <th>const</th>   <td>    4.8815</td> <td>    0.010</td> <td>  505.754</td> <td> 0.000</td> <td>    4.863</td> <td>    4.900</td>\n",
       "</tr>\n",
       "<tr>\n",
       "  <th>color_E</th> <td>   -0.0188</td> <td>    0.013</td> <td>   -1.398</td> <td> 0.162</td> <td>   -0.045</td> <td>    0.008</td>\n",
       "</tr>\n",
       "<tr>\n",
       "  <th>color_F</th> <td>   -0.0020</td> <td>    0.013</td> <td>   -0.152</td> <td> 0.879</td> <td>   -0.028</td> <td>    0.024</td>\n",
       "</tr>\n",
       "<tr>\n",
       "  <th>color_G</th> <td>    0.0097</td> <td>    0.014</td> <td>    0.707</td> <td> 0.480</td> <td>   -0.017</td> <td>    0.037</td>\n",
       "</tr>\n",
       "<tr>\n",
       "  <th>color_H</th> <td>    0.0294</td> <td>    0.013</td> <td>    2.248</td> <td> 0.025</td> <td>    0.004</td> <td>    0.055</td>\n",
       "</tr>\n",
       "<tr>\n",
       "  <th>color_I</th> <td>    0.0250</td> <td>    0.012</td> <td>    2.091</td> <td> 0.037</td> <td>    0.002</td> <td>    0.048</td>\n",
       "</tr>\n",
       "<tr>\n",
       "  <th>color_J</th> <td>    0.0267</td> <td>    0.011</td> <td>    2.395</td> <td> 0.017</td> <td>    0.005</td> <td>    0.049</td>\n",
       "</tr>\n",
       "</table>\n",
       "<table class=\"simpletable\">\n",
       "<tr>\n",
       "  <th>Omnibus:</th>       <td>326.793</td> <th>  Durbin-Watson:     </th> <td>   1.920</td>\n",
       "</tr>\n",
       "<tr>\n",
       "  <th>Prob(Omnibus):</th> <td> 0.000</td>  <th>  Jarque-Bera (JB):  </th> <td>  63.575</td>\n",
       "</tr>\n",
       "<tr>\n",
       "  <th>Skew:</th>          <td>-0.003</td>  <th>  Prob(JB):          </th> <td>1.57e-14</td>\n",
       "</tr>\n",
       "<tr>\n",
       "  <th>Kurtosis:</th>      <td> 2.007</td>  <th>  Cond. No.          </th> <td>    2.80</td>\n",
       "</tr>\n",
       "</table><br/><br/>Warnings:<br/>[1] Standard Errors assume that the covariance matrix of the errors is correctly specified."
      ],
      "text/plain": [
       "<class 'statsmodels.iolib.summary.Summary'>\n",
       "\"\"\"\n",
       "                            OLS Regression Results                            \n",
       "==============================================================================\n",
       "Dep. Variable:                      y   R-squared:                       0.017\n",
       "Model:                            OLS   Adj. R-squared:                  0.013\n",
       "Method:                 Least Squares   F-statistic:                     4.525\n",
       "Date:                Sun, 04 Oct 2020   Prob (F-statistic):           0.000148\n",
       "Time:                        03:10:05   Log-Likelihood:                -693.22\n",
       "No. Observations:                1547   AIC:                             1400.\n",
       "Df Residuals:                    1540   BIC:                             1438.\n",
       "Df Model:                           6                                         \n",
       "Covariance Type:            nonrobust                                         \n",
       "==============================================================================\n",
       "                 coef    std err          t      P>|t|      [0.025      0.975]\n",
       "------------------------------------------------------------------------------\n",
       "const          4.8815      0.010    505.754      0.000       4.863       4.900\n",
       "color_E       -0.0188      0.013     -1.398      0.162      -0.045       0.008\n",
       "color_F       -0.0020      0.013     -0.152      0.879      -0.028       0.024\n",
       "color_G        0.0097      0.014      0.707      0.480      -0.017       0.037\n",
       "color_H        0.0294      0.013      2.248      0.025       0.004       0.055\n",
       "color_I        0.0250      0.012      2.091      0.037       0.002       0.048\n",
       "color_J        0.0267      0.011      2.395      0.017       0.005       0.049\n",
       "==============================================================================\n",
       "Omnibus:                      326.793   Durbin-Watson:                   1.920\n",
       "Prob(Omnibus):                  0.000   Jarque-Bera (JB):               63.575\n",
       "Skew:                          -0.003   Prob(JB):                     1.57e-14\n",
       "Kurtosis:                       2.007   Cond. No.                         2.80\n",
       "==============================================================================\n",
       "\n",
       "Warnings:\n",
       "[1] Standard Errors assume that the covariance matrix of the errors is correctly specified.\n",
       "\"\"\""
      ]
     },
     "execution_count": 57,
     "metadata": {},
     "output_type": "execute_result"
    }
   ],
   "source": [
    "# type your code here\n",
    "inp = data_sc[['color_E','color_F','color_G','color_H','color_I','color_J']]\n",
    "inpc = sm.add_constant(inp)\n",
    "ols = sm.OLS(box_out,inpc)\n",
    "ols_mod = ols.fit()\n",
    "ols_mod.summary()"
   ]
  },
  {
   "cell_type": "code",
   "execution_count": 59,
   "metadata": {},
   "outputs": [
    {
     "data": {
      "text/plain": [
       "'color_F'"
      ]
     },
     "execution_count": 59,
     "metadata": {},
     "output_type": "execute_result"
    }
   ],
   "source": [
    "ols_mod.pvalues.idxmax()"
   ]
  },
  {
   "cell_type": "markdown",
   "metadata": {},
   "source": [
    "<table align=\"left\">\n",
    "    <tr>\n",
    "        <td width=\"6%\">\n",
    "            <img src=\"question_icon.png\">\n",
    "        </td>\n",
    "        <td>\n",
    "            <div align=\"left\", style=\"font-size:120%\">\n",
    "                <font color=\"#21618C\">\n",
    "                    <b>10. Build a regression model on the five features obtained by eliminating the features recursively \n",
    "                    </b>\n",
    "                </font>\n",
    "            </div>\n",
    "        </td>\n",
    "    </tr>\n",
    "</table>"
   ]
  },
  {
   "cell_type": "code",
   "execution_count": 63,
   "metadata": {},
   "outputs": [],
   "source": [
    "# type your code here\n",
    "lr = LinearRegression()\n",
    "inp = data_sc.drop('price',1)\n",
    "rfe = RFECV(estimator = lr)\n",
    "rfe_mod = rfe.fit(inp,box_out)"
   ]
  },
  {
   "cell_type": "code",
   "execution_count": 64,
   "metadata": {},
   "outputs": [
    {
     "data": {
      "text/plain": [
       "array([1, 1, 2, 1, 1, 1, 3, 1, 1, 1, 5, 4, 6, 1, 1, 1])"
      ]
     },
     "execution_count": 64,
     "metadata": {},
     "output_type": "execute_result"
    }
   ],
   "source": [
    "rfe_mod.ranking_"
   ]
  },
  {
   "cell_type": "code",
   "execution_count": 67,
   "metadata": {},
   "outputs": [
    {
     "data": {
      "text/plain": [
       "0    carat\n",
       "1    depth\n",
       "3        x\n",
       "4        y\n",
       "5        z\n",
       "Name: Features, dtype: object"
      ]
     },
     "execution_count": 67,
     "metadata": {},
     "output_type": "execute_result"
    }
   ],
   "source": [
    "scorecard = pd.DataFrame()\n",
    "scorecard['Features'] = inp.columns\n",
    "scorecard['RFE'] = rfe_mod.ranking_\n",
    "scorecard = scorecard[scorecard['RFE']==1]\n",
    "scorecard.head()['Features']"
   ]
  },
  {
   "cell_type": "code",
   "execution_count": null,
   "metadata": {},
   "outputs": [],
   "source": []
  }
 ],
 "metadata": {
  "kernelspec": {
   "display_name": "Python 3",
   "language": "python",
   "name": "python3"
  },
  "language_info": {
   "codemirror_mode": {
    "name": "ipython",
    "version": 3
   },
   "file_extension": ".py",
   "mimetype": "text/x-python",
   "name": "python",
   "nbconvert_exporter": "python",
   "pygments_lexer": "ipython3",
   "version": "3.8.3"
  }
 },
 "nbformat": 4,
 "nbformat_minor": 2
}
