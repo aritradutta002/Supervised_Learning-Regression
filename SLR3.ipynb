{
 "cells": [
  {
   "cell_type": "code",
   "execution_count": 1,
   "metadata": {
    "scrolled": true
   },
   "outputs": [],
   "source": [
    "import numpy as np\n",
    "import pandas as pd\n",
    "import matplotlib.pyplot as plt\n",
    "import seaborn as sns\n",
    "import scipy.stats as stats\n",
    "%matplotlib inline"
   ]
  },
  {
   "cell_type": "code",
   "execution_count": 2,
   "metadata": {
    "scrolled": true
   },
   "outputs": [
    {
     "data": {
      "text/html": [
       "<div>\n",
       "<style scoped>\n",
       "    .dataframe tbody tr th:only-of-type {\n",
       "        vertical-align: middle;\n",
       "    }\n",
       "\n",
       "    .dataframe tbody tr th {\n",
       "        vertical-align: top;\n",
       "    }\n",
       "\n",
       "    .dataframe thead th {\n",
       "        text-align: right;\n",
       "    }\n",
       "</style>\n",
       "<table border=\"1\" class=\"dataframe\">\n",
       "  <thead>\n",
       "    <tr style=\"text-align: right;\">\n",
       "      <th></th>\n",
       "      <th>Year_Type</th>\n",
       "      <th>Year</th>\n",
       "      <th>Employee_Identifier</th>\n",
       "      <th>Salaries</th>\n",
       "      <th>Overtime</th>\n",
       "      <th>Other_Salaries</th>\n",
       "      <th>Total_Salary</th>\n",
       "      <th>Retirement</th>\n",
       "      <th>Health/Dental</th>\n",
       "      <th>Other_Benefits</th>\n",
       "      <th>Total_Benefits</th>\n",
       "      <th>Total_Compensation</th>\n",
       "    </tr>\n",
       "  </thead>\n",
       "  <tbody>\n",
       "    <tr>\n",
       "      <th>0</th>\n",
       "      <td>Fiscal</td>\n",
       "      <td>2015</td>\n",
       "      <td>42853</td>\n",
       "      <td>92288.22</td>\n",
       "      <td>267.45</td>\n",
       "      <td>267.45</td>\n",
       "      <td>92823.12</td>\n",
       "      <td>20700.20</td>\n",
       "      <td>12500.56</td>\n",
       "      <td>7605.75</td>\n",
       "      <td>40806.51</td>\n",
       "      <td>133629.63</td>\n",
       "    </tr>\n",
       "    <tr>\n",
       "      <th>1</th>\n",
       "      <td>Calendar</td>\n",
       "      <td>2015</td>\n",
       "      <td>28248</td>\n",
       "      <td>1466.38</td>\n",
       "      <td>348.23</td>\n",
       "      <td>0.00</td>\n",
       "      <td>1814.61</td>\n",
       "      <td>0.00</td>\n",
       "      <td>442.03</td>\n",
       "      <td>141.59</td>\n",
       "      <td>583.62</td>\n",
       "      <td>2398.23</td>\n",
       "    </tr>\n",
       "    <tr>\n",
       "      <th>2</th>\n",
       "      <td>Fiscal</td>\n",
       "      <td>2014</td>\n",
       "      <td>30651</td>\n",
       "      <td>76536.95</td>\n",
       "      <td>13583.72</td>\n",
       "      <td>10855.94</td>\n",
       "      <td>100976.61</td>\n",
       "      <td>18632.19</td>\n",
       "      <td>12464.61</td>\n",
       "      <td>8011.41</td>\n",
       "      <td>39108.21</td>\n",
       "      <td>140084.82</td>\n",
       "    </tr>\n",
       "    <tr>\n",
       "      <th>3</th>\n",
       "      <td>Fiscal</td>\n",
       "      <td>2014</td>\n",
       "      <td>19473</td>\n",
       "      <td>45659.88</td>\n",
       "      <td>0.00</td>\n",
       "      <td>1625.37</td>\n",
       "      <td>47285.25</td>\n",
       "      <td>10081.20</td>\n",
       "      <td>0.00</td>\n",
       "      <td>3936.63</td>\n",
       "      <td>14017.83</td>\n",
       "      <td>61303.08</td>\n",
       "    </tr>\n",
       "    <tr>\n",
       "      <th>4</th>\n",
       "      <td>Fiscal</td>\n",
       "      <td>2013</td>\n",
       "      <td>7176</td>\n",
       "      <td>41832.00</td>\n",
       "      <td>0.00</td>\n",
       "      <td>0.00</td>\n",
       "      <td>41832.00</td>\n",
       "      <td>7617.60</td>\n",
       "      <td>5908.52</td>\n",
       "      <td>3254.50</td>\n",
       "      <td>16780.62</td>\n",
       "      <td>58612.62</td>\n",
       "    </tr>\n",
       "    <tr>\n",
       "      <th>...</th>\n",
       "      <td>...</td>\n",
       "      <td>...</td>\n",
       "      <td>...</td>\n",
       "      <td>...</td>\n",
       "      <td>...</td>\n",
       "      <td>...</td>\n",
       "      <td>...</td>\n",
       "      <td>...</td>\n",
       "      <td>...</td>\n",
       "      <td>...</td>\n",
       "      <td>...</td>\n",
       "      <td>...</td>\n",
       "    </tr>\n",
       "    <tr>\n",
       "      <th>49995</th>\n",
       "      <td>Fiscal</td>\n",
       "      <td>2016</td>\n",
       "      <td>1629</td>\n",
       "      <td>100222.50</td>\n",
       "      <td>17166.13</td>\n",
       "      <td>600.00</td>\n",
       "      <td>117988.63</td>\n",
       "      <td>18763.05</td>\n",
       "      <td>13068.80</td>\n",
       "      <td>9406.86</td>\n",
       "      <td>41238.71</td>\n",
       "      <td>159227.34</td>\n",
       "    </tr>\n",
       "    <tr>\n",
       "      <th>49996</th>\n",
       "      <td>Fiscal</td>\n",
       "      <td>2014</td>\n",
       "      <td>35471</td>\n",
       "      <td>1787.41</td>\n",
       "      <td>0.00</td>\n",
       "      <td>0.00</td>\n",
       "      <td>1787.41</td>\n",
       "      <td>0.00</td>\n",
       "      <td>563.31</td>\n",
       "      <td>145.36</td>\n",
       "      <td>708.67</td>\n",
       "      <td>2496.08</td>\n",
       "    </tr>\n",
       "    <tr>\n",
       "      <th>49997</th>\n",
       "      <td>Fiscal</td>\n",
       "      <td>2016</td>\n",
       "      <td>42176</td>\n",
       "      <td>36552.83</td>\n",
       "      <td>0.00</td>\n",
       "      <td>0.00</td>\n",
       "      <td>36552.83</td>\n",
       "      <td>6802.48</td>\n",
       "      <td>6855.83</td>\n",
       "      <td>3071.63</td>\n",
       "      <td>16729.94</td>\n",
       "      <td>53282.77</td>\n",
       "    </tr>\n",
       "    <tr>\n",
       "      <th>49998</th>\n",
       "      <td>Fiscal</td>\n",
       "      <td>2016</td>\n",
       "      <td>10980</td>\n",
       "      <td>46995.30</td>\n",
       "      <td>0.00</td>\n",
       "      <td>10943.14</td>\n",
       "      <td>57938.44</td>\n",
       "      <td>8840.98</td>\n",
       "      <td>10624.64</td>\n",
       "      <td>4706.37</td>\n",
       "      <td>24171.99</td>\n",
       "      <td>82110.43</td>\n",
       "    </tr>\n",
       "    <tr>\n",
       "      <th>49999</th>\n",
       "      <td>Fiscal</td>\n",
       "      <td>2014</td>\n",
       "      <td>29083</td>\n",
       "      <td>69268.81</td>\n",
       "      <td>0.00</td>\n",
       "      <td>1648.09</td>\n",
       "      <td>70916.90</td>\n",
       "      <td>15119.46</td>\n",
       "      <td>12464.61</td>\n",
       "      <td>5853.52</td>\n",
       "      <td>33437.59</td>\n",
       "      <td>104354.49</td>\n",
       "    </tr>\n",
       "  </tbody>\n",
       "</table>\n",
       "<p>50000 rows × 12 columns</p>\n",
       "</div>"
      ],
      "text/plain": [
       "      Year_Type  Year  Employee_Identifier   Salaries  Overtime  \\\n",
       "0        Fiscal  2015                42853   92288.22    267.45   \n",
       "1      Calendar  2015                28248    1466.38    348.23   \n",
       "2        Fiscal  2014                30651   76536.95  13583.72   \n",
       "3        Fiscal  2014                19473   45659.88      0.00   \n",
       "4        Fiscal  2013                 7176   41832.00      0.00   \n",
       "...         ...   ...                  ...        ...       ...   \n",
       "49995    Fiscal  2016                 1629  100222.50  17166.13   \n",
       "49996    Fiscal  2014                35471    1787.41      0.00   \n",
       "49997    Fiscal  2016                42176   36552.83      0.00   \n",
       "49998    Fiscal  2016                10980   46995.30      0.00   \n",
       "49999    Fiscal  2014                29083   69268.81      0.00   \n",
       "\n",
       "       Other_Salaries  Total_Salary  Retirement  Health/Dental  \\\n",
       "0              267.45      92823.12    20700.20       12500.56   \n",
       "1                0.00       1814.61        0.00         442.03   \n",
       "2            10855.94     100976.61    18632.19       12464.61   \n",
       "3             1625.37      47285.25    10081.20           0.00   \n",
       "4                0.00      41832.00     7617.60        5908.52   \n",
       "...               ...           ...         ...            ...   \n",
       "49995          600.00     117988.63    18763.05       13068.80   \n",
       "49996            0.00       1787.41        0.00         563.31   \n",
       "49997            0.00      36552.83     6802.48        6855.83   \n",
       "49998        10943.14      57938.44     8840.98       10624.64   \n",
       "49999         1648.09      70916.90    15119.46       12464.61   \n",
       "\n",
       "       Other_Benefits  Total_Benefits  Total_Compensation  \n",
       "0             7605.75        40806.51           133629.63  \n",
       "1              141.59          583.62             2398.23  \n",
       "2             8011.41        39108.21           140084.82  \n",
       "3             3936.63        14017.83            61303.08  \n",
       "4             3254.50        16780.62            58612.62  \n",
       "...               ...             ...                 ...  \n",
       "49995         9406.86        41238.71           159227.34  \n",
       "49996          145.36          708.67             2496.08  \n",
       "49997         3071.63        16729.94            53282.77  \n",
       "49998         4706.37        24171.99            82110.43  \n",
       "49999         5853.52        33437.59           104354.49  \n",
       "\n",
       "[50000 rows x 12 columns]"
      ]
     },
     "execution_count": 2,
     "metadata": {},
     "output_type": "execute_result"
    }
   ],
   "source": [
    "data=pd.read_csv('employee_compensation.csv')\n",
    "data"
   ]
  },
  {
   "cell_type": "code",
   "execution_count": 3,
   "metadata": {
    "scrolled": true
   },
   "outputs": [],
   "source": [
    "#1. Null value treatment\n",
    "#2. Outlier treatment\n",
    "#3. Scaling\n",
    "#4. Encoding"
   ]
  },
  {
   "cell_type": "code",
   "execution_count": 4,
   "metadata": {
    "scrolled": true
   },
   "outputs": [
    {
     "data": {
      "text/plain": [
       "Year_Type              0\n",
       "Year                   0\n",
       "Employee_Identifier    0\n",
       "Salaries               0\n",
       "Overtime               0\n",
       "Other_Salaries         0\n",
       "Total_Salary           0\n",
       "Retirement             0\n",
       "Health/Dental          0\n",
       "Other_Benefits         0\n",
       "Total_Benefits         0\n",
       "Total_Compensation     0\n",
       "dtype: int64"
      ]
     },
     "execution_count": 4,
     "metadata": {},
     "output_type": "execute_result"
    }
   ],
   "source": [
    "data.isnull().sum()"
   ]
  },
  {
   "cell_type": "code",
   "execution_count": 5,
   "metadata": {
    "scrolled": true
   },
   "outputs": [
    {
     "data": {
      "text/html": [
       "<div>\n",
       "<style scoped>\n",
       "    .dataframe tbody tr th:only-of-type {\n",
       "        vertical-align: middle;\n",
       "    }\n",
       "\n",
       "    .dataframe tbody tr th {\n",
       "        vertical-align: top;\n",
       "    }\n",
       "\n",
       "    .dataframe thead th {\n",
       "        text-align: right;\n",
       "    }\n",
       "</style>\n",
       "<table border=\"1\" class=\"dataframe\">\n",
       "  <thead>\n",
       "    <tr style=\"text-align: right;\">\n",
       "      <th></th>\n",
       "      <th>Year_Type</th>\n",
       "      <th>Year</th>\n",
       "      <th>Salaries</th>\n",
       "      <th>Overtime</th>\n",
       "      <th>Other_Salaries</th>\n",
       "      <th>Total_Salary</th>\n",
       "      <th>Retirement</th>\n",
       "      <th>Health/Dental</th>\n",
       "      <th>Other_Benefits</th>\n",
       "      <th>Total_Benefits</th>\n",
       "      <th>Total_Compensation</th>\n",
       "    </tr>\n",
       "  </thead>\n",
       "  <tbody>\n",
       "    <tr>\n",
       "      <th>0</th>\n",
       "      <td>Fiscal</td>\n",
       "      <td>2015</td>\n",
       "      <td>92288.22</td>\n",
       "      <td>267.45</td>\n",
       "      <td>267.45</td>\n",
       "      <td>92823.12</td>\n",
       "      <td>20700.20</td>\n",
       "      <td>12500.56</td>\n",
       "      <td>7605.75</td>\n",
       "      <td>40806.51</td>\n",
       "      <td>133629.63</td>\n",
       "    </tr>\n",
       "    <tr>\n",
       "      <th>1</th>\n",
       "      <td>Calendar</td>\n",
       "      <td>2015</td>\n",
       "      <td>1466.38</td>\n",
       "      <td>348.23</td>\n",
       "      <td>0.00</td>\n",
       "      <td>1814.61</td>\n",
       "      <td>0.00</td>\n",
       "      <td>442.03</td>\n",
       "      <td>141.59</td>\n",
       "      <td>583.62</td>\n",
       "      <td>2398.23</td>\n",
       "    </tr>\n",
       "    <tr>\n",
       "      <th>2</th>\n",
       "      <td>Fiscal</td>\n",
       "      <td>2014</td>\n",
       "      <td>76536.95</td>\n",
       "      <td>13583.72</td>\n",
       "      <td>10855.94</td>\n",
       "      <td>100976.61</td>\n",
       "      <td>18632.19</td>\n",
       "      <td>12464.61</td>\n",
       "      <td>8011.41</td>\n",
       "      <td>39108.21</td>\n",
       "      <td>140084.82</td>\n",
       "    </tr>\n",
       "    <tr>\n",
       "      <th>3</th>\n",
       "      <td>Fiscal</td>\n",
       "      <td>2014</td>\n",
       "      <td>45659.88</td>\n",
       "      <td>0.00</td>\n",
       "      <td>1625.37</td>\n",
       "      <td>47285.25</td>\n",
       "      <td>10081.20</td>\n",
       "      <td>0.00</td>\n",
       "      <td>3936.63</td>\n",
       "      <td>14017.83</td>\n",
       "      <td>61303.08</td>\n",
       "    </tr>\n",
       "    <tr>\n",
       "      <th>4</th>\n",
       "      <td>Fiscal</td>\n",
       "      <td>2013</td>\n",
       "      <td>41832.00</td>\n",
       "      <td>0.00</td>\n",
       "      <td>0.00</td>\n",
       "      <td>41832.00</td>\n",
       "      <td>7617.60</td>\n",
       "      <td>5908.52</td>\n",
       "      <td>3254.50</td>\n",
       "      <td>16780.62</td>\n",
       "      <td>58612.62</td>\n",
       "    </tr>\n",
       "    <tr>\n",
       "      <th>...</th>\n",
       "      <td>...</td>\n",
       "      <td>...</td>\n",
       "      <td>...</td>\n",
       "      <td>...</td>\n",
       "      <td>...</td>\n",
       "      <td>...</td>\n",
       "      <td>...</td>\n",
       "      <td>...</td>\n",
       "      <td>...</td>\n",
       "      <td>...</td>\n",
       "      <td>...</td>\n",
       "    </tr>\n",
       "    <tr>\n",
       "      <th>49995</th>\n",
       "      <td>Fiscal</td>\n",
       "      <td>2016</td>\n",
       "      <td>100222.50</td>\n",
       "      <td>17166.13</td>\n",
       "      <td>600.00</td>\n",
       "      <td>117988.63</td>\n",
       "      <td>18763.05</td>\n",
       "      <td>13068.80</td>\n",
       "      <td>9406.86</td>\n",
       "      <td>41238.71</td>\n",
       "      <td>159227.34</td>\n",
       "    </tr>\n",
       "    <tr>\n",
       "      <th>49996</th>\n",
       "      <td>Fiscal</td>\n",
       "      <td>2014</td>\n",
       "      <td>1787.41</td>\n",
       "      <td>0.00</td>\n",
       "      <td>0.00</td>\n",
       "      <td>1787.41</td>\n",
       "      <td>0.00</td>\n",
       "      <td>563.31</td>\n",
       "      <td>145.36</td>\n",
       "      <td>708.67</td>\n",
       "      <td>2496.08</td>\n",
       "    </tr>\n",
       "    <tr>\n",
       "      <th>49997</th>\n",
       "      <td>Fiscal</td>\n",
       "      <td>2016</td>\n",
       "      <td>36552.83</td>\n",
       "      <td>0.00</td>\n",
       "      <td>0.00</td>\n",
       "      <td>36552.83</td>\n",
       "      <td>6802.48</td>\n",
       "      <td>6855.83</td>\n",
       "      <td>3071.63</td>\n",
       "      <td>16729.94</td>\n",
       "      <td>53282.77</td>\n",
       "    </tr>\n",
       "    <tr>\n",
       "      <th>49998</th>\n",
       "      <td>Fiscal</td>\n",
       "      <td>2016</td>\n",
       "      <td>46995.30</td>\n",
       "      <td>0.00</td>\n",
       "      <td>10943.14</td>\n",
       "      <td>57938.44</td>\n",
       "      <td>8840.98</td>\n",
       "      <td>10624.64</td>\n",
       "      <td>4706.37</td>\n",
       "      <td>24171.99</td>\n",
       "      <td>82110.43</td>\n",
       "    </tr>\n",
       "    <tr>\n",
       "      <th>49999</th>\n",
       "      <td>Fiscal</td>\n",
       "      <td>2014</td>\n",
       "      <td>69268.81</td>\n",
       "      <td>0.00</td>\n",
       "      <td>1648.09</td>\n",
       "      <td>70916.90</td>\n",
       "      <td>15119.46</td>\n",
       "      <td>12464.61</td>\n",
       "      <td>5853.52</td>\n",
       "      <td>33437.59</td>\n",
       "      <td>104354.49</td>\n",
       "    </tr>\n",
       "  </tbody>\n",
       "</table>\n",
       "<p>50000 rows × 11 columns</p>\n",
       "</div>"
      ],
      "text/plain": [
       "      Year_Type  Year   Salaries  Overtime  Other_Salaries  Total_Salary  \\\n",
       "0        Fiscal  2015   92288.22    267.45          267.45      92823.12   \n",
       "1      Calendar  2015    1466.38    348.23            0.00       1814.61   \n",
       "2        Fiscal  2014   76536.95  13583.72        10855.94     100976.61   \n",
       "3        Fiscal  2014   45659.88      0.00         1625.37      47285.25   \n",
       "4        Fiscal  2013   41832.00      0.00            0.00      41832.00   \n",
       "...         ...   ...        ...       ...             ...           ...   \n",
       "49995    Fiscal  2016  100222.50  17166.13          600.00     117988.63   \n",
       "49996    Fiscal  2014    1787.41      0.00            0.00       1787.41   \n",
       "49997    Fiscal  2016   36552.83      0.00            0.00      36552.83   \n",
       "49998    Fiscal  2016   46995.30      0.00        10943.14      57938.44   \n",
       "49999    Fiscal  2014   69268.81      0.00         1648.09      70916.90   \n",
       "\n",
       "       Retirement  Health/Dental  Other_Benefits  Total_Benefits  \\\n",
       "0        20700.20       12500.56         7605.75        40806.51   \n",
       "1            0.00         442.03          141.59          583.62   \n",
       "2        18632.19       12464.61         8011.41        39108.21   \n",
       "3        10081.20           0.00         3936.63        14017.83   \n",
       "4         7617.60        5908.52         3254.50        16780.62   \n",
       "...           ...            ...             ...             ...   \n",
       "49995    18763.05       13068.80         9406.86        41238.71   \n",
       "49996        0.00         563.31          145.36          708.67   \n",
       "49997     6802.48        6855.83         3071.63        16729.94   \n",
       "49998     8840.98       10624.64         4706.37        24171.99   \n",
       "49999    15119.46       12464.61         5853.52        33437.59   \n",
       "\n",
       "       Total_Compensation  \n",
       "0               133629.63  \n",
       "1                 2398.23  \n",
       "2               140084.82  \n",
       "3                61303.08  \n",
       "4                58612.62  \n",
       "...                   ...  \n",
       "49995           159227.34  \n",
       "49996             2496.08  \n",
       "49997            53282.77  \n",
       "49998            82110.43  \n",
       "49999           104354.49  \n",
       "\n",
       "[50000 rows x 11 columns]"
      ]
     },
     "execution_count": 5,
     "metadata": {},
     "output_type": "execute_result"
    }
   ],
   "source": [
    "data = data.drop('Employee_Identifier',1)\n",
    "data"
   ]
  },
  {
   "cell_type": "code",
   "execution_count": 6,
   "metadata": {
    "scrolled": true
   },
   "outputs": [
    {
     "name": "stdout",
     "output_type": "stream",
     "text": [
      "<class 'pandas.core.frame.DataFrame'>\n",
      "RangeIndex: 50000 entries, 0 to 49999\n",
      "Data columns (total 11 columns):\n",
      " #   Column              Non-Null Count  Dtype  \n",
      "---  ------              --------------  -----  \n",
      " 0   Year_Type           50000 non-null  object \n",
      " 1   Year                50000 non-null  int64  \n",
      " 2   Salaries            50000 non-null  float64\n",
      " 3   Overtime            50000 non-null  float64\n",
      " 4   Other_Salaries      50000 non-null  float64\n",
      " 5   Total_Salary        50000 non-null  float64\n",
      " 6   Retirement          50000 non-null  float64\n",
      " 7   Health/Dental       50000 non-null  float64\n",
      " 8   Other_Benefits      50000 non-null  float64\n",
      " 9   Total_Benefits      50000 non-null  float64\n",
      " 10  Total_Compensation  50000 non-null  float64\n",
      "dtypes: float64(9), int64(1), object(1)\n",
      "memory usage: 4.2+ MB\n"
     ]
    }
   ],
   "source": [
    "data.info()"
   ]
  },
  {
   "cell_type": "code",
   "execution_count": 7,
   "metadata": {
    "scrolled": true
   },
   "outputs": [
    {
     "name": "stdout",
     "output_type": "stream",
     "text": [
      "<class 'pandas.core.frame.DataFrame'>\n",
      "RangeIndex: 50000 entries, 0 to 49999\n",
      "Data columns (total 11 columns):\n",
      " #   Column              Non-Null Count  Dtype  \n",
      "---  ------              --------------  -----  \n",
      " 0   Year_Type           50000 non-null  object \n",
      " 1   Year                50000 non-null  object \n",
      " 2   Salaries            50000 non-null  float64\n",
      " 3   Overtime            50000 non-null  float64\n",
      " 4   Other_Salaries      50000 non-null  float64\n",
      " 5   Total_Salary        50000 non-null  float64\n",
      " 6   Retirement          50000 non-null  float64\n",
      " 7   Health/Dental       50000 non-null  float64\n",
      " 8   Other_Benefits      50000 non-null  float64\n",
      " 9   Total_Benefits      50000 non-null  float64\n",
      " 10  Total_Compensation  50000 non-null  float64\n",
      "dtypes: float64(9), object(2)\n",
      "memory usage: 4.2+ MB\n"
     ]
    }
   ],
   "source": [
    "data['Year'] = data['Year'].astype(object)\n",
    "data.info()"
   ]
  },
  {
   "cell_type": "code",
   "execution_count": 8,
   "metadata": {
    "scrolled": true
   },
   "outputs": [],
   "source": [
    "num_data = data.select_dtypes(include=np.number)\n",
    "cat_data = data.select_dtypes(exclude=np.number)"
   ]
  },
  {
   "cell_type": "code",
   "execution_count": 9,
   "metadata": {
    "scrolled": false
   },
   "outputs": [
    {
     "data": {
      "image/png": "[encoded data removed]",
      "text/plain": [
       "<Figure size 432x288 with 1 Axes>"
      ]
     },
     "metadata": {
      "needs_background": "light"
     },
     "output_type": "display_data"
    },
    {
     "data": {
      "image/png": "[encoded data removed]",
      "text/plain": [
       "<Figure size 432x288 with 1 Axes>"
      ]
     },
     "metadata": {
      "needs_background": "light"
     },
     "output_type": "display_data"
    },
    {
     "data": {
      "image/png": "[encoded data removed]",
      "text/plain": [
       "<Figure size 432x288 with 1 Axes>"
      ]
     },
     "metadata": {
      "needs_background": "light"
     },
     "output_type": "display_data"
    },
    {
     "data": {
      "image/png": "[encoded data removed]",
      "text/plain": [
       "<Figure size 432x288 with 1 Axes>"
      ]
     },
     "metadata": {
      "needs_background": "light"
     },
     "output_type": "display_data"
    },
    {
     "data": {
      "image/png": "[encoded data removed]",
      "text/plain": [
       "<Figure size 432x288 with 1 Axes>"
      ]
     },
     "metadata": {
      "needs_background": "light"
     },
     "output_type": "display_data"
    },
    {
     "data": {
      "image/png": "[encoded data removed]",
      "text/plain": [
       "<Figure size 432x288 with 1 Axes>"
      ]
     },
     "metadata": {
      "needs_background": "light"
     },
     "output_type": "display_data"
    },
    {
     "data": {
      "image/png": "[encoded data removed]",
      "text/plain": [
       "<Figure size 432x288 with 1 Axes>"
      ]
     },
     "metadata": {
      "needs_background": "light"
     },
     "output_type": "display_data"
    },
    {
     "data": {
      "image/png": "[encoded data removed]",
      "text/plain": [
       "<Figure size 432x288 with 1 Axes>"
      ]
     },
     "metadata": {
      "needs_background": "light"
     },
     "output_type": "display_data"
    },
    {
     "data": {
      "image/png": "[encoded data removed]",
      "text/plain": [
       "<Figure size 432x288 with 1 Axes>"
      ]
     },
     "metadata": {
      "needs_background": "light"
     },
     "output_type": "display_data"
    }
   ],
   "source": [
    "for i in num_data.columns:\n",
    "    sns.boxplot(num_data[i])\n",
    "    plt.show()"
   ]
  },
  {
   "cell_type": "code",
   "execution_count": 10,
   "metadata": {
    "scrolled": true
   },
   "outputs": [],
   "source": [
    "q1 = num_data.quantile(0.25)\n",
    "q3 = num_data.quantile(0.75)\n",
    "iqr = q3 - q1\n",
    "ub = q3 + 1.5*iqr\n",
    "lb = q1 - 1.5*iqr"
   ]
  },
  {
   "cell_type": "code",
   "execution_count": 11,
   "metadata": {
    "scrolled": true
   },
   "outputs": [
    {
     "data": {
      "text/plain": [
       "(37721, 11)"
      ]
     },
     "execution_count": 11,
     "metadata": {},
     "output_type": "execute_result"
    }
   ],
   "source": [
    "data1 = data[~((num_data < lb) | (num_data > ub)).any(axis=1)]\n",
    "data1.shape"
   ]
  },
  {
   "cell_type": "code",
   "execution_count": 12,
   "metadata": {
    "scrolled": true
   },
   "outputs": [],
   "source": [
    "data1 = data1.reset_index(drop=True)"
   ]
  },
  {
   "cell_type": "code",
   "execution_count": 13,
   "metadata": {
    "scrolled": true
   },
   "outputs": [],
   "source": [
    "data1 = pd.get_dummies(data1,columns=['Year','Year_Type'],drop_first=True)"
   ]
  },
  {
   "cell_type": "code",
   "execution_count": 14,
   "metadata": {},
   "outputs": [
    {
     "data": {
      "text/html": [
       "<div>\n",
       "<style scoped>\n",
       "    .dataframe tbody tr th:only-of-type {\n",
       "        vertical-align: middle;\n",
       "    }\n",
       "\n",
       "    .dataframe tbody tr th {\n",
       "        vertical-align: top;\n",
       "    }\n",
       "\n",
       "    .dataframe thead th {\n",
       "        text-align: right;\n",
       "    }\n",
       "</style>\n",
       "<table border=\"1\" class=\"dataframe\">\n",
       "  <thead>\n",
       "    <tr style=\"text-align: right;\">\n",
       "      <th></th>\n",
       "      <th>Salaries</th>\n",
       "      <th>Overtime</th>\n",
       "      <th>Other_Salaries</th>\n",
       "      <th>Total_Salary</th>\n",
       "      <th>Retirement</th>\n",
       "      <th>Health/Dental</th>\n",
       "      <th>Other_Benefits</th>\n",
       "      <th>Total_Benefits</th>\n",
       "      <th>Total_Compensation</th>\n",
       "      <th>Year_2014</th>\n",
       "      <th>Year_2015</th>\n",
       "      <th>Year_2016</th>\n",
       "      <th>Year_Type_Fiscal</th>\n",
       "    </tr>\n",
       "  </thead>\n",
       "  <tbody>\n",
       "    <tr>\n",
       "      <th>0</th>\n",
       "      <td>92288.22</td>\n",
       "      <td>267.45</td>\n",
       "      <td>267.45</td>\n",
       "      <td>92823.12</td>\n",
       "      <td>20700.20</td>\n",
       "      <td>12500.56</td>\n",
       "      <td>7605.75</td>\n",
       "      <td>40806.51</td>\n",
       "      <td>133629.63</td>\n",
       "      <td>0</td>\n",
       "      <td>1</td>\n",
       "      <td>0</td>\n",
       "      <td>1</td>\n",
       "    </tr>\n",
       "    <tr>\n",
       "      <th>1</th>\n",
       "      <td>1466.38</td>\n",
       "      <td>348.23</td>\n",
       "      <td>0.00</td>\n",
       "      <td>1814.61</td>\n",
       "      <td>0.00</td>\n",
       "      <td>442.03</td>\n",
       "      <td>141.59</td>\n",
       "      <td>583.62</td>\n",
       "      <td>2398.23</td>\n",
       "      <td>0</td>\n",
       "      <td>1</td>\n",
       "      <td>0</td>\n",
       "      <td>0</td>\n",
       "    </tr>\n",
       "    <tr>\n",
       "      <th>2</th>\n",
       "      <td>45659.88</td>\n",
       "      <td>0.00</td>\n",
       "      <td>1625.37</td>\n",
       "      <td>47285.25</td>\n",
       "      <td>10081.20</td>\n",
       "      <td>0.00</td>\n",
       "      <td>3936.63</td>\n",
       "      <td>14017.83</td>\n",
       "      <td>61303.08</td>\n",
       "      <td>1</td>\n",
       "      <td>0</td>\n",
       "      <td>0</td>\n",
       "      <td>1</td>\n",
       "    </tr>\n",
       "    <tr>\n",
       "      <th>3</th>\n",
       "      <td>41832.00</td>\n",
       "      <td>0.00</td>\n",
       "      <td>0.00</td>\n",
       "      <td>41832.00</td>\n",
       "      <td>7617.60</td>\n",
       "      <td>5908.52</td>\n",
       "      <td>3254.50</td>\n",
       "      <td>16780.62</td>\n",
       "      <td>58612.62</td>\n",
       "      <td>0</td>\n",
       "      <td>0</td>\n",
       "      <td>0</td>\n",
       "      <td>1</td>\n",
       "    </tr>\n",
       "    <tr>\n",
       "      <th>4</th>\n",
       "      <td>74132.00</td>\n",
       "      <td>0.00</td>\n",
       "      <td>1443.42</td>\n",
       "      <td>75575.42</td>\n",
       "      <td>14851.23</td>\n",
       "      <td>12888.34</td>\n",
       "      <td>6233.85</td>\n",
       "      <td>33973.42</td>\n",
       "      <td>109548.84</td>\n",
       "      <td>0</td>\n",
       "      <td>0</td>\n",
       "      <td>0</td>\n",
       "      <td>0</td>\n",
       "    </tr>\n",
       "    <tr>\n",
       "      <th>...</th>\n",
       "      <td>...</td>\n",
       "      <td>...</td>\n",
       "      <td>...</td>\n",
       "      <td>...</td>\n",
       "      <td>...</td>\n",
       "      <td>...</td>\n",
       "      <td>...</td>\n",
       "      <td>...</td>\n",
       "      <td>...</td>\n",
       "      <td>...</td>\n",
       "      <td>...</td>\n",
       "      <td>...</td>\n",
       "      <td>...</td>\n",
       "    </tr>\n",
       "    <tr>\n",
       "      <th>37716</th>\n",
       "      <td>10663.05</td>\n",
       "      <td>0.00</td>\n",
       "      <td>65.93</td>\n",
       "      <td>10728.98</td>\n",
       "      <td>0.00</td>\n",
       "      <td>3152.42</td>\n",
       "      <td>879.17</td>\n",
       "      <td>4031.59</td>\n",
       "      <td>14760.57</td>\n",
       "      <td>0</td>\n",
       "      <td>1</td>\n",
       "      <td>0</td>\n",
       "      <td>0</td>\n",
       "    </tr>\n",
       "    <tr>\n",
       "      <th>37717</th>\n",
       "      <td>1787.41</td>\n",
       "      <td>0.00</td>\n",
       "      <td>0.00</td>\n",
       "      <td>1787.41</td>\n",
       "      <td>0.00</td>\n",
       "      <td>563.31</td>\n",
       "      <td>145.36</td>\n",
       "      <td>708.67</td>\n",
       "      <td>2496.08</td>\n",
       "      <td>1</td>\n",
       "      <td>0</td>\n",
       "      <td>0</td>\n",
       "      <td>1</td>\n",
       "    </tr>\n",
       "    <tr>\n",
       "      <th>37718</th>\n",
       "      <td>36552.83</td>\n",
       "      <td>0.00</td>\n",
       "      <td>0.00</td>\n",
       "      <td>36552.83</td>\n",
       "      <td>6802.48</td>\n",
       "      <td>6855.83</td>\n",
       "      <td>3071.63</td>\n",
       "      <td>16729.94</td>\n",
       "      <td>53282.77</td>\n",
       "      <td>0</td>\n",
       "      <td>0</td>\n",
       "      <td>1</td>\n",
       "      <td>1</td>\n",
       "    </tr>\n",
       "    <tr>\n",
       "      <th>37719</th>\n",
       "      <td>46995.30</td>\n",
       "      <td>0.00</td>\n",
       "      <td>10943.14</td>\n",
       "      <td>57938.44</td>\n",
       "      <td>8840.98</td>\n",
       "      <td>10624.64</td>\n",
       "      <td>4706.37</td>\n",
       "      <td>24171.99</td>\n",
       "      <td>82110.43</td>\n",
       "      <td>0</td>\n",
       "      <td>0</td>\n",
       "      <td>1</td>\n",
       "      <td>1</td>\n",
       "    </tr>\n",
       "    <tr>\n",
       "      <th>37720</th>\n",
       "      <td>69268.81</td>\n",
       "      <td>0.00</td>\n",
       "      <td>1648.09</td>\n",
       "      <td>70916.90</td>\n",
       "      <td>15119.46</td>\n",
       "      <td>12464.61</td>\n",
       "      <td>5853.52</td>\n",
       "      <td>33437.59</td>\n",
       "      <td>104354.49</td>\n",
       "      <td>1</td>\n",
       "      <td>0</td>\n",
       "      <td>0</td>\n",
       "      <td>1</td>\n",
       "    </tr>\n",
       "  </tbody>\n",
       "</table>\n",
       "<p>37721 rows × 13 columns</p>\n",
       "</div>"
      ],
      "text/plain": [
       "       Salaries  Overtime  Other_Salaries  Total_Salary  Retirement  \\\n",
       "0      92288.22    267.45          267.45      92823.12    20700.20   \n",
       "1       1466.38    348.23            0.00       1814.61        0.00   \n",
       "2      45659.88      0.00         1625.37      47285.25    10081.20   \n",
       "3      41832.00      0.00            0.00      41832.00     7617.60   \n",
       "4      74132.00      0.00         1443.42      75575.42    14851.23   \n",
       "...         ...       ...             ...           ...         ...   \n",
       "37716  10663.05      0.00           65.93      10728.98        0.00   \n",
       "37717   1787.41      0.00            0.00       1787.41        0.00   \n",
       "37718  36552.83      0.00            0.00      36552.83     6802.48   \n",
       "37719  46995.30      0.00        10943.14      57938.44     8840.98   \n",
       "37720  69268.81      0.00         1648.09      70916.90    15119.46   \n",
       "\n",
       "       Health/Dental  Other_Benefits  Total_Benefits  Total_Compensation  \\\n",
       "0           12500.56         7605.75        40806.51           133629.63   \n",
       "1             442.03          141.59          583.62             2398.23   \n",
       "2               0.00         3936.63        14017.83            61303.08   \n",
       "3            5908.52         3254.50        16780.62            58612.62   \n",
       "4           12888.34         6233.85        33973.42           109548.84   \n",
       "...              ...             ...             ...                 ...   \n",
       "37716        3152.42          879.17         4031.59            14760.57   \n",
       "37717         563.31          145.36          708.67             2496.08   \n",
       "37718        6855.83         3071.63        16729.94            53282.77   \n",
       "37719       10624.64         4706.37        24171.99            82110.43   \n",
       "37720       12464.61         5853.52        33437.59           104354.49   \n",
       "\n",
       "       Year_2014  Year_2015  Year_2016  Year_Type_Fiscal  \n",
       "0              0          1          0                 1  \n",
       "1              0          1          0                 0  \n",
       "2              1          0          0                 1  \n",
       "3              0          0          0                 1  \n",
       "4              0          0          0                 0  \n",
       "...          ...        ...        ...               ...  \n",
       "37716          0          1          0                 0  \n",
       "37717          1          0          0                 1  \n",
       "37718          0          0          1                 1  \n",
       "37719          0          0          1                 1  \n",
       "37720          1          0          0                 1  \n",
       "\n",
       "[37721 rows x 13 columns]"
      ]
     },
     "execution_count": 14,
     "metadata": {},
     "output_type": "execute_result"
    }
   ],
   "source": [
    "data1"
   ]
  },
  {
   "cell_type": "code",
   "execution_count": 15,
   "metadata": {
    "scrolled": true
   },
   "outputs": [],
   "source": [
    "from sklearn.preprocessing import StandardScaler"
   ]
  },
  {
   "cell_type": "code",
   "execution_count": 16,
   "metadata": {
    "scrolled": true
   },
   "outputs": [
    {
     "data": {
      "text/plain": [
       "array([[ 0.98350096, -0.22809363, -0.47492541, ...,  1.14533041,\n",
       "         1.16093731,  1.00174074],\n",
       "       [-1.25228245, -0.16755409, -0.58728422, ..., -1.25998702,\n",
       "        -1.36520904, -1.30448913],\n",
       "       [-0.16436027, -0.42853062,  0.09555236, ..., -0.03703952,\n",
       "        -0.52149093, -0.2693091 ],\n",
       "       ...,\n",
       "       [-0.38855074, -0.42853062, -0.58728422, ..., -0.31578482,\n",
       "        -0.35116039, -0.41025615],\n",
       "       [-0.13148591, -0.42853062,  4.01005444, ...,  0.21100836,\n",
       "         0.11622789,  0.09635439],\n",
       "       [ 0.41682653, -0.42853062,  0.10509729, ...,  0.5806762 ,\n",
       "         0.69814187,  0.48726629]])"
      ]
     },
     "execution_count": 16,
     "metadata": {},
     "output_type": "execute_result"
    }
   ],
   "source": [
    "sc = StandardScaler()\n",
    "data_sc = sc.fit_transform(data1.iloc[:,:-4])\n",
    "data_sc"
   ]
  },
  {
   "cell_type": "code",
   "execution_count": 17,
   "metadata": {},
   "outputs": [
    {
     "data": {
      "text/html": [
       "<div>\n",
       "<style scoped>\n",
       "    .dataframe tbody tr th:only-of-type {\n",
       "        vertical-align: middle;\n",
       "    }\n",
       "\n",
       "    .dataframe tbody tr th {\n",
       "        vertical-align: top;\n",
       "    }\n",
       "\n",
       "    .dataframe thead th {\n",
       "        text-align: right;\n",
       "    }\n",
       "</style>\n",
       "<table border=\"1\" class=\"dataframe\">\n",
       "  <thead>\n",
       "    <tr style=\"text-align: right;\">\n",
       "      <th></th>\n",
       "      <th>Salaries</th>\n",
       "      <th>Overtime</th>\n",
       "      <th>Other_Salaries</th>\n",
       "      <th>Total_Salary</th>\n",
       "      <th>Retirement</th>\n",
       "      <th>Health/Dental</th>\n",
       "      <th>Other_Benefits</th>\n",
       "      <th>Total_Benefits</th>\n",
       "      <th>Total_Compensation</th>\n",
       "    </tr>\n",
       "  </thead>\n",
       "  <tbody>\n",
       "    <tr>\n",
       "      <th>0</th>\n",
       "      <td>0.983501</td>\n",
       "      <td>-0.228094</td>\n",
       "      <td>-0.474925</td>\n",
       "      <td>0.926924</td>\n",
       "      <td>1.178509</td>\n",
       "      <td>0.916577</td>\n",
       "      <td>1.145330</td>\n",
       "      <td>1.160937</td>\n",
       "      <td>1.001741</td>\n",
       "    </tr>\n",
       "    <tr>\n",
       "      <th>1</th>\n",
       "      <td>-1.252282</td>\n",
       "      <td>-0.167554</td>\n",
       "      <td>-0.587284</td>\n",
       "      <td>-1.263232</td>\n",
       "      <td>-1.180545</td>\n",
       "      <td>-1.491481</td>\n",
       "      <td>-1.259987</td>\n",
       "      <td>-1.365209</td>\n",
       "      <td>-1.304489</td>\n",
       "    </tr>\n",
       "    <tr>\n",
       "      <th>2</th>\n",
       "      <td>-0.164360</td>\n",
       "      <td>-0.428531</td>\n",
       "      <td>0.095552</td>\n",
       "      <td>-0.168963</td>\n",
       "      <td>-0.031662</td>\n",
       "      <td>-1.579754</td>\n",
       "      <td>-0.037040</td>\n",
       "      <td>-0.521491</td>\n",
       "      <td>-0.269309</td>\n",
       "    </tr>\n",
       "    <tr>\n",
       "      <th>3</th>\n",
       "      <td>-0.258592</td>\n",
       "      <td>-0.428531</td>\n",
       "      <td>-0.587284</td>\n",
       "      <td>-0.300198</td>\n",
       "      <td>-0.312421</td>\n",
       "      <td>-0.399837</td>\n",
       "      <td>-0.256855</td>\n",
       "      <td>-0.347977</td>\n",
       "      <td>-0.316591</td>\n",
       "    </tr>\n",
       "    <tr>\n",
       "      <th>4</th>\n",
       "      <td>0.536545</td>\n",
       "      <td>-0.428531</td>\n",
       "      <td>0.019113</td>\n",
       "      <td>0.511851</td>\n",
       "      <td>0.511944</td>\n",
       "      <td>0.994015</td>\n",
       "      <td>0.703237</td>\n",
       "      <td>0.731794</td>\n",
       "      <td>0.578551</td>\n",
       "    </tr>\n",
       "    <tr>\n",
       "      <th>...</th>\n",
       "      <td>...</td>\n",
       "      <td>...</td>\n",
       "      <td>...</td>\n",
       "      <td>...</td>\n",
       "      <td>...</td>\n",
       "      <td>...</td>\n",
       "      <td>...</td>\n",
       "      <td>...</td>\n",
       "      <td>...</td>\n",
       "    </tr>\n",
       "    <tr>\n",
       "      <th>37716</th>\n",
       "      <td>-1.025886</td>\n",
       "      <td>-0.428531</td>\n",
       "      <td>-0.559586</td>\n",
       "      <td>-1.048704</td>\n",
       "      <td>-1.180545</td>\n",
       "      <td>-0.950223</td>\n",
       "      <td>-1.022303</td>\n",
       "      <td>-1.148664</td>\n",
       "      <td>-1.087236</td>\n",
       "    </tr>\n",
       "    <tr>\n",
       "      <th>37717</th>\n",
       "      <td>-1.244380</td>\n",
       "      <td>-0.428531</td>\n",
       "      <td>-0.587284</td>\n",
       "      <td>-1.263887</td>\n",
       "      <td>-1.180545</td>\n",
       "      <td>-1.467262</td>\n",
       "      <td>-1.258772</td>\n",
       "      <td>-1.357355</td>\n",
       "      <td>-1.302770</td>\n",
       "    </tr>\n",
       "    <tr>\n",
       "      <th>37718</th>\n",
       "      <td>-0.388551</td>\n",
       "      <td>-0.428531</td>\n",
       "      <td>-0.587284</td>\n",
       "      <td>-0.427243</td>\n",
       "      <td>-0.405315</td>\n",
       "      <td>-0.210662</td>\n",
       "      <td>-0.315785</td>\n",
       "      <td>-0.351160</td>\n",
       "      <td>-0.410256</td>\n",
       "    </tr>\n",
       "    <tr>\n",
       "      <th>37719</th>\n",
       "      <td>-0.131486</td>\n",
       "      <td>-0.428531</td>\n",
       "      <td>4.010054</td>\n",
       "      <td>0.087410</td>\n",
       "      <td>-0.173001</td>\n",
       "      <td>0.541960</td>\n",
       "      <td>0.211008</td>\n",
       "      <td>0.116228</td>\n",
       "      <td>0.096354</td>\n",
       "    </tr>\n",
       "    <tr>\n",
       "      <th>37720</th>\n",
       "      <td>0.416827</td>\n",
       "      <td>-0.428531</td>\n",
       "      <td>0.105097</td>\n",
       "      <td>0.399742</td>\n",
       "      <td>0.542512</td>\n",
       "      <td>0.909398</td>\n",
       "      <td>0.580676</td>\n",
       "      <td>0.698142</td>\n",
       "      <td>0.487266</td>\n",
       "    </tr>\n",
       "  </tbody>\n",
       "</table>\n",
       "<p>37721 rows × 9 columns</p>\n",
       "</div>"
      ],
      "text/plain": [
       "       Salaries  Overtime  Other_Salaries  Total_Salary  Retirement  \\\n",
       "0      0.983501 -0.228094       -0.474925      0.926924    1.178509   \n",
       "1     -1.252282 -0.167554       -0.587284     -1.263232   -1.180545   \n",
       "2     -0.164360 -0.428531        0.095552     -0.168963   -0.031662   \n",
       "3     -0.258592 -0.428531       -0.587284     -0.300198   -0.312421   \n",
       "4      0.536545 -0.428531        0.019113      0.511851    0.511944   \n",
       "...         ...       ...             ...           ...         ...   \n",
       "37716 -1.025886 -0.428531       -0.559586     -1.048704   -1.180545   \n",
       "37717 -1.244380 -0.428531       -0.587284     -1.263887   -1.180545   \n",
       "37718 -0.388551 -0.428531       -0.587284     -0.427243   -0.405315   \n",
       "37719 -0.131486 -0.428531        4.010054      0.087410   -0.173001   \n",
       "37720  0.416827 -0.428531        0.105097      0.399742    0.542512   \n",
       "\n",
       "       Health/Dental  Other_Benefits  Total_Benefits  Total_Compensation  \n",
       "0           0.916577        1.145330        1.160937            1.001741  \n",
       "1          -1.491481       -1.259987       -1.365209           -1.304489  \n",
       "2          -1.579754       -0.037040       -0.521491           -0.269309  \n",
       "3          -0.399837       -0.256855       -0.347977           -0.316591  \n",
       "4           0.994015        0.703237        0.731794            0.578551  \n",
       "...              ...             ...             ...                 ...  \n",
       "37716      -0.950223       -1.022303       -1.148664           -1.087236  \n",
       "37717      -1.467262       -1.258772       -1.357355           -1.302770  \n",
       "37718      -0.210662       -0.315785       -0.351160           -0.410256  \n",
       "37719       0.541960        0.211008        0.116228            0.096354  \n",
       "37720       0.909398        0.580676        0.698142            0.487266  \n",
       "\n",
       "[37721 rows x 9 columns]"
      ]
     },
     "execution_count": 17,
     "metadata": {},
     "output_type": "execute_result"
    }
   ],
   "source": [
    "data_sc = pd.DataFrame(data_sc,columns = data1.iloc[:,:-4].columns)\n",
    "data_sc"
   ]
  },
  {
   "cell_type": "code",
   "execution_count": 18,
   "metadata": {},
   "outputs": [
    {
     "data": {
      "text/html": [
       "<div>\n",
       "<style scoped>\n",
       "    .dataframe tbody tr th:only-of-type {\n",
       "        vertical-align: middle;\n",
       "    }\n",
       "\n",
       "    .dataframe tbody tr th {\n",
       "        vertical-align: top;\n",
       "    }\n",
       "\n",
       "    .dataframe thead th {\n",
       "        text-align: right;\n",
       "    }\n",
       "</style>\n",
       "<table border=\"1\" class=\"dataframe\">\n",
       "  <thead>\n",
       "    <tr style=\"text-align: right;\">\n",
       "      <th></th>\n",
       "      <th>Salaries</th>\n",
       "      <th>Overtime</th>\n",
       "      <th>Other_Salaries</th>\n",
       "      <th>Total_Salary</th>\n",
       "      <th>Retirement</th>\n",
       "      <th>Health/Dental</th>\n",
       "      <th>Other_Benefits</th>\n",
       "      <th>Total_Benefits</th>\n",
       "      <th>Total_Compensation</th>\n",
       "      <th>Year_2014</th>\n",
       "      <th>Year_2015</th>\n",
       "      <th>Year_2016</th>\n",
       "      <th>Year_Type_Fiscal</th>\n",
       "    </tr>\n",
       "  </thead>\n",
       "  <tbody>\n",
       "    <tr>\n",
       "      <th>0</th>\n",
       "      <td>0.983501</td>\n",
       "      <td>-0.228094</td>\n",
       "      <td>-0.474925</td>\n",
       "      <td>0.926924</td>\n",
       "      <td>1.178509</td>\n",
       "      <td>0.916577</td>\n",
       "      <td>1.145330</td>\n",
       "      <td>1.160937</td>\n",
       "      <td>1.001741</td>\n",
       "      <td>0</td>\n",
       "      <td>1</td>\n",
       "      <td>0</td>\n",
       "      <td>1</td>\n",
       "    </tr>\n",
       "    <tr>\n",
       "      <th>1</th>\n",
       "      <td>-1.252282</td>\n",
       "      <td>-0.167554</td>\n",
       "      <td>-0.587284</td>\n",
       "      <td>-1.263232</td>\n",
       "      <td>-1.180545</td>\n",
       "      <td>-1.491481</td>\n",
       "      <td>-1.259987</td>\n",
       "      <td>-1.365209</td>\n",
       "      <td>-1.304489</td>\n",
       "      <td>0</td>\n",
       "      <td>1</td>\n",
       "      <td>0</td>\n",
       "      <td>0</td>\n",
       "    </tr>\n",
       "    <tr>\n",
       "      <th>2</th>\n",
       "      <td>-0.164360</td>\n",
       "      <td>-0.428531</td>\n",
       "      <td>0.095552</td>\n",
       "      <td>-0.168963</td>\n",
       "      <td>-0.031662</td>\n",
       "      <td>-1.579754</td>\n",
       "      <td>-0.037040</td>\n",
       "      <td>-0.521491</td>\n",
       "      <td>-0.269309</td>\n",
       "      <td>1</td>\n",
       "      <td>0</td>\n",
       "      <td>0</td>\n",
       "      <td>1</td>\n",
       "    </tr>\n",
       "    <tr>\n",
       "      <th>3</th>\n",
       "      <td>-0.258592</td>\n",
       "      <td>-0.428531</td>\n",
       "      <td>-0.587284</td>\n",
       "      <td>-0.300198</td>\n",
       "      <td>-0.312421</td>\n",
       "      <td>-0.399837</td>\n",
       "      <td>-0.256855</td>\n",
       "      <td>-0.347977</td>\n",
       "      <td>-0.316591</td>\n",
       "      <td>0</td>\n",
       "      <td>0</td>\n",
       "      <td>0</td>\n",
       "      <td>1</td>\n",
       "    </tr>\n",
       "    <tr>\n",
       "      <th>4</th>\n",
       "      <td>0.536545</td>\n",
       "      <td>-0.428531</td>\n",
       "      <td>0.019113</td>\n",
       "      <td>0.511851</td>\n",
       "      <td>0.511944</td>\n",
       "      <td>0.994015</td>\n",
       "      <td>0.703237</td>\n",
       "      <td>0.731794</td>\n",
       "      <td>0.578551</td>\n",
       "      <td>0</td>\n",
       "      <td>0</td>\n",
       "      <td>0</td>\n",
       "      <td>0</td>\n",
       "    </tr>\n",
       "    <tr>\n",
       "      <th>...</th>\n",
       "      <td>...</td>\n",
       "      <td>...</td>\n",
       "      <td>...</td>\n",
       "      <td>...</td>\n",
       "      <td>...</td>\n",
       "      <td>...</td>\n",
       "      <td>...</td>\n",
       "      <td>...</td>\n",
       "      <td>...</td>\n",
       "      <td>...</td>\n",
       "      <td>...</td>\n",
       "      <td>...</td>\n",
       "      <td>...</td>\n",
       "    </tr>\n",
       "    <tr>\n",
       "      <th>37716</th>\n",
       "      <td>-1.025886</td>\n",
       "      <td>-0.428531</td>\n",
       "      <td>-0.559586</td>\n",
       "      <td>-1.048704</td>\n",
       "      <td>-1.180545</td>\n",
       "      <td>-0.950223</td>\n",
       "      <td>-1.022303</td>\n",
       "      <td>-1.148664</td>\n",
       "      <td>-1.087236</td>\n",
       "      <td>0</td>\n",
       "      <td>1</td>\n",
       "      <td>0</td>\n",
       "      <td>0</td>\n",
       "    </tr>\n",
       "    <tr>\n",
       "      <th>37717</th>\n",
       "      <td>-1.244380</td>\n",
       "      <td>-0.428531</td>\n",
       "      <td>-0.587284</td>\n",
       "      <td>-1.263887</td>\n",
       "      <td>-1.180545</td>\n",
       "      <td>-1.467262</td>\n",
       "      <td>-1.258772</td>\n",
       "      <td>-1.357355</td>\n",
       "      <td>-1.302770</td>\n",
       "      <td>1</td>\n",
       "      <td>0</td>\n",
       "      <td>0</td>\n",
       "      <td>1</td>\n",
       "    </tr>\n",
       "    <tr>\n",
       "      <th>37718</th>\n",
       "      <td>-0.388551</td>\n",
       "      <td>-0.428531</td>\n",
       "      <td>-0.587284</td>\n",
       "      <td>-0.427243</td>\n",
       "      <td>-0.405315</td>\n",
       "      <td>-0.210662</td>\n",
       "      <td>-0.315785</td>\n",
       "      <td>-0.351160</td>\n",
       "      <td>-0.410256</td>\n",
       "      <td>0</td>\n",
       "      <td>0</td>\n",
       "      <td>1</td>\n",
       "      <td>1</td>\n",
       "    </tr>\n",
       "    <tr>\n",
       "      <th>37719</th>\n",
       "      <td>-0.131486</td>\n",
       "      <td>-0.428531</td>\n",
       "      <td>4.010054</td>\n",
       "      <td>0.087410</td>\n",
       "      <td>-0.173001</td>\n",
       "      <td>0.541960</td>\n",
       "      <td>0.211008</td>\n",
       "      <td>0.116228</td>\n",
       "      <td>0.096354</td>\n",
       "      <td>0</td>\n",
       "      <td>0</td>\n",
       "      <td>1</td>\n",
       "      <td>1</td>\n",
       "    </tr>\n",
       "    <tr>\n",
       "      <th>37720</th>\n",
       "      <td>0.416827</td>\n",
       "      <td>-0.428531</td>\n",
       "      <td>0.105097</td>\n",
       "      <td>0.399742</td>\n",
       "      <td>0.542512</td>\n",
       "      <td>0.909398</td>\n",
       "      <td>0.580676</td>\n",
       "      <td>0.698142</td>\n",
       "      <td>0.487266</td>\n",
       "      <td>1</td>\n",
       "      <td>0</td>\n",
       "      <td>0</td>\n",
       "      <td>1</td>\n",
       "    </tr>\n",
       "  </tbody>\n",
       "</table>\n",
       "<p>37721 rows × 13 columns</p>\n",
       "</div>"
      ],
      "text/plain": [
       "       Salaries  Overtime  Other_Salaries  Total_Salary  Retirement  \\\n",
       "0      0.983501 -0.228094       -0.474925      0.926924    1.178509   \n",
       "1     -1.252282 -0.167554       -0.587284     -1.263232   -1.180545   \n",
       "2     -0.164360 -0.428531        0.095552     -0.168963   -0.031662   \n",
       "3     -0.258592 -0.428531       -0.587284     -0.300198   -0.312421   \n",
       "4      0.536545 -0.428531        0.019113      0.511851    0.511944   \n",
       "...         ...       ...             ...           ...         ...   \n",
       "37716 -1.025886 -0.428531       -0.559586     -1.048704   -1.180545   \n",
       "37717 -1.244380 -0.428531       -0.587284     -1.263887   -1.180545   \n",
       "37718 -0.388551 -0.428531       -0.587284     -0.427243   -0.405315   \n",
       "37719 -0.131486 -0.428531        4.010054      0.087410   -0.173001   \n",
       "37720  0.416827 -0.428531        0.105097      0.399742    0.542512   \n",
       "\n",
       "       Health/Dental  Other_Benefits  Total_Benefits  Total_Compensation  \\\n",
       "0           0.916577        1.145330        1.160937            1.001741   \n",
       "1          -1.491481       -1.259987       -1.365209           -1.304489   \n",
       "2          -1.579754       -0.037040       -0.521491           -0.269309   \n",
       "3          -0.399837       -0.256855       -0.347977           -0.316591   \n",
       "4           0.994015        0.703237        0.731794            0.578551   \n",
       "...              ...             ...             ...                 ...   \n",
       "37716      -0.950223       -1.022303       -1.148664           -1.087236   \n",
       "37717      -1.467262       -1.258772       -1.357355           -1.302770   \n",
       "37718      -0.210662       -0.315785       -0.351160           -0.410256   \n",
       "37719       0.541960        0.211008        0.116228            0.096354   \n",
       "37720       0.909398        0.580676        0.698142            0.487266   \n",
       "\n",
       "       Year_2014  Year_2015  Year_2016  Year_Type_Fiscal  \n",
       "0              0          1          0                 1  \n",
       "1              0          1          0                 0  \n",
       "2              1          0          0                 1  \n",
       "3              0          0          0                 1  \n",
       "4              0          0          0                 0  \n",
       "...          ...        ...        ...               ...  \n",
       "37716          0          1          0                 0  \n",
       "37717          1          0          0                 1  \n",
       "37718          0          0          1                 1  \n",
       "37719          0          0          1                 1  \n",
       "37720          1          0          0                 1  \n",
       "\n",
       "[37721 rows x 13 columns]"
      ]
     },
     "execution_count": 18,
     "metadata": {},
     "output_type": "execute_result"
    }
   ],
   "source": [
    "data_final = pd.concat([data_sc,data1.iloc[:,-4:]],axis=1)\n",
    "data_final"
   ]
  },
  {
   "cell_type": "code",
   "execution_count": 19,
   "metadata": {},
   "outputs": [
    {
     "data": {
      "text/plain": [
       "Salaries              0\n",
       "Overtime              0\n",
       "Other_Salaries        0\n",
       "Total_Salary          0\n",
       "Retirement            0\n",
       "Health/Dental         0\n",
       "Other_Benefits        0\n",
       "Total_Benefits        0\n",
       "Total_Compensation    0\n",
       "Year_2014             0\n",
       "Year_2015             0\n",
       "Year_2016             0\n",
       "Year_Type_Fiscal      0\n",
       "dtype: int64"
      ]
     },
     "execution_count": 19,
     "metadata": {},
     "output_type": "execute_result"
    }
   ],
   "source": [
    "data_final.isnull().sum()"
   ]
  },
  {
   "cell_type": "code",
   "execution_count": 20,
   "metadata": {},
   "outputs": [],
   "source": [
    "import statsmodels.api as sm"
   ]
  },
  {
   "cell_type": "code",
   "execution_count": 21,
   "metadata": {},
   "outputs": [
    {
     "data": {
      "text/html": [
       "<table class=\"simpletable\">\n",
       "<caption>OLS Regression Results</caption>\n",
       "<tr>\n",
       "  <th>Dep. Variable:</th>    <td>Total_Compensation</td> <th>  R-squared:         </th>  <td>   1.000</td>  \n",
       "</tr>\n",
       "<tr>\n",
       "  <th>Model:</th>                    <td>OLS</td>        <th>  Adj. R-squared:    </th>  <td>   1.000</td>  \n",
       "</tr>\n",
       "<tr>\n",
       "  <th>Method:</th>              <td>Least Squares</td>   <th>  F-statistic:       </th>  <td>5.955e+09</td> \n",
       "</tr>\n",
       "<tr>\n",
       "  <th>Date:</th>              <td>Sat, 03 Oct 2020</td>  <th>  Prob (F-statistic):</th>   <td>  0.00</td>   \n",
       "</tr>\n",
       "<tr>\n",
       "  <th>Time:</th>                  <td>17:41:40</td>      <th>  Log-Likelihood:    </th> <td>-1.9735e+05</td>\n",
       "</tr>\n",
       "<tr>\n",
       "  <th>No. Observations:</th>       <td> 37721</td>       <th>  AIC:               </th>  <td>3.947e+05</td> \n",
       "</tr>\n",
       "<tr>\n",
       "  <th>Df Residuals:</th>           <td> 37710</td>       <th>  BIC:               </th>  <td>3.948e+05</td> \n",
       "</tr>\n",
       "<tr>\n",
       "  <th>Df Model:</th>               <td>    10</td>       <th>                     </th>      <td> </td>     \n",
       "</tr>\n",
       "<tr>\n",
       "  <th>Covariance Type:</th>       <td>nonrobust</td>     <th>                     </th>      <td> </td>     \n",
       "</tr>\n",
       "</table>\n",
       "<table class=\"simpletable\">\n",
       "<tr>\n",
       "          <td></td>            <th>coef</th>     <th>std err</th>      <th>t</th>      <th>P>|t|</th>  <th>[0.025</th>    <th>0.975]</th>  \n",
       "</tr>\n",
       "<tr>\n",
       "  <th>const</th>            <td> 7.663e+04</td> <td>    0.517</td> <td> 1.48e+05</td> <td> 0.000</td> <td> 7.66e+04</td> <td> 7.66e+04</td>\n",
       "</tr>\n",
       "<tr>\n",
       "  <th>Salaries</th>         <td> 5.764e+04</td> <td> 3.56e+13</td> <td> 1.62e-09</td> <td> 1.000</td> <td>-6.98e+13</td> <td> 6.98e+13</td>\n",
       "</tr>\n",
       "<tr>\n",
       "  <th>Overtime</th>         <td> 1891.6875</td> <td> 1.17e+12</td> <td> 1.62e-09</td> <td> 1.000</td> <td>-2.29e+12</td> <td> 2.29e+12</td>\n",
       "</tr>\n",
       "<tr>\n",
       "  <th>Other_Salaries</th>   <td> 3375.1250</td> <td> 2.09e+12</td> <td> 1.62e-09</td> <td> 1.000</td> <td>-4.09e+12</td> <td> 4.09e+12</td>\n",
       "</tr>\n",
       "<tr>\n",
       "  <th>Total_Salary</th>     <td> -1.74e+04</td> <td> 3.65e+13</td> <td>-4.77e-10</td> <td> 1.000</td> <td>-7.14e+13</td> <td> 7.14e+13</td>\n",
       "</tr>\n",
       "<tr>\n",
       "  <th>Retirement</th>       <td>  3.99e+04</td> <td> 3.27e+13</td> <td> 1.22e-09</td> <td> 1.000</td> <td>-6.41e+13</td> <td> 6.41e+13</td>\n",
       "</tr>\n",
       "<tr>\n",
       "  <th>Health/Dental</th>    <td> 2.283e+04</td> <td> 1.87e+13</td> <td> 1.22e-09</td> <td> 1.000</td> <td>-3.66e+13</td> <td> 3.66e+13</td>\n",
       "</tr>\n",
       "<tr>\n",
       "  <th>Other_Benefits</th>   <td> 1.413e+04</td> <td> 1.16e+13</td> <td> 1.22e-09</td> <td> 1.000</td> <td>-2.27e+13</td> <td> 2.27e+13</td>\n",
       "</tr>\n",
       "<tr>\n",
       "  <th>Total_Benefits</th>   <td> -5.66e+04</td> <td> 5.93e+13</td> <td>-9.54e-10</td> <td> 1.000</td> <td>-1.16e+14</td> <td> 1.16e+14</td>\n",
       "</tr>\n",
       "<tr>\n",
       "  <th>Year_2014</th>        <td> 2.512e-11</td> <td>    0.637</td> <td> 3.94e-11</td> <td> 1.000</td> <td>   -1.249</td> <td>    1.249</td>\n",
       "</tr>\n",
       "<tr>\n",
       "  <th>Year_2015</th>        <td>-1.319e-11</td> <td>    0.636</td> <td>-2.07e-11</td> <td> 1.000</td> <td>   -1.246</td> <td>    1.246</td>\n",
       "</tr>\n",
       "<tr>\n",
       "  <th>Year_2016</th>        <td> -2.16e-12</td> <td>    0.791</td> <td>-2.73e-12</td> <td> 1.000</td> <td>   -1.550</td> <td>    1.550</td>\n",
       "</tr>\n",
       "<tr>\n",
       "  <th>Year_Type_Fiscal</th> <td> 3.979e-12</td> <td>    0.506</td> <td> 7.86e-12</td> <td> 1.000</td> <td>   -0.992</td> <td>    0.992</td>\n",
       "</tr>\n",
       "</table>\n",
       "<table class=\"simpletable\">\n",
       "<tr>\n",
       "  <th>Omnibus:</th>       <td>4744.753</td> <th>  Durbin-Watson:     </th> <td>   1.994</td>\n",
       "</tr>\n",
       "<tr>\n",
       "  <th>Prob(Omnibus):</th>  <td> 0.000</td>  <th>  Jarque-Bera (JB):  </th> <td>7224.288</td>\n",
       "</tr>\n",
       "<tr>\n",
       "  <th>Skew:</th>           <td> 0.914</td>  <th>  Prob(JB):          </th> <td>    0.00</td>\n",
       "</tr>\n",
       "<tr>\n",
       "  <th>Kurtosis:</th>       <td> 4.120</td>  <th>  Cond. No.          </th> <td>4.44e+15</td>\n",
       "</tr>\n",
       "</table><br/><br/>Warnings:<br/>[1] Standard Errors assume that the covariance matrix of the errors is correctly specified.<br/>[2] The smallest eigenvalue is 1.07e-26. This might indicate that there are<br/>strong multicollinearity problems or that the design matrix is singular."
      ],
      "text/plain": [
       "<class 'statsmodels.iolib.summary.Summary'>\n",
       "\"\"\"\n",
       "                            OLS Regression Results                            \n",
       "==============================================================================\n",
       "Dep. Variable:     Total_Compensation   R-squared:                       1.000\n",
       "Model:                            OLS   Adj. R-squared:                  1.000\n",
       "Method:                 Least Squares   F-statistic:                 5.955e+09\n",
       "Date:                Sat, 03 Oct 2020   Prob (F-statistic):               0.00\n",
       "Time:                        17:41:40   Log-Likelihood:            -1.9735e+05\n",
       "No. Observations:               37721   AIC:                         3.947e+05\n",
       "Df Residuals:                   37710   BIC:                         3.948e+05\n",
       "Df Model:                          10                                         \n",
       "Covariance Type:            nonrobust                                         \n",
       "====================================================================================\n",
       "                       coef    std err          t      P>|t|      [0.025      0.975]\n",
       "------------------------------------------------------------------------------------\n",
       "const             7.663e+04      0.517   1.48e+05      0.000    7.66e+04    7.66e+04\n",
       "Salaries          5.764e+04   3.56e+13   1.62e-09      1.000   -6.98e+13    6.98e+13\n",
       "Overtime          1891.6875   1.17e+12   1.62e-09      1.000   -2.29e+12    2.29e+12\n",
       "Other_Salaries    3375.1250   2.09e+12   1.62e-09      1.000   -4.09e+12    4.09e+12\n",
       "Total_Salary      -1.74e+04   3.65e+13  -4.77e-10      1.000   -7.14e+13    7.14e+13\n",
       "Retirement         3.99e+04   3.27e+13   1.22e-09      1.000   -6.41e+13    6.41e+13\n",
       "Health/Dental     2.283e+04   1.87e+13   1.22e-09      1.000   -3.66e+13    3.66e+13\n",
       "Other_Benefits    1.413e+04   1.16e+13   1.22e-09      1.000   -2.27e+13    2.27e+13\n",
       "Total_Benefits    -5.66e+04   5.93e+13  -9.54e-10      1.000   -1.16e+14    1.16e+14\n",
       "Year_2014         2.512e-11      0.637   3.94e-11      1.000      -1.249       1.249\n",
       "Year_2015        -1.319e-11      0.636  -2.07e-11      1.000      -1.246       1.246\n",
       "Year_2016         -2.16e-12      0.791  -2.73e-12      1.000      -1.550       1.550\n",
       "Year_Type_Fiscal  3.979e-12      0.506   7.86e-12      1.000      -0.992       0.992\n",
       "==============================================================================\n",
       "Omnibus:                     4744.753   Durbin-Watson:                   1.994\n",
       "Prob(Omnibus):                  0.000   Jarque-Bera (JB):             7224.288\n",
       "Skew:                           0.914   Prob(JB):                         0.00\n",
       "Kurtosis:                       4.120   Cond. No.                     4.44e+15\n",
       "==============================================================================\n",
       "\n",
       "Warnings:\n",
       "[1] Standard Errors assume that the covariance matrix of the errors is correctly specified.\n",
       "[2] The smallest eigenvalue is 1.07e-26. This might indicate that there are\n",
       "strong multicollinearity problems or that the design matrix is singular.\n",
       "\"\"\""
      ]
     },
     "execution_count": 21,
     "metadata": {},
     "output_type": "execute_result"
    }
   ],
   "source": [
    "inp = data_final.drop('Total_Compensation',1)\n",
    "out = data1['Total_Compensation']\n",
    "inpc = sm.add_constant(inp)\n",
    "ols = sm.OLS(out,inpc)\n",
    "ols_mod = ols.fit()\n",
    "ols_mod.summary()"
   ]
  },
  {
   "cell_type": "code",
   "execution_count": 22,
   "metadata": {},
   "outputs": [],
   "source": [
    "# Multicollinearity\n",
    "from statsmodels.stats.outliers_influence import variance_inflation_factor"
   ]
  },
  {
   "cell_type": "code",
   "execution_count": 23,
   "metadata": {},
   "outputs": [
    {
     "name": "stderr",
     "output_type": "stream",
     "text": [
      "D:\\Anaconda\\lib\\site-packages\\statsmodels\\stats\\outliers_influence.py:193: RuntimeWarning: divide by zero encountered in double_scalars\n",
      "  vif = 1. / (1. - r_squared_i)\n"
     ]
    },
    {
     "data": {
      "text/html": [
       "<div>\n",
       "<style scoped>\n",
       "    .dataframe tbody tr th:only-of-type {\n",
       "        vertical-align: middle;\n",
       "    }\n",
       "\n",
       "    .dataframe tbody tr th {\n",
       "        vertical-align: top;\n",
       "    }\n",
       "\n",
       "    .dataframe thead th {\n",
       "        text-align: right;\n",
       "    }\n",
       "</style>\n",
       "<table border=\"1\" class=\"dataframe\">\n",
       "  <thead>\n",
       "    <tr style=\"text-align: right;\">\n",
       "      <th></th>\n",
       "      <th>VIF</th>\n",
       "      <th>Feature</th>\n",
       "    </tr>\n",
       "  </thead>\n",
       "  <tbody>\n",
       "    <tr>\n",
       "      <th>0</th>\n",
       "      <td>inf</td>\n",
       "      <td>Salaries</td>\n",
       "    </tr>\n",
       "    <tr>\n",
       "      <th>1</th>\n",
       "      <td>inf</td>\n",
       "      <td>Overtime</td>\n",
       "    </tr>\n",
       "    <tr>\n",
       "      <th>2</th>\n",
       "      <td>inf</td>\n",
       "      <td>Other_Salaries</td>\n",
       "    </tr>\n",
       "    <tr>\n",
       "      <th>3</th>\n",
       "      <td>inf</td>\n",
       "      <td>Total_Salary</td>\n",
       "    </tr>\n",
       "    <tr>\n",
       "      <th>4</th>\n",
       "      <td>inf</td>\n",
       "      <td>Retirement</td>\n",
       "    </tr>\n",
       "    <tr>\n",
       "      <th>5</th>\n",
       "      <td>inf</td>\n",
       "      <td>Health/Dental</td>\n",
       "    </tr>\n",
       "    <tr>\n",
       "      <th>6</th>\n",
       "      <td>inf</td>\n",
       "      <td>Other_Benefits</td>\n",
       "    </tr>\n",
       "    <tr>\n",
       "      <th>7</th>\n",
       "      <td>inf</td>\n",
       "      <td>Total_Benefits</td>\n",
       "    </tr>\n",
       "    <tr>\n",
       "      <th>8</th>\n",
       "      <td>1.283136</td>\n",
       "      <td>Year_2014</td>\n",
       "    </tr>\n",
       "    <tr>\n",
       "      <th>9</th>\n",
       "      <td>1.300030</td>\n",
       "      <td>Year_2015</td>\n",
       "    </tr>\n",
       "    <tr>\n",
       "      <th>10</th>\n",
       "      <td>1.545000</td>\n",
       "      <td>Year_2016</td>\n",
       "    </tr>\n",
       "    <tr>\n",
       "      <th>11</th>\n",
       "      <td>2.065337</td>\n",
       "      <td>Year_Type_Fiscal</td>\n",
       "    </tr>\n",
       "  </tbody>\n",
       "</table>\n",
       "</div>"
      ],
      "text/plain": [
       "         VIF           Feature\n",
       "0        inf          Salaries\n",
       "1        inf          Overtime\n",
       "2        inf    Other_Salaries\n",
       "3        inf      Total_Salary\n",
       "4        inf        Retirement\n",
       "5        inf     Health/Dental\n",
       "6        inf    Other_Benefits\n",
       "7        inf    Total_Benefits\n",
       "8   1.283136         Year_2014\n",
       "9   1.300030         Year_2015\n",
       "10  1.545000         Year_2016\n",
       "11  2.065337  Year_Type_Fiscal"
      ]
     },
     "execution_count": 23,
     "metadata": {},
     "output_type": "execute_result"
    }
   ],
   "source": [
    "vif = pd.DataFrame()\n",
    "vif['VIF'] = [variance_inflation_factor(inp.values,i) for i in range(inp.shape[1])]\n",
    "vif['Feature'] = inp.columns\n",
    "vif.sort_values('VIF',ascending=True)\n",
    "vif"
   ]
  },
  {
   "cell_type": "code",
   "execution_count": 55,
   "metadata": {},
   "outputs": [
    {
     "name": "stderr",
     "output_type": "stream",
     "text": [
      "D:\\Anaconda\\lib\\site-packages\\statsmodels\\stats\\outliers_influence.py:193: RuntimeWarning: divide by zero encountered in double_scalars\n",
      "  vif = 1. / (1. - r_squared_i)\n"
     ]
    },
    {
     "data": {
      "text/html": [
       "<div>\n",
       "<style scoped>\n",
       "    .dataframe tbody tr th:only-of-type {\n",
       "        vertical-align: middle;\n",
       "    }\n",
       "\n",
       "    .dataframe tbody tr th {\n",
       "        vertical-align: top;\n",
       "    }\n",
       "\n",
       "    .dataframe thead th {\n",
       "        text-align: right;\n",
       "    }\n",
       "</style>\n",
       "<table border=\"1\" class=\"dataframe\">\n",
       "  <thead>\n",
       "    <tr style=\"text-align: right;\">\n",
       "      <th></th>\n",
       "      <th>VIF</th>\n",
       "      <th>Feature</th>\n",
       "    </tr>\n",
       "  </thead>\n",
       "  <tbody>\n",
       "    <tr>\n",
       "      <th>3</th>\n",
       "      <td>inf</td>\n",
       "      <td>Retirement</td>\n",
       "    </tr>\n",
       "    <tr>\n",
       "      <th>4</th>\n",
       "      <td>inf</td>\n",
       "      <td>Health/Dental</td>\n",
       "    </tr>\n",
       "    <tr>\n",
       "      <th>5</th>\n",
       "      <td>inf</td>\n",
       "      <td>Other_Benefits</td>\n",
       "    </tr>\n",
       "    <tr>\n",
       "      <th>6</th>\n",
       "      <td>inf</td>\n",
       "      <td>Total_Benefits</td>\n",
       "    </tr>\n",
       "    <tr>\n",
       "      <th>2</th>\n",
       "      <td>15.008686</td>\n",
       "      <td>Total_Salary</td>\n",
       "    </tr>\n",
       "    <tr>\n",
       "      <th>10</th>\n",
       "      <td>2.065337</td>\n",
       "      <td>Year_Type_Fiscal</td>\n",
       "    </tr>\n",
       "    <tr>\n",
       "      <th>9</th>\n",
       "      <td>1.545000</td>\n",
       "      <td>Year_2016</td>\n",
       "    </tr>\n",
       "    <tr>\n",
       "      <th>8</th>\n",
       "      <td>1.300030</td>\n",
       "      <td>Year_2015</td>\n",
       "    </tr>\n",
       "    <tr>\n",
       "      <th>7</th>\n",
       "      <td>1.283136</td>\n",
       "      <td>Year_2014</td>\n",
       "    </tr>\n",
       "    <tr>\n",
       "      <th>1</th>\n",
       "      <td>1.271564</td>\n",
       "      <td>Other_Salaries</td>\n",
       "    </tr>\n",
       "    <tr>\n",
       "      <th>0</th>\n",
       "      <td>1.159517</td>\n",
       "      <td>Overtime</td>\n",
       "    </tr>\n",
       "  </tbody>\n",
       "</table>\n",
       "</div>"
      ],
      "text/plain": [
       "          VIF           Feature\n",
       "3         inf        Retirement\n",
       "4         inf     Health/Dental\n",
       "5         inf    Other_Benefits\n",
       "6         inf    Total_Benefits\n",
       "2   15.008686      Total_Salary\n",
       "10   2.065337  Year_Type_Fiscal\n",
       "9    1.545000         Year_2016\n",
       "8    1.300030         Year_2015\n",
       "7    1.283136         Year_2014\n",
       "1    1.271564    Other_Salaries\n",
       "0    1.159517          Overtime"
      ]
     },
     "execution_count": 55,
     "metadata": {},
     "output_type": "execute_result"
    }
   ],
   "source": [
    "inpv1 = inp.drop('Salaries',axis=1)\n",
    "vif = pd.DataFrame()\n",
    "vif['VIF'] = [variance_inflation_factor(inpv1.values,i) for i in range(inpv1.shape[1])]\n",
    "vif['Feature'] = inpv1.columns\n",
    "vif = vif.sort_values('VIF',ascending=False)\n",
    "vif"
   ]
  },
  {
   "cell_type": "code",
   "execution_count": 52,
   "metadata": {},
   "outputs": [
    {
     "data": {
      "text/html": [
       "<div>\n",
       "<style scoped>\n",
       "    .dataframe tbody tr th:only-of-type {\n",
       "        vertical-align: middle;\n",
       "    }\n",
       "\n",
       "    .dataframe tbody tr th {\n",
       "        vertical-align: top;\n",
       "    }\n",
       "\n",
       "    .dataframe thead th {\n",
       "        text-align: right;\n",
       "    }\n",
       "</style>\n",
       "<table border=\"1\" class=\"dataframe\">\n",
       "  <thead>\n",
       "    <tr style=\"text-align: right;\">\n",
       "      <th></th>\n",
       "      <th>VIF</th>\n",
       "      <th>Feature</th>\n",
       "    </tr>\n",
       "  </thead>\n",
       "  <tbody>\n",
       "    <tr>\n",
       "      <th>5</th>\n",
       "      <td>43.035389</td>\n",
       "      <td>Total_Benefits</td>\n",
       "    </tr>\n",
       "    <tr>\n",
       "      <th>2</th>\n",
       "      <td>15.008804</td>\n",
       "      <td>Total_Salary</td>\n",
       "    </tr>\n",
       "    <tr>\n",
       "      <th>3</th>\n",
       "      <td>9.417625</td>\n",
       "      <td>Health/Dental</td>\n",
       "    </tr>\n",
       "    <tr>\n",
       "      <th>4</th>\n",
       "      <td>6.641277</td>\n",
       "      <td>Other_Benefits</td>\n",
       "    </tr>\n",
       "    <tr>\n",
       "      <th>9</th>\n",
       "      <td>2.065337</td>\n",
       "      <td>Year_Type_Fiscal</td>\n",
       "    </tr>\n",
       "    <tr>\n",
       "      <th>8</th>\n",
       "      <td>1.545000</td>\n",
       "      <td>Year_2016</td>\n",
       "    </tr>\n",
       "    <tr>\n",
       "      <th>7</th>\n",
       "      <td>1.300030</td>\n",
       "      <td>Year_2015</td>\n",
       "    </tr>\n",
       "    <tr>\n",
       "      <th>6</th>\n",
       "      <td>1.283136</td>\n",
       "      <td>Year_2014</td>\n",
       "    </tr>\n",
       "    <tr>\n",
       "      <th>1</th>\n",
       "      <td>1.271564</td>\n",
       "      <td>Other_Salaries</td>\n",
       "    </tr>\n",
       "    <tr>\n",
       "      <th>0</th>\n",
       "      <td>1.159517</td>\n",
       "      <td>Overtime</td>\n",
       "    </tr>\n",
       "  </tbody>\n",
       "</table>\n",
       "</div>"
      ],
      "text/plain": [
       "         VIF           Feature\n",
       "5  43.035389    Total_Benefits\n",
       "2  15.008804      Total_Salary\n",
       "3   9.417625     Health/Dental\n",
       "4   6.641277    Other_Benefits\n",
       "9   2.065337  Year_Type_Fiscal\n",
       "8   1.545000         Year_2016\n",
       "7   1.300030         Year_2015\n",
       "6   1.283136         Year_2014\n",
       "1   1.271564    Other_Salaries\n",
       "0   1.159517          Overtime"
      ]
     },
     "execution_count": 52,
     "metadata": {},
     "output_type": "execute_result"
    }
   ],
   "source": [
    "inpv2 = inpv1.drop('Retirement',axis=1)\n",
    "vif = pd.DataFrame()\n",
    "vif['VIF'] = [variance_inflation_factor(inpv2.values,i) for i in range(inpv2.shape[1])]\n",
    "vif['Feature'] = inpv2.columns\n",
    "vif = vif.sort_values('VIF',ascending=False)\n",
    "vif"
   ]
  },
  {
   "cell_type": "code",
   "execution_count": 26,
   "metadata": {},
   "outputs": [
    {
     "data": {
      "text/html": [
       "<div>\n",
       "<style scoped>\n",
       "    .dataframe tbody tr th:only-of-type {\n",
       "        vertical-align: middle;\n",
       "    }\n",
       "\n",
       "    .dataframe tbody tr th {\n",
       "        vertical-align: top;\n",
       "    }\n",
       "\n",
       "    .dataframe thead th {\n",
       "        text-align: right;\n",
       "    }\n",
       "</style>\n",
       "<table border=\"1\" class=\"dataframe\">\n",
       "  <thead>\n",
       "    <tr style=\"text-align: right;\">\n",
       "      <th></th>\n",
       "      <th>VIF</th>\n",
       "      <th>Feature</th>\n",
       "    </tr>\n",
       "  </thead>\n",
       "  <tbody>\n",
       "    <tr>\n",
       "      <th>0</th>\n",
       "      <td>1.159510</td>\n",
       "      <td>Overtime</td>\n",
       "    </tr>\n",
       "    <tr>\n",
       "      <th>1</th>\n",
       "      <td>1.257714</td>\n",
       "      <td>Other_Salaries</td>\n",
       "    </tr>\n",
       "    <tr>\n",
       "      <th>2</th>\n",
       "      <td>5.851542</td>\n",
       "      <td>Total_Salary</td>\n",
       "    </tr>\n",
       "    <tr>\n",
       "      <th>3</th>\n",
       "      <td>3.185484</td>\n",
       "      <td>Health/Dental</td>\n",
       "    </tr>\n",
       "    <tr>\n",
       "      <th>4</th>\n",
       "      <td>4.636811</td>\n",
       "      <td>Other_Benefits</td>\n",
       "    </tr>\n",
       "    <tr>\n",
       "      <th>5</th>\n",
       "      <td>1.252008</td>\n",
       "      <td>Year_2014</td>\n",
       "    </tr>\n",
       "    <tr>\n",
       "      <th>6</th>\n",
       "      <td>1.266620</td>\n",
       "      <td>Year_2015</td>\n",
       "    </tr>\n",
       "    <tr>\n",
       "      <th>7</th>\n",
       "      <td>1.535738</td>\n",
       "      <td>Year_2016</td>\n",
       "    </tr>\n",
       "    <tr>\n",
       "      <th>8</th>\n",
       "      <td>2.050162</td>\n",
       "      <td>Year_Type_Fiscal</td>\n",
       "    </tr>\n",
       "  </tbody>\n",
       "</table>\n",
       "</div>"
      ],
      "text/plain": [
       "        VIF           Feature\n",
       "0  1.159510          Overtime\n",
       "1  1.257714    Other_Salaries\n",
       "2  5.851542      Total_Salary\n",
       "3  3.185484     Health/Dental\n",
       "4  4.636811    Other_Benefits\n",
       "5  1.252008         Year_2014\n",
       "6  1.266620         Year_2015\n",
       "7  1.535738         Year_2016\n",
       "8  2.050162  Year_Type_Fiscal"
      ]
     },
     "execution_count": 26,
     "metadata": {},
     "output_type": "execute_result"
    }
   ],
   "source": [
    "inpv3 = inpv2.drop('Total_Benefits',axis=1)\n",
    "vif = pd.DataFrame()\n",
    "vif['VIF'] = [variance_inflation_factor(inpv3.values,i) for i in range(inpv3.shape[1])]\n",
    "vif['Feature'] = inpv3.columns\n",
    "vif.sort_values('VIF',ascending=False)\n",
    "vif"
   ]
  },
  {
   "cell_type": "code",
   "execution_count": 27,
   "metadata": {},
   "outputs": [
    {
     "data": {
      "text/html": [
       "<table class=\"simpletable\">\n",
       "<caption>OLS Regression Results</caption>\n",
       "<tr>\n",
       "  <th>Dep. Variable:</th>    <td>Total_Compensation</td> <th>  R-squared:         </th>  <td>   0.998</td>  \n",
       "</tr>\n",
       "<tr>\n",
       "  <th>Model:</th>                    <td>OLS</td>        <th>  Adj. R-squared:    </th>  <td>   0.998</td>  \n",
       "</tr>\n",
       "<tr>\n",
       "  <th>Method:</th>              <td>Least Squares</td>   <th>  F-statistic:       </th>  <td>2.342e+06</td> \n",
       "</tr>\n",
       "<tr>\n",
       "  <th>Date:</th>              <td>Sat, 03 Oct 2020</td>  <th>  Prob (F-statistic):</th>   <td>  0.00</td>   \n",
       "</tr>\n",
       "<tr>\n",
       "  <th>Time:</th>                  <td>17:41:46</td>      <th>  Log-Likelihood:    </th> <td>-3.4719e+05</td>\n",
       "</tr>\n",
       "<tr>\n",
       "  <th>No. Observations:</th>       <td> 37721</td>       <th>  AIC:               </th>  <td>6.944e+05</td> \n",
       "</tr>\n",
       "<tr>\n",
       "  <th>Df Residuals:</th>           <td> 37711</td>       <th>  BIC:               </th>  <td>6.945e+05</td> \n",
       "</tr>\n",
       "<tr>\n",
       "  <th>Df Model:</th>               <td>     9</td>       <th>                     </th>      <td> </td>     \n",
       "</tr>\n",
       "<tr>\n",
       "  <th>Covariance Type:</th>       <td>nonrobust</td>     <th>                     </th>      <td> </td>     \n",
       "</tr>\n",
       "</table>\n",
       "<table class=\"simpletable\">\n",
       "<tr>\n",
       "          <td></td>            <th>coef</th>     <th>std err</th>      <th>t</th>      <th>P>|t|</th>  <th>[0.025</th>    <th>0.975]</th>  \n",
       "</tr>\n",
       "<tr>\n",
       "  <th>const</th>            <td>  7.59e+04</td> <td>   27.188</td> <td> 2791.782</td> <td> 0.000</td> <td> 7.59e+04</td> <td>  7.6e+04</td>\n",
       "</tr>\n",
       "<tr>\n",
       "  <th>Overtime</th>         <td>    1.5956</td> <td>   13.335</td> <td>    0.120</td> <td> 0.905</td> <td>  -24.542</td> <td>   27.733</td>\n",
       "</tr>\n",
       "<tr>\n",
       "  <th>Other_Salaries</th>   <td> -283.7050</td> <td>   13.888</td> <td>  -20.429</td> <td> 0.000</td> <td> -310.925</td> <td> -256.485</td>\n",
       "</tr>\n",
       "<tr>\n",
       "  <th>Total_Salary</th>     <td>  4.89e+04</td> <td>   29.955</td> <td> 1632.492</td> <td> 0.000</td> <td> 4.88e+04</td> <td>  4.9e+04</td>\n",
       "</tr>\n",
       "<tr>\n",
       "  <th>Health/Dental</th>    <td> 6073.4216</td> <td>   22.108</td> <td>  274.722</td> <td> 0.000</td> <td> 6030.090</td> <td> 6116.753</td>\n",
       "</tr>\n",
       "<tr>\n",
       "  <th>Other_Benefits</th>   <td> 3430.4728</td> <td>   26.666</td> <td>  128.648</td> <td> 0.000</td> <td> 3378.207</td> <td> 3482.738</td>\n",
       "</tr>\n",
       "<tr>\n",
       "  <th>Year_2014</th>        <td> 1349.5995</td> <td>   33.117</td> <td>   40.752</td> <td> 0.000</td> <td> 1284.689</td> <td> 1414.510</td>\n",
       "</tr>\n",
       "<tr>\n",
       "  <th>Year_2015</th>        <td> 1369.4921</td> <td>   33.017</td> <td>   41.479</td> <td> 0.000</td> <td> 1304.779</td> <td> 1434.205</td>\n",
       "</tr>\n",
       "<tr>\n",
       "  <th>Year_2016</th>        <td> -233.1735</td> <td>   41.971</td> <td>   -5.556</td> <td> 0.000</td> <td> -315.437</td> <td> -150.910</td>\n",
       "</tr>\n",
       "<tr>\n",
       "  <th>Year_Type_Fiscal</th> <td>  -40.4212</td> <td>   26.872</td> <td>   -1.504</td> <td> 0.133</td> <td>  -93.091</td> <td>   12.248</td>\n",
       "</tr>\n",
       "</table>\n",
       "<table class=\"simpletable\">\n",
       "<tr>\n",
       "  <th>Omnibus:</th>       <td>23912.661</td> <th>  Durbin-Watson:     </th>  <td>   2.003</td>  \n",
       "</tr>\n",
       "<tr>\n",
       "  <th>Prob(Omnibus):</th>  <td> 0.000</td>   <th>  Jarque-Bera (JB):  </th> <td>1812097.420</td>\n",
       "</tr>\n",
       "<tr>\n",
       "  <th>Skew:</th>           <td>-2.274</td>   <th>  Prob(JB):          </th>  <td>    0.00</td>  \n",
       "</tr>\n",
       "<tr>\n",
       "  <th>Kurtosis:</th>       <td>36.649</td>   <th>  Cond. No.          </th>  <td>    7.20</td>  \n",
       "</tr>\n",
       "</table><br/><br/>Warnings:<br/>[1] Standard Errors assume that the covariance matrix of the errors is correctly specified."
      ],
      "text/plain": [
       "<class 'statsmodels.iolib.summary.Summary'>\n",
       "\"\"\"\n",
       "                            OLS Regression Results                            \n",
       "==============================================================================\n",
       "Dep. Variable:     Total_Compensation   R-squared:                       0.998\n",
       "Model:                            OLS   Adj. R-squared:                  0.998\n",
       "Method:                 Least Squares   F-statistic:                 2.342e+06\n",
       "Date:                Sat, 03 Oct 2020   Prob (F-statistic):               0.00\n",
       "Time:                        17:41:46   Log-Likelihood:            -3.4719e+05\n",
       "No. Observations:               37721   AIC:                         6.944e+05\n",
       "Df Residuals:                   37711   BIC:                         6.945e+05\n",
       "Df Model:                           9                                         \n",
       "Covariance Type:            nonrobust                                         \n",
       "====================================================================================\n",
       "                       coef    std err          t      P>|t|      [0.025      0.975]\n",
       "------------------------------------------------------------------------------------\n",
       "const              7.59e+04     27.188   2791.782      0.000    7.59e+04     7.6e+04\n",
       "Overtime             1.5956     13.335      0.120      0.905     -24.542      27.733\n",
       "Other_Salaries    -283.7050     13.888    -20.429      0.000    -310.925    -256.485\n",
       "Total_Salary       4.89e+04     29.955   1632.492      0.000    4.88e+04     4.9e+04\n",
       "Health/Dental     6073.4216     22.108    274.722      0.000    6030.090    6116.753\n",
       "Other_Benefits    3430.4728     26.666    128.648      0.000    3378.207    3482.738\n",
       "Year_2014         1349.5995     33.117     40.752      0.000    1284.689    1414.510\n",
       "Year_2015         1369.4921     33.017     41.479      0.000    1304.779    1434.205\n",
       "Year_2016         -233.1735     41.971     -5.556      0.000    -315.437    -150.910\n",
       "Year_Type_Fiscal   -40.4212     26.872     -1.504      0.133     -93.091      12.248\n",
       "==============================================================================\n",
       "Omnibus:                    23912.661   Durbin-Watson:                   2.003\n",
       "Prob(Omnibus):                  0.000   Jarque-Bera (JB):          1812097.420\n",
       "Skew:                          -2.274   Prob(JB):                         0.00\n",
       "Kurtosis:                      36.649   Cond. No.                         7.20\n",
       "==============================================================================\n",
       "\n",
       "Warnings:\n",
       "[1] Standard Errors assume that the covariance matrix of the errors is correctly specified.\n",
       "\"\"\""
      ]
     },
     "execution_count": 27,
     "metadata": {},
     "output_type": "execute_result"
    }
   ],
   "source": [
    "out = data1['Total_Compensation']\n",
    "inpc = sm.add_constant(inpv3)\n",
    "ols = sm.OLS(out,inpc)\n",
    "ols_mod = ols.fit()\n",
    "ols_mod.summary()"
   ]
  },
  {
   "cell_type": "code",
   "execution_count": 28,
   "metadata": {},
   "outputs": [
    {
     "data": {
      "text/plain": [
       "<matplotlib.axes._subplots.AxesSubplot at 0x843f5fba90>"
      ]
     },
     "execution_count": 28,
     "metadata": {},
     "output_type": "execute_result"
    },
    {
     "data": {
      "image/png": "[encoded data removed]",
      "text/plain": [
       "<Figure size 432x288 with 1 Axes>"
      ]
     },
     "metadata": {
      "needs_background": "light"
     },
     "output_type": "display_data"
    }
   ],
   "source": [
    "sns.scatterplot(out,ols_mod.predict())"
   ]
  },
  {
   "cell_type": "code",
   "execution_count": 29,
   "metadata": {},
   "outputs": [
    {
     "data": {
      "text/plain": [
       "<matplotlib.axes._subplots.AxesSubplot at 0x843e22ac40>"
      ]
     },
     "execution_count": 29,
     "metadata": {},
     "output_type": "execute_result"
    },
    {
     "data": {
      "image/png": "[encoded data removed]",
      "text/plain": [
       "<Figure size 432x288 with 1 Axes>"
      ]
     },
     "metadata": {
      "needs_background": "light"
     },
     "output_type": "display_data"
    }
   ],
   "source": [
    "#Linearity\n",
    "sns.scatterplot(inpv3.iloc[:,0],ols_mod.resid)"
   ]
  },
  {
   "cell_type": "code",
   "execution_count": 30,
   "metadata": {},
   "outputs": [
    {
     "data": {
      "text/plain": [
       "<matplotlib.axes._subplots.AxesSubplot at 0x843e527b50>"
      ]
     },
     "execution_count": 30,
     "metadata": {},
     "output_type": "execute_result"
    },
    {
     "data": {
      "image/png": "[encoded data removed]",
      "text/plain": [
       "<Figure size 432x288 with 1 Axes>"
      ]
     },
     "metadata": {
      "needs_background": "light"
     },
     "output_type": "display_data"
    }
   ],
   "source": [
    "sns.scatterplot(inpv3.iloc[:,1],ols_mod.resid)"
   ]
  },
  {
   "cell_type": "code",
   "execution_count": 31,
   "metadata": {},
   "outputs": [],
   "source": [
    "from statsmodels.stats.diagnostic import linear_rainbow"
   ]
  },
  {
   "cell_type": "code",
   "execution_count": 32,
   "metadata": {},
   "outputs": [
    {
     "data": {
      "text/plain": [
       "(0.9963561456138162, 0.5989512641677408)"
      ]
     },
     "execution_count": 32,
     "metadata": {},
     "output_type": "execute_result"
    }
   ],
   "source": [
    "#linearity\n",
    "linear_rainbow(res = ols_mod,frac=0.5)\n",
    "#H0 : Fraction of the data is linear\n",
    "#H1 : Fraction of the data is not linear"
   ]
  },
  {
   "cell_type": "code",
   "execution_count": 33,
   "metadata": {},
   "outputs": [
    {
     "data": {
      "text/plain": [
       "<matplotlib.axes._subplots.AxesSubplot at 0x843e56f1f0>"
      ]
     },
     "execution_count": 33,
     "metadata": {},
     "output_type": "execute_result"
    },
    {
     "data": {
      "image/png": "[encoded data removed]",
      "text/plain": [
       "<Figure size 432x288 with 1 Axes>"
      ]
     },
     "metadata": {
      "needs_background": "light"
     },
     "output_type": "display_data"
    }
   ],
   "source": [
    "#Normality\n",
    "sns.distplot(ols_mod.resid)"
   ]
  },
  {
   "cell_type": "code",
   "execution_count": 64,
   "metadata": {},
   "outputs": [
    {
     "data": {
      "text/plain": [
       "((array([-4.12701073, -3.91821603, -3.80426286, ...,  3.80426286,\n",
       "          3.91821603,  4.12701073]),\n",
       "  array([-146.37020422, -145.68138928, -145.18888223, ...,  223.82375634,\n",
       "          241.07632847,  262.37026537])),\n",
       " (40.88346307177379, 2.6297366370497923e-13, 0.9878288204416016))"
      ]
     },
     "execution_count": 64,
     "metadata": {},
     "output_type": "execute_result"
    },
    {
     "data": {
      "image/png": "[encoded data removed]",
      "text/plain": [
       "<Figure size 432x288 with 1 Axes>"
      ]
     },
     "metadata": {
      "needs_background": "light"
     },
     "output_type": "display_data"
    }
   ],
   "source": [
    "stats.probplot(ols_mod.resid,plot=plt)"
   ]
  },
  {
   "cell_type": "code",
   "execution_count": 34,
   "metadata": {},
   "outputs": [
    {
     "data": {
      "text/plain": [
       "-2.2745761758895284"
      ]
     },
     "execution_count": 34,
     "metadata": {},
     "output_type": "execute_result"
    }
   ],
   "source": [
    "ols_mod.resid.skew()"
   ]
  },
  {
   "cell_type": "code",
   "execution_count": 35,
   "metadata": {},
   "outputs": [
    {
     "data": {
      "text/plain": [
       "0.4376635217817136"
      ]
     },
     "execution_count": 35,
     "metadata": {},
     "output_type": "execute_result"
    }
   ],
   "source": [
    "out.skew()"
   ]
  },
  {
   "cell_type": "code",
   "execution_count": 36,
   "metadata": {},
   "outputs": [
    {
     "data": {
      "text/plain": [
       "count     37721.000000\n",
       "mean      76627.575881\n",
       "std       56903.754957\n",
       "min       -3518.340000\n",
       "25%       21211.800000\n",
       "50%       80608.920000\n",
       "75%      115231.110000\n",
       "max      272895.060000\n",
       "Name: Total_Compensation, dtype: float64"
      ]
     },
     "execution_count": 36,
     "metadata": {},
     "output_type": "execute_result"
    }
   ],
   "source": [
    "out.describe()"
   ]
  },
  {
   "cell_type": "code",
   "execution_count": 37,
   "metadata": {},
   "outputs": [],
   "source": [
    "out1 = abs(out)"
   ]
  },
  {
   "cell_type": "code",
   "execution_count": 38,
   "metadata": {},
   "outputs": [
    {
     "data": {
      "text/plain": [
       "-1.6922031076943667"
      ]
     },
     "execution_count": 38,
     "metadata": {},
     "output_type": "execute_result"
    }
   ],
   "source": [
    "out_log = np.log(out1)\n",
    "out_log.skew()"
   ]
  },
  {
   "cell_type": "code",
   "execution_count": 39,
   "metadata": {},
   "outputs": [
    {
     "data": {
      "text/plain": [
       "-0.3095187848510111"
      ]
     },
     "execution_count": 39,
     "metadata": {},
     "output_type": "execute_result"
    }
   ],
   "source": [
    "out_pow = np.power(out1,0.5)\n",
    "out_pow.skew()"
   ]
  },
  {
   "cell_type": "code",
   "execution_count": 40,
   "metadata": {},
   "outputs": [
    {
     "data": {
      "text/plain": [
       "0.001916029754333152"
      ]
     },
     "execution_count": 40,
     "metadata": {},
     "output_type": "execute_result"
    }
   ],
   "source": [
    "out_pow = np.power(out1,0.7)\n",
    "out_pow.skew()"
   ]
  },
  {
   "cell_type": "code",
   "execution_count": 41,
   "metadata": {},
   "outputs": [],
   "source": [
    "# Box Cox Transformation\n",
    "# x --> [(x^lambda) - 1]/lambda if lambda > 0\n",
    "#       log(x)                  if lambda = 0 "
   ]
  },
  {
   "cell_type": "code",
   "execution_count": 42,
   "metadata": {},
   "outputs": [
    {
     "data": {
      "text/plain": [
       "0.4936545195696519"
      ]
     },
     "execution_count": 42,
     "metadata": {},
     "output_type": "execute_result"
    }
   ],
   "source": [
    "out_box,lam = stats.boxcox(out1)\n",
    "lam"
   ]
  },
  {
   "cell_type": "code",
   "execution_count": 43,
   "metadata": {},
   "outputs": [
    {
     "data": {
      "text/plain": [
       "0.4259833748432451"
      ]
     },
     "execution_count": 43,
     "metadata": {},
     "output_type": "execute_result"
    }
   ],
   "source": [
    "inpc = sm.add_constant(inpv3)\n",
    "ols = sm.OLS(out_pow,inpc)\n",
    "ols_mod = ols.fit()\n",
    "ols_mod.summary()\n",
    "ols_mod.resid.skew()"
   ]
  },
  {
   "cell_type": "code",
   "execution_count": 44,
   "metadata": {},
   "outputs": [
    {
     "data": {
      "text/plain": [
       "-0.10236255055833789"
      ]
     },
     "execution_count": 44,
     "metadata": {},
     "output_type": "execute_result"
    }
   ],
   "source": [
    "inpc = sm.add_constant(inpv3)\n",
    "ols = sm.OLS(out_box,inpc)\n",
    "ols_mod = ols.fit()\n",
    "ols_mod.summary()\n",
    "ols_mod.resid.skew()"
   ]
  },
  {
   "cell_type": "code",
   "execution_count": 45,
   "metadata": {},
   "outputs": [
    {
     "data": {
      "text/html": [
       "<table class=\"simpletable\">\n",
       "<caption>OLS Regression Results</caption>\n",
       "<tr>\n",
       "  <th>Dep. Variable:</th>            <td>y</td>        <th>  R-squared:         </th>  <td>   0.966</td>  \n",
       "</tr>\n",
       "<tr>\n",
       "  <th>Model:</th>                   <td>OLS</td>       <th>  Adj. R-squared:    </th>  <td>   0.966</td>  \n",
       "</tr>\n",
       "<tr>\n",
       "  <th>Method:</th>             <td>Least Squares</td>  <th>  F-statistic:       </th>  <td>1.175e+05</td> \n",
       "</tr>\n",
       "<tr>\n",
       "  <th>Date:</th>             <td>Sat, 03 Oct 2020</td> <th>  Prob (F-statistic):</th>   <td>  0.00</td>   \n",
       "</tr>\n",
       "<tr>\n",
       "  <th>Time:</th>                 <td>17:41:51</td>     <th>  Log-Likelihood:    </th> <td>-1.9395e+05</td>\n",
       "</tr>\n",
       "<tr>\n",
       "  <th>No. Observations:</th>      <td> 37721</td>      <th>  AIC:               </th>  <td>3.879e+05</td> \n",
       "</tr>\n",
       "<tr>\n",
       "  <th>Df Residuals:</th>          <td> 37711</td>      <th>  BIC:               </th>  <td>3.880e+05</td> \n",
       "</tr>\n",
       "<tr>\n",
       "  <th>Df Model:</th>              <td>     9</td>      <th>                     </th>      <td> </td>     \n",
       "</tr>\n",
       "<tr>\n",
       "  <th>Covariance Type:</th>      <td>nonrobust</td>    <th>                     </th>      <td> </td>     \n",
       "</tr>\n",
       "</table>\n",
       "<table class=\"simpletable\">\n",
       "<tr>\n",
       "          <td></td>            <th>coef</th>     <th>std err</th>      <th>t</th>      <th>P>|t|</th>  <th>[0.025</th>    <th>0.975]</th>  \n",
       "</tr>\n",
       "<tr>\n",
       "  <th>const</th>            <td>  466.6159</td> <td>    0.468</td> <td>  997.282</td> <td> 0.000</td> <td>  465.699</td> <td>  467.533</td>\n",
       "</tr>\n",
       "<tr>\n",
       "  <th>Overtime</th>         <td>    3.0113</td> <td>    0.229</td> <td>   13.122</td> <td> 0.000</td> <td>    2.562</td> <td>    3.461</td>\n",
       "</tr>\n",
       "<tr>\n",
       "  <th>Other_Salaries</th>   <td>    6.9560</td> <td>    0.239</td> <td>   29.106</td> <td> 0.000</td> <td>    6.488</td> <td>    7.424</td>\n",
       "</tr>\n",
       "<tr>\n",
       "  <th>Total_Salary</th>     <td>  123.1992</td> <td>    0.515</td> <td>  238.993</td> <td> 0.000</td> <td>  122.189</td> <td>  124.210</td>\n",
       "</tr>\n",
       "<tr>\n",
       "  <th>Health/Dental</th>    <td>   76.6330</td> <td>    0.380</td> <td>  201.427</td> <td> 0.000</td> <td>   75.887</td> <td>   77.379</td>\n",
       "</tr>\n",
       "<tr>\n",
       "  <th>Other_Benefits</th>   <td>   29.0732</td> <td>    0.459</td> <td>   63.355</td> <td> 0.000</td> <td>   28.174</td> <td>   29.973</td>\n",
       "</tr>\n",
       "<tr>\n",
       "  <th>Year_2014</th>        <td>    4.3314</td> <td>    0.570</td> <td>    7.600</td> <td> 0.000</td> <td>    3.214</td> <td>    5.448</td>\n",
       "</tr>\n",
       "<tr>\n",
       "  <th>Year_2015</th>        <td>    6.7311</td> <td>    0.568</td> <td>   11.847</td> <td> 0.000</td> <td>    5.617</td> <td>    7.845</td>\n",
       "</tr>\n",
       "<tr>\n",
       "  <th>Year_2016</th>        <td>   -1.7678</td> <td>    0.722</td> <td>   -2.448</td> <td> 0.014</td> <td>   -3.184</td> <td>   -0.352</td>\n",
       "</tr>\n",
       "<tr>\n",
       "  <th>Year_Type_Fiscal</th> <td>   -1.0443</td> <td>    0.462</td> <td>   -2.258</td> <td> 0.024</td> <td>   -1.951</td> <td>   -0.138</td>\n",
       "</tr>\n",
       "</table>\n",
       "<table class=\"simpletable\">\n",
       "<tr>\n",
       "  <th>Omnibus:</th>       <td>1048.686</td> <th>  Durbin-Watson:     </th> <td>   1.991</td>\n",
       "</tr>\n",
       "<tr>\n",
       "  <th>Prob(Omnibus):</th>  <td> 0.000</td>  <th>  Jarque-Bera (JB):  </th> <td>2508.396</td>\n",
       "</tr>\n",
       "<tr>\n",
       "  <th>Skew:</th>           <td>-0.102</td>  <th>  Prob(JB):          </th> <td>    0.00</td>\n",
       "</tr>\n",
       "<tr>\n",
       "  <th>Kurtosis:</th>       <td> 4.247</td>  <th>  Cond. No.          </th> <td>    7.20</td>\n",
       "</tr>\n",
       "</table><br/><br/>Warnings:<br/>[1] Standard Errors assume that the covariance matrix of the errors is correctly specified."
      ],
      "text/plain": [
       "<class 'statsmodels.iolib.summary.Summary'>\n",
       "\"\"\"\n",
       "                            OLS Regression Results                            \n",
       "==============================================================================\n",
       "Dep. Variable:                      y   R-squared:                       0.966\n",
       "Model:                            OLS   Adj. R-squared:                  0.966\n",
       "Method:                 Least Squares   F-statistic:                 1.175e+05\n",
       "Date:                Sat, 03 Oct 2020   Prob (F-statistic):               0.00\n",
       "Time:                        17:41:51   Log-Likelihood:            -1.9395e+05\n",
       "No. Observations:               37721   AIC:                         3.879e+05\n",
       "Df Residuals:                   37711   BIC:                         3.880e+05\n",
       "Df Model:                           9                                         \n",
       "Covariance Type:            nonrobust                                         \n",
       "====================================================================================\n",
       "                       coef    std err          t      P>|t|      [0.025      0.975]\n",
       "------------------------------------------------------------------------------------\n",
       "const              466.6159      0.468    997.282      0.000     465.699     467.533\n",
       "Overtime             3.0113      0.229     13.122      0.000       2.562       3.461\n",
       "Other_Salaries       6.9560      0.239     29.106      0.000       6.488       7.424\n",
       "Total_Salary       123.1992      0.515    238.993      0.000     122.189     124.210\n",
       "Health/Dental       76.6330      0.380    201.427      0.000      75.887      77.379\n",
       "Other_Benefits      29.0732      0.459     63.355      0.000      28.174      29.973\n",
       "Year_2014            4.3314      0.570      7.600      0.000       3.214       5.448\n",
       "Year_2015            6.7311      0.568     11.847      0.000       5.617       7.845\n",
       "Year_2016           -1.7678      0.722     -2.448      0.014      -3.184      -0.352\n",
       "Year_Type_Fiscal    -1.0443      0.462     -2.258      0.024      -1.951      -0.138\n",
       "==============================================================================\n",
       "Omnibus:                     1048.686   Durbin-Watson:                   1.991\n",
       "Prob(Omnibus):                  0.000   Jarque-Bera (JB):             2508.396\n",
       "Skew:                          -0.102   Prob(JB):                         0.00\n",
       "Kurtosis:                       4.247   Cond. No.                         7.20\n",
       "==============================================================================\n",
       "\n",
       "Warnings:\n",
       "[1] Standard Errors assume that the covariance matrix of the errors is correctly specified.\n",
       "\"\"\""
      ]
     },
     "execution_count": 45,
     "metadata": {},
     "output_type": "execute_result"
    }
   ],
   "source": [
    "# Autocorrealtion -- Durbin watson test (Model should not have autocorrelation)\n",
    "#0<bw<2 --- Postively auto correlated\n",
    "#2 --- No autocorrealtion\n",
    "#>2 to 4 -- then negatively auto correalted\n",
    "\n",
    "# 1.5 to 2.5 , we can consider as no auto-correaltion\n",
    "ols_mod.summary()"
   ]
  },
  {
   "cell_type": "code",
   "execution_count": 46,
   "metadata": {},
   "outputs": [
    {
     "data": {
      "text/plain": [
       "<matplotlib.axes._subplots.AxesSubplot at 0x843e6b1b50>"
      ]
     },
     "execution_count": 46,
     "metadata": {},
     "output_type": "execute_result"
    },
    {
     "data": {
      "image/png": "[encoded data removed]",
      "text/plain": [
       "<Figure size 432x288 with 1 Axes>"
      ]
     },
     "metadata": {
      "needs_background": "light"
     },
     "output_type": "display_data"
    }
   ],
   "source": [
    "# Homoscadastic --- My model to be homoscasdic\n",
    "sns.scatterplot(ols_mod.predict(),ols_mod.resid)"
   ]
  },
  {
   "cell_type": "code",
   "execution_count": 47,
   "metadata": {},
   "outputs": [
    {
     "data": {
      "text/plain": [
       "<matplotlib.axes._subplots.AxesSubplot at 0x8439b2d430>"
      ]
     },
     "execution_count": 47,
     "metadata": {},
     "output_type": "execute_result"
    },
    {
     "data": {
      "image/png": "[encoded data removed]",
      "text/plain": [
       "<Figure size 432x288 with 1 Axes>"
      ]
     },
     "metadata": {
      "needs_background": "light"
     },
     "output_type": "display_data"
    }
   ],
   "source": [
    "sns.residplot(ols_mod.predict(),ols_mod.resid)"
   ]
  },
  {
   "cell_type": "code",
   "execution_count": 48,
   "metadata": {},
   "outputs": [
    {
     "data": {
      "text/plain": [
       "(1.0133123537421462, 0.18198420401628793, 'increasing')"
      ]
     },
     "execution_count": 48,
     "metadata": {},
     "output_type": "execute_result"
    }
   ],
   "source": [
    "from statsmodels.stats.api import het_goldfeldquandt\n",
    "het_goldfeldquandt(ols_mod.resid,ols_mod.model.exog)"
   ]
  },
  {
   "cell_type": "code",
   "execution_count": 49,
   "metadata": {},
   "outputs": [],
   "source": [
    "#H0 : The model is homoscadastic"
   ]
  },
  {
   "cell_type": "code",
   "execution_count": null,
   "metadata": {},
   "outputs": [],
   "source": []
  }
 ],
 "metadata": {
  "kernelspec": {
   "display_name": "Python 3",
   "language": "python",
   "name": "python3"
  },
  "language_info": {
   "codemirror_mode": {
    "name": "ipython",
    "version": 3
   },
   "file_extension": ".py",
   "mimetype": "text/x-python",
   "name": "python",
   "nbconvert_exporter": "python",
   "pygments_lexer": "ipython3",
   "version": "3.8.3"
  }
 },
 "nbformat": 4,
 "nbformat_minor": 4
}
