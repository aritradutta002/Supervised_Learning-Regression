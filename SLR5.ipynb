{
 "cells": [
  {
   "cell_type": "code",
   "execution_count": 1,
   "metadata": {},
   "outputs": [],
   "source": [
    "import pandas as pd\n",
    "import numpy as np\n",
    "import seaborn as sns\n",
    "import matplotlib.pyplot as plt\n",
    "from scipy import stats"
   ]
  },
  {
   "cell_type": "code",
   "execution_count": 2,
   "metadata": {},
   "outputs": [
    {
     "data": {
      "text/html": [
       "<div>\n",
       "<style scoped>\n",
       "    .dataframe tbody tr th:only-of-type {\n",
       "        vertical-align: middle;\n",
       "    }\n",
       "\n",
       "    .dataframe tbody tr th {\n",
       "        vertical-align: top;\n",
       "    }\n",
       "\n",
       "    .dataframe thead th {\n",
       "        text-align: right;\n",
       "    }\n",
       "</style>\n",
       "<table border=\"1\" class=\"dataframe\">\n",
       "  <thead>\n",
       "    <tr style=\"text-align: right;\">\n",
       "      <th></th>\n",
       "      <th>Appliances</th>\n",
       "      <th>lights</th>\n",
       "      <th>T1</th>\n",
       "      <th>RH_1</th>\n",
       "      <th>T2</th>\n",
       "      <th>RH_2</th>\n",
       "      <th>T3</th>\n",
       "      <th>RH_3</th>\n",
       "      <th>T4</th>\n",
       "      <th>RH_4</th>\n",
       "      <th>...</th>\n",
       "      <th>RH_7</th>\n",
       "      <th>T8</th>\n",
       "      <th>RH_8</th>\n",
       "      <th>T9</th>\n",
       "      <th>RH_9</th>\n",
       "      <th>T_out</th>\n",
       "      <th>Press_mm_hg</th>\n",
       "      <th>RH_out</th>\n",
       "      <th>Windspeed</th>\n",
       "      <th>Visibility</th>\n",
       "    </tr>\n",
       "  </thead>\n",
       "  <tbody>\n",
       "    <tr>\n",
       "      <th>0</th>\n",
       "      <td>60</td>\n",
       "      <td>20</td>\n",
       "      <td>20.700000</td>\n",
       "      <td>44.700000</td>\n",
       "      <td>19.500000</td>\n",
       "      <td>45.590000</td>\n",
       "      <td>21.390000</td>\n",
       "      <td>41.95</td>\n",
       "      <td>20.566667</td>\n",
       "      <td>45.626667</td>\n",
       "      <td>...</td>\n",
       "      <td>43.290000</td>\n",
       "      <td>20.500000</td>\n",
       "      <td>52.790000</td>\n",
       "      <td>18.306667</td>\n",
       "      <td>47.590000</td>\n",
       "      <td>11.016667</td>\n",
       "      <td>756.533333</td>\n",
       "      <td>88.333333</td>\n",
       "      <td>8.833333</td>\n",
       "      <td>38.166667</td>\n",
       "    </tr>\n",
       "    <tr>\n",
       "      <th>1</th>\n",
       "      <td>60</td>\n",
       "      <td>0</td>\n",
       "      <td>21.290000</td>\n",
       "      <td>37.863333</td>\n",
       "      <td>19.390000</td>\n",
       "      <td>39.663333</td>\n",
       "      <td>21.790000</td>\n",
       "      <td>36.70</td>\n",
       "      <td>20.463333</td>\n",
       "      <td>37.526667</td>\n",
       "      <td>...</td>\n",
       "      <td>32.095000</td>\n",
       "      <td>22.000000</td>\n",
       "      <td>39.223333</td>\n",
       "      <td>19.600000</td>\n",
       "      <td>38.826667</td>\n",
       "      <td>8.350000</td>\n",
       "      <td>761.800000</td>\n",
       "      <td>70.000000</td>\n",
       "      <td>3.500000</td>\n",
       "      <td>40.000000</td>\n",
       "    </tr>\n",
       "    <tr>\n",
       "      <th>2</th>\n",
       "      <td>80</td>\n",
       "      <td>0</td>\n",
       "      <td>21.390000</td>\n",
       "      <td>35.790000</td>\n",
       "      <td>19.290000</td>\n",
       "      <td>37.700000</td>\n",
       "      <td>22.760000</td>\n",
       "      <td>34.29</td>\n",
       "      <td>21.323333</td>\n",
       "      <td>34.730000</td>\n",
       "      <td>...</td>\n",
       "      <td>29.200000</td>\n",
       "      <td>22.390000</td>\n",
       "      <td>37.290000</td>\n",
       "      <td>19.463333</td>\n",
       "      <td>35.500000</td>\n",
       "      <td>6.866667</td>\n",
       "      <td>762.333333</td>\n",
       "      <td>69.666667</td>\n",
       "      <td>3.000000</td>\n",
       "      <td>35.666667</td>\n",
       "    </tr>\n",
       "    <tr>\n",
       "      <th>3</th>\n",
       "      <td>40</td>\n",
       "      <td>0</td>\n",
       "      <td>19.033333</td>\n",
       "      <td>41.826667</td>\n",
       "      <td>18.533333</td>\n",
       "      <td>41.290000</td>\n",
       "      <td>18.100000</td>\n",
       "      <td>43.79</td>\n",
       "      <td>15.890000</td>\n",
       "      <td>47.530000</td>\n",
       "      <td>...</td>\n",
       "      <td>40.138889</td>\n",
       "      <td>19.594444</td>\n",
       "      <td>51.062778</td>\n",
       "      <td>15.100000</td>\n",
       "      <td>46.760000</td>\n",
       "      <td>5.133333</td>\n",
       "      <td>769.583333</td>\n",
       "      <td>92.000000</td>\n",
       "      <td>4.833333</td>\n",
       "      <td>23.166667</td>\n",
       "    </tr>\n",
       "    <tr>\n",
       "      <th>4</th>\n",
       "      <td>60</td>\n",
       "      <td>30</td>\n",
       "      <td>21.700000</td>\n",
       "      <td>46.633333</td>\n",
       "      <td>20.700000</td>\n",
       "      <td>45.900000</td>\n",
       "      <td>22.323333</td>\n",
       "      <td>44.79</td>\n",
       "      <td>21.000000</td>\n",
       "      <td>47.966667</td>\n",
       "      <td>...</td>\n",
       "      <td>45.200000</td>\n",
       "      <td>20.469444</td>\n",
       "      <td>53.189444</td>\n",
       "      <td>18.290000</td>\n",
       "      <td>51.863333</td>\n",
       "      <td>8.633333</td>\n",
       "      <td>757.566667</td>\n",
       "      <td>95.666667</td>\n",
       "      <td>6.000000</td>\n",
       "      <td>55.333333</td>\n",
       "    </tr>\n",
       "  </tbody>\n",
       "</table>\n",
       "<p>5 rows × 25 columns</p>\n",
       "</div>"
      ],
      "text/plain": [
       "   Appliances  lights         T1       RH_1         T2       RH_2         T3  \\\n",
       "0          60      20  20.700000  44.700000  19.500000  45.590000  21.390000   \n",
       "1          60       0  21.290000  37.863333  19.390000  39.663333  21.790000   \n",
       "2          80       0  21.390000  35.790000  19.290000  37.700000  22.760000   \n",
       "3          40       0  19.033333  41.826667  18.533333  41.290000  18.100000   \n",
       "4          60      30  21.700000  46.633333  20.700000  45.900000  22.323333   \n",
       "\n",
       "    RH_3         T4       RH_4  ...       RH_7         T8       RH_8  \\\n",
       "0  41.95  20.566667  45.626667  ...  43.290000  20.500000  52.790000   \n",
       "1  36.70  20.463333  37.526667  ...  32.095000  22.000000  39.223333   \n",
       "2  34.29  21.323333  34.730000  ...  29.200000  22.390000  37.290000   \n",
       "3  43.79  15.890000  47.530000  ...  40.138889  19.594444  51.062778   \n",
       "4  44.79  21.000000  47.966667  ...  45.200000  20.469444  53.189444   \n",
       "\n",
       "          T9       RH_9      T_out  Press_mm_hg     RH_out  Windspeed  \\\n",
       "0  18.306667  47.590000  11.016667   756.533333  88.333333   8.833333   \n",
       "1  19.600000  38.826667   8.350000   761.800000  70.000000   3.500000   \n",
       "2  19.463333  35.500000   6.866667   762.333333  69.666667   3.000000   \n",
       "3  15.100000  46.760000   5.133333   769.583333  92.000000   4.833333   \n",
       "4  18.290000  51.863333   8.633333   757.566667  95.666667   6.000000   \n",
       "\n",
       "   Visibility  \n",
       "0   38.166667  \n",
       "1   40.000000  \n",
       "2   35.666667  \n",
       "3   23.166667  \n",
       "4   55.333333  \n",
       "\n",
       "[5 rows x 25 columns]"
      ]
     },
     "execution_count": 2,
     "metadata": {},
     "output_type": "execute_result"
    }
   ],
   "source": [
    "df = pd.read_csv('energy_data.csv')\n",
    "df.head()"
   ]
  },
  {
   "cell_type": "code",
   "execution_count": 3,
   "metadata": {},
   "outputs": [
    {
     "data": {
      "text/plain": [
       "Index(['Appliances', 'lights', 'T1', 'RH_1', 'T2', 'RH_2', 'T3', 'RH_3', 'T4',\n",
       "       'RH_4', 'T5', 'RH_5', 'T6', 'RH_6', 'T7', 'RH_7', 'T8', 'RH_8', 'T9',\n",
       "       'RH_9', 'T_out', 'Press_mm_hg', 'RH_out', 'Windspeed', 'Visibility'],\n",
       "      dtype='object')"
      ]
     },
     "execution_count": 3,
     "metadata": {},
     "output_type": "execute_result"
    }
   ],
   "source": [
    "df.columns"
   ]
  },
  {
   "cell_type": "code",
   "execution_count": 4,
   "metadata": {},
   "outputs": [
    {
     "data": {
      "text/plain": [
       "0     775\n",
       "10    101\n",
       "20     90\n",
       "30     29\n",
       "40      5\n",
       "Name: lights, dtype: int64"
      ]
     },
     "execution_count": 4,
     "metadata": {},
     "output_type": "execute_result"
    }
   ],
   "source": [
    "df['lights'].value_counts()"
   ]
  },
  {
   "cell_type": "code",
   "execution_count": 5,
   "metadata": {},
   "outputs": [
    {
     "data": {
      "text/html": [
       "<div>\n",
       "<style scoped>\n",
       "    .dataframe tbody tr th:only-of-type {\n",
       "        vertical-align: middle;\n",
       "    }\n",
       "\n",
       "    .dataframe tbody tr th {\n",
       "        vertical-align: top;\n",
       "    }\n",
       "\n",
       "    .dataframe thead th {\n",
       "        text-align: right;\n",
       "    }\n",
       "</style>\n",
       "<table border=\"1\" class=\"dataframe\">\n",
       "  <thead>\n",
       "    <tr style=\"text-align: right;\">\n",
       "      <th></th>\n",
       "      <th>Appliances</th>\n",
       "      <th>T1</th>\n",
       "      <th>RH_1</th>\n",
       "      <th>T2</th>\n",
       "      <th>RH_2</th>\n",
       "      <th>T3</th>\n",
       "      <th>RH_3</th>\n",
       "      <th>T4</th>\n",
       "      <th>RH_4</th>\n",
       "      <th>T5</th>\n",
       "      <th>...</th>\n",
       "      <th>RH_7</th>\n",
       "      <th>T8</th>\n",
       "      <th>RH_8</th>\n",
       "      <th>T9</th>\n",
       "      <th>RH_9</th>\n",
       "      <th>T_out</th>\n",
       "      <th>Press_mm_hg</th>\n",
       "      <th>RH_out</th>\n",
       "      <th>Windspeed</th>\n",
       "      <th>Visibility</th>\n",
       "    </tr>\n",
       "  </thead>\n",
       "  <tbody>\n",
       "    <tr>\n",
       "      <th>0</th>\n",
       "      <td>60</td>\n",
       "      <td>20.700000</td>\n",
       "      <td>44.700000</td>\n",
       "      <td>19.500000</td>\n",
       "      <td>45.590000</td>\n",
       "      <td>21.390000</td>\n",
       "      <td>41.95</td>\n",
       "      <td>20.566667</td>\n",
       "      <td>45.626667</td>\n",
       "      <td>18.060000</td>\n",
       "      <td>...</td>\n",
       "      <td>43.290000</td>\n",
       "      <td>20.500000</td>\n",
       "      <td>52.790000</td>\n",
       "      <td>18.306667</td>\n",
       "      <td>47.590000</td>\n",
       "      <td>11.016667</td>\n",
       "      <td>756.533333</td>\n",
       "      <td>88.333333</td>\n",
       "      <td>8.833333</td>\n",
       "      <td>38.166667</td>\n",
       "    </tr>\n",
       "    <tr>\n",
       "      <th>1</th>\n",
       "      <td>60</td>\n",
       "      <td>21.290000</td>\n",
       "      <td>37.863333</td>\n",
       "      <td>19.390000</td>\n",
       "      <td>39.663333</td>\n",
       "      <td>21.790000</td>\n",
       "      <td>36.70</td>\n",
       "      <td>20.463333</td>\n",
       "      <td>37.526667</td>\n",
       "      <td>19.390000</td>\n",
       "      <td>...</td>\n",
       "      <td>32.095000</td>\n",
       "      <td>22.000000</td>\n",
       "      <td>39.223333</td>\n",
       "      <td>19.600000</td>\n",
       "      <td>38.826667</td>\n",
       "      <td>8.350000</td>\n",
       "      <td>761.800000</td>\n",
       "      <td>70.000000</td>\n",
       "      <td>3.500000</td>\n",
       "      <td>40.000000</td>\n",
       "    </tr>\n",
       "    <tr>\n",
       "      <th>2</th>\n",
       "      <td>80</td>\n",
       "      <td>21.390000</td>\n",
       "      <td>35.790000</td>\n",
       "      <td>19.290000</td>\n",
       "      <td>37.700000</td>\n",
       "      <td>22.760000</td>\n",
       "      <td>34.29</td>\n",
       "      <td>21.323333</td>\n",
       "      <td>34.730000</td>\n",
       "      <td>18.426667</td>\n",
       "      <td>...</td>\n",
       "      <td>29.200000</td>\n",
       "      <td>22.390000</td>\n",
       "      <td>37.290000</td>\n",
       "      <td>19.463333</td>\n",
       "      <td>35.500000</td>\n",
       "      <td>6.866667</td>\n",
       "      <td>762.333333</td>\n",
       "      <td>69.666667</td>\n",
       "      <td>3.000000</td>\n",
       "      <td>35.666667</td>\n",
       "    </tr>\n",
       "    <tr>\n",
       "      <th>3</th>\n",
       "      <td>40</td>\n",
       "      <td>19.033333</td>\n",
       "      <td>41.826667</td>\n",
       "      <td>18.533333</td>\n",
       "      <td>41.290000</td>\n",
       "      <td>18.100000</td>\n",
       "      <td>43.79</td>\n",
       "      <td>15.890000</td>\n",
       "      <td>47.530000</td>\n",
       "      <td>15.390000</td>\n",
       "      <td>...</td>\n",
       "      <td>40.138889</td>\n",
       "      <td>19.594444</td>\n",
       "      <td>51.062778</td>\n",
       "      <td>15.100000</td>\n",
       "      <td>46.760000</td>\n",
       "      <td>5.133333</td>\n",
       "      <td>769.583333</td>\n",
       "      <td>92.000000</td>\n",
       "      <td>4.833333</td>\n",
       "      <td>23.166667</td>\n",
       "    </tr>\n",
       "    <tr>\n",
       "      <th>4</th>\n",
       "      <td>60</td>\n",
       "      <td>21.700000</td>\n",
       "      <td>46.633333</td>\n",
       "      <td>20.700000</td>\n",
       "      <td>45.900000</td>\n",
       "      <td>22.323333</td>\n",
       "      <td>44.79</td>\n",
       "      <td>21.000000</td>\n",
       "      <td>47.966667</td>\n",
       "      <td>19.600000</td>\n",
       "      <td>...</td>\n",
       "      <td>45.200000</td>\n",
       "      <td>20.469444</td>\n",
       "      <td>53.189444</td>\n",
       "      <td>18.290000</td>\n",
       "      <td>51.863333</td>\n",
       "      <td>8.633333</td>\n",
       "      <td>757.566667</td>\n",
       "      <td>95.666667</td>\n",
       "      <td>6.000000</td>\n",
       "      <td>55.333333</td>\n",
       "    </tr>\n",
       "    <tr>\n",
       "      <th>...</th>\n",
       "      <td>...</td>\n",
       "      <td>...</td>\n",
       "      <td>...</td>\n",
       "      <td>...</td>\n",
       "      <td>...</td>\n",
       "      <td>...</td>\n",
       "      <td>...</td>\n",
       "      <td>...</td>\n",
       "      <td>...</td>\n",
       "      <td>...</td>\n",
       "      <td>...</td>\n",
       "      <td>...</td>\n",
       "      <td>...</td>\n",
       "      <td>...</td>\n",
       "      <td>...</td>\n",
       "      <td>...</td>\n",
       "      <td>...</td>\n",
       "      <td>...</td>\n",
       "      <td>...</td>\n",
       "      <td>...</td>\n",
       "      <td>...</td>\n",
       "    </tr>\n",
       "    <tr>\n",
       "      <th>995</th>\n",
       "      <td>60</td>\n",
       "      <td>20.790000</td>\n",
       "      <td>40.590000</td>\n",
       "      <td>19.166667</td>\n",
       "      <td>40.400000</td>\n",
       "      <td>20.200000</td>\n",
       "      <td>40.09</td>\n",
       "      <td>20.200000</td>\n",
       "      <td>38.230000</td>\n",
       "      <td>18.700000</td>\n",
       "      <td>...</td>\n",
       "      <td>37.400000</td>\n",
       "      <td>21.000000</td>\n",
       "      <td>47.400000</td>\n",
       "      <td>17.600000</td>\n",
       "      <td>40.433333</td>\n",
       "      <td>-4.000000</td>\n",
       "      <td>761.650000</td>\n",
       "      <td>86.500000</td>\n",
       "      <td>2.500000</td>\n",
       "      <td>26.000000</td>\n",
       "    </tr>\n",
       "    <tr>\n",
       "      <th>996</th>\n",
       "      <td>70</td>\n",
       "      <td>22.000000</td>\n",
       "      <td>35.200000</td>\n",
       "      <td>19.463333</td>\n",
       "      <td>37.163333</td>\n",
       "      <td>21.390000</td>\n",
       "      <td>34.50</td>\n",
       "      <td>20.390000</td>\n",
       "      <td>36.200000</td>\n",
       "      <td>19.823333</td>\n",
       "      <td>...</td>\n",
       "      <td>29.356667</td>\n",
       "      <td>22.790000</td>\n",
       "      <td>39.560000</td>\n",
       "      <td>19.000000</td>\n",
       "      <td>34.030000</td>\n",
       "      <td>3.166667</td>\n",
       "      <td>754.766667</td>\n",
       "      <td>85.500000</td>\n",
       "      <td>1.000000</td>\n",
       "      <td>40.000000</td>\n",
       "    </tr>\n",
       "    <tr>\n",
       "      <th>997</th>\n",
       "      <td>40</td>\n",
       "      <td>21.790000</td>\n",
       "      <td>42.360000</td>\n",
       "      <td>19.633333</td>\n",
       "      <td>46.456667</td>\n",
       "      <td>22.200000</td>\n",
       "      <td>38.59</td>\n",
       "      <td>21.200000</td>\n",
       "      <td>39.530000</td>\n",
       "      <td>19.790000</td>\n",
       "      <td>...</td>\n",
       "      <td>36.397500</td>\n",
       "      <td>21.790000</td>\n",
       "      <td>42.060000</td>\n",
       "      <td>19.730000</td>\n",
       "      <td>40.326667</td>\n",
       "      <td>8.100000</td>\n",
       "      <td>756.200000</td>\n",
       "      <td>83.000000</td>\n",
       "      <td>4.000000</td>\n",
       "      <td>24.000000</td>\n",
       "    </tr>\n",
       "    <tr>\n",
       "      <th>998</th>\n",
       "      <td>70</td>\n",
       "      <td>21.260000</td>\n",
       "      <td>35.290000</td>\n",
       "      <td>20.500000</td>\n",
       "      <td>34.000000</td>\n",
       "      <td>20.290000</td>\n",
       "      <td>36.06</td>\n",
       "      <td>21.000000</td>\n",
       "      <td>33.900000</td>\n",
       "      <td>17.963333</td>\n",
       "      <td>...</td>\n",
       "      <td>28.290000</td>\n",
       "      <td>23.963333</td>\n",
       "      <td>33.860000</td>\n",
       "      <td>19.200000</td>\n",
       "      <td>38.700000</td>\n",
       "      <td>8.500000</td>\n",
       "      <td>769.233333</td>\n",
       "      <td>60.333333</td>\n",
       "      <td>6.000000</td>\n",
       "      <td>24.000000</td>\n",
       "    </tr>\n",
       "    <tr>\n",
       "      <th>999</th>\n",
       "      <td>50</td>\n",
       "      <td>21.856667</td>\n",
       "      <td>38.790000</td>\n",
       "      <td>22.200000</td>\n",
       "      <td>36.290000</td>\n",
       "      <td>22.200000</td>\n",
       "      <td>36.90</td>\n",
       "      <td>22.000000</td>\n",
       "      <td>37.045000</td>\n",
       "      <td>19.890000</td>\n",
       "      <td>...</td>\n",
       "      <td>31.585714</td>\n",
       "      <td>21.200000</td>\n",
       "      <td>39.326667</td>\n",
       "      <td>20.290000</td>\n",
       "      <td>38.466667</td>\n",
       "      <td>12.933333</td>\n",
       "      <td>765.633333</td>\n",
       "      <td>55.666667</td>\n",
       "      <td>2.666667</td>\n",
       "      <td>47.000000</td>\n",
       "    </tr>\n",
       "  </tbody>\n",
       "</table>\n",
       "<p>1000 rows × 24 columns</p>\n",
       "</div>"
      ],
      "text/plain": [
       "     Appliances         T1       RH_1         T2       RH_2         T3   RH_3  \\\n",
       "0            60  20.700000  44.700000  19.500000  45.590000  21.390000  41.95   \n",
       "1            60  21.290000  37.863333  19.390000  39.663333  21.790000  36.70   \n",
       "2            80  21.390000  35.790000  19.290000  37.700000  22.760000  34.29   \n",
       "3            40  19.033333  41.826667  18.533333  41.290000  18.100000  43.79   \n",
       "4            60  21.700000  46.633333  20.700000  45.900000  22.323333  44.79   \n",
       "..          ...        ...        ...        ...        ...        ...    ...   \n",
       "995          60  20.790000  40.590000  19.166667  40.400000  20.200000  40.09   \n",
       "996          70  22.000000  35.200000  19.463333  37.163333  21.390000  34.50   \n",
       "997          40  21.790000  42.360000  19.633333  46.456667  22.200000  38.59   \n",
       "998          70  21.260000  35.290000  20.500000  34.000000  20.290000  36.06   \n",
       "999          50  21.856667  38.790000  22.200000  36.290000  22.200000  36.90   \n",
       "\n",
       "            T4       RH_4         T5  ...       RH_7         T8       RH_8  \\\n",
       "0    20.566667  45.626667  18.060000  ...  43.290000  20.500000  52.790000   \n",
       "1    20.463333  37.526667  19.390000  ...  32.095000  22.000000  39.223333   \n",
       "2    21.323333  34.730000  18.426667  ...  29.200000  22.390000  37.290000   \n",
       "3    15.890000  47.530000  15.390000  ...  40.138889  19.594444  51.062778   \n",
       "4    21.000000  47.966667  19.600000  ...  45.200000  20.469444  53.189444   \n",
       "..         ...        ...        ...  ...        ...        ...        ...   \n",
       "995  20.200000  38.230000  18.700000  ...  37.400000  21.000000  47.400000   \n",
       "996  20.390000  36.200000  19.823333  ...  29.356667  22.790000  39.560000   \n",
       "997  21.200000  39.530000  19.790000  ...  36.397500  21.790000  42.060000   \n",
       "998  21.000000  33.900000  17.963333  ...  28.290000  23.963333  33.860000   \n",
       "999  22.000000  37.045000  19.890000  ...  31.585714  21.200000  39.326667   \n",
       "\n",
       "            T9       RH_9      T_out  Press_mm_hg     RH_out  Windspeed  \\\n",
       "0    18.306667  47.590000  11.016667   756.533333  88.333333   8.833333   \n",
       "1    19.600000  38.826667   8.350000   761.800000  70.000000   3.500000   \n",
       "2    19.463333  35.500000   6.866667   762.333333  69.666667   3.000000   \n",
       "3    15.100000  46.760000   5.133333   769.583333  92.000000   4.833333   \n",
       "4    18.290000  51.863333   8.633333   757.566667  95.666667   6.000000   \n",
       "..         ...        ...        ...          ...        ...        ...   \n",
       "995  17.600000  40.433333  -4.000000   761.650000  86.500000   2.500000   \n",
       "996  19.000000  34.030000   3.166667   754.766667  85.500000   1.000000   \n",
       "997  19.730000  40.326667   8.100000   756.200000  83.000000   4.000000   \n",
       "998  19.200000  38.700000   8.500000   769.233333  60.333333   6.000000   \n",
       "999  20.290000  38.466667  12.933333   765.633333  55.666667   2.666667   \n",
       "\n",
       "     Visibility  \n",
       "0     38.166667  \n",
       "1     40.000000  \n",
       "2     35.666667  \n",
       "3     23.166667  \n",
       "4     55.333333  \n",
       "..          ...  \n",
       "995   26.000000  \n",
       "996   40.000000  \n",
       "997   24.000000  \n",
       "998   24.000000  \n",
       "999   47.000000  \n",
       "\n",
       "[1000 rows x 24 columns]"
      ]
     },
     "execution_count": 5,
     "metadata": {},
     "output_type": "execute_result"
    }
   ],
   "source": [
    "df = df.drop('lights',axis = 1)\n",
    "df"
   ]
  },
  {
   "cell_type": "code",
   "execution_count": 6,
   "metadata": {},
   "outputs": [
    {
     "data": {
      "text/plain": [
       "Appliances     0\n",
       "T1             0\n",
       "RH_1           0\n",
       "T2             0\n",
       "RH_2           0\n",
       "T3             0\n",
       "RH_3           0\n",
       "T4             0\n",
       "RH_4           0\n",
       "T5             0\n",
       "RH_5           0\n",
       "T6             0\n",
       "RH_6           0\n",
       "T7             0\n",
       "RH_7           0\n",
       "T8             0\n",
       "RH_8           0\n",
       "T9             0\n",
       "RH_9           0\n",
       "T_out          0\n",
       "Press_mm_hg    0\n",
       "RH_out         0\n",
       "Windspeed      0\n",
       "Visibility     0\n",
       "dtype: int64"
      ]
     },
     "execution_count": 6,
     "metadata": {},
     "output_type": "execute_result"
    }
   ],
   "source": [
    "df.isna().sum()"
   ]
  },
  {
   "cell_type": "code",
   "execution_count": 7,
   "metadata": {},
   "outputs": [
    {
     "data": {
      "image/png": "[encoded data removed]",
      "text/plain": [
       "<Figure size 432x288 with 1 Axes>"
      ]
     },
     "metadata": {
      "needs_background": "light"
     },
     "output_type": "display_data"
    },
    {
     "data": {
      "image/png": "[encoded data removed]",
      "text/plain": [
       "<Figure size 432x288 with 1 Axes>"
      ]
     },
     "metadata": {
      "needs_background": "light"
     },
     "output_type": "display_data"
    },
    {
     "data": {
      "image/png": "[encoded data removed]",
      "text/plain": [
       "<Figure size 432x288 with 1 Axes>"
      ]
     },
     "metadata": {
      "needs_background": "light"
     },
     "output_type": "display_data"
    },
    {
     "data": {
      "image/png": "[encoded data removed]",
      "text/plain": [
       "<Figure size 432x288 with 1 Axes>"
      ]
     },
     "metadata": {
      "needs_background": "light"
     },
     "output_type": "display_data"
    },
    {
     "data": {
      "image/png": "[encoded data removed]",
      "text/plain": [
       "<Figure size 432x288 with 1 Axes>"
      ]
     },
     "metadata": {
      "needs_background": "light"
     },
     "output_type": "display_data"
    },
    {
     "data": {
      "image/png": "[encoded data removed]",
      "text/plain": [
       "<Figure size 432x288 with 1 Axes>"
      ]
     },
     "metadata": {
      "needs_background": "light"
     },
     "output_type": "display_data"
    },
    {
     "data": {
      "image/png": "[encoded data removed]",
      "text/plain": [
       "<Figure size 432x288 with 1 Axes>"
      ]
     },
     "metadata": {
      "needs_background": "light"
     },
     "output_type": "display_data"
    },
    {
     "data": {
      "image/png": "[encoded data removed]",
      "text/plain": [
       "<Figure size 432x288 with 1 Axes>"
      ]
     },
     "metadata": {
      "needs_background": "light"
     },
     "output_type": "display_data"
    },
    {
     "data": {
      "image/png": "[encoded data removed]",
      "text/plain": [
       "<Figure size 432x288 with 1 Axes>"
      ]
     },
     "metadata": {
      "needs_background": "light"
     },
     "output_type": "display_data"
    },
    {
     "data": {
      "image/png": "[encoded data removed]",
      "text/plain": [
       "<Figure size 432x288 with 1 Axes>"
      ]
     },
     "metadata": {
      "needs_background": "light"
     },
     "output_type": "display_data"
    },
    {
     "data": {
      "image/png": "[encoded data removed]",
      "text/plain": [
       "<Figure size 432x288 with 1 Axes>"
      ]
     },
     "metadata": {
      "needs_background": "light"
     },
     "output_type": "display_data"
    },
    {
     "data": {
      "image/png": "[encoded data removed]",
      "text/plain": [
       "<Figure size 432x288 with 1 Axes>"
      ]
     },
     "metadata": {
      "needs_background": "light"
     },
     "output_type": "display_data"
    },
    {
     "data": {
      "image/png": "[encoded data removed]",
      "text/plain": [
       "<Figure size 432x288 with 1 Axes>"
      ]
     },
     "metadata": {
      "needs_background": "light"
     },
     "output_type": "display_data"
    },
    {
     "data": {
      "image/png": "[encoded data removed]",
      "text/plain": [
       "<Figure size 432x288 with 1 Axes>"
      ]
     },
     "metadata": {
      "needs_background": "light"
     },
     "output_type": "display_data"
    },
    {
     "data": {
      "image/png": "[encoded data removed]",
      "text/plain": [
       "<Figure size 432x288 with 1 Axes>"
      ]
     },
     "metadata": {
      "needs_background": "light"
     },
     "output_type": "display_data"
    },
    {
     "data": {
      "image/png": "[encoded data removed]",
      "text/plain": [
       "<Figure size 432x288 with 1 Axes>"
      ]
     },
     "metadata": {
      "needs_background": "light"
     },
     "output_type": "display_data"
    },
    {
     "data": {
      "image/png": "[encoded data removed]",
      "text/plain": [
       "<Figure size 432x288 with 1 Axes>"
      ]
     },
     "metadata": {
      "needs_background": "light"
     },
     "output_type": "display_data"
    },
    {
     "data": {
      "image/png": "[encoded data removed]",
      "text/plain": [
       "<Figure size 432x288 with 1 Axes>"
      ]
     },
     "metadata": {
      "needs_background": "light"
     },
     "output_type": "display_data"
    },
    {
     "data": {
      "image/png": "[encoded data removed]",
      "text/plain": [
       "<Figure size 432x288 with 1 Axes>"
      ]
     },
     "metadata": {
      "needs_background": "light"
     },
     "output_type": "display_data"
    },
    {
     "data": {
      "image/png": "[encoded data removed]",
      "text/plain": [
       "<Figure size 432x288 with 1 Axes>"
      ]
     },
     "metadata": {
      "needs_background": "light"
     },
     "output_type": "display_data"
    },
    {
     "data": {
      "image/png": "[encoded data removed]",
      "text/plain": [
       "<Figure size 432x288 with 1 Axes>"
      ]
     },
     "metadata": {
      "needs_background": "light"
     },
     "output_type": "display_data"
    },
    {
     "data": {
      "image/png": "[encoded data removed]",
      "text/plain": [
       "<Figure size 432x288 with 1 Axes>"
      ]
     },
     "metadata": {
      "needs_background": "light"
     },
     "output_type": "display_data"
    },
    {
     "data": {
      "image/png": "[encoded data removed]",
      "text/plain": [
       "<Figure size 432x288 with 1 Axes>"
      ]
     },
     "metadata": {
      "needs_background": "light"
     },
     "output_type": "display_data"
    },
    {
     "data": {
      "image/png": "[encoded data removed]",
      "text/plain": [
       "<Figure size 432x288 with 1 Axes>"
      ]
     },
     "metadata": {
      "needs_background": "light"
     },
     "output_type": "display_data"
    }
   ],
   "source": [
    "for i in df.columns:\n",
    "    sns.boxplot(df[i])\n",
    "    plt.show()"
   ]
  },
  {
   "cell_type": "code",
   "execution_count": 8,
   "metadata": {},
   "outputs": [],
   "source": [
    "for i in df.columns:\n",
    "    q1 = df[i].quantile(0.25)\n",
    "    q3 = df[i].quantile(0.75)\n",
    "    iqr = q3 - q1\n",
    "    ub = q3 + 1.5*iqr\n",
    "    lb = q1 - 1.5*iqr\n",
    "    df[i] = df[i].replace(df[df[i]>ub][i],df[i].quantile(0.9))\n",
    "    df[i] = df[i].replace(df[df[i]<lb][i],df[i].quantile(0.01))"
   ]
  },
  {
   "cell_type": "code",
   "execution_count": 9,
   "metadata": {
    "scrolled": false
   },
   "outputs": [
    {
     "data": {
      "image/png": "[encoded data removed]",
      "text/plain": [
       "<Figure size 432x288 with 1 Axes>"
      ]
     },
     "metadata": {
      "needs_background": "light"
     },
     "output_type": "display_data"
    },
    {
     "data": {
      "image/png": "[encoded data removed]",
      "text/plain": [
       "<Figure size 432x288 with 1 Axes>"
      ]
     },
     "metadata": {
      "needs_background": "light"
     },
     "output_type": "display_data"
    },
    {
     "data": {
      "image/png": "[encoded data removed]",
      "text/plain": [
       "<Figure size 432x288 with 1 Axes>"
      ]
     },
     "metadata": {
      "needs_background": "light"
     },
     "output_type": "display_data"
    },
    {
     "data": {
      "image/png": "[encoded data removed]",
      "text/plain": [
       "<Figure size 432x288 with 1 Axes>"
      ]
     },
     "metadata": {
      "needs_background": "light"
     },
     "output_type": "display_data"
    },
    {
     "data": {
      "image/png": "[encoded data removed]",
      "text/plain": [
       "<Figure size 432x288 with 1 Axes>"
      ]
     },
     "metadata": {
      "needs_background": "light"
     },
     "output_type": "display_data"
    },
    {
     "data": {
      "image/png": "[encoded data removed]",
      "text/plain": [
       "<Figure size 432x288 with 1 Axes>"
      ]
     },
     "metadata": {
      "needs_background": "light"
     },
     "output_type": "display_data"
    },
    {
     "data": {
      "image/png": "[encoded data removed]",
      "text/plain": [
       "<Figure size 432x288 with 1 Axes>"
      ]
     },
     "metadata": {
      "needs_background": "light"
     },
     "output_type": "display_data"
    },
    {
     "data": {
      "image/png": "[encoded data removed]",
      "text/plain": [
       "<Figure size 432x288 with 1 Axes>"
      ]
     },
     "metadata": {
      "needs_background": "light"
     },
     "output_type": "display_data"
    },
    {
     "data": {
      "image/png": "[encoded data removed]",
      "text/plain": [
       "<Figure size 432x288 with 1 Axes>"
      ]
     },
     "metadata": {
      "needs_background": "light"
     },
     "output_type": "display_data"
    },
    {
     "data": {
      "image/png": "[encoded data removed]",
      "text/plain": [
       "<Figure size 432x288 with 1 Axes>"
      ]
     },
     "metadata": {
      "needs_background": "light"
     },
     "output_type": "display_data"
    },
    {
     "data": {
      "image/png": "[encoded data removed]",
      "text/plain": [
       "<Figure size 432x288 with 1 Axes>"
      ]
     },
     "metadata": {
      "needs_background": "light"
     },
     "output_type": "display_data"
    },
    {
     "data": {
      "image/png": "[encoded data removed]",
      "text/plain": [
       "<Figure size 432x288 with 1 Axes>"
      ]
     },
     "metadata": {
      "needs_background": "light"
     },
     "output_type": "display_data"
    },
    {
     "data": {
      "image/png": "[encoded data removed]",
      "text/plain": [
       "<Figure size 432x288 with 1 Axes>"
      ]
     },
     "metadata": {
      "needs_background": "light"
     },
     "output_type": "display_data"
    },
    {
     "data": {
      "image/png": "[encoded data removed]",
      "text/plain": [
       "<Figure size 432x288 with 1 Axes>"
      ]
     },
     "metadata": {
      "needs_background": "light"
     },
     "output_type": "display_data"
    },
    {
     "data": {
      "image/png": "[encoded data removed]",
      "text/plain": [
       "<Figure size 432x288 with 1 Axes>"
      ]
     },
     "metadata": {
      "needs_background": "light"
     },
     "output_type": "display_data"
    },
    {
     "data": {
      "image/png": "[encoded data removed]",
      "text/plain": [
       "<Figure size 432x288 with 1 Axes>"
      ]
     },
     "metadata": {
      "needs_background": "light"
     },
     "output_type": "display_data"
    },
    {
     "data": {
      "image/png": "[encoded data removed]",
      "text/plain": [
       "<Figure size 432x288 with 1 Axes>"
      ]
     },
     "metadata": {
      "needs_background": "light"
     },
     "output_type": "display_data"
    },
    {
     "data": {
      "image/png": "[encoded data removed]",
      "text/plain": [
       "<Figure size 432x288 with 1 Axes>"
      ]
     },
     "metadata": {
      "needs_background": "light"
     },
     "output_type": "display_data"
    },
    {
     "data": {
      "image/png": "[encoded data removed]",
      "text/plain": [
       "<Figure size 432x288 with 1 Axes>"
      ]
     },
     "metadata": {
      "needs_background": "light"
     },
     "output_type": "display_data"
    },
    {
     "data": {
      "image/png": "[encoded data removed]",
      "text/plain": [
       "<Figure size 432x288 with 1 Axes>"
      ]
     },
     "metadata": {
      "needs_background": "light"
     },
     "output_type": "display_data"
    },
    {
     "data": {
      "image/png": "[encoded data removed]",
      "text/plain": [
       "<Figure size 432x288 with 1 Axes>"
      ]
     },
     "metadata": {
      "needs_background": "light"
     },
     "output_type": "display_data"
    },
    {
     "data": {
      "image/png": "[encoded data removed]",
      "text/plain": [
       "<Figure size 432x288 with 1 Axes>"
      ]
     },
     "metadata": {
      "needs_background": "light"
     },
     "output_type": "display_data"
    },
    {
     "data": {
      "image/png": "[encoded data removed]",
      "text/plain": [
       "<Figure size 432x288 with 1 Axes>"
      ]
     },
     "metadata": {
      "needs_background": "light"
     },
     "output_type": "display_data"
    },
    {
     "data": {
      "image/png": "[encoded data removed]",
      "text/plain": [
       "<Figure size 432x288 with 1 Axes>"
      ]
     },
     "metadata": {
      "needs_background": "light"
     },
     "output_type": "display_data"
    }
   ],
   "source": [
    "for i in df.columns:\n",
    "    sns.boxplot(df[i])\n",
    "    plt.show()"
   ]
  },
  {
   "cell_type": "code",
   "execution_count": 10,
   "metadata": {},
   "outputs": [],
   "source": [
    "inp = df.drop('Appliances',axis=1)\n",
    "out = df['Appliances']"
   ]
  },
  {
   "cell_type": "code",
   "execution_count": 11,
   "metadata": {},
   "outputs": [],
   "source": [
    "from sklearn.preprocessing import StandardScaler"
   ]
  },
  {
   "cell_type": "code",
   "execution_count": 12,
   "metadata": {},
   "outputs": [],
   "source": [
    "sc = StandardScaler()\n",
    "data_sc = sc.fit_transform(inp)\n",
    "data_sc=pd.DataFrame(data_sc,columns=inp.columns)"
   ]
  },
  {
   "cell_type": "code",
   "execution_count": 13,
   "metadata": {},
   "outputs": [
    {
     "data": {
      "text/html": [
       "<div>\n",
       "<style scoped>\n",
       "    .dataframe tbody tr th:only-of-type {\n",
       "        vertical-align: middle;\n",
       "    }\n",
       "\n",
       "    .dataframe tbody tr th {\n",
       "        vertical-align: top;\n",
       "    }\n",
       "\n",
       "    .dataframe thead th {\n",
       "        text-align: right;\n",
       "    }\n",
       "</style>\n",
       "<table border=\"1\" class=\"dataframe\">\n",
       "  <thead>\n",
       "    <tr style=\"text-align: right;\">\n",
       "      <th></th>\n",
       "      <th>VIF</th>\n",
       "      <th>Features</th>\n",
       "    </tr>\n",
       "  </thead>\n",
       "  <tbody>\n",
       "    <tr>\n",
       "      <th>16</th>\n",
       "      <td>23.588606</td>\n",
       "      <td>T9</td>\n",
       "    </tr>\n",
       "    <tr>\n",
       "      <th>10</th>\n",
       "      <td>20.561874</td>\n",
       "      <td>T6</td>\n",
       "    </tr>\n",
       "    <tr>\n",
       "      <th>18</th>\n",
       "      <td>20.140849</td>\n",
       "      <td>T_out</td>\n",
       "    </tr>\n",
       "    <tr>\n",
       "      <th>7</th>\n",
       "      <td>16.907077</td>\n",
       "      <td>RH_4</td>\n",
       "    </tr>\n",
       "    <tr>\n",
       "      <th>12</th>\n",
       "      <td>15.267661</td>\n",
       "      <td>T7</td>\n",
       "    </tr>\n",
       "    <tr>\n",
       "      <th>2</th>\n",
       "      <td>13.955872</td>\n",
       "      <td>T2</td>\n",
       "    </tr>\n",
       "    <tr>\n",
       "      <th>0</th>\n",
       "      <td>13.404370</td>\n",
       "      <td>T1</td>\n",
       "    </tr>\n",
       "    <tr>\n",
       "      <th>1</th>\n",
       "      <td>11.995605</td>\n",
       "      <td>RH_1</td>\n",
       "    </tr>\n",
       "    <tr>\n",
       "      <th>3</th>\n",
       "      <td>10.731543</td>\n",
       "      <td>RH_2</td>\n",
       "    </tr>\n",
       "    <tr>\n",
       "      <th>13</th>\n",
       "      <td>10.309529</td>\n",
       "      <td>RH_7</td>\n",
       "    </tr>\n",
       "    <tr>\n",
       "      <th>11</th>\n",
       "      <td>9.772501</td>\n",
       "      <td>RH_6</td>\n",
       "    </tr>\n",
       "    <tr>\n",
       "      <th>5</th>\n",
       "      <td>9.575194</td>\n",
       "      <td>RH_3</td>\n",
       "    </tr>\n",
       "    <tr>\n",
       "      <th>4</th>\n",
       "      <td>9.456242</td>\n",
       "      <td>T3</td>\n",
       "    </tr>\n",
       "    <tr>\n",
       "      <th>15</th>\n",
       "      <td>8.978261</td>\n",
       "      <td>RH_8</td>\n",
       "    </tr>\n",
       "    <tr>\n",
       "      <th>8</th>\n",
       "      <td>8.324158</td>\n",
       "      <td>T5</td>\n",
       "    </tr>\n",
       "    <tr>\n",
       "      <th>6</th>\n",
       "      <td>7.983409</td>\n",
       "      <td>T4</td>\n",
       "    </tr>\n",
       "    <tr>\n",
       "      <th>14</th>\n",
       "      <td>7.722286</td>\n",
       "      <td>T8</td>\n",
       "    </tr>\n",
       "    <tr>\n",
       "      <th>17</th>\n",
       "      <td>6.647813</td>\n",
       "      <td>RH_9</td>\n",
       "    </tr>\n",
       "    <tr>\n",
       "      <th>20</th>\n",
       "      <td>5.886077</td>\n",
       "      <td>RH_out</td>\n",
       "    </tr>\n",
       "    <tr>\n",
       "      <th>9</th>\n",
       "      <td>1.733530</td>\n",
       "      <td>RH_5</td>\n",
       "    </tr>\n",
       "    <tr>\n",
       "      <th>21</th>\n",
       "      <td>1.586667</td>\n",
       "      <td>Windspeed</td>\n",
       "    </tr>\n",
       "    <tr>\n",
       "      <th>19</th>\n",
       "      <td>1.522587</td>\n",
       "      <td>Press_mm_hg</td>\n",
       "    </tr>\n",
       "    <tr>\n",
       "      <th>22</th>\n",
       "      <td>1.072929</td>\n",
       "      <td>Visibility</td>\n",
       "    </tr>\n",
       "  </tbody>\n",
       "</table>\n",
       "</div>"
      ],
      "text/plain": [
       "          VIF     Features\n",
       "16  23.588606           T9\n",
       "10  20.561874           T6\n",
       "18  20.140849        T_out\n",
       "7   16.907077         RH_4\n",
       "12  15.267661           T7\n",
       "2   13.955872           T2\n",
       "0   13.404370           T1\n",
       "1   11.995605         RH_1\n",
       "3   10.731543         RH_2\n",
       "13  10.309529         RH_7\n",
       "11   9.772501         RH_6\n",
       "5    9.575194         RH_3\n",
       "4    9.456242           T3\n",
       "15   8.978261         RH_8\n",
       "8    8.324158           T5\n",
       "6    7.983409           T4\n",
       "14   7.722286           T8\n",
       "17   6.647813         RH_9\n",
       "20   5.886077       RH_out\n",
       "9    1.733530         RH_5\n",
       "21   1.586667    Windspeed\n",
       "19   1.522587  Press_mm_hg\n",
       "22   1.072929   Visibility"
      ]
     },
     "execution_count": 13,
     "metadata": {},
     "output_type": "execute_result"
    }
   ],
   "source": [
    "from statsmodels.stats.outliers_influence import variance_inflation_factor\n",
    "vif=pd.DataFrame()\n",
    "vif['VIF']=[variance_inflation_factor(data_sc.values,i) for i in range(data_sc.shape[1])]\n",
    "vif['Features']=data_sc.columns\n",
    "vif = vif.sort_values('VIF',ascending=False)\n",
    "vif"
   ]
  },
  {
   "cell_type": "code",
   "execution_count": 14,
   "metadata": {
    "scrolled": true
   },
   "outputs": [
    {
     "data": {
      "text/html": [
       "<div>\n",
       "<style scoped>\n",
       "    .dataframe tbody tr th:only-of-type {\n",
       "        vertical-align: middle;\n",
       "    }\n",
       "\n",
       "    .dataframe tbody tr th {\n",
       "        vertical-align: top;\n",
       "    }\n",
       "\n",
       "    .dataframe thead th {\n",
       "        text-align: right;\n",
       "    }\n",
       "</style>\n",
       "<table border=\"1\" class=\"dataframe\">\n",
       "  <thead>\n",
       "    <tr style=\"text-align: right;\">\n",
       "      <th></th>\n",
       "      <th>VIF</th>\n",
       "      <th>Features</th>\n",
       "    </tr>\n",
       "  </thead>\n",
       "  <tbody>\n",
       "    <tr>\n",
       "      <th>0</th>\n",
       "      <td>12.462406</td>\n",
       "      <td>T1</td>\n",
       "    </tr>\n",
       "    <tr>\n",
       "      <th>1</th>\n",
       "      <td>11.518129</td>\n",
       "      <td>RH_1</td>\n",
       "    </tr>\n",
       "    <tr>\n",
       "      <th>2</th>\n",
       "      <td>11.507273</td>\n",
       "      <td>T2</td>\n",
       "    </tr>\n",
       "    <tr>\n",
       "      <th>3</th>\n",
       "      <td>10.133529</td>\n",
       "      <td>RH_2</td>\n",
       "    </tr>\n",
       "    <tr>\n",
       "      <th>4</th>\n",
       "      <td>8.572502</td>\n",
       "      <td>T3</td>\n",
       "    </tr>\n",
       "    <tr>\n",
       "      <th>5</th>\n",
       "      <td>8.753880</td>\n",
       "      <td>RH_3</td>\n",
       "    </tr>\n",
       "    <tr>\n",
       "      <th>6</th>\n",
       "      <td>6.828594</td>\n",
       "      <td>T4</td>\n",
       "    </tr>\n",
       "    <tr>\n",
       "      <th>7</th>\n",
       "      <td>7.232864</td>\n",
       "      <td>T5</td>\n",
       "    </tr>\n",
       "    <tr>\n",
       "      <th>8</th>\n",
       "      <td>1.658469</td>\n",
       "      <td>RH_5</td>\n",
       "    </tr>\n",
       "    <tr>\n",
       "      <th>9</th>\n",
       "      <td>8.546468</td>\n",
       "      <td>RH_6</td>\n",
       "    </tr>\n",
       "    <tr>\n",
       "      <th>10</th>\n",
       "      <td>10.715029</td>\n",
       "      <td>T7</td>\n",
       "    </tr>\n",
       "    <tr>\n",
       "      <th>11</th>\n",
       "      <td>8.909752</td>\n",
       "      <td>RH_7</td>\n",
       "    </tr>\n",
       "    <tr>\n",
       "      <th>12</th>\n",
       "      <td>7.529527</td>\n",
       "      <td>T8</td>\n",
       "    </tr>\n",
       "    <tr>\n",
       "      <th>13</th>\n",
       "      <td>8.758071</td>\n",
       "      <td>RH_8</td>\n",
       "    </tr>\n",
       "    <tr>\n",
       "      <th>14</th>\n",
       "      <td>5.915512</td>\n",
       "      <td>RH_9</td>\n",
       "    </tr>\n",
       "    <tr>\n",
       "      <th>15</th>\n",
       "      <td>6.347019</td>\n",
       "      <td>T_out</td>\n",
       "    </tr>\n",
       "    <tr>\n",
       "      <th>16</th>\n",
       "      <td>1.421372</td>\n",
       "      <td>Press_mm_hg</td>\n",
       "    </tr>\n",
       "    <tr>\n",
       "      <th>17</th>\n",
       "      <td>5.259205</td>\n",
       "      <td>RH_out</td>\n",
       "    </tr>\n",
       "    <tr>\n",
       "      <th>18</th>\n",
       "      <td>1.575108</td>\n",
       "      <td>Windspeed</td>\n",
       "    </tr>\n",
       "    <tr>\n",
       "      <th>19</th>\n",
       "      <td>1.055871</td>\n",
       "      <td>Visibility</td>\n",
       "    </tr>\n",
       "  </tbody>\n",
       "</table>\n",
       "</div>"
      ],
      "text/plain": [
       "          VIF     Features\n",
       "0   12.462406           T1\n",
       "1   11.518129         RH_1\n",
       "2   11.507273           T2\n",
       "3   10.133529         RH_2\n",
       "4    8.572502           T3\n",
       "5    8.753880         RH_3\n",
       "6    6.828594           T4\n",
       "7    7.232864           T5\n",
       "8    1.658469         RH_5\n",
       "9    8.546468         RH_6\n",
       "10  10.715029           T7\n",
       "11   8.909752         RH_7\n",
       "12   7.529527           T8\n",
       "13   8.758071         RH_8\n",
       "14   5.915512         RH_9\n",
       "15   6.347019        T_out\n",
       "16   1.421372  Press_mm_hg\n",
       "17   5.259205       RH_out\n",
       "18   1.575108    Windspeed\n",
       "19   1.055871   Visibility"
      ]
     },
     "execution_count": 14,
     "metadata": {},
     "output_type": "execute_result"
    }
   ],
   "source": [
    "inpv1 = data_sc.drop(['T9','T6','RH_4'],1)\n",
    "vif=pd.DataFrame()\n",
    "vif['VIF']=[variance_inflation_factor(inpv1.values,i) for i in range(inpv1.shape[1])]\n",
    "vif['Features']=inpv1.columns\n",
    "vif.sort_values('VIF',ascending=False)\n",
    "vif"
   ]
  },
  {
   "cell_type": "code",
   "execution_count": 15,
   "metadata": {},
   "outputs": [],
   "source": [
    "import statsmodels.api as sm"
   ]
  },
  {
   "cell_type": "code",
   "execution_count": 16,
   "metadata": {},
   "outputs": [
    {
     "data": {
      "text/html": [
       "<table class=\"simpletable\">\n",
       "<caption>OLS Regression Results</caption>\n",
       "<tr>\n",
       "  <th>Dep. Variable:</th>       <td>Appliances</td>    <th>  R-squared:         </th> <td>   0.284</td>\n",
       "</tr>\n",
       "<tr>\n",
       "  <th>Model:</th>                   <td>OLS</td>       <th>  Adj. R-squared:    </th> <td>   0.269</td>\n",
       "</tr>\n",
       "<tr>\n",
       "  <th>Method:</th>             <td>Least Squares</td>  <th>  F-statistic:       </th> <td>   19.42</td>\n",
       "</tr>\n",
       "<tr>\n",
       "  <th>Date:</th>             <td>Sat, 03 Oct 2020</td> <th>  Prob (F-statistic):</th> <td>5.54e-58</td>\n",
       "</tr>\n",
       "<tr>\n",
       "  <th>Time:</th>                 <td>18:28:05</td>     <th>  Log-Likelihood:    </th> <td> -4899.6</td>\n",
       "</tr>\n",
       "<tr>\n",
       "  <th>No. Observations:</th>      <td>  1000</td>      <th>  AIC:               </th> <td>   9841.</td>\n",
       "</tr>\n",
       "<tr>\n",
       "  <th>Df Residuals:</th>          <td>   979</td>      <th>  BIC:               </th> <td>   9944.</td>\n",
       "</tr>\n",
       "<tr>\n",
       "  <th>Df Model:</th>              <td>    20</td>      <th>                     </th>     <td> </td>   \n",
       "</tr>\n",
       "<tr>\n",
       "  <th>Covariance Type:</th>      <td>nonrobust</td>    <th>                     </th>     <td> </td>   \n",
       "</tr>\n",
       "</table>\n",
       "<table class=\"simpletable\">\n",
       "<tr>\n",
       "       <td></td>          <th>coef</th>     <th>std err</th>      <th>t</th>      <th>P>|t|</th>  <th>[0.025</th>    <th>0.975]</th>  \n",
       "</tr>\n",
       "<tr>\n",
       "  <th>const</th>       <td>   76.4900</td> <td>    1.038</td> <td>   73.680</td> <td> 0.000</td> <td>   74.453</td> <td>   78.527</td>\n",
       "</tr>\n",
       "<tr>\n",
       "  <th>T1</th>          <td>   -9.9319</td> <td>    3.665</td> <td>   -2.710</td> <td> 0.007</td> <td>  -17.124</td> <td>   -2.740</td>\n",
       "</tr>\n",
       "<tr>\n",
       "  <th>RH_1</th>        <td>   16.9556</td> <td>    3.523</td> <td>    4.812</td> <td> 0.000</td> <td>   10.042</td> <td>   23.870</td>\n",
       "</tr>\n",
       "<tr>\n",
       "  <th>T2</th>          <td>    0.2190</td> <td>    3.522</td> <td>    0.062</td> <td> 0.950</td> <td>   -6.692</td> <td>    7.130</td>\n",
       "</tr>\n",
       "<tr>\n",
       "  <th>RH_2</th>        <td>   -8.9961</td> <td>    3.305</td> <td>   -2.722</td> <td> 0.007</td> <td>  -15.481</td> <td>   -2.511</td>\n",
       "</tr>\n",
       "<tr>\n",
       "  <th>T3</th>          <td>   15.3769</td> <td>    3.040</td> <td>    5.059</td> <td> 0.000</td> <td>    9.412</td> <td>   21.342</td>\n",
       "</tr>\n",
       "<tr>\n",
       "  <th>RH_3</th>        <td>   11.8360</td> <td>    3.072</td> <td>    3.853</td> <td> 0.000</td> <td>    5.808</td> <td>   17.864</td>\n",
       "</tr>\n",
       "<tr>\n",
       "  <th>T4</th>          <td>    2.8285</td> <td>    2.713</td> <td>    1.043</td> <td> 0.297</td> <td>   -2.495</td> <td>    8.152</td>\n",
       "</tr>\n",
       "<tr>\n",
       "  <th>T5</th>          <td>   -3.2330</td> <td>    2.792</td> <td>   -1.158</td> <td> 0.247</td> <td>   -8.712</td> <td>    2.246</td>\n",
       "</tr>\n",
       "<tr>\n",
       "  <th>RH_5</th>        <td>    2.2066</td> <td>    1.337</td> <td>    1.651</td> <td> 0.099</td> <td>   -0.417</td> <td>    4.830</td>\n",
       "</tr>\n",
       "<tr>\n",
       "  <th>RH_6</th>        <td>    4.3907</td> <td>    3.035</td> <td>    1.447</td> <td> 0.148</td> <td>   -1.565</td> <td>   10.346</td>\n",
       "</tr>\n",
       "<tr>\n",
       "  <th>T7</th>          <td>  -18.5453</td> <td>    3.398</td> <td>   -5.457</td> <td> 0.000</td> <td>  -25.214</td> <td>  -11.877</td>\n",
       "</tr>\n",
       "<tr>\n",
       "  <th>RH_7</th>        <td>    0.2230</td> <td>    3.099</td> <td>    0.072</td> <td> 0.943</td> <td>   -5.858</td> <td>    6.304</td>\n",
       "</tr>\n",
       "<tr>\n",
       "  <th>T8</th>          <td>   20.1197</td> <td>    2.849</td> <td>    7.063</td> <td> 0.000</td> <td>   14.530</td> <td>   25.710</td>\n",
       "</tr>\n",
       "<tr>\n",
       "  <th>RH_8</th>        <td>  -24.2265</td> <td>    3.072</td> <td>   -7.886</td> <td> 0.000</td> <td>  -30.256</td> <td>  -18.198</td>\n",
       "</tr>\n",
       "<tr>\n",
       "  <th>RH_9</th>        <td>   -5.2980</td> <td>    2.525</td> <td>   -2.098</td> <td> 0.036</td> <td>  -10.253</td> <td>   -0.343</td>\n",
       "</tr>\n",
       "<tr>\n",
       "  <th>T_out</th>       <td>    2.6673</td> <td>    2.615</td> <td>    1.020</td> <td> 0.308</td> <td>   -2.465</td> <td>    7.800</td>\n",
       "</tr>\n",
       "<tr>\n",
       "  <th>Press_mm_hg</th> <td>    0.5471</td> <td>    1.238</td> <td>    0.442</td> <td> 0.659</td> <td>   -1.882</td> <td>    2.976</td>\n",
       "</tr>\n",
       "<tr>\n",
       "  <th>RH_out</th>      <td>   -1.6168</td> <td>    2.381</td> <td>   -0.679</td> <td> 0.497</td> <td>   -6.289</td> <td>    3.055</td>\n",
       "</tr>\n",
       "<tr>\n",
       "  <th>Windspeed</th>   <td>    3.3833</td> <td>    1.303</td> <td>    2.597</td> <td> 0.010</td> <td>    0.826</td> <td>    5.940</td>\n",
       "</tr>\n",
       "<tr>\n",
       "  <th>Visibility</th>  <td>   -0.6835</td> <td>    1.067</td> <td>   -0.641</td> <td> 0.522</td> <td>   -2.777</td> <td>    1.410</td>\n",
       "</tr>\n",
       "</table>\n",
       "<table class=\"simpletable\">\n",
       "<tr>\n",
       "  <th>Omnibus:</th>       <td>139.427</td> <th>  Durbin-Watson:     </th> <td>   1.995</td>\n",
       "</tr>\n",
       "<tr>\n",
       "  <th>Prob(Omnibus):</th> <td> 0.000</td>  <th>  Jarque-Bera (JB):  </th> <td> 203.182</td>\n",
       "</tr>\n",
       "<tr>\n",
       "  <th>Skew:</th>          <td> 0.993</td>  <th>  Prob(JB):          </th> <td>7.58e-45</td>\n",
       "</tr>\n",
       "<tr>\n",
       "  <th>Kurtosis:</th>      <td> 3.967</td>  <th>  Cond. No.          </th> <td>    14.6</td>\n",
       "</tr>\n",
       "</table><br/><br/>Warnings:<br/>[1] Standard Errors assume that the covariance matrix of the errors is correctly specified."
      ],
      "text/plain": [
       "<class 'statsmodels.iolib.summary.Summary'>\n",
       "\"\"\"\n",
       "                            OLS Regression Results                            \n",
       "==============================================================================\n",
       "Dep. Variable:             Appliances   R-squared:                       0.284\n",
       "Model:                            OLS   Adj. R-squared:                  0.269\n",
       "Method:                 Least Squares   F-statistic:                     19.42\n",
       "Date:                Sat, 03 Oct 2020   Prob (F-statistic):           5.54e-58\n",
       "Time:                        18:28:05   Log-Likelihood:                -4899.6\n",
       "No. Observations:                1000   AIC:                             9841.\n",
       "Df Residuals:                     979   BIC:                             9944.\n",
       "Df Model:                          20                                         \n",
       "Covariance Type:            nonrobust                                         \n",
       "===============================================================================\n",
       "                  coef    std err          t      P>|t|      [0.025      0.975]\n",
       "-------------------------------------------------------------------------------\n",
       "const          76.4900      1.038     73.680      0.000      74.453      78.527\n",
       "T1             -9.9319      3.665     -2.710      0.007     -17.124      -2.740\n",
       "RH_1           16.9556      3.523      4.812      0.000      10.042      23.870\n",
       "T2              0.2190      3.522      0.062      0.950      -6.692       7.130\n",
       "RH_2           -8.9961      3.305     -2.722      0.007     -15.481      -2.511\n",
       "T3             15.3769      3.040      5.059      0.000       9.412      21.342\n",
       "RH_3           11.8360      3.072      3.853      0.000       5.808      17.864\n",
       "T4              2.8285      2.713      1.043      0.297      -2.495       8.152\n",
       "T5             -3.2330      2.792     -1.158      0.247      -8.712       2.246\n",
       "RH_5            2.2066      1.337      1.651      0.099      -0.417       4.830\n",
       "RH_6            4.3907      3.035      1.447      0.148      -1.565      10.346\n",
       "T7            -18.5453      3.398     -5.457      0.000     -25.214     -11.877\n",
       "RH_7            0.2230      3.099      0.072      0.943      -5.858       6.304\n",
       "T8             20.1197      2.849      7.063      0.000      14.530      25.710\n",
       "RH_8          -24.2265      3.072     -7.886      0.000     -30.256     -18.198\n",
       "RH_9           -5.2980      2.525     -2.098      0.036     -10.253      -0.343\n",
       "T_out           2.6673      2.615      1.020      0.308      -2.465       7.800\n",
       "Press_mm_hg     0.5471      1.238      0.442      0.659      -1.882       2.976\n",
       "RH_out         -1.6168      2.381     -0.679      0.497      -6.289       3.055\n",
       "Windspeed       3.3833      1.303      2.597      0.010       0.826       5.940\n",
       "Visibility     -0.6835      1.067     -0.641      0.522      -2.777       1.410\n",
       "==============================================================================\n",
       "Omnibus:                      139.427   Durbin-Watson:                   1.995\n",
       "Prob(Omnibus):                  0.000   Jarque-Bera (JB):              203.182\n",
       "Skew:                           0.993   Prob(JB):                     7.58e-45\n",
       "Kurtosis:                       3.967   Cond. No.                         14.6\n",
       "==============================================================================\n",
       "\n",
       "Warnings:\n",
       "[1] Standard Errors assume that the covariance matrix of the errors is correctly specified.\n",
       "\"\"\""
      ]
     },
     "execution_count": 16,
     "metadata": {},
     "output_type": "execute_result"
    }
   ],
   "source": [
    "inpc = sm.add_constant(inpv1)\n",
    "ols = sm.OLS(out,inpc)\n",
    "ols_mod = ols.fit()\n",
    "ols_mod.summary()"
   ]
  },
  {
   "cell_type": "code",
   "execution_count": 17,
   "metadata": {},
   "outputs": [
    {
     "data": {
      "text/plain": [
       "0.9942007534589373"
      ]
     },
     "execution_count": 17,
     "metadata": {},
     "output_type": "execute_result"
    }
   ],
   "source": [
    "ols_mod.resid.skew()"
   ]
  },
  {
   "cell_type": "code",
   "execution_count": 18,
   "metadata": {},
   "outputs": [],
   "source": [
    "box_out,lam = stats.boxcox(out)"
   ]
  },
  {
   "cell_type": "code",
   "execution_count": 19,
   "metadata": {},
   "outputs": [
    {
     "data": {
      "text/plain": [
       "0.060393254424486134"
      ]
     },
     "execution_count": 19,
     "metadata": {},
     "output_type": "execute_result"
    }
   ],
   "source": [
    "inpc = sm.add_constant(inpv1)\n",
    "ols = sm.OLS(box_out,inpc)\n",
    "ols_mod = ols.fit()\n",
    "ols_mod.summary()\n",
    "ols_mod.resid.skew()"
   ]
  },
  {
   "cell_type": "code",
   "execution_count": 20,
   "metadata": {},
   "outputs": [
    {
     "data": {
      "text/plain": [
       "const          0.000000e+00\n",
       "T1             2.091491e-02\n",
       "RH_1           1.195880e-05\n",
       "T2             4.299469e-01\n",
       "RH_2           2.997511e-02\n",
       "T3             7.988191e-05\n",
       "RH_3           3.798582e-03\n",
       "T4             7.420774e-02\n",
       "T5             4.248807e-01\n",
       "RH_5           7.244839e-02\n",
       "RH_6           2.040620e-01\n",
       "T7             1.028724e-09\n",
       "RH_7           4.502226e-01\n",
       "T8             9.190001e-15\n",
       "RH_8           3.867302e-16\n",
       "RH_9           1.595528e-01\n",
       "T_out          6.547417e-01\n",
       "Press_mm_hg    8.857048e-01\n",
       "RH_out         4.214455e-01\n",
       "Windspeed      7.373749e-03\n",
       "Visibility     3.138010e-01\n",
       "dtype: float64"
      ]
     },
     "execution_count": 20,
     "metadata": {},
     "output_type": "execute_result"
    }
   ],
   "source": [
    "pval = ols_mod.pvalues\n",
    "pval"
   ]
  },
  {
   "cell_type": "code",
   "execution_count": 21,
   "metadata": {},
   "outputs": [
    {
     "data": {
      "text/plain": [
       "T2             0.429947\n",
       "T4             0.074208\n",
       "T5             0.424881\n",
       "RH_5           0.072448\n",
       "RH_6           0.204062\n",
       "RH_7           0.450223\n",
       "RH_9           0.159553\n",
       "T_out          0.654742\n",
       "Press_mm_hg    0.885705\n",
       "RH_out         0.421445\n",
       "Visibility     0.313801\n",
       "dtype: float64"
      ]
     },
     "execution_count": 21,
     "metadata": {},
     "output_type": "execute_result"
    }
   ],
   "source": [
    "pval[pval > 0.05]"
   ]
  },
  {
   "cell_type": "code",
   "execution_count": 22,
   "metadata": {},
   "outputs": [],
   "source": [
    "inpv2 = inpv1.copy()"
   ]
  },
  {
   "cell_type": "code",
   "execution_count": 61,
   "metadata": {},
   "outputs": [
    {
     "name": "stdout",
     "output_type": "stream",
     "text": [
      "The final features are: Index(['T1', 'RH_1', 'RH_2', 'T3', 'RH_3', 'T4', 'T7', 'T8', 'RH_8',\n",
      "       'Windspeed'],\n",
      "      dtype='object')\n"
     ]
    }
   ],
   "source": [
    "while(len(inpv2.columns)>0):\n",
    "    inpc = sm.add_constant(inpv2)\n",
    "    ols = sm.OLS(box_out,inpc)\n",
    "    ols_mod = ols.fit()\n",
    "    f = ols_mod.pvalues[1:].idxmax()\n",
    "    if ols_mod.pvalues[1:].max() > 0.05:\n",
    "        inpv2 = inpv2.drop(f,axis = 1)\n",
    "    else:\n",
    "        break\n",
    "print('The final features are:',inpv2.columns)"
   ]
  },
  {
   "cell_type": "code",
   "execution_count": 24,
   "metadata": {},
   "outputs": [
    {
     "data": {
      "text/html": [
       "<table class=\"simpletable\">\n",
       "<caption>OLS Regression Results</caption>\n",
       "<tr>\n",
       "  <th>Dep. Variable:</th>            <td>y</td>        <th>  R-squared:         </th> <td>   0.300</td>\n",
       "</tr>\n",
       "<tr>\n",
       "  <th>Model:</th>                   <td>OLS</td>       <th>  Adj. R-squared:    </th> <td>   0.285</td>\n",
       "</tr>\n",
       "<tr>\n",
       "  <th>Method:</th>             <td>Least Squares</td>  <th>  F-statistic:       </th> <td>   20.96</td>\n",
       "</tr>\n",
       "<tr>\n",
       "  <th>Date:</th>             <td>Sat, 03 Oct 2020</td> <th>  Prob (F-statistic):</th> <td>1.75e-62</td>\n",
       "</tr>\n",
       "<tr>\n",
       "  <th>Time:</th>                 <td>21:26:00</td>     <th>  Log-Likelihood:    </th> <td> -96.538</td>\n",
       "</tr>\n",
       "<tr>\n",
       "  <th>No. Observations:</th>      <td>  1000</td>      <th>  AIC:               </th> <td>   235.1</td>\n",
       "</tr>\n",
       "<tr>\n",
       "  <th>Df Residuals:</th>          <td>   979</td>      <th>  BIC:               </th> <td>   338.1</td>\n",
       "</tr>\n",
       "<tr>\n",
       "  <th>Df Model:</th>              <td>    20</td>      <th>                     </th>     <td> </td>   \n",
       "</tr>\n",
       "<tr>\n",
       "  <th>Covariance Type:</th>      <td>nonrobust</td>    <th>                     </th>     <td> </td>   \n",
       "</tr>\n",
       "</table>\n",
       "<table class=\"simpletable\">\n",
       "<tr>\n",
       "       <td></td>          <th>coef</th>     <th>std err</th>      <th>t</th>      <th>P>|t|</th>  <th>[0.025</th>    <th>0.975]</th>  \n",
       "</tr>\n",
       "<tr>\n",
       "  <th>const</th>       <td>    3.4560</td> <td>    0.009</td> <td>  405.770</td> <td> 0.000</td> <td>    3.439</td> <td>    3.473</td>\n",
       "</tr>\n",
       "<tr>\n",
       "  <th>T1</th>          <td>   -0.0696</td> <td>    0.030</td> <td>   -2.313</td> <td> 0.021</td> <td>   -0.129</td> <td>   -0.011</td>\n",
       "</tr>\n",
       "<tr>\n",
       "  <th>RH_1</th>        <td>    0.1272</td> <td>    0.029</td> <td>    4.401</td> <td> 0.000</td> <td>    0.070</td> <td>    0.184</td>\n",
       "</tr>\n",
       "<tr>\n",
       "  <th>T2</th>          <td>    0.0228</td> <td>    0.029</td> <td>    0.790</td> <td> 0.430</td> <td>   -0.034</td> <td>    0.080</td>\n",
       "</tr>\n",
       "<tr>\n",
       "  <th>RH_2</th>        <td>   -0.0589</td> <td>    0.027</td> <td>   -2.174</td> <td> 0.030</td> <td>   -0.112</td> <td>   -0.006</td>\n",
       "</tr>\n",
       "<tr>\n",
       "  <th>T3</th>          <td>    0.0988</td> <td>    0.025</td> <td>    3.961</td> <td> 0.000</td> <td>    0.050</td> <td>    0.148</td>\n",
       "</tr>\n",
       "<tr>\n",
       "  <th>RH_3</th>        <td>    0.0731</td> <td>    0.025</td> <td>    2.901</td> <td> 0.004</td> <td>    0.024</td> <td>    0.123</td>\n",
       "</tr>\n",
       "<tr>\n",
       "  <th>T4</th>          <td>    0.0398</td> <td>    0.022</td> <td>    1.787</td> <td> 0.074</td> <td>   -0.004</td> <td>    0.083</td>\n",
       "</tr>\n",
       "<tr>\n",
       "  <th>T5</th>          <td>   -0.0183</td> <td>    0.023</td> <td>   -0.798</td> <td> 0.425</td> <td>   -0.063</td> <td>    0.027</td>\n",
       "</tr>\n",
       "<tr>\n",
       "  <th>RH_5</th>        <td>    0.0197</td> <td>    0.011</td> <td>    1.798</td> <td> 0.072</td> <td>   -0.002</td> <td>    0.041</td>\n",
       "</tr>\n",
       "<tr>\n",
       "  <th>RH_6</th>        <td>    0.0316</td> <td>    0.025</td> <td>    1.271</td> <td> 0.204</td> <td>   -0.017</td> <td>    0.081</td>\n",
       "</tr>\n",
       "<tr>\n",
       "  <th>T7</th>          <td>   -0.1719</td> <td>    0.028</td> <td>   -6.165</td> <td> 0.000</td> <td>   -0.227</td> <td>   -0.117</td>\n",
       "</tr>\n",
       "<tr>\n",
       "  <th>RH_7</th>        <td>    0.0192</td> <td>    0.025</td> <td>    0.755</td> <td> 0.450</td> <td>   -0.031</td> <td>    0.069</td>\n",
       "</tr>\n",
       "<tr>\n",
       "  <th>T8</th>          <td>    0.1840</td> <td>    0.023</td> <td>    7.872</td> <td> 0.000</td> <td>    0.138</td> <td>    0.230</td>\n",
       "</tr>\n",
       "<tr>\n",
       "  <th>RH_8</th>        <td>   -0.2088</td> <td>    0.025</td> <td>   -8.285</td> <td> 0.000</td> <td>   -0.258</td> <td>   -0.159</td>\n",
       "</tr>\n",
       "<tr>\n",
       "  <th>RH_9</th>        <td>   -0.0292</td> <td>    0.021</td> <td>   -1.408</td> <td> 0.160</td> <td>   -0.070</td> <td>    0.011</td>\n",
       "</tr>\n",
       "<tr>\n",
       "  <th>T_out</th>       <td>    0.0096</td> <td>    0.021</td> <td>    0.447</td> <td> 0.655</td> <td>   -0.033</td> <td>    0.052</td>\n",
       "</tr>\n",
       "<tr>\n",
       "  <th>Press_mm_hg</th> <td>   -0.0015</td> <td>    0.010</td> <td>   -0.144</td> <td> 0.886</td> <td>   -0.021</td> <td>    0.018</td>\n",
       "</tr>\n",
       "<tr>\n",
       "  <th>RH_out</th>      <td>   -0.0157</td> <td>    0.020</td> <td>   -0.804</td> <td> 0.421</td> <td>   -0.054</td> <td>    0.023</td>\n",
       "</tr>\n",
       "<tr>\n",
       "  <th>Windspeed</th>   <td>    0.0287</td> <td>    0.011</td> <td>    2.685</td> <td> 0.007</td> <td>    0.008</td> <td>    0.050</td>\n",
       "</tr>\n",
       "<tr>\n",
       "  <th>Visibility</th>  <td>   -0.0088</td> <td>    0.009</td> <td>   -1.008</td> <td> 0.314</td> <td>   -0.026</td> <td>    0.008</td>\n",
       "</tr>\n",
       "</table>\n",
       "<table class=\"simpletable\">\n",
       "<tr>\n",
       "  <th>Omnibus:</th>       <td> 9.007</td> <th>  Durbin-Watson:     </th> <td>   1.968</td>\n",
       "</tr>\n",
       "<tr>\n",
       "  <th>Prob(Omnibus):</th> <td> 0.011</td> <th>  Jarque-Bera (JB):  </th> <td>  12.487</td>\n",
       "</tr>\n",
       "<tr>\n",
       "  <th>Skew:</th>          <td> 0.060</td> <th>  Prob(JB):          </th> <td> 0.00194</td>\n",
       "</tr>\n",
       "<tr>\n",
       "  <th>Kurtosis:</th>      <td> 3.534</td> <th>  Cond. No.          </th> <td>    14.6</td>\n",
       "</tr>\n",
       "</table><br/><br/>Warnings:<br/>[1] Standard Errors assume that the covariance matrix of the errors is correctly specified."
      ],
      "text/plain": [
       "<class 'statsmodels.iolib.summary.Summary'>\n",
       "\"\"\"\n",
       "                            OLS Regression Results                            \n",
       "==============================================================================\n",
       "Dep. Variable:                      y   R-squared:                       0.300\n",
       "Model:                            OLS   Adj. R-squared:                  0.285\n",
       "Method:                 Least Squares   F-statistic:                     20.96\n",
       "Date:                Sat, 03 Oct 2020   Prob (F-statistic):           1.75e-62\n",
       "Time:                        21:26:00   Log-Likelihood:                -96.538\n",
       "No. Observations:                1000   AIC:                             235.1\n",
       "Df Residuals:                     979   BIC:                             338.1\n",
       "Df Model:                          20                                         \n",
       "Covariance Type:            nonrobust                                         \n",
       "===============================================================================\n",
       "                  coef    std err          t      P>|t|      [0.025      0.975]\n",
       "-------------------------------------------------------------------------------\n",
       "const           3.4560      0.009    405.770      0.000       3.439       3.473\n",
       "T1             -0.0696      0.030     -2.313      0.021      -0.129      -0.011\n",
       "RH_1            0.1272      0.029      4.401      0.000       0.070       0.184\n",
       "T2              0.0228      0.029      0.790      0.430      -0.034       0.080\n",
       "RH_2           -0.0589      0.027     -2.174      0.030      -0.112      -0.006\n",
       "T3              0.0988      0.025      3.961      0.000       0.050       0.148\n",
       "RH_3            0.0731      0.025      2.901      0.004       0.024       0.123\n",
       "T4              0.0398      0.022      1.787      0.074      -0.004       0.083\n",
       "T5             -0.0183      0.023     -0.798      0.425      -0.063       0.027\n",
       "RH_5            0.0197      0.011      1.798      0.072      -0.002       0.041\n",
       "RH_6            0.0316      0.025      1.271      0.204      -0.017       0.081\n",
       "T7             -0.1719      0.028     -6.165      0.000      -0.227      -0.117\n",
       "RH_7            0.0192      0.025      0.755      0.450      -0.031       0.069\n",
       "T8              0.1840      0.023      7.872      0.000       0.138       0.230\n",
       "RH_8           -0.2088      0.025     -8.285      0.000      -0.258      -0.159\n",
       "RH_9           -0.0292      0.021     -1.408      0.160      -0.070       0.011\n",
       "T_out           0.0096      0.021      0.447      0.655      -0.033       0.052\n",
       "Press_mm_hg    -0.0015      0.010     -0.144      0.886      -0.021       0.018\n",
       "RH_out         -0.0157      0.020     -0.804      0.421      -0.054       0.023\n",
       "Windspeed       0.0287      0.011      2.685      0.007       0.008       0.050\n",
       "Visibility     -0.0088      0.009     -1.008      0.314      -0.026       0.008\n",
       "==============================================================================\n",
       "Omnibus:                        9.007   Durbin-Watson:                   1.968\n",
       "Prob(Omnibus):                  0.011   Jarque-Bera (JB):               12.487\n",
       "Skew:                           0.060   Prob(JB):                      0.00194\n",
       "Kurtosis:                       3.534   Cond. No.                         14.6\n",
       "==============================================================================\n",
       "\n",
       "Warnings:\n",
       "[1] Standard Errors assume that the covariance matrix of the errors is correctly specified.\n",
       "\"\"\""
      ]
     },
     "execution_count": 24,
     "metadata": {},
     "output_type": "execute_result"
    }
   ],
   "source": [
    "ols_mod.summary()"
   ]
  },
  {
   "cell_type": "code",
   "execution_count": 25,
   "metadata": {},
   "outputs": [],
   "source": [
    "#! pip install mlxtend"
   ]
  },
  {
   "cell_type": "code",
   "execution_count": 26,
   "metadata": {},
   "outputs": [],
   "source": [
    "from mlxtend.feature_selection import SequentialFeatureSelector as sfs\n",
    "from sklearn.linear_model import LinearRegression"
   ]
  },
  {
   "cell_type": "code",
   "execution_count": 27,
   "metadata": {},
   "outputs": [],
   "source": [
    "lr = LinearRegression()"
   ]
  },
  {
   "cell_type": "code",
   "execution_count": 28,
   "metadata": {},
   "outputs": [],
   "source": [
    "backward = sfs(estimator=lr,k_features=8,forward=False,scoring='r2')\n",
    "sfs_backward = backward.fit(inpv1,box_out)"
   ]
  },
  {
   "cell_type": "code",
   "execution_count": 29,
   "metadata": {},
   "outputs": [
    {
     "data": {
      "text/plain": [
       "('RH_1', 'RH_2', 'T3', 'RH_3', 'T7', 'T8', 'RH_8', 'Windspeed')"
      ]
     },
     "execution_count": 29,
     "metadata": {},
     "output_type": "execute_result"
    }
   ],
   "source": [
    "feat_back = sfs_backward.k_feature_names_\n",
    "feat_back"
   ]
  },
  {
   "cell_type": "code",
   "execution_count": 30,
   "metadata": {},
   "outputs": [
    {
     "data": {
      "text/plain": [
       "0.2640539185390379"
      ]
     },
     "execution_count": 30,
     "metadata": {},
     "output_type": "execute_result"
    }
   ],
   "source": [
    "sfs_backward.k_score_"
   ]
  },
  {
   "cell_type": "code",
   "execution_count": null,
   "metadata": {},
   "outputs": [],
   "source": []
  },
  {
   "cell_type": "code",
   "execution_count": 31,
   "metadata": {},
   "outputs": [],
   "source": [
    "lr = LinearRegression()\n",
    "forward = sfs(estimator=lr,k_features='best',forward=True,scoring='neg_mean_squared_error')\n",
    "sfs_forward = forward.fit(inpv1,box_out)"
   ]
  },
  {
   "cell_type": "code",
   "execution_count": 32,
   "metadata": {},
   "outputs": [
    {
     "data": {
      "text/plain": [
       "('T1',\n",
       " 'RH_1',\n",
       " 'T2',\n",
       " 'RH_2',\n",
       " 'T3',\n",
       " 'RH_3',\n",
       " 'T4',\n",
       " 'T5',\n",
       " 'RH_5',\n",
       " 'T7',\n",
       " 'T8',\n",
       " 'RH_8',\n",
       " 'RH_9',\n",
       " 'RH_out',\n",
       " 'Windspeed')"
      ]
     },
     "execution_count": 32,
     "metadata": {},
     "output_type": "execute_result"
    }
   ],
   "source": [
    "feat_forward = sfs_forward.k_feature_names_\n",
    "feat_forward"
   ]
  },
  {
   "cell_type": "code",
   "execution_count": 33,
   "metadata": {},
   "outputs": [
    {
     "data": {
      "text/plain": [
       "-0.07359703081949001"
      ]
     },
     "execution_count": 33,
     "metadata": {},
     "output_type": "execute_result"
    }
   ],
   "source": [
    "sfs_forward.k_score_"
   ]
  },
  {
   "cell_type": "code",
   "execution_count": null,
   "metadata": {},
   "outputs": [],
   "source": []
  },
  {
   "cell_type": "code",
   "execution_count": 34,
   "metadata": {},
   "outputs": [],
   "source": [
    "#RFE"
   ]
  },
  {
   "cell_type": "code",
   "execution_count": 35,
   "metadata": {},
   "outputs": [],
   "source": [
    "from sklearn.feature_selection import RFECV"
   ]
  },
  {
   "cell_type": "code",
   "execution_count": 36,
   "metadata": {},
   "outputs": [],
   "source": [
    "lr = LinearRegression()\n",
    "rfe=RFECV(estimator=lr)\n",
    "rfe_mod=rfe.fit(inpv1,box_out)"
   ]
  },
  {
   "cell_type": "code",
   "execution_count": 37,
   "metadata": {},
   "outputs": [
    {
     "data": {
      "text/plain": [
       "array([1, 1, 1, 1, 1, 1, 1, 1, 1, 1, 1, 1, 1, 1, 1, 1, 2, 1, 1, 1])"
      ]
     },
     "execution_count": 37,
     "metadata": {},
     "output_type": "execute_result"
    }
   ],
   "source": [
    "rfe_mod.ranking_"
   ]
  },
  {
   "cell_type": "code",
   "execution_count": 38,
   "metadata": {},
   "outputs": [],
   "source": [
    "from sklearn.model_selection import train_test_split\n",
    "xtrain,xtest,ytrain,ytest = train_test_split(inpv1,box_out,test_size = 0.3,random_state = 48)"
   ]
  },
  {
   "cell_type": "code",
   "execution_count": 39,
   "metadata": {},
   "outputs": [
    {
     "data": {
      "text/plain": [
       "array([ 2,  1,  7,  1,  1,  1,  3,  5, 13,  8,  1,  4,  1,  1, 11, 12, 10,\n",
       "        9,  6, 14])"
      ]
     },
     "execution_count": 39,
     "metadata": {},
     "output_type": "execute_result"
    }
   ],
   "source": [
    "lr = LinearRegression()\n",
    "rfe=RFECV(estimator=lr)\n",
    "rfe_mod=rfe.fit(xtrain,ytrain)\n",
    "rfe_mod.ranking_"
   ]
  },
  {
   "cell_type": "code",
   "execution_count": 40,
   "metadata": {},
   "outputs": [],
   "source": [
    "rank = pd.DataFrame()"
   ]
  },
  {
   "cell_type": "code",
   "execution_count": 41,
   "metadata": {},
   "outputs": [
    {
     "data": {
      "text/plain": [
       "1     RH_1\n",
       "3     RH_2\n",
       "4       T3\n",
       "5     RH_3\n",
       "10      T7\n",
       "12      T8\n",
       "13    RH_8\n",
       "Name: Features, dtype: object"
      ]
     },
     "execution_count": 41,
     "metadata": {},
     "output_type": "execute_result"
    }
   ],
   "source": [
    "rank['Features'] = xtrain.columns\n",
    "rank['Rank'] = rfe_mod.ranking_\n",
    "feat_rfe = rank[rank['Rank']==1]['Features']\n",
    "feat_rfe"
   ]
  },
  {
   "cell_type": "code",
   "execution_count": 42,
   "metadata": {},
   "outputs": [
    {
     "name": "stdout",
     "output_type": "stream",
     "text": [
      "('T1', 'RH_1', 'T2', 'RH_2', 'T3', 'RH_3', 'T4', 'T7', 'RH_7', 'T8', 'RH_8', 'Windspeed')\n"
     ]
    },
    {
     "data": {
      "text/plain": [
       "0.2642922233769216"
      ]
     },
     "execution_count": 42,
     "metadata": {},
     "output_type": "execute_result"
    }
   ],
   "source": [
    "lr=LinearRegression()\n",
    "backward=sfs(estimator=lr,k_features='best',forward=False,scoring='r2')\n",
    "sfs_backward=backward.fit(xtrain,ytrain)\n",
    "feat_back=sfs_backward.k_feature_names_\n",
    "print(feat_back)\n",
    "sfs_backward.k_score_"
   ]
  },
  {
   "cell_type": "code",
   "execution_count": 43,
   "metadata": {},
   "outputs": [
    {
     "name": "stdout",
     "output_type": "stream",
     "text": [
      "('T1', 'RH_1', 'T2', 'RH_2', 'T3', 'RH_3', 'T4', 'RH_6', 'T7', 'RH_7', 'T8', 'RH_8', 'RH_out', 'Windspeed')\n"
     ]
    },
    {
     "data": {
      "text/plain": [
       "0.2580618649247601"
      ]
     },
     "execution_count": 43,
     "metadata": {},
     "output_type": "execute_result"
    }
   ],
   "source": [
    "lr=LinearRegression()\n",
    "forward=sfs(estimator=lr,k_features='best',forward=True,scoring='r2')\n",
    "sfs_forward=forward.fit(xtrain,ytrain)\n",
    "feat_forw=sfs_forward.k_feature_names_\n",
    "print(feat_forw)\n",
    "sfs_forward.k_score_"
   ]
  },
  {
   "cell_type": "code",
   "execution_count": 44,
   "metadata": {},
   "outputs": [],
   "source": [
    "feat_back = list(feat_back)\n",
    "feat_forw = list(feat_forw)\n",
    "feat_rfe = list(feat_rfe)"
   ]
  },
  {
   "cell_type": "code",
   "execution_count": 45,
   "metadata": {},
   "outputs": [],
   "source": [
    "from sklearn.metrics import r2_score,mean_squared_error"
   ]
  },
  {
   "cell_type": "code",
   "execution_count": 46,
   "metadata": {},
   "outputs": [
    {
     "data": {
      "text/plain": [
       "[0.24764445302053473, 0.28278438637748526]"
      ]
     },
     "execution_count": 46,
     "metadata": {},
     "output_type": "execute_result"
    }
   ],
   "source": [
    "# Backward Elimination\n",
    "lr = LinearRegression()\n",
    "lr_mod = lr.fit(xtrain[feat_back],ytrain)\n",
    "ypred = lr.predict(xtest[feat_back])\n",
    "r2 = r2_score(ytest,ypred)\n",
    "rmse = np.sqrt(mean_squared_error(ytest,ypred))\n",
    "res_back = [r2,rmse]\n",
    "res_back"
   ]
  },
  {
   "cell_type": "code",
   "execution_count": 47,
   "metadata": {},
   "outputs": [
    {
     "data": {
      "text/plain": [
       "[0.24613114075160314, 0.28306864433610956]"
      ]
     },
     "execution_count": 47,
     "metadata": {},
     "output_type": "execute_result"
    }
   ],
   "source": [
    "# Forward Selection\n",
    "lr = LinearRegression()\n",
    "lr_mod = lr.fit(xtrain[feat_forw],ytrain)\n",
    "ypred = lr.predict(xtest[feat_forw])\n",
    "r2 = r2_score(ytest,ypred)\n",
    "rmse = np.sqrt(mean_squared_error(ytest,ypred))\n",
    "res_forw = [r2,rmse]\n",
    "res_forw"
   ]
  },
  {
   "cell_type": "code",
   "execution_count": 48,
   "metadata": {},
   "outputs": [
    {
     "data": {
      "text/plain": [
       "[0.24115238577726494, 0.28400183726301936]"
      ]
     },
     "execution_count": 48,
     "metadata": {},
     "output_type": "execute_result"
    }
   ],
   "source": [
    "#RFE\n",
    "lr = LinearRegression()\n",
    "lr_mod = lr.fit(xtrain[feat_rfe],ytrain)\n",
    "ypred = lr.predict(xtest[feat_rfe])\n",
    "r2 = r2_score(ytest,ypred)\n",
    "rmse = np.sqrt(mean_squared_error(ytest,ypred))\n",
    "res_rfe = [r2,rmse]\n",
    "res_rfe"
   ]
  },
  {
   "cell_type": "code",
   "execution_count": 49,
   "metadata": {},
   "outputs": [
    {
     "data": {
      "text/html": [
       "<div>\n",
       "<style scoped>\n",
       "    .dataframe tbody tr th:only-of-type {\n",
       "        vertical-align: middle;\n",
       "    }\n",
       "\n",
       "    .dataframe tbody tr th {\n",
       "        vertical-align: top;\n",
       "    }\n",
       "\n",
       "    .dataframe thead th {\n",
       "        text-align: right;\n",
       "    }\n",
       "</style>\n",
       "<table border=\"1\" class=\"dataframe\">\n",
       "  <thead>\n",
       "    <tr style=\"text-align: right;\">\n",
       "      <th></th>\n",
       "      <th>Backward_Elimination</th>\n",
       "      <th>Forward_Selection</th>\n",
       "      <th>RFE</th>\n",
       "    </tr>\n",
       "  </thead>\n",
       "  <tbody>\n",
       "    <tr>\n",
       "      <th>R-Square</th>\n",
       "      <td>0.247644</td>\n",
       "      <td>0.246131</td>\n",
       "      <td>0.241152</td>\n",
       "    </tr>\n",
       "    <tr>\n",
       "      <th>RMSE</th>\n",
       "      <td>0.282784</td>\n",
       "      <td>0.283069</td>\n",
       "      <td>0.284002</td>\n",
       "    </tr>\n",
       "  </tbody>\n",
       "</table>\n",
       "</div>"
      ],
      "text/plain": [
       "          Backward_Elimination  Forward_Selection       RFE\n",
       "R-Square              0.247644           0.246131  0.241152\n",
       "RMSE                  0.282784           0.283069  0.284002"
      ]
     },
     "execution_count": 49,
     "metadata": {},
     "output_type": "execute_result"
    }
   ],
   "source": [
    "scorecard = pd.DataFrame()\n",
    "scorecard['Backward_Elimination'] = res_back\n",
    "scorecard['Forward_Selection'] = res_forw\n",
    "scorecard['RFE'] = res_rfe\n",
    "scorecard.index = ['R-Square','RMSE']\n",
    "scorecard"
   ]
  },
  {
   "cell_type": "code",
   "execution_count": 50,
   "metadata": {},
   "outputs": [],
   "source": [
    "#find r-square train and rmse train and add to scorecard "
   ]
  },
  {
   "cell_type": "code",
   "execution_count": 51,
   "metadata": {},
   "outputs": [],
   "source": [
    "#Model Validation\n",
    "from sklearn.model_selection import cross_val_score"
   ]
  },
  {
   "cell_type": "code",
   "execution_count": 52,
   "metadata": {},
   "outputs": [
    {
     "data": {
      "text/plain": [
       "array([0.23247289, 0.28435525, 0.2712015 , 0.23841934, 0.27664471])"
      ]
     },
     "execution_count": 52,
     "metadata": {},
     "output_type": "execute_result"
    }
   ],
   "source": [
    "lr = LinearRegression()\n",
    "r2 = cross_val_score(lr,inpv1,box_out,cv=5,scoring='r2')   \n",
    "r2"
   ]
  },
  {
   "cell_type": "code",
   "execution_count": 53,
   "metadata": {},
   "outputs": [
    {
     "data": {
      "text/plain": [
       "array([0.06781177, 0.08267563, 0.07976837, 0.07538223, 0.06636858])"
      ]
     },
     "execution_count": 53,
     "metadata": {},
     "output_type": "execute_result"
    }
   ],
   "source": [
    "mse = abs(cross_val_score(lr,inpv1,box_out,cv=5,scoring='neg_mean_squared_error'))\n",
    "mse"
   ]
  },
  {
   "cell_type": "code",
   "execution_count": 54,
   "metadata": {},
   "outputs": [
    {
     "data": {
      "text/plain": [
       "0.2606187364254498"
      ]
     },
     "execution_count": 54,
     "metadata": {},
     "output_type": "execute_result"
    }
   ],
   "source": [
    "np.mean(r2)"
   ]
  },
  {
   "cell_type": "code",
   "execution_count": 55,
   "metadata": {},
   "outputs": [
    {
     "data": {
      "text/plain": [
       "0.021058254800626876"
      ]
     },
     "execution_count": 55,
     "metadata": {},
     "output_type": "execute_result"
    }
   ],
   "source": [
    "np.std(r2)"
   ]
  },
  {
   "cell_type": "code",
   "execution_count": 56,
   "metadata": {},
   "outputs": [
    {
     "data": {
      "text/plain": [
       "0.08080100106943235"
      ]
     },
     "execution_count": 56,
     "metadata": {},
     "output_type": "execute_result"
    }
   ],
   "source": [
    "np.std(r2)/np.mean(r2)"
   ]
  },
  {
   "cell_type": "code",
   "execution_count": 57,
   "metadata": {},
   "outputs": [
    {
     "data": {
      "text/plain": [
       "0.07440131814116327"
      ]
     },
     "execution_count": 57,
     "metadata": {},
     "output_type": "execute_result"
    }
   ],
   "source": [
    "bias_error = np.mean(mse) # avg mse of the model\n",
    "bias_error"
   ]
  },
  {
   "cell_type": "code",
   "execution_count": 58,
   "metadata": {},
   "outputs": [
    {
     "data": {
      "text/plain": [
       "0.006421503916869816"
      ]
     },
     "execution_count": 58,
     "metadata": {},
     "output_type": "execute_result"
    }
   ],
   "source": [
    "np.std(mse)   # standard deviation close to zero , model is reliable"
   ]
  },
  {
   "cell_type": "code",
   "execution_count": 59,
   "metadata": {},
   "outputs": [
    {
     "data": {
      "text/plain": [
       "0.08630900738460243"
      ]
     },
     "execution_count": 59,
     "metadata": {},
     "output_type": "execute_result"
    }
   ],
   "source": [
    "np.std(mse)/np.mean(mse)   # coefficient of variation, model is deviating 8%"
   ]
  },
  {
   "cell_type": "code",
   "execution_count": 60,
   "metadata": {},
   "outputs": [],
   "source": [
    "# if the deviation is more than 20-30% then it is overfitting model"
   ]
  },
  {
   "cell_type": "code",
   "execution_count": null,
   "metadata": {},
   "outputs": [],
   "source": []
  }
 ],
 "metadata": {
  "kernelspec": {
   "display_name": "Python 3",
   "language": "python",
   "name": "python3"
  },
  "language_info": {
   "codemirror_mode": {
    "name": "ipython",
    "version": 3
   },
   "file_extension": ".py",
   "mimetype": "text/x-python",
   "name": "python",
   "nbconvert_exporter": "python",
   "pygments_lexer": "ipython3",
   "version": "3.8.3"
  }
 },
 "nbformat": 4,
 "nbformat_minor": 4
}
