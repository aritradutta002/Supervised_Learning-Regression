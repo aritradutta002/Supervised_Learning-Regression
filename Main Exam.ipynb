{
 "cells": [
  {
   "cell_type": "markdown",
   "metadata": {},
   "source": [
    "# SLR FINAL EXAM"
   ]
  },
  {
   "cell_type": "markdown",
   "metadata": {},
   "source": [
    "### DATA DESCRIPTION: \n",
    "\n",
    "\n",
    "This dataset is having data of customers who buys clothes online. This file has customer email, avg. session time with stylist, Time spent on the app and website, Length of Membership. Our main objective is to predict the Yearly amount spent by the customers.\n",
    "\n",
    "### ATTRIBUTES:\n",
    "\n",
    "Email: Email of the customer  \n",
    "\n",
    "Address: Address of the customer     \n",
    "\n",
    "Avatar: Avatar chosen by the customer  \n",
    "\n",
    "Avg. Session Length: Average duration of the online session\n",
    "\n",
    "Time on App: Time spent on App      \n",
    "\n",
    "Time on Website: Time spent on website  \n",
    "\n",
    "Length of Membership: Time period of membership\n",
    "\n",
    "Yearly Amount Spent: Yearly amount spent by the customer\n"
   ]
  },
  {
   "cell_type": "code",
   "execution_count": 147,
   "metadata": {},
   "outputs": [],
   "source": [
    "#Importing reqiured libraries\n",
    "import numpy as np\n",
    "import pandas as pd\n",
    "import matplotlib.pyplot as plt\n",
    "import seaborn as sns\n",
    "%matplotlib inline\n",
    "import warnings\n",
    "warnings.simplefilter('ignore')\n",
    "from sklearn.model_selection import train_test_split, cross_val_score, RandomizedSearchCV\n",
    "import statsmodels.api as sm\n",
    "from statsmodels.stats.outliers_influence import variance_inflation_factor\n",
    "from statsmodels.stats.diagnostic import linear_rainbow\n",
    "from statsmodels.stats.api import het_goldfeldquandt\n",
    "from scipy import stats\n",
    "from sklearn.linear_model import LinearRegression, Ridge, Lasso, ElasticNet\n",
    "from sklearn.metrics import r2_score, mean_squared_error\n",
    "from mlxtend.feature_selection import SequentialFeatureSelector as sfs\n",
    "from sklearn.feature_selection import RFECV\n",
    "from sklearn.preprocessing import PolynomialFeatures"
   ]
  },
  {
   "cell_type": "markdown",
   "metadata": {},
   "source": [
    "### 1.\t Read the dataset (tab, csv, xls, txt, inbuilt dataset) "
   ]
  },
  {
   "cell_type": "code",
   "execution_count": null,
   "metadata": {
    "colab_type": "raw",
    "id": "wEgYP9-oW0cg"
   },
   "outputs": [],
   "source": [
    "## Kindly change the below cells from markdown to code and execute it "
   ]
  },
  {
   "cell_type": "code",
   "execution_count": 1,
   "metadata": {
    "colab_type": "raw",
    "id": "VQ_WA9jKW0ch"
   },
   "outputs": [
    {
     "data": {
      "text/html": [
       "<div>\n",
       "<style scoped>\n",
       "    .dataframe tbody tr th:only-of-type {\n",
       "        vertical-align: middle;\n",
       "    }\n",
       "\n",
       "    .dataframe tbody tr th {\n",
       "        vertical-align: top;\n",
       "    }\n",
       "\n",
       "    .dataframe thead th {\n",
       "        text-align: right;\n",
       "    }\n",
       "</style>\n",
       "<table border=\"1\" class=\"dataframe\">\n",
       "  <thead>\n",
       "    <tr style=\"text-align: right;\">\n",
       "      <th></th>\n",
       "      <th>Email</th>\n",
       "      <th>Address</th>\n",
       "      <th>Avatar</th>\n",
       "      <th>Avg. Session Length</th>\n",
       "      <th>Time on App</th>\n",
       "      <th>Time on Website</th>\n",
       "      <th>Length of Membership</th>\n",
       "      <th>Yearly Amount Spent</th>\n",
       "    </tr>\n",
       "  </thead>\n",
       "  <tbody>\n",
       "    <tr>\n",
       "      <th>0</th>\n",
       "      <td>mstephenson@fernandez.com</td>\n",
       "      <td>835 Frank Tunnel\\nWrightmouth, MI 82180-9605</td>\n",
       "      <td>Violet</td>\n",
       "      <td>34.497268</td>\n",
       "      <td>12.655651</td>\n",
       "      <td>39.577668</td>\n",
       "      <td>4.082621</td>\n",
       "      <td>587.951054</td>\n",
       "    </tr>\n",
       "    <tr>\n",
       "      <th>1</th>\n",
       "      <td>hduke@hotmail.com</td>\n",
       "      <td>4547 Archer Common\\nDiazchester, CA 06566-8576</td>\n",
       "      <td>DarkGreen</td>\n",
       "      <td>31.926272</td>\n",
       "      <td>11.109461</td>\n",
       "      <td>37.268959</td>\n",
       "      <td>2.664034</td>\n",
       "      <td>392.204933</td>\n",
       "    </tr>\n",
       "    <tr>\n",
       "      <th>2</th>\n",
       "      <td>pallen@yahoo.com</td>\n",
       "      <td>24645 Valerie Unions Suite 582\\nCobbborough, D...</td>\n",
       "      <td>Bisque</td>\n",
       "      <td>33.000915</td>\n",
       "      <td>11.330278</td>\n",
       "      <td>37.110597</td>\n",
       "      <td>4.104543</td>\n",
       "      <td>487.547505</td>\n",
       "    </tr>\n",
       "    <tr>\n",
       "      <th>3</th>\n",
       "      <td>riverarebecca@gmail.com</td>\n",
       "      <td>1414 David Throughway\\nPort Jason, OH 22070-1220</td>\n",
       "      <td>SaddleBrown</td>\n",
       "      <td>34.305557</td>\n",
       "      <td>13.717514</td>\n",
       "      <td>36.721283</td>\n",
       "      <td>3.120179</td>\n",
       "      <td>581.852344</td>\n",
       "    </tr>\n",
       "    <tr>\n",
       "      <th>4</th>\n",
       "      <td>mstephens@davidson-herman.com</td>\n",
       "      <td>14023 Rodriguez Passage\\nPort Jacobville, PR 3...</td>\n",
       "      <td>MediumAquaMarine</td>\n",
       "      <td>33.330673</td>\n",
       "      <td>12.795189</td>\n",
       "      <td>37.536653</td>\n",
       "      <td>4.446308</td>\n",
       "      <td>599.406092</td>\n",
       "    </tr>\n",
       "  </tbody>\n",
       "</table>\n",
       "</div>"
      ],
      "text/plain": [
       "                           Email  \\\n",
       "0      mstephenson@fernandez.com   \n",
       "1              hduke@hotmail.com   \n",
       "2               pallen@yahoo.com   \n",
       "3        riverarebecca@gmail.com   \n",
       "4  mstephens@davidson-herman.com   \n",
       "\n",
       "                                             Address            Avatar  \\\n",
       "0       835 Frank Tunnel\\nWrightmouth, MI 82180-9605            Violet   \n",
       "1     4547 Archer Common\\nDiazchester, CA 06566-8576         DarkGreen   \n",
       "2  24645 Valerie Unions Suite 582\\nCobbborough, D...            Bisque   \n",
       "3   1414 David Throughway\\nPort Jason, OH 22070-1220       SaddleBrown   \n",
       "4  14023 Rodriguez Passage\\nPort Jacobville, PR 3...  MediumAquaMarine   \n",
       "\n",
       "   Avg. Session Length  Time on App  Time on Website  Length of Membership  \\\n",
       "0            34.497268    12.655651        39.577668              4.082621   \n",
       "1            31.926272    11.109461        37.268959              2.664034   \n",
       "2            33.000915    11.330278        37.110597              4.104543   \n",
       "3            34.305557    13.717514        36.721283              3.120179   \n",
       "4            33.330673    12.795189        37.536653              4.446308   \n",
       "\n",
       "   Yearly Amount Spent  \n",
       "0           587.951054  \n",
       "1           392.204933  \n",
       "2           487.547505  \n",
       "3           581.852344  \n",
       "4           599.406092  "
      ]
     },
     "execution_count": 1,
     "metadata": {},
     "output_type": "execute_result"
    }
   ],
   "source": [
    "import pandas as pd\n",
    "\n",
    "import csv\n",
    "\n",
    "with open(\"data_set.csv\",\"r\")as file:\n",
    "    \n",
    "    reader=csv.reader(file)\n",
    "\n",
    "df=pd.read_csv(\"data_set.csv\")\n",
    "\n",
    "df.head()\n"
   ]
  },
  {
   "cell_type": "code",
   "execution_count": null,
   "metadata": {},
   "outputs": [],
   "source": []
  },
  {
   "cell_type": "markdown",
   "metadata": {},
   "source": [
    "### 2.\tSummarize important observations from the data set (5 Marks)\n",
    "\n",
    "Some pointers which would help you, but don’t be limited by these\n",
    "\n",
    "a.\tWhat are the number of rows; no. & types of variables (continuous, categorical etc.)\n",
    "\n",
    "b.\tCalculate five point summary for numerical variables\n",
    "\n",
    "c.\tSummarize observations for categorical variables – no. of categories, % observations in each category\n"
   ]
  },
  {
   "cell_type": "markdown",
   "metadata": {},
   "source": [
    "#### a.\tWhat are the number of rows; no. & types of variables (continuous, categorical etc.)"
   ]
  },
  {
   "cell_type": "code",
   "execution_count": 6,
   "metadata": {},
   "outputs": [
    {
     "name": "stdout",
     "output_type": "stream",
     "text": [
      "Number of Rows: 500\n",
      "Number of Columns: 8\n"
     ]
    }
   ],
   "source": [
    "print('Number of Rows:',df.shape[0])\n",
    "print('Number of Columns:',df.shape[1])"
   ]
  },
  {
   "cell_type": "code",
   "execution_count": 4,
   "metadata": {},
   "outputs": [
    {
     "name": "stdout",
     "output_type": "stream",
     "text": [
      "<class 'pandas.core.frame.DataFrame'>\n",
      "RangeIndex: 500 entries, 0 to 499\n",
      "Data columns (total 8 columns):\n",
      "Email                   500 non-null object\n",
      "Address                 500 non-null object\n",
      "Avatar                  500 non-null object\n",
      "Avg. Session Length     500 non-null float64\n",
      "Time on App             500 non-null float64\n",
      "Time on Website         500 non-null float64\n",
      "Length of Membership    500 non-null float64\n",
      "Yearly Amount Spent     500 non-null float64\n",
      "dtypes: float64(5), object(3)\n",
      "memory usage: 31.3+ KB\n"
     ]
    }
   ],
   "source": [
    "df.info()"
   ]
  },
  {
   "cell_type": "markdown",
   "metadata": {},
   "source": [
    "**There are 3 object type and 5 numerical present in the dataset.**"
   ]
  },
  {
   "cell_type": "markdown",
   "metadata": {},
   "source": [
    "#### b.\tCalculate five point summary for numerical variables"
   ]
  },
  {
   "cell_type": "code",
   "execution_count": 7,
   "metadata": {},
   "outputs": [
    {
     "data": {
      "text/html": [
       "<div>\n",
       "<style scoped>\n",
       "    .dataframe tbody tr th:only-of-type {\n",
       "        vertical-align: middle;\n",
       "    }\n",
       "\n",
       "    .dataframe tbody tr th {\n",
       "        vertical-align: top;\n",
       "    }\n",
       "\n",
       "    .dataframe thead th {\n",
       "        text-align: right;\n",
       "    }\n",
       "</style>\n",
       "<table border=\"1\" class=\"dataframe\">\n",
       "  <thead>\n",
       "    <tr style=\"text-align: right;\">\n",
       "      <th></th>\n",
       "      <th>Avg. Session Length</th>\n",
       "      <th>Time on App</th>\n",
       "      <th>Time on Website</th>\n",
       "      <th>Length of Membership</th>\n",
       "      <th>Yearly Amount Spent</th>\n",
       "    </tr>\n",
       "  </thead>\n",
       "  <tbody>\n",
       "    <tr>\n",
       "      <th>count</th>\n",
       "      <td>500.000000</td>\n",
       "      <td>500.000000</td>\n",
       "      <td>500.000000</td>\n",
       "      <td>500.000000</td>\n",
       "      <td>500.000000</td>\n",
       "    </tr>\n",
       "    <tr>\n",
       "      <th>mean</th>\n",
       "      <td>33.053194</td>\n",
       "      <td>12.052488</td>\n",
       "      <td>37.060445</td>\n",
       "      <td>3.533462</td>\n",
       "      <td>499.314038</td>\n",
       "    </tr>\n",
       "    <tr>\n",
       "      <th>std</th>\n",
       "      <td>0.992563</td>\n",
       "      <td>0.994216</td>\n",
       "      <td>1.010489</td>\n",
       "      <td>0.999278</td>\n",
       "      <td>79.314782</td>\n",
       "    </tr>\n",
       "    <tr>\n",
       "      <th>min</th>\n",
       "      <td>29.532429</td>\n",
       "      <td>8.508152</td>\n",
       "      <td>33.913847</td>\n",
       "      <td>0.269901</td>\n",
       "      <td>256.670582</td>\n",
       "    </tr>\n",
       "    <tr>\n",
       "      <th>25%</th>\n",
       "      <td>32.341822</td>\n",
       "      <td>11.388153</td>\n",
       "      <td>36.349257</td>\n",
       "      <td>2.930450</td>\n",
       "      <td>445.038277</td>\n",
       "    </tr>\n",
       "    <tr>\n",
       "      <th>50%</th>\n",
       "      <td>33.082008</td>\n",
       "      <td>11.983231</td>\n",
       "      <td>37.069367</td>\n",
       "      <td>3.533975</td>\n",
       "      <td>498.887875</td>\n",
       "    </tr>\n",
       "    <tr>\n",
       "      <th>75%</th>\n",
       "      <td>33.711985</td>\n",
       "      <td>12.753850</td>\n",
       "      <td>37.716432</td>\n",
       "      <td>4.126502</td>\n",
       "      <td>549.313828</td>\n",
       "    </tr>\n",
       "    <tr>\n",
       "      <th>max</th>\n",
       "      <td>36.139662</td>\n",
       "      <td>15.126994</td>\n",
       "      <td>40.005182</td>\n",
       "      <td>6.922689</td>\n",
       "      <td>765.518462</td>\n",
       "    </tr>\n",
       "  </tbody>\n",
       "</table>\n",
       "</div>"
      ],
      "text/plain": [
       "       Avg. Session Length  Time on App  Time on Website  \\\n",
       "count           500.000000   500.000000       500.000000   \n",
       "mean             33.053194    12.052488        37.060445   \n",
       "std               0.992563     0.994216         1.010489   \n",
       "min              29.532429     8.508152        33.913847   \n",
       "25%              32.341822    11.388153        36.349257   \n",
       "50%              33.082008    11.983231        37.069367   \n",
       "75%              33.711985    12.753850        37.716432   \n",
       "max              36.139662    15.126994        40.005182   \n",
       "\n",
       "       Length of Membership  Yearly Amount Spent  \n",
       "count            500.000000           500.000000  \n",
       "mean               3.533462           499.314038  \n",
       "std                0.999278            79.314782  \n",
       "min                0.269901           256.670582  \n",
       "25%                2.930450           445.038277  \n",
       "50%                3.533975           498.887875  \n",
       "75%                4.126502           549.313828  \n",
       "max                6.922689           765.518462  "
      ]
     },
     "execution_count": 7,
     "metadata": {},
     "output_type": "execute_result"
    }
   ],
   "source": [
    "df.describe(include=np.number)"
   ]
  },
  {
   "cell_type": "markdown",
   "metadata": {},
   "source": [
    "#### c.\tSummarize observations for categorical variables – no. of categories, % observations in each category"
   ]
  },
  {
   "cell_type": "code",
   "execution_count": 9,
   "metadata": {},
   "outputs": [
    {
     "data": {
      "text/html": [
       "<div>\n",
       "<style scoped>\n",
       "    .dataframe tbody tr th:only-of-type {\n",
       "        vertical-align: middle;\n",
       "    }\n",
       "\n",
       "    .dataframe tbody tr th {\n",
       "        vertical-align: top;\n",
       "    }\n",
       "\n",
       "    .dataframe thead th {\n",
       "        text-align: right;\n",
       "    }\n",
       "</style>\n",
       "<table border=\"1\" class=\"dataframe\">\n",
       "  <thead>\n",
       "    <tr style=\"text-align: right;\">\n",
       "      <th></th>\n",
       "      <th>Email</th>\n",
       "      <th>Address</th>\n",
       "      <th>Avatar</th>\n",
       "    </tr>\n",
       "  </thead>\n",
       "  <tbody>\n",
       "    <tr>\n",
       "      <th>count</th>\n",
       "      <td>500</td>\n",
       "      <td>500</td>\n",
       "      <td>500</td>\n",
       "    </tr>\n",
       "    <tr>\n",
       "      <th>unique</th>\n",
       "      <td>500</td>\n",
       "      <td>500</td>\n",
       "      <td>138</td>\n",
       "    </tr>\n",
       "    <tr>\n",
       "      <th>top</th>\n",
       "      <td>douglasdunlap@boone-rose.com</td>\n",
       "      <td>USNV Fuller\\nFPO AE 32122-5711</td>\n",
       "      <td>Teal</td>\n",
       "    </tr>\n",
       "    <tr>\n",
       "      <th>freq</th>\n",
       "      <td>1</td>\n",
       "      <td>1</td>\n",
       "      <td>7</td>\n",
       "    </tr>\n",
       "  </tbody>\n",
       "</table>\n",
       "</div>"
      ],
      "text/plain": [
       "                               Email                         Address Avatar\n",
       "count                            500                             500    500\n",
       "unique                           500                             500    138\n",
       "top     douglasdunlap@boone-rose.com  USNV Fuller\\nFPO AE 32122-5711   Teal\n",
       "freq                               1                               1      7"
      ]
     },
     "execution_count": 9,
     "metadata": {},
     "output_type": "execute_result"
    }
   ],
   "source": [
    "df.describe(exclude = np.number)"
   ]
  },
  {
   "cell_type": "markdown",
   "metadata": {},
   "source": [
    "### 3.\tCheck for defects in the data. Perform necessary actions to ‘fix’ these defects (5 Marks)\n",
    "\n",
    "Some pointers which would help you, but don’t be limited by these\n",
    "\n",
    "a.\tDo variables have missing/null values?\n",
    "\n",
    "b.\tDo variables have outliers?\n",
    "\n",
    "c.\tIs the data normally distributed? Is it a defect? Why or why not? \n"
   ]
  },
  {
   "cell_type": "markdown",
   "metadata": {},
   "source": [
    "#### a.\tDo variables have missing/null values?"
   ]
  },
  {
   "cell_type": "code",
   "execution_count": 10,
   "metadata": {},
   "outputs": [
    {
     "data": {
      "text/plain": [
       "Email                   0\n",
       "Address                 0\n",
       "Avatar                  0\n",
       "Avg. Session Length     0\n",
       "Time on App             0\n",
       "Time on Website         0\n",
       "Length of Membership    0\n",
       "Yearly Amount Spent     0\n",
       "dtype: int64"
      ]
     },
     "execution_count": 10,
     "metadata": {},
     "output_type": "execute_result"
    }
   ],
   "source": [
    "df.isna().sum()"
   ]
  },
  {
   "cell_type": "markdown",
   "metadata": {},
   "source": [
    "**There is no missing values present in the dataset.**"
   ]
  },
  {
   "cell_type": "markdown",
   "metadata": {},
   "source": [
    "#### b.\tDo variables have outliers?"
   ]
  },
  {
   "cell_type": "code",
   "execution_count": 12,
   "metadata": {},
   "outputs": [],
   "source": [
    "num_data = df.select_dtypes(include = np.number)\n",
    "cat_data = df.select_dtypes(exclude = np.number)"
   ]
  },
  {
   "cell_type": "markdown",
   "metadata": {},
   "source": [
    "Dividing the numerical and categorical columns"
   ]
  },
  {
   "cell_type": "code",
   "execution_count": 13,
   "metadata": {},
   "outputs": [
    {
     "data": {
      "image/png": "[encoded data removed]",
      "text/plain": [
       "<Figure size 432x288 with 1 Axes>"
      ]
     },
     "metadata": {
      "needs_background": "light"
     },
     "output_type": "display_data"
    },
    {
     "data": {
      "image/png": "[encoded data removed]",
      "text/plain": [
       "<Figure size 432x288 with 1 Axes>"
      ]
     },
     "metadata": {
      "needs_background": "light"
     },
     "output_type": "display_data"
    },
    {
     "data": {
      "image/png": "[encoded data removed]",
      "text/plain": [
       "<Figure size 432x288 with 1 Axes>"
      ]
     },
     "metadata": {
      "needs_background": "light"
     },
     "output_type": "display_data"
    },
    {
     "data": {
      "image/png": "[encoded data removed]",
      "text/plain": [
       "<Figure size 432x288 with 1 Axes>"
      ]
     },
     "metadata": {
      "needs_background": "light"
     },
     "output_type": "display_data"
    },
    {
     "data": {
      "image/png": "[encoded data removed]",
      "text/plain": [
       "<Figure size 432x288 with 1 Axes>"
      ]
     },
     "metadata": {
      "needs_background": "light"
     },
     "output_type": "display_data"
    }
   ],
   "source": [
    "for i in num_data.columns:\n",
    "    sns.boxplot(num_data[i])\n",
    "    plt.show()"
   ]
  },
  {
   "cell_type": "markdown",
   "metadata": {},
   "source": [
    "There are some outliers present in the dataset."
   ]
  },
  {
   "cell_type": "code",
   "execution_count": 16,
   "metadata": {},
   "outputs": [],
   "source": [
    "for i in num_data.columns:\n",
    "    q1 = num_data[i].quantile(0.25)\n",
    "    q3 = num_data[i].quantile(0.75)\n",
    "    iqr = q3 - q1\n",
    "    lb = q1 - iqr*1.5\n",
    "    ub = q3 + iqr*1.5\n",
    "    num_data[i] = num_data[i].replace(num_data[num_data[i] > ub][i], num_data[i].quantile(.99))\n",
    "    num_data[i] = num_data[i].replace(num_data[num_data[i] < lb][i], num_data[i].quantile(.01))"
   ]
  },
  {
   "cell_type": "code",
   "execution_count": 17,
   "metadata": {},
   "outputs": [
    {
     "data": {
      "image/png": "[encoded data removed]",
      "text/plain": [
       "<Figure size 432x288 with 1 Axes>"
      ]
     },
     "metadata": {
      "needs_background": "light"
     },
     "output_type": "display_data"
    },
    {
     "data": {
      "image/png": "[encoded data removed]",
      "text/plain": [
       "<Figure size 432x288 with 1 Axes>"
      ]
     },
     "metadata": {
      "needs_background": "light"
     },
     "output_type": "display_data"
    },
    {
     "data": {
      "image/png": "[encoded data removed]",
      "text/plain": [
       "<Figure size 432x288 with 1 Axes>"
      ]
     },
     "metadata": {
      "needs_background": "light"
     },
     "output_type": "display_data"
    },
    {
     "data": {
      "image/png": "[encoded data removed]",
      "text/plain": [
       "<Figure size 432x288 with 1 Axes>"
      ]
     },
     "metadata": {
      "needs_background": "light"
     },
     "output_type": "display_data"
    },
    {
     "data": {
      "image/png": "[encoded data removed]",
      "text/plain": [
       "<Figure size 432x288 with 1 Axes>"
      ]
     },
     "metadata": {
      "needs_background": "light"
     },
     "output_type": "display_data"
    }
   ],
   "source": [
    "for i in num_data.columns:\n",
    "    sns.boxplot(num_data[i])\n",
    "    plt.show()"
   ]
  },
  {
   "cell_type": "markdown",
   "metadata": {},
   "source": [
    "We have capped the numerical variables with 99 percentile and 1 percentile data and got rid of outliers."
   ]
  },
  {
   "cell_type": "code",
   "execution_count": 21,
   "metadata": {},
   "outputs": [
    {
     "name": "stdout",
     "output_type": "stream",
     "text": [
      "Unique Addresses: 500\n",
      "Unique Emails:  500\n"
     ]
    }
   ],
   "source": [
    "print('Unique Addresses:',len(cat_data['Address'].unique()))\n",
    "print('Unique Emails: ',len(cat_data['Email'].unique()))"
   ]
  },
  {
   "cell_type": "markdown",
   "metadata": {},
   "source": [
    "As we can see all the values in Address and Email columns are unique. It will not affect our model so we can drop them."
   ]
  },
  {
   "cell_type": "code",
   "execution_count": 22,
   "metadata": {},
   "outputs": [],
   "source": [
    "cat_data = cat_data.drop(['Address','Email'],axis = 1)"
   ]
  },
  {
   "cell_type": "code",
   "execution_count": 32,
   "metadata": {},
   "outputs": [
    {
     "name": "stdout",
     "output_type": "stream",
     "text": [
      "Unique Avatars: 138\n"
     ]
    },
    {
     "data": {
      "text/plain": [
       "Teal                    7\n",
       "GreenYellow             7\n",
       "SlateBlue               7\n",
       "CadetBlue               7\n",
       "Cyan                    7\n",
       "Wheat                   6\n",
       "DarkGoldenRod           6\n",
       "Turquoise               6\n",
       "SaddleBrown             6\n",
       "DarkViolet              6\n",
       "Bisque                  6\n",
       "BlueViolet              6\n",
       "Tomato                  6\n",
       "Moccasin                6\n",
       "OliveDrab               6\n",
       "DarkSeaGreen            6\n",
       "Orange                  6\n",
       "Aqua                    6\n",
       "PeachPuff               6\n",
       "LightSkyBlue            6\n",
       "DeepPink                6\n",
       "Purple                  6\n",
       "Orchid                  5\n",
       "MediumSpringGreen       5\n",
       "LimeGreen               5\n",
       "SteelBlue               5\n",
       "White                   5\n",
       "Thistle                 5\n",
       "SandyBrown              5\n",
       "LemonChiffon            5\n",
       "                       ..\n",
       "OldLace                 2\n",
       "ForestGreen             2\n",
       "LightYellow             2\n",
       "AliceBlue               2\n",
       "DarkGray                2\n",
       "Fuchsia                 2\n",
       "Snow                    2\n",
       "Peru                    2\n",
       "Ivory                   2\n",
       "GoldenRod               2\n",
       "DarkSalmon              2\n",
       "Khaki                   2\n",
       "FireBrick               2\n",
       "LightCoral              2\n",
       "CornflowerBlue          1\n",
       "MediumPurple            1\n",
       "LawnGreen               1\n",
       "PaleGoldenRod           1\n",
       "PaleTurquoise           1\n",
       "NavajoWhite             1\n",
       "Yellow                  1\n",
       "Azure                   1\n",
       "DeepSkyBlue             1\n",
       "PaleGreen               1\n",
       "PowderBlue              1\n",
       "PapayaWhip              1\n",
       "Red                     1\n",
       "LightSlateGray          1\n",
       "LightGoldenRodYellow    1\n",
       "Coral                   1\n",
       "Name: Avatar, Length: 138, dtype: int64"
      ]
     },
     "execution_count": 32,
     "metadata": {},
     "output_type": "execute_result"
    }
   ],
   "source": [
    "print('Unique Avatars:',len(cat_data['Avatar'].unique()))\n",
    "cat_data['Avatar'].value_counts()"
   ]
  },
  {
   "cell_type": "markdown",
   "metadata": {},
   "source": [
    "We have 138 unique avatar values and maximum value count is 7. So we can drop this feature also as we have very less data for each category. It will not affect the model."
   ]
  },
  {
   "cell_type": "code",
   "execution_count": 33,
   "metadata": {},
   "outputs": [],
   "source": [
    "cat_data = cat_data.drop('Avatar',axis=1)"
   ]
  },
  {
   "cell_type": "markdown",
   "metadata": {},
   "source": [
    "#### c.\tIs the data normally distributed? Is it a defect? Why or why not? "
   ]
  },
  {
   "cell_type": "code",
   "execution_count": 37,
   "metadata": {},
   "outputs": [
    {
     "name": "stdout",
     "output_type": "stream",
     "text": [
      "Skewness: -0.017504753107768112\n"
     ]
    },
    {
     "data": {
      "image/png": "[encoded data removed]",
      "text/plain": [
       "<Figure size 432x288 with 1 Axes>"
      ]
     },
     "metadata": {
      "needs_background": "light"
     },
     "output_type": "display_data"
    },
    {
     "name": "stdout",
     "output_type": "stream",
     "text": [
      "Skewness: 0.00491090511046268\n"
     ]
    },
    {
     "data": {
      "image/png": "[encoded data removed]",
      "text/plain": [
       "<Figure size 432x288 with 1 Axes>"
      ]
     },
     "metadata": {
      "needs_background": "light"
     },
     "output_type": "display_data"
    },
    {
     "name": "stdout",
     "output_type": "stream",
     "text": [
      "Skewness: 0.020339715318451218\n"
     ]
    },
    {
     "data": {
      "image/png": "[encoded data removed]",
      "text/plain": [
       "<Figure size 432x288 with 1 Axes>"
      ]
     },
     "metadata": {
      "needs_background": "light"
     },
     "output_type": "display_data"
    },
    {
     "name": "stdout",
     "output_type": "stream",
     "text": [
      "Skewness: -0.13839987025126746\n"
     ]
    },
    {
     "data": {
      "image/png": "[encoded data removed]",
      "text/plain": [
       "<Figure size 432x288 with 1 Axes>"
      ]
     },
     "metadata": {
      "needs_background": "light"
     },
     "output_type": "display_data"
    },
    {
     "name": "stdout",
     "output_type": "stream",
     "text": [
      "Skewness: 0.015929276262054967\n"
     ]
    },
    {
     "data": {
      "image/png": "[encoded data removed]",
      "text/plain": [
       "<Figure size 432x288 with 1 Axes>"
      ]
     },
     "metadata": {
      "needs_background": "light"
     },
     "output_type": "display_data"
    }
   ],
   "source": [
    "for i in num_data.columns:\n",
    "    sns.distplot(num_data[i])\n",
    "    print('Skewness:',num_data[i].skew())\n",
    "    plt.show()"
   ]
  },
  {
   "cell_type": "markdown",
   "metadata": {},
   "source": [
    "All numerical data are normally distributed as the skewness value is close to zero."
   ]
  },
  {
   "cell_type": "markdown",
   "metadata": {},
   "source": [
    "For Linear Regression, Some assumption needs to be met. One of those is, data should be normally distributed. Because Linear Regreesion Model is sensitive to outliers. So for Linear Regression model, if the data is not normally distributed, then it is a defect."
   ]
  },
  {
   "cell_type": "code",
   "execution_count": 38,
   "metadata": {},
   "outputs": [
    {
     "data": {
      "text/html": [
       "<div>\n",
       "<style scoped>\n",
       "    .dataframe tbody tr th:only-of-type {\n",
       "        vertical-align: middle;\n",
       "    }\n",
       "\n",
       "    .dataframe tbody tr th {\n",
       "        vertical-align: top;\n",
       "    }\n",
       "\n",
       "    .dataframe thead th {\n",
       "        text-align: right;\n",
       "    }\n",
       "</style>\n",
       "<table border=\"1\" class=\"dataframe\">\n",
       "  <thead>\n",
       "    <tr style=\"text-align: right;\">\n",
       "      <th></th>\n",
       "      <th>Avg. Session Length</th>\n",
       "      <th>Time on App</th>\n",
       "      <th>Time on Website</th>\n",
       "      <th>Length of Membership</th>\n",
       "      <th>Yearly Amount Spent</th>\n",
       "    </tr>\n",
       "  </thead>\n",
       "  <tbody>\n",
       "    <tr>\n",
       "      <th>0</th>\n",
       "      <td>34.497268</td>\n",
       "      <td>12.655651</td>\n",
       "      <td>39.577668</td>\n",
       "      <td>4.082621</td>\n",
       "      <td>587.951054</td>\n",
       "    </tr>\n",
       "    <tr>\n",
       "      <th>1</th>\n",
       "      <td>31.926272</td>\n",
       "      <td>11.109461</td>\n",
       "      <td>37.268959</td>\n",
       "      <td>2.664034</td>\n",
       "      <td>392.204933</td>\n",
       "    </tr>\n",
       "    <tr>\n",
       "      <th>2</th>\n",
       "      <td>33.000915</td>\n",
       "      <td>11.330278</td>\n",
       "      <td>37.110597</td>\n",
       "      <td>4.104543</td>\n",
       "      <td>487.547505</td>\n",
       "    </tr>\n",
       "    <tr>\n",
       "      <th>3</th>\n",
       "      <td>34.305557</td>\n",
       "      <td>13.717514</td>\n",
       "      <td>36.721283</td>\n",
       "      <td>3.120179</td>\n",
       "      <td>581.852344</td>\n",
       "    </tr>\n",
       "    <tr>\n",
       "      <th>4</th>\n",
       "      <td>33.330673</td>\n",
       "      <td>12.795189</td>\n",
       "      <td>37.536653</td>\n",
       "      <td>4.446308</td>\n",
       "      <td>599.406092</td>\n",
       "    </tr>\n",
       "  </tbody>\n",
       "</table>\n",
       "</div>"
      ],
      "text/plain": [
       "   Avg. Session Length  Time on App  Time on Website  Length of Membership  \\\n",
       "0            34.497268    12.655651        39.577668              4.082621   \n",
       "1            31.926272    11.109461        37.268959              2.664034   \n",
       "2            33.000915    11.330278        37.110597              4.104543   \n",
       "3            34.305557    13.717514        36.721283              3.120179   \n",
       "4            33.330673    12.795189        37.536653              4.446308   \n",
       "\n",
       "   Yearly Amount Spent  \n",
       "0           587.951054  \n",
       "1           392.204933  \n",
       "2           487.547505  \n",
       "3           581.852344  \n",
       "4           599.406092  "
      ]
     },
     "execution_count": 38,
     "metadata": {},
     "output_type": "execute_result"
    }
   ],
   "source": [
    "final_df = pd.concat((num_data,cat_data),axis=1)\n",
    "final_df.head()"
   ]
  },
  {
   "cell_type": "markdown",
   "metadata": {},
   "source": [
    "### 4.\tSummarize relationships among variables (10 marks)  \n",
    "\n",
    "a.\tPlot correlation plots. Which are the variables most correlated with Target? Which independent variables are correlated among themselves? Do you want to exclude some variables from the model based on this analysis? What other actions will you take?\n",
    "\n",
    "b.\tPlot all independent variables with the target. Are all relationships linear? If not, what steps would you take based on this information?\n",
    "\n",
    " Hint: based on your observations you may want to transform features or create additional features.\n"
   ]
  },
  {
   "cell_type": "markdown",
   "metadata": {},
   "source": [
    "#### a.\tPlot correlation plots. Which are the variables most correlated with Target? Which independent variables are correlated among themselves? Do you want to exclude some variables from the model based on this analysis? What other actions will you take?"
   ]
  },
  {
   "cell_type": "code",
   "execution_count": 39,
   "metadata": {},
   "outputs": [
    {
     "data": {
      "image/png": "[encoded data removed]",
      "text/plain": [
       "<Figure size 432x288 with 2 Axes>"
      ]
     },
     "metadata": {
      "needs_background": "light"
     },
     "output_type": "display_data"
    }
   ],
   "source": [
    "sns.heatmap(final_df.corr(),annot=True)\n",
    "plt.show()"
   ]
  },
  {
   "cell_type": "markdown",
   "metadata": {},
   "source": [
    "1. 'Length of Membership' is highly correlated to target variable 'Yearly Amount Spent' (0.81).\n",
    "2. 'Time on app' is moderatly correlated to target variable 'Yearly Amount Spent' (0.49).\n",
    "3. 'Avg. Session Length' is moderatly correlated to target variable 'Yearly Amount Spent' (0.35)."
   ]
  },
  {
   "cell_type": "markdown",
   "metadata": {},
   "source": [
    "**There is very less correlation among the independent features. They are not correlate to each other.**"
   ]
  },
  {
   "cell_type": "markdown",
   "metadata": {},
   "source": [
    "**We cannot exclude any variable as there is high correlation between the independent features.**"
   ]
  },
  {
   "cell_type": "markdown",
   "metadata": {},
   "source": [
    "#### b.\tPlot all independent variables with the target. Are all relationships linear? If not, what steps would you take based on this information?"
   ]
  },
  {
   "cell_type": "code",
   "execution_count": 42,
   "metadata": {},
   "outputs": [
    {
     "data": {
      "image/png": "[encoded data removed]",
      "text/plain": [
       "<Figure size 432x288 with 1 Axes>"
      ]
     },
     "metadata": {
      "needs_background": "light"
     },
     "output_type": "display_data"
    },
    {
     "data": {
      "image/png": "[encoded data removed]",
      "text/plain": [
       "<Figure size 432x288 with 1 Axes>"
      ]
     },
     "metadata": {
      "needs_background": "light"
     },
     "output_type": "display_data"
    },
    {
     "data": {
      "image/png": "[encoded data removed]",
      "text/plain": [
       "<Figure size 432x288 with 1 Axes>"
      ]
     },
     "metadata": {
      "needs_background": "light"
     },
     "output_type": "display_data"
    },
    {
     "data": {
      "image/png": "[encoded data removed]",
      "text/plain": [
       "<Figure size 432x288 with 1 Axes>"
      ]
     },
     "metadata": {
      "needs_background": "light"
     },
     "output_type": "display_data"
    }
   ],
   "source": [
    "for i in final_df.columns[:-1]:\n",
    "    sns.scatterplot(x = final_df['Yearly Amount Spent'], y = final_df[i])\n",
    "    plt.show()"
   ]
  },
  {
   "cell_type": "markdown",
   "metadata": {},
   "source": [
    "1. As we have already seen that, Length of Membership has high correlation with target variable, and the scatterplot also shown that it has linear relationship with target variable.\n",
    "2. Time on Website has least correlation with target variable, and the scatterplot also shows that.\n",
    "3. Avg Session Length and Time on App has moderate correlation with target variable and the scatterplot also shows that moderate linear relationship between them."
   ]
  },
  {
   "cell_type": "markdown",
   "metadata": {},
   "source": [
    "### 5.\tSplit dataset into train and test (70:30) (5 marks)\n",
    "\n",
    "a.\tAre both train and test representative of the overall data? How would you ascertain this statistically?\n"
   ]
  },
  {
   "cell_type": "code",
   "execution_count": 78,
   "metadata": {},
   "outputs": [],
   "source": [
    "inp = final_df.drop('Yearly Amount Spent', axis=1)\n",
    "out = final_df['Yearly Amount Spent']"
   ]
  },
  {
   "cell_type": "code",
   "execution_count": 79,
   "metadata": {},
   "outputs": [],
   "source": [
    "xtrain, xtest, ytrain, ytest = train_test_split(inp, out, test_size = 0.3, random_state = 48)"
   ]
  },
  {
   "cell_type": "code",
   "execution_count": 80,
   "metadata": {},
   "outputs": [
    {
     "data": {
      "text/html": [
       "<div>\n",
       "<style scoped>\n",
       "    .dataframe tbody tr th:only-of-type {\n",
       "        vertical-align: middle;\n",
       "    }\n",
       "\n",
       "    .dataframe tbody tr th {\n",
       "        vertical-align: top;\n",
       "    }\n",
       "\n",
       "    .dataframe thead th {\n",
       "        text-align: right;\n",
       "    }\n",
       "</style>\n",
       "<table border=\"1\" class=\"dataframe\">\n",
       "  <thead>\n",
       "    <tr style=\"text-align: right;\">\n",
       "      <th></th>\n",
       "      <th>Overall</th>\n",
       "      <th>Train</th>\n",
       "      <th>Test</th>\n",
       "    </tr>\n",
       "  </thead>\n",
       "  <tbody>\n",
       "    <tr>\n",
       "      <th>Avg. Session Length</th>\n",
       "      <td>33.053496</td>\n",
       "      <td>33.068968</td>\n",
       "      <td>33.017395</td>\n",
       "    </tr>\n",
       "    <tr>\n",
       "      <th>Time on App</th>\n",
       "      <td>12.056625</td>\n",
       "      <td>12.093671</td>\n",
       "      <td>11.970184</td>\n",
       "    </tr>\n",
       "    <tr>\n",
       "      <th>Time on Website</th>\n",
       "      <td>37.060671</td>\n",
       "      <td>37.107643</td>\n",
       "      <td>36.951070</td>\n",
       "    </tr>\n",
       "    <tr>\n",
       "      <th>Length of Membership</th>\n",
       "      <td>3.532101</td>\n",
       "      <td>3.507354</td>\n",
       "      <td>3.589844</td>\n",
       "    </tr>\n",
       "  </tbody>\n",
       "</table>\n",
       "</div>"
      ],
      "text/plain": [
       "                        Overall      Train       Test\n",
       "Avg. Session Length   33.053496  33.068968  33.017395\n",
       "Time on App           12.056625  12.093671  11.970184\n",
       "Time on Website       37.060671  37.107643  36.951070\n",
       "Length of Membership   3.532101   3.507354   3.589844"
      ]
     },
     "execution_count": 80,
     "metadata": {},
     "output_type": "execute_result"
    }
   ],
   "source": [
    "mean = pd.DataFrame()\n",
    "mean['Overall'] = inp.describe().T['mean']\n",
    "mean['Train'] = xtrain.describe().T['mean']\n",
    "mean['Test'] = xtest.describe().T['mean']\n",
    "mean"
   ]
  },
  {
   "cell_type": "code",
   "execution_count": 81,
   "metadata": {},
   "outputs": [
    {
     "data": {
      "text/html": [
       "<div>\n",
       "<style scoped>\n",
       "    .dataframe tbody tr th:only-of-type {\n",
       "        vertical-align: middle;\n",
       "    }\n",
       "\n",
       "    .dataframe tbody tr th {\n",
       "        vertical-align: top;\n",
       "    }\n",
       "\n",
       "    .dataframe thead th {\n",
       "        text-align: right;\n",
       "    }\n",
       "</style>\n",
       "<table border=\"1\" class=\"dataframe\">\n",
       "  <thead>\n",
       "    <tr style=\"text-align: right;\">\n",
       "      <th></th>\n",
       "      <th>Overall</th>\n",
       "      <th>Train</th>\n",
       "      <th>Test</th>\n",
       "    </tr>\n",
       "  </thead>\n",
       "  <tbody>\n",
       "    <tr>\n",
       "      <th>Avg. Session Length</th>\n",
       "      <td>0.978885</td>\n",
       "      <td>0.978906</td>\n",
       "      <td>0.981160</td>\n",
       "    </tr>\n",
       "    <tr>\n",
       "      <th>Time on App</th>\n",
       "      <td>0.972476</td>\n",
       "      <td>0.934089</td>\n",
       "      <td>1.054862</td>\n",
       "    </tr>\n",
       "    <tr>\n",
       "      <th>Time on Website</th>\n",
       "      <td>1.001969</td>\n",
       "      <td>1.026079</td>\n",
       "      <td>0.937481</td>\n",
       "    </tr>\n",
       "    <tr>\n",
       "      <th>Length of Membership</th>\n",
       "      <td>0.978106</td>\n",
       "      <td>0.957641</td>\n",
       "      <td>1.025235</td>\n",
       "    </tr>\n",
       "  </tbody>\n",
       "</table>\n",
       "</div>"
      ],
      "text/plain": [
       "                       Overall     Train      Test\n",
       "Avg. Session Length   0.978885  0.978906  0.981160\n",
       "Time on App           0.972476  0.934089  1.054862\n",
       "Time on Website       1.001969  1.026079  0.937481\n",
       "Length of Membership  0.978106  0.957641  1.025235"
      ]
     },
     "execution_count": 81,
     "metadata": {},
     "output_type": "execute_result"
    }
   ],
   "source": [
    "std = pd.DataFrame()\n",
    "std['Overall'] = inp.describe().T['std']\n",
    "std['Train'] = xtrain.describe().T['std']\n",
    "std['Test'] = xtest.describe().T['std']\n",
    "std"
   ]
  },
  {
   "cell_type": "markdown",
   "metadata": {},
   "source": [
    "If we compare the mean and std of overall, train and test data, we can see the train and test values are very close to overall data. This indicates that, train and test data are representative of overall data."
   ]
  },
  {
   "cell_type": "markdown",
   "metadata": {},
   "source": [
    "### 6.\tFit a base model. Please write your key observations (15 marks) \n",
    "\n",
    "a.\tWhat is the overall R2? Please comment on whether it is good or not.\n",
    "\n",
    "b.\tWhat is the adjusted R2? Is it different from R2? Why?\n",
    "\n",
    "c.\tWhich variables are significant?\n",
    "\n",
    "d.\tIs there multicollinearity?\n",
    "\n",
    "e.\tWhich other key model output parameters do you want to look at? \n"
   ]
  },
  {
   "cell_type": "code",
   "execution_count": 191,
   "metadata": {},
   "outputs": [
    {
     "data": {
      "text/html": [
       "<table class=\"simpletable\">\n",
       "<caption>OLS Regression Results</caption>\n",
       "<tr>\n",
       "  <th>Dep. Variable:</th>    <td>Yearly Amount Spent</td> <th>  R-squared:         </th> <td>   0.980</td>\n",
       "</tr>\n",
       "<tr>\n",
       "  <th>Model:</th>                    <td>OLS</td>         <th>  Adj. R-squared:    </th> <td>   0.980</td>\n",
       "</tr>\n",
       "<tr>\n",
       "  <th>Method:</th>              <td>Least Squares</td>    <th>  F-statistic:       </th> <td>   6040.</td>\n",
       "</tr>\n",
       "<tr>\n",
       "  <th>Date:</th>              <td>Tue, 08 Dec 2020</td>   <th>  Prob (F-statistic):</th>  <td>  0.00</td> \n",
       "</tr>\n",
       "<tr>\n",
       "  <th>Time:</th>                  <td>07:59:59</td>       <th>  Log-Likelihood:    </th> <td> -1908.7</td>\n",
       "</tr>\n",
       "<tr>\n",
       "  <th>No. Observations:</th>       <td>   500</td>        <th>  AIC:               </th> <td>   3827.</td>\n",
       "</tr>\n",
       "<tr>\n",
       "  <th>Df Residuals:</th>           <td>   495</td>        <th>  BIC:               </th> <td>   3848.</td>\n",
       "</tr>\n",
       "<tr>\n",
       "  <th>Df Model:</th>               <td>     4</td>        <th>                     </th>     <td> </td>   \n",
       "</tr>\n",
       "<tr>\n",
       "  <th>Covariance Type:</th>       <td>nonrobust</td>      <th>                     </th>     <td> </td>   \n",
       "</tr>\n",
       "</table>\n",
       "<table class=\"simpletable\">\n",
       "<tr>\n",
       "            <td></td>              <th>coef</th>     <th>std err</th>      <th>t</th>      <th>P>|t|</th>  <th>[0.025</th>    <th>0.975]</th>  \n",
       "</tr>\n",
       "<tr>\n",
       "  <th>const</th>                <td>-1045.2122</td> <td>   25.746</td> <td>  -40.597</td> <td> 0.000</td> <td>-1095.798</td> <td> -994.627</td>\n",
       "</tr>\n",
       "<tr>\n",
       "  <th>Avg. Session Length</th>  <td>   25.4249</td> <td>    0.507</td> <td>   50.137</td> <td> 0.000</td> <td>   24.429</td> <td>   26.421</td>\n",
       "</tr>\n",
       "<tr>\n",
       "  <th>Time on App</th>          <td>   38.8751</td> <td>    0.511</td> <td>   76.066</td> <td> 0.000</td> <td>   37.871</td> <td>   39.879</td>\n",
       "</tr>\n",
       "<tr>\n",
       "  <th>Time on Website</th>      <td>    0.4457</td> <td>    0.496</td> <td>    0.898</td> <td> 0.370</td> <td>   -0.529</td> <td>    1.421</td>\n",
       "</tr>\n",
       "<tr>\n",
       "  <th>Length of Membership</th> <td>   61.9676</td> <td>    0.508</td> <td>  122.086</td> <td> 0.000</td> <td>   60.970</td> <td>   62.965</td>\n",
       "</tr>\n",
       "</table>\n",
       "<table class=\"simpletable\">\n",
       "<tr>\n",
       "  <th>Omnibus:</th>       <td>28.522</td> <th>  Durbin-Watson:     </th> <td>   2.006</td>\n",
       "</tr>\n",
       "<tr>\n",
       "  <th>Prob(Omnibus):</th> <td> 0.000</td> <th>  Jarque-Bera (JB):  </th> <td>  51.450</td>\n",
       "</tr>\n",
       "<tr>\n",
       "  <th>Skew:</th>          <td>-0.374</td> <th>  Prob(JB):          </th> <td>6.73e-12</td>\n",
       "</tr>\n",
       "<tr>\n",
       "  <th>Kurtosis:</th>      <td> 4.382</td> <th>  Cond. No.          </th> <td>2.67e+03</td>\n",
       "</tr>\n",
       "</table><br/><br/>Warnings:<br/>[1] Standard Errors assume that the covariance matrix of the errors is correctly specified.<br/>[2] The condition number is large, 2.67e+03. This might indicate that there are<br/>strong multicollinearity or other numerical problems."
      ],
      "text/plain": [
       "<class 'statsmodels.iolib.summary.Summary'>\n",
       "\"\"\"\n",
       "                             OLS Regression Results                            \n",
       "===============================================================================\n",
       "Dep. Variable:     Yearly Amount Spent   R-squared:                       0.980\n",
       "Model:                             OLS   Adj. R-squared:                  0.980\n",
       "Method:                  Least Squares   F-statistic:                     6040.\n",
       "Date:                 Tue, 08 Dec 2020   Prob (F-statistic):               0.00\n",
       "Time:                         07:59:59   Log-Likelihood:                -1908.7\n",
       "No. Observations:                  500   AIC:                             3827.\n",
       "Df Residuals:                      495   BIC:                             3848.\n",
       "Df Model:                            4                                         \n",
       "Covariance Type:             nonrobust                                         \n",
       "========================================================================================\n",
       "                           coef    std err          t      P>|t|      [0.025      0.975]\n",
       "----------------------------------------------------------------------------------------\n",
       "const                -1045.2122     25.746    -40.597      0.000   -1095.798    -994.627\n",
       "Avg. Session Length     25.4249      0.507     50.137      0.000      24.429      26.421\n",
       "Time on App             38.8751      0.511     76.066      0.000      37.871      39.879\n",
       "Time on Website          0.4457      0.496      0.898      0.370      -0.529       1.421\n",
       "Length of Membership    61.9676      0.508    122.086      0.000      60.970      62.965\n",
       "==============================================================================\n",
       "Omnibus:                       28.522   Durbin-Watson:                   2.006\n",
       "Prob(Omnibus):                  0.000   Jarque-Bera (JB):               51.450\n",
       "Skew:                          -0.374   Prob(JB):                     6.73e-12\n",
       "Kurtosis:                       4.382   Cond. No.                     2.67e+03\n",
       "==============================================================================\n",
       "\n",
       "Warnings:\n",
       "[1] Standard Errors assume that the covariance matrix of the errors is correctly specified.\n",
       "[2] The condition number is large, 2.67e+03. This might indicate that there are\n",
       "strong multicollinearity or other numerical problems.\n",
       "\"\"\""
      ]
     },
     "execution_count": 191,
     "metadata": {},
     "output_type": "execute_result"
    }
   ],
   "source": [
    "inpc = sm.add_constant(inp)\n",
    "ols_mod_base = sm.OLS(out,inpc).fit()\n",
    "ols_mod_base.summary()"
   ]
  },
  {
   "cell_type": "markdown",
   "metadata": {},
   "source": [
    "#### a.\tWhat is the overall R2? Please comment on whether it is good or not."
   ]
  },
  {
   "cell_type": "markdown",
   "metadata": {},
   "source": [
    "The overall R2 value is 0.980. That means our base model is predicting the target variable value 98% correctly using the independent features. It is a very good score."
   ]
  },
  {
   "cell_type": "markdown",
   "metadata": {},
   "source": [
    "#### b.\tWhat is the adjusted R2? Is it different from R2? Why?"
   ]
  },
  {
   "cell_type": "markdown",
   "metadata": {},
   "source": [
    "Adjusted R2 is same as R2 here i.e. 0.980.\n",
    "\n",
    "Yes Adjusted R2 is different from R2.\n",
    "\n",
    "The main difference between R2 and Adjusted R2 is that, R2 assumes that every single variable explains the variation in the dependent or target variable. But Adjusted R2 tells the percentage of variation explained by only the independent variables that actually affect the dependent variable.\n",
    "\n",
    "But here we are getting same value for R2 and Adjusted R2, that means all the features are independent features and the variance explained by them is affecting the model."
   ]
  },
  {
   "cell_type": "markdown",
   "metadata": {},
   "source": [
    "#### c.\tWhich variables are significant?"
   ]
  },
  {
   "cell_type": "markdown",
   "metadata": {},
   "source": [
    "All the variables are significant except 'Time on Website' as the P-value of T-Satistics of 'Time on Website' is greater than 0.05 and coefficient is 0.4457. It is not affecting the model much. We have also seen earlier that 'Time on Website' hass very less correlation and linear relationship with the target variable."
   ]
  },
  {
   "cell_type": "markdown",
   "metadata": {},
   "source": [
    "#### d.\tIs there multicollinearity?"
   ]
  },
  {
   "cell_type": "code",
   "execution_count": 87,
   "metadata": {},
   "outputs": [
    {
     "data": {
      "text/html": [
       "<div>\n",
       "<style scoped>\n",
       "    .dataframe tbody tr th:only-of-type {\n",
       "        vertical-align: middle;\n",
       "    }\n",
       "\n",
       "    .dataframe tbody tr th {\n",
       "        vertical-align: top;\n",
       "    }\n",
       "\n",
       "    .dataframe thead th {\n",
       "        text-align: right;\n",
       "    }\n",
       "</style>\n",
       "<table border=\"1\" class=\"dataframe\">\n",
       "  <thead>\n",
       "    <tr style=\"text-align: right;\">\n",
       "      <th></th>\n",
       "      <th>VIF</th>\n",
       "      <th>Features</th>\n",
       "    </tr>\n",
       "  </thead>\n",
       "  <tbody>\n",
       "    <tr>\n",
       "      <th>0</th>\n",
       "      <td>2708.856671</td>\n",
       "      <td>const</td>\n",
       "    </tr>\n",
       "    <tr>\n",
       "      <th>3</th>\n",
       "      <td>1.008559</td>\n",
       "      <td>Time on Website</td>\n",
       "    </tr>\n",
       "    <tr>\n",
       "      <th>2</th>\n",
       "      <td>1.007407</td>\n",
       "      <td>Time on App</td>\n",
       "    </tr>\n",
       "    <tr>\n",
       "      <th>4</th>\n",
       "      <td>1.005215</td>\n",
       "      <td>Length of Membership</td>\n",
       "    </tr>\n",
       "    <tr>\n",
       "      <th>1</th>\n",
       "      <td>1.004950</td>\n",
       "      <td>Avg. Session Length</td>\n",
       "    </tr>\n",
       "  </tbody>\n",
       "</table>\n",
       "</div>"
      ],
      "text/plain": [
       "           VIF              Features\n",
       "0  2708.856671                 const\n",
       "3     1.008559       Time on Website\n",
       "2     1.007407           Time on App\n",
       "4     1.005215  Length of Membership\n",
       "1     1.004950   Avg. Session Length"
      ]
     },
     "execution_count": 87,
     "metadata": {},
     "output_type": "execute_result"
    }
   ],
   "source": [
    "vif = pd.DataFrame()\n",
    "vif['VIF'] = [variance_inflation_factor(inpc.values,i) for i in range(inpc.shape[1])]\n",
    "vif['Features'] = inpc.columns\n",
    "vif.sort_values('VIF',ascending=False)"
   ]
  },
  {
   "cell_type": "markdown",
   "metadata": {},
   "source": [
    "As we can see VIF value is 1 for all features so there is no multicollinearity present among the features."
   ]
  },
  {
   "cell_type": "markdown",
   "metadata": {},
   "source": [
    "#### e.\tWhich other key model output parameters do you want to look at? "
   ]
  },
  {
   "cell_type": "code",
   "execution_count": 92,
   "metadata": {},
   "outputs": [
    {
     "data": {
      "text/plain": [
       "(1.1136053296822286, 0.20015614467357554, 'increasing')"
      ]
     },
     "execution_count": 92,
     "metadata": {},
     "output_type": "execute_result"
    }
   ],
   "source": [
    "het_goldfeldquandt(ols_mod.resid,ols_mod.model.exog)"
   ]
  },
  {
   "cell_type": "markdown",
   "metadata": {},
   "source": [
    "**As the p-value is greater than 0.05, the model is homoscedastic.**"
   ]
  },
  {
   "cell_type": "code",
   "execution_count": 99,
   "metadata": {},
   "outputs": [
    {
     "data": {
      "image/png": "[encoded data removed]",
      "text/plain": [
       "<Figure size 432x288 with 1 Axes>"
      ]
     },
     "metadata": {
      "needs_background": "light"
     },
     "output_type": "display_data"
    }
   ],
   "source": [
    "stats.probplot(x = ols_mod.resid , plot = plt)\n",
    "plt.show()"
   ]
  },
  {
   "cell_type": "code",
   "execution_count": 100,
   "metadata": {},
   "outputs": [
    {
     "data": {
      "text/plain": [
       "-0.374795992743879"
      ]
     },
     "execution_count": 100,
     "metadata": {},
     "output_type": "execute_result"
    }
   ],
   "source": [
    "ols_mod.resid.skew()"
   ]
  },
  {
   "cell_type": "markdown",
   "metadata": {},
   "source": [
    "**From the probplot and the skewness value, we can say that the model is normally distributed.**"
   ]
  },
  {
   "cell_type": "markdown",
   "metadata": {},
   "source": [
    "**As the Durbin-Watson value is close to 2, we can say that there is no auto-correlation present in the data.**"
   ]
  },
  {
   "cell_type": "markdown",
   "metadata": {},
   "source": [
    "--------"
   ]
  },
  {
   "cell_type": "markdown",
   "metadata": {},
   "source": [
    "### 7.\tHow do you improve the accuracy of the model? Write clearly the changes that you will make before re-fitting the model. Fit the final model. (20 marks)\n",
    "Please feel free to have any number of iterations to get to the final answer. Marks are awarded based on the quality of final model you are able to achieve. \n"
   ]
  },
  {
   "cell_type": "code",
   "execution_count": 188,
   "metadata": {},
   "outputs": [
    {
     "data": {
      "text/plain": [
       "[0.9824710462856076, 10.95474815858166]"
      ]
     },
     "execution_count": 188,
     "metadata": {},
     "output_type": "execute_result"
    }
   ],
   "source": [
    "lr = LinearRegression()\n",
    "lr.fit(xtrain,ytrain)\n",
    "y_pred = lr.predict(xtest)\n",
    "r2 = r2_score(ytest,y_pred)\n",
    "rmse = np.sqrt(mean_squared_error(ytest,y_pred))\n",
    "base_res = [r2,rmse]\n",
    "base_res"
   ]
  },
  {
   "cell_type": "markdown",
   "metadata": {},
   "source": [
    "These are the r2 and rmse score of base model. We will try to improve the r2 score and reduce the rmse value."
   ]
  },
  {
   "cell_type": "markdown",
   "metadata": {},
   "source": [
    "#### Feature Selection:"
   ]
  },
  {
   "cell_type": "code",
   "execution_count": 111,
   "metadata": {},
   "outputs": [
    {
     "data": {
      "text/plain": [
       "('Avg. Session Length', 'Time on App', 'Length of Membership')"
      ]
     },
     "execution_count": 111,
     "metadata": {},
     "output_type": "execute_result"
    }
   ],
   "source": [
    "lr = LinearRegression()\n",
    "backward = sfs(estimator = lr, k_features = 'best', forward = False, scoring = 'r2')\n",
    "sfs_backward = backward.fit(xtrain,ytrain)\n",
    "feat_back = sfs_backward.k_feature_names_\n",
    "feat_back"
   ]
  },
  {
   "cell_type": "markdown",
   "metadata": {},
   "source": [
    "Using Backward Elimination we have got this best features."
   ]
  },
  {
   "cell_type": "code",
   "execution_count": 112,
   "metadata": {},
   "outputs": [
    {
     "data": {
      "text/plain": [
       "('Avg. Session Length', 'Time on App', 'Length of Membership')"
      ]
     },
     "execution_count": 112,
     "metadata": {},
     "output_type": "execute_result"
    }
   ],
   "source": [
    "lr = LinearRegression()\n",
    "forward = sfs(estimator = lr, k_features = 'best', forward = True, scoring = 'r2')\n",
    "sfs_forward = forward.fit(xtrain,ytrain)\n",
    "feat_forw = sfs_forward.k_feature_names_\n",
    "feat_forw"
   ]
  },
  {
   "cell_type": "markdown",
   "metadata": {},
   "source": [
    "Using Forward Selection we have got this best features."
   ]
  },
  {
   "cell_type": "code",
   "execution_count": 108,
   "metadata": {},
   "outputs": [
    {
     "data": {
      "text/plain": [
       "array([1, 1, 2, 1])"
      ]
     },
     "execution_count": 108,
     "metadata": {},
     "output_type": "execute_result"
    }
   ],
   "source": [
    "lr = LinearRegression()\n",
    "rfe = RFECV(estimator=lr)\n",
    "rfe_mod = rfe.fit(xtrain,ytrain)\n",
    "rfe_mod.ranking_"
   ]
  },
  {
   "cell_type": "code",
   "execution_count": 109,
   "metadata": {},
   "outputs": [
    {
     "data": {
      "text/plain": [
       "0     Avg. Session Length\n",
       "1             Time on App\n",
       "3    Length of Membership\n",
       "Name: Features, dtype: object"
      ]
     },
     "execution_count": 109,
     "metadata": {},
     "output_type": "execute_result"
    }
   ],
   "source": [
    "rank = pd.DataFrame()\n",
    "rank['Features'] = xtrain.columns\n",
    "rank['Rank'] = rfe_mod.ranking_\n",
    "feat_rfe = rank[rank['Rank'] == 1]['Features']\n",
    "feat_rfe"
   ]
  },
  {
   "cell_type": "markdown",
   "metadata": {},
   "source": [
    "So we have used Recursive Feature Elimination and got this best features."
   ]
  },
  {
   "cell_type": "code",
   "execution_count": 113,
   "metadata": {},
   "outputs": [],
   "source": [
    "feat_back = list(feat_back)\n",
    "feat_forw = list(feat_forw)\n",
    "feat_rfe = list(feat_rfe)"
   ]
  },
  {
   "cell_type": "code",
   "execution_count": 114,
   "metadata": {},
   "outputs": [
    {
     "data": {
      "text/html": [
       "<div>\n",
       "<style scoped>\n",
       "    .dataframe tbody tr th:only-of-type {\n",
       "        vertical-align: middle;\n",
       "    }\n",
       "\n",
       "    .dataframe tbody tr th {\n",
       "        vertical-align: top;\n",
       "    }\n",
       "\n",
       "    .dataframe thead th {\n",
       "        text-align: right;\n",
       "    }\n",
       "</style>\n",
       "<table border=\"1\" class=\"dataframe\">\n",
       "  <thead>\n",
       "    <tr style=\"text-align: right;\">\n",
       "      <th></th>\n",
       "      <th>Backward Elimination</th>\n",
       "      <th>Forward Selection</th>\n",
       "      <th>Recursive Feature Elimination</th>\n",
       "    </tr>\n",
       "  </thead>\n",
       "  <tbody>\n",
       "    <tr>\n",
       "      <th>0</th>\n",
       "      <td>Avg. Session Length</td>\n",
       "      <td>Avg. Session Length</td>\n",
       "      <td>Avg. Session Length</td>\n",
       "    </tr>\n",
       "    <tr>\n",
       "      <th>1</th>\n",
       "      <td>Time on App</td>\n",
       "      <td>Time on App</td>\n",
       "      <td>Time on App</td>\n",
       "    </tr>\n",
       "    <tr>\n",
       "      <th>2</th>\n",
       "      <td>Length of Membership</td>\n",
       "      <td>Length of Membership</td>\n",
       "      <td>Length of Membership</td>\n",
       "    </tr>\n",
       "  </tbody>\n",
       "</table>\n",
       "</div>"
      ],
      "text/plain": [
       "   Backward Elimination     Forward Selection Recursive Feature Elimination\n",
       "0   Avg. Session Length   Avg. Session Length           Avg. Session Length\n",
       "1           Time on App           Time on App                   Time on App\n",
       "2  Length of Membership  Length of Membership          Length of Membership"
      ]
     },
     "execution_count": 114,
     "metadata": {},
     "output_type": "execute_result"
    }
   ],
   "source": [
    "feature = pd.DataFrame()\n",
    "feature['Backward Elimination'] = feat_back\n",
    "feature['Forward Selection'] = feat_forw\n",
    "feature['Recursive Feature Elimination'] = feat_rfe\n",
    "feature"
   ]
  },
  {
   "cell_type": "markdown",
   "metadata": {},
   "source": [
    "So every feature selection technique giving same features."
   ]
  },
  {
   "cell_type": "code",
   "execution_count": 117,
   "metadata": {},
   "outputs": [
    {
     "data": {
      "text/plain": [
       "[0.9824710462856076, 10.95474815858166]"
      ]
     },
     "execution_count": 117,
     "metadata": {},
     "output_type": "execute_result"
    }
   ],
   "source": [
    "lr = LinearRegression()\n",
    "lr.fit(xtrain[feat_back],ytrain)\n",
    "ypred = lr.predict(xtest[feat_back])\n",
    "r2 = r2_score(ytest,y_pred)\n",
    "rmse = np.sqrt(mean_squared_error(ytest,y_pred))\n",
    "back_res = [r2,rmse]\n",
    "back_res"
   ]
  },
  {
   "cell_type": "markdown",
   "metadata": {},
   "source": [
    "We are getting 0.982 R2 and 10.95 rmse value after using best features."
   ]
  },
  {
   "cell_type": "markdown",
   "metadata": {},
   "source": [
    "#### Cross Validation:"
   ]
  },
  {
   "cell_type": "code",
   "execution_count": 149,
   "metadata": {},
   "outputs": [
    {
     "data": {
      "text/plain": [
       "[11.142928007244503, 1.0258805513162046, 0.09206561782048982]"
      ]
     },
     "execution_count": 149,
     "metadata": {},
     "output_type": "execute_result"
    }
   ],
   "source": [
    "lr = LinearRegression()\n",
    "rmse = np.sqrt(abs(cross_val_score(lr, inp[feat_back], out, cv = 5, scoring = 'neg_mean_squared_error')))\n",
    "be = np.mean(rmse) # Bias Error\n",
    "ve = np.std(rmse) # Variance Error\n",
    "cve = ve/be # Coefficient of Variance\n",
    "res_base = [be,ve,cve]\n",
    "res_base"
   ]
  },
  {
   "cell_type": "markdown",
   "metadata": {},
   "source": [
    "Coefficient of Variance is very low, that means my model is not overfitting model. Still let's use some regularization to improve the model."
   ]
  },
  {
   "cell_type": "code",
   "execution_count": 150,
   "metadata": {},
   "outputs": [
    {
     "data": {
      "text/plain": [
       "[11.161521683142855, 1.2112961434052054, 0.10852428349752839]"
      ]
     },
     "execution_count": 150,
     "metadata": {},
     "output_type": "execute_result"
    }
   ],
   "source": [
    "mod_rid = Ridge(alpha=5)\n",
    "res = cross_val_score(mod_rid, inp[feat_back], out, cv = 5, scoring= 'neg_mean_squared_error')\n",
    "rmse = np.sqrt(abs(res))\n",
    "be = np.mean(rmse) # Bias Error\n",
    "ve = np.std(rmse) # Variance Error\n",
    "cve = ve/be # Coefficient of Variance\n",
    "res_ridge = [be,ve,cve]\n",
    "res_ridge"
   ]
  },
  {
   "cell_type": "markdown",
   "metadata": {},
   "source": [
    "let's use hyperparameter tuning to get best alpha value."
   ]
  },
  {
   "cell_type": "code",
   "execution_count": 165,
   "metadata": {},
   "outputs": [
    {
     "name": "stdout",
     "output_type": "stream",
     "text": [
      "{'alpha': 0.05}\n",
      "124.69405503017795\n"
     ]
    }
   ],
   "source": [
    "mod_rid = Ridge()\n",
    "param = {'alpha': [0.0001,0.001,0.005,0.01,0.05,0.1,0.5,1,2,3,4,5,6,7,8,9,10,20,30,40,50,60,70,80,90,100,1000]}\n",
    "random = RandomizedSearchCV(mod_rid, param_distributions= param, cv = 3, scoring = 'neg_mean_squared_error')\n",
    "mod_hyp = random.fit(inp[feat_back],out)\n",
    "print(mod_hyp.best_params_)\n",
    "print(abs(mod_hyp.best_score_))"
   ]
  },
  {
   "cell_type": "markdown",
   "metadata": {},
   "source": [
    "So for alpha = 0.05 , Ridge giving best result."
   ]
  },
  {
   "cell_type": "code",
   "execution_count": 166,
   "metadata": {},
   "outputs": [
    {
     "data": {
      "text/html": [
       "<div>\n",
       "<style scoped>\n",
       "    .dataframe tbody tr th:only-of-type {\n",
       "        vertical-align: middle;\n",
       "    }\n",
       "\n",
       "    .dataframe tbody tr th {\n",
       "        vertical-align: top;\n",
       "    }\n",
       "\n",
       "    .dataframe thead th {\n",
       "        text-align: right;\n",
       "    }\n",
       "</style>\n",
       "<table border=\"1\" class=\"dataframe\">\n",
       "  <thead>\n",
       "    <tr style=\"text-align: right;\">\n",
       "      <th></th>\n",
       "      <th>mean_fit_time</th>\n",
       "      <th>std_fit_time</th>\n",
       "      <th>mean_score_time</th>\n",
       "      <th>std_score_time</th>\n",
       "      <th>param_alpha</th>\n",
       "      <th>params</th>\n",
       "      <th>split0_test_score</th>\n",
       "      <th>split1_test_score</th>\n",
       "      <th>split2_test_score</th>\n",
       "      <th>mean_test_score</th>\n",
       "      <th>std_test_score</th>\n",
       "      <th>rank_test_score</th>\n",
       "    </tr>\n",
       "  </thead>\n",
       "  <tbody>\n",
       "    <tr>\n",
       "      <th>0</th>\n",
       "      <td>0.002417</td>\n",
       "      <td>0.000488</td>\n",
       "      <td>0.001151</td>\n",
       "      <td>0.000100</td>\n",
       "      <td>60</td>\n",
       "      <td>{'alpha': 60}</td>\n",
       "      <td>-207.775092</td>\n",
       "      <td>-261.915841</td>\n",
       "      <td>-336.566373</td>\n",
       "      <td>-268.752435</td>\n",
       "      <td>52.800585</td>\n",
       "      <td>8</td>\n",
       "    </tr>\n",
       "    <tr>\n",
       "      <th>1</th>\n",
       "      <td>0.001791</td>\n",
       "      <td>0.000038</td>\n",
       "      <td>0.001098</td>\n",
       "      <td>0.000006</td>\n",
       "      <td>50</td>\n",
       "      <td>{'alpha': 50}</td>\n",
       "      <td>-180.547412</td>\n",
       "      <td>-216.194563</td>\n",
       "      <td>-292.930046</td>\n",
       "      <td>-229.890674</td>\n",
       "      <td>46.891021</td>\n",
       "      <td>7</td>\n",
       "    </tr>\n",
       "    <tr>\n",
       "      <th>2</th>\n",
       "      <td>0.001789</td>\n",
       "      <td>0.000006</td>\n",
       "      <td>0.001070</td>\n",
       "      <td>0.000008</td>\n",
       "      <td>0.05</td>\n",
       "      <td>{'alpha': 0.05}</td>\n",
       "      <td>-119.279609</td>\n",
       "      <td>-111.301463</td>\n",
       "      <td>-143.501093</td>\n",
       "      <td>-124.694055</td>\n",
       "      <td>13.691633</td>\n",
       "      <td>1</td>\n",
       "    </tr>\n",
       "    <tr>\n",
       "      <th>3</th>\n",
       "      <td>0.001748</td>\n",
       "      <td>0.000014</td>\n",
       "      <td>0.001046</td>\n",
       "      <td>0.000021</td>\n",
       "      <td>8</td>\n",
       "      <td>{'alpha': 8}</td>\n",
       "      <td>-117.898225</td>\n",
       "      <td>-108.765368</td>\n",
       "      <td>-156.705406</td>\n",
       "      <td>-127.789666</td>\n",
       "      <td>20.783684</td>\n",
       "      <td>5</td>\n",
       "    </tr>\n",
       "    <tr>\n",
       "      <th>4</th>\n",
       "      <td>0.001727</td>\n",
       "      <td>0.000021</td>\n",
       "      <td>0.001023</td>\n",
       "      <td>0.000014</td>\n",
       "      <td>1000</td>\n",
       "      <td>{'alpha': 1000}</td>\n",
       "      <td>-2903.070574</td>\n",
       "      <td>-4085.180623</td>\n",
       "      <td>-3547.744083</td>\n",
       "      <td>-3511.998427</td>\n",
       "      <td>483.255872</td>\n",
       "      <td>10</td>\n",
       "    </tr>\n",
       "    <tr>\n",
       "      <th>5</th>\n",
       "      <td>0.001723</td>\n",
       "      <td>0.000014</td>\n",
       "      <td>0.001038</td>\n",
       "      <td>0.000023</td>\n",
       "      <td>80</td>\n",
       "      <td>{'alpha': 80}</td>\n",
       "      <td>-271.391836</td>\n",
       "      <td>-367.215588</td>\n",
       "      <td>-431.575182</td>\n",
       "      <td>-356.727535</td>\n",
       "      <td>65.813755</td>\n",
       "      <td>9</td>\n",
       "    </tr>\n",
       "    <tr>\n",
       "      <th>6</th>\n",
       "      <td>0.001694</td>\n",
       "      <td>0.000010</td>\n",
       "      <td>0.001025</td>\n",
       "      <td>0.000010</td>\n",
       "      <td>0.001</td>\n",
       "      <td>{'alpha': 0.001}</td>\n",
       "      <td>-119.305217</td>\n",
       "      <td>-111.347803</td>\n",
       "      <td>-143.436407</td>\n",
       "      <td>-124.696476</td>\n",
       "      <td>13.643530</td>\n",
       "      <td>2</td>\n",
       "    </tr>\n",
       "    <tr>\n",
       "      <th>7</th>\n",
       "      <td>0.001695</td>\n",
       "      <td>0.000008</td>\n",
       "      <td>0.001060</td>\n",
       "      <td>0.000046</td>\n",
       "      <td>3</td>\n",
       "      <td>{'alpha': 3}</td>\n",
       "      <td>-118.134707</td>\n",
       "      <td>-109.227492</td>\n",
       "      <td>-147.784165</td>\n",
       "      <td>-125.048788</td>\n",
       "      <td>16.482469</td>\n",
       "      <td>3</td>\n",
       "    </tr>\n",
       "    <tr>\n",
       "      <th>8</th>\n",
       "      <td>0.001683</td>\n",
       "      <td>0.000012</td>\n",
       "      <td>0.001032</td>\n",
       "      <td>0.000012</td>\n",
       "      <td>40</td>\n",
       "      <td>{'alpha': 40}</td>\n",
       "      <td>-157.185145</td>\n",
       "      <td>-176.568497</td>\n",
       "      <td>-252.699451</td>\n",
       "      <td>-195.484364</td>\n",
       "      <td>41.223805</td>\n",
       "      <td>6</td>\n",
       "    </tr>\n",
       "    <tr>\n",
       "      <th>9</th>\n",
       "      <td>0.001680</td>\n",
       "      <td>0.000016</td>\n",
       "      <td>0.001032</td>\n",
       "      <td>0.000015</td>\n",
       "      <td>5</td>\n",
       "      <td>{'alpha': 5}</td>\n",
       "      <td>-117.790103</td>\n",
       "      <td>-108.596697</td>\n",
       "      <td>-151.109550</td>\n",
       "      <td>-125.832117</td>\n",
       "      <td>18.263646</td>\n",
       "      <td>4</td>\n",
       "    </tr>\n",
       "  </tbody>\n",
       "</table>\n",
       "</div>"
      ],
      "text/plain": [
       "   mean_fit_time  std_fit_time  mean_score_time  std_score_time param_alpha  \\\n",
       "0       0.002417      0.000488         0.001151        0.000100          60   \n",
       "1       0.001791      0.000038         0.001098        0.000006          50   \n",
       "2       0.001789      0.000006         0.001070        0.000008        0.05   \n",
       "3       0.001748      0.000014         0.001046        0.000021           8   \n",
       "4       0.001727      0.000021         0.001023        0.000014        1000   \n",
       "5       0.001723      0.000014         0.001038        0.000023          80   \n",
       "6       0.001694      0.000010         0.001025        0.000010       0.001   \n",
       "7       0.001695      0.000008         0.001060        0.000046           3   \n",
       "8       0.001683      0.000012         0.001032        0.000012          40   \n",
       "9       0.001680      0.000016         0.001032        0.000015           5   \n",
       "\n",
       "             params  split0_test_score  split1_test_score  split2_test_score  \\\n",
       "0     {'alpha': 60}        -207.775092        -261.915841        -336.566373   \n",
       "1     {'alpha': 50}        -180.547412        -216.194563        -292.930046   \n",
       "2   {'alpha': 0.05}        -119.279609        -111.301463        -143.501093   \n",
       "3      {'alpha': 8}        -117.898225        -108.765368        -156.705406   \n",
       "4   {'alpha': 1000}       -2903.070574       -4085.180623       -3547.744083   \n",
       "5     {'alpha': 80}        -271.391836        -367.215588        -431.575182   \n",
       "6  {'alpha': 0.001}        -119.305217        -111.347803        -143.436407   \n",
       "7      {'alpha': 3}        -118.134707        -109.227492        -147.784165   \n",
       "8     {'alpha': 40}        -157.185145        -176.568497        -252.699451   \n",
       "9      {'alpha': 5}        -117.790103        -108.596697        -151.109550   \n",
       "\n",
       "   mean_test_score  std_test_score  rank_test_score  \n",
       "0      -268.752435       52.800585                8  \n",
       "1      -229.890674       46.891021                7  \n",
       "2      -124.694055       13.691633                1  \n",
       "3      -127.789666       20.783684                5  \n",
       "4     -3511.998427      483.255872               10  \n",
       "5      -356.727535       65.813755                9  \n",
       "6      -124.696476       13.643530                2  \n",
       "7      -125.048788       16.482469                3  \n",
       "8      -195.484364       41.223805                6  \n",
       "9      -125.832117       18.263646                4  "
      ]
     },
     "execution_count": 166,
     "metadata": {},
     "output_type": "execute_result"
    }
   ],
   "source": [
    "results = pd.DataFrame(mod_hyp.cv_results_)\n",
    "results"
   ]
  },
  {
   "cell_type": "code",
   "execution_count": 167,
   "metadata": {},
   "outputs": [
    {
     "data": {
      "text/plain": [
       "[11.142701983175733, 1.0277612652243262, 0.09223626969258747]"
      ]
     },
     "execution_count": 167,
     "metadata": {},
     "output_type": "execute_result"
    }
   ],
   "source": [
    "mod_rid = Ridge(alpha=0.05)\n",
    "res = cross_val_score(mod_rid, inp[feat_back], out, cv = 5, scoring= 'neg_mean_squared_error')\n",
    "rmse = np.sqrt(abs(res))\n",
    "be = np.mean(rmse) # Bias Error\n",
    "ve = np.std(rmse) # Variance Error\n",
    "cve = ve/be # Coefficient of Variance\n",
    "res_ridge = [be,ve,cve]\n",
    "res_ridge"
   ]
  },
  {
   "cell_type": "markdown",
   "metadata": {},
   "source": [
    "-----"
   ]
  },
  {
   "cell_type": "code",
   "execution_count": 168,
   "metadata": {},
   "outputs": [
    {
     "data": {
      "text/plain": [
       "[11.139893598305713, 1.0553537780740965, 0.09473643251265947]"
      ]
     },
     "execution_count": 168,
     "metadata": {},
     "output_type": "execute_result"
    }
   ],
   "source": [
    "mod_las = Lasso(alpha=0.1)\n",
    "res = cross_val_score(mod_las, inp[feat_back], out, cv = 5, scoring= 'neg_mean_squared_error')\n",
    "rmse = np.sqrt(abs(res))\n",
    "be = np.mean(rmse) # Bias Error\n",
    "ve = np.std(rmse) # Variance Error\n",
    "cve = ve/be # Coefficient of Variance\n",
    "res_las = [be,ve,cve]\n",
    "res_las"
   ]
  },
  {
   "cell_type": "markdown",
   "metadata": {},
   "source": [
    "let's use hyperparameter tuning to get best alpha value."
   ]
  },
  {
   "cell_type": "code",
   "execution_count": 169,
   "metadata": {},
   "outputs": [
    {
     "name": "stdout",
     "output_type": "stream",
     "text": [
      "{'alpha': 0.005}\n",
      "124.69439580653894\n"
     ]
    }
   ],
   "source": [
    "mod_las = Lasso()\n",
    "param = {'alpha': [0.0001,0.001,0.005,0.01,0.05,0.1,0.5,1,2,3,4,5,6,7,8,9,10,20,30,40,50,60,70,80,90,100,1000]}\n",
    "random = RandomizedSearchCV(mod_las, param_distributions= param, cv = 3, scoring = 'neg_mean_squared_error')\n",
    "mod_hyp = random.fit(inp[feat_back],out)\n",
    "print(mod_hyp.best_params_)\n",
    "print(abs(mod_hyp.best_score_))"
   ]
  },
  {
   "cell_type": "markdown",
   "metadata": {},
   "source": [
    "So for alpha = 0.005 , Lasso giving best result."
   ]
  },
  {
   "cell_type": "code",
   "execution_count": 170,
   "metadata": {},
   "outputs": [
    {
     "data": {
      "text/html": [
       "<div>\n",
       "<style scoped>\n",
       "    .dataframe tbody tr th:only-of-type {\n",
       "        vertical-align: middle;\n",
       "    }\n",
       "\n",
       "    .dataframe tbody tr th {\n",
       "        vertical-align: top;\n",
       "    }\n",
       "\n",
       "    .dataframe thead th {\n",
       "        text-align: right;\n",
       "    }\n",
       "</style>\n",
       "<table border=\"1\" class=\"dataframe\">\n",
       "  <thead>\n",
       "    <tr style=\"text-align: right;\">\n",
       "      <th></th>\n",
       "      <th>mean_fit_time</th>\n",
       "      <th>std_fit_time</th>\n",
       "      <th>mean_score_time</th>\n",
       "      <th>std_score_time</th>\n",
       "      <th>param_alpha</th>\n",
       "      <th>params</th>\n",
       "      <th>split0_test_score</th>\n",
       "      <th>split1_test_score</th>\n",
       "      <th>split2_test_score</th>\n",
       "      <th>mean_test_score</th>\n",
       "      <th>std_test_score</th>\n",
       "      <th>rank_test_score</th>\n",
       "    </tr>\n",
       "  </thead>\n",
       "  <tbody>\n",
       "    <tr>\n",
       "      <th>0</th>\n",
       "      <td>0.001808</td>\n",
       "      <td>0.000148</td>\n",
       "      <td>0.001083</td>\n",
       "      <td>1.716209e-05</td>\n",
       "      <td>0.0001</td>\n",
       "      <td>{'alpha': 0.0001}</td>\n",
       "      <td>-119.305487</td>\n",
       "      <td>-111.348000</td>\n",
       "      <td>-143.435955</td>\n",
       "      <td>-124.696481</td>\n",
       "      <td>13.643223</td>\n",
       "      <td>2</td>\n",
       "    </tr>\n",
       "    <tr>\n",
       "      <th>1</th>\n",
       "      <td>0.001682</td>\n",
       "      <td>0.000005</td>\n",
       "      <td>0.001069</td>\n",
       "      <td>7.530237e-06</td>\n",
       "      <td>70</td>\n",
       "      <td>{'alpha': 70}</td>\n",
       "      <td>-5235.830903</td>\n",
       "      <td>-6898.924348</td>\n",
       "      <td>-6078.489740</td>\n",
       "      <td>-6071.081663</td>\n",
       "      <td>678.975263</td>\n",
       "      <td>10</td>\n",
       "    </tr>\n",
       "    <tr>\n",
       "      <th>2</th>\n",
       "      <td>0.001671</td>\n",
       "      <td>0.000014</td>\n",
       "      <td>0.001072</td>\n",
       "      <td>8.240688e-06</td>\n",
       "      <td>3</td>\n",
       "      <td>{'alpha': 3}</td>\n",
       "      <td>-133.483747</td>\n",
       "      <td>-129.928680</td>\n",
       "      <td>-193.175131</td>\n",
       "      <td>-152.195853</td>\n",
       "      <td>29.013050</td>\n",
       "      <td>3</td>\n",
       "    </tr>\n",
       "    <tr>\n",
       "      <th>3</th>\n",
       "      <td>0.001656</td>\n",
       "      <td>0.000003</td>\n",
       "      <td>0.001075</td>\n",
       "      <td>8.206126e-06</td>\n",
       "      <td>20</td>\n",
       "      <td>{'alpha': 20}</td>\n",
       "      <td>-1014.356628</td>\n",
       "      <td>-1803.998193</td>\n",
       "      <td>-1372.530803</td>\n",
       "      <td>-1396.961875</td>\n",
       "      <td>322.832370</td>\n",
       "      <td>7</td>\n",
       "    </tr>\n",
       "    <tr>\n",
       "      <th>4</th>\n",
       "      <td>0.001670</td>\n",
       "      <td>0.000011</td>\n",
       "      <td>0.001070</td>\n",
       "      <td>8.438356e-06</td>\n",
       "      <td>6</td>\n",
       "      <td>{'alpha': 6}</td>\n",
       "      <td>-190.042813</td>\n",
       "      <td>-231.561829</td>\n",
       "      <td>-290.429637</td>\n",
       "      <td>-237.344760</td>\n",
       "      <td>41.186246</td>\n",
       "      <td>4</td>\n",
       "    </tr>\n",
       "    <tr>\n",
       "      <th>5</th>\n",
       "      <td>0.001669</td>\n",
       "      <td>0.000012</td>\n",
       "      <td>0.001072</td>\n",
       "      <td>9.823180e-06</td>\n",
       "      <td>8</td>\n",
       "      <td>{'alpha': 8}</td>\n",
       "      <td>-251.293878</td>\n",
       "      <td>-345.457949</td>\n",
       "      <td>-381.662899</td>\n",
       "      <td>-326.138242</td>\n",
       "      <td>54.948210</td>\n",
       "      <td>6</td>\n",
       "    </tr>\n",
       "    <tr>\n",
       "      <th>6</th>\n",
       "      <td>0.001681</td>\n",
       "      <td>0.000014</td>\n",
       "      <td>0.001071</td>\n",
       "      <td>7.837652e-06</td>\n",
       "      <td>30</td>\n",
       "      <td>{'alpha': 30}</td>\n",
       "      <td>-2035.438483</td>\n",
       "      <td>-3355.400615</td>\n",
       "      <td>-2605.581632</td>\n",
       "      <td>-2665.473577</td>\n",
       "      <td>540.533867</td>\n",
       "      <td>8</td>\n",
       "    </tr>\n",
       "    <tr>\n",
       "      <th>7</th>\n",
       "      <td>0.001668</td>\n",
       "      <td>0.000010</td>\n",
       "      <td>0.001074</td>\n",
       "      <td>8.305579e-06</td>\n",
       "      <td>7</td>\n",
       "      <td>{'alpha': 7}</td>\n",
       "      <td>-218.313843</td>\n",
       "      <td>-283.895820</td>\n",
       "      <td>-333.406576</td>\n",
       "      <td>-278.538747</td>\n",
       "      <td>47.138858</td>\n",
       "      <td>5</td>\n",
       "    </tr>\n",
       "    <tr>\n",
       "      <th>8</th>\n",
       "      <td>0.001669</td>\n",
       "      <td>0.000014</td>\n",
       "      <td>0.001075</td>\n",
       "      <td>7.100267e-06</td>\n",
       "      <td>40</td>\n",
       "      <td>{'alpha': 40}</td>\n",
       "      <td>-3066.683676</td>\n",
       "      <td>-4646.896267</td>\n",
       "      <td>-3843.666875</td>\n",
       "      <td>-3852.415606</td>\n",
       "      <td>645.148750</td>\n",
       "      <td>9</td>\n",
       "    </tr>\n",
       "    <tr>\n",
       "      <th>9</th>\n",
       "      <td>0.001666</td>\n",
       "      <td>0.000017</td>\n",
       "      <td>0.001059</td>\n",
       "      <td>8.991328e-07</td>\n",
       "      <td>0.005</td>\n",
       "      <td>{'alpha': 0.005}</td>\n",
       "      <td>-119.294092</td>\n",
       "      <td>-111.310636</td>\n",
       "      <td>-143.478459</td>\n",
       "      <td>-124.694396</td>\n",
       "      <td>13.676371</td>\n",
       "      <td>1</td>\n",
       "    </tr>\n",
       "  </tbody>\n",
       "</table>\n",
       "</div>"
      ],
      "text/plain": [
       "   mean_fit_time  std_fit_time  mean_score_time  std_score_time param_alpha  \\\n",
       "0       0.001808      0.000148         0.001083    1.716209e-05      0.0001   \n",
       "1       0.001682      0.000005         0.001069    7.530237e-06          70   \n",
       "2       0.001671      0.000014         0.001072    8.240688e-06           3   \n",
       "3       0.001656      0.000003         0.001075    8.206126e-06          20   \n",
       "4       0.001670      0.000011         0.001070    8.438356e-06           6   \n",
       "5       0.001669      0.000012         0.001072    9.823180e-06           8   \n",
       "6       0.001681      0.000014         0.001071    7.837652e-06          30   \n",
       "7       0.001668      0.000010         0.001074    8.305579e-06           7   \n",
       "8       0.001669      0.000014         0.001075    7.100267e-06          40   \n",
       "9       0.001666      0.000017         0.001059    8.991328e-07       0.005   \n",
       "\n",
       "              params  split0_test_score  split1_test_score  split2_test_score  \\\n",
       "0  {'alpha': 0.0001}        -119.305487        -111.348000        -143.435955   \n",
       "1      {'alpha': 70}       -5235.830903       -6898.924348       -6078.489740   \n",
       "2       {'alpha': 3}        -133.483747        -129.928680        -193.175131   \n",
       "3      {'alpha': 20}       -1014.356628       -1803.998193       -1372.530803   \n",
       "4       {'alpha': 6}        -190.042813        -231.561829        -290.429637   \n",
       "5       {'alpha': 8}        -251.293878        -345.457949        -381.662899   \n",
       "6      {'alpha': 30}       -2035.438483       -3355.400615       -2605.581632   \n",
       "7       {'alpha': 7}        -218.313843        -283.895820        -333.406576   \n",
       "8      {'alpha': 40}       -3066.683676       -4646.896267       -3843.666875   \n",
       "9   {'alpha': 0.005}        -119.294092        -111.310636        -143.478459   \n",
       "\n",
       "   mean_test_score  std_test_score  rank_test_score  \n",
       "0      -124.696481       13.643223                2  \n",
       "1     -6071.081663      678.975263               10  \n",
       "2      -152.195853       29.013050                3  \n",
       "3     -1396.961875      322.832370                7  \n",
       "4      -237.344760       41.186246                4  \n",
       "5      -326.138242       54.948210                6  \n",
       "6     -2665.473577      540.533867                8  \n",
       "7      -278.538747       47.138858                5  \n",
       "8     -3852.415606      645.148750                9  \n",
       "9      -124.694396       13.676371                1  "
      ]
     },
     "execution_count": 170,
     "metadata": {},
     "output_type": "execute_result"
    }
   ],
   "source": [
    "results = pd.DataFrame(mod_hyp.cv_results_)\n",
    "results"
   ]
  },
  {
   "cell_type": "code",
   "execution_count": 171,
   "metadata": {},
   "outputs": [
    {
     "data": {
      "text/plain": [
       "[11.142711156456892, 1.0273571368431673, 0.09219992535190526]"
      ]
     },
     "execution_count": 171,
     "metadata": {},
     "output_type": "execute_result"
    }
   ],
   "source": [
    "mod_las = Lasso(alpha=0.005)\n",
    "res = cross_val_score(mod_las, inp[feat_back], out, cv = 5, scoring= 'neg_mean_squared_error')\n",
    "rmse = np.sqrt(abs(res))\n",
    "be = np.mean(rmse) # Bias Error\n",
    "ve = np.std(rmse) # Variance Error\n",
    "cve = ve/be # Coefficient of Variance\n",
    "res_las = [be,ve,cve]\n",
    "res_las"
   ]
  },
  {
   "cell_type": "markdown",
   "metadata": {},
   "source": [
    "-------"
   ]
  },
  {
   "cell_type": "code",
   "execution_count": 172,
   "metadata": {},
   "outputs": [
    {
     "data": {
      "text/plain": [
       "[11.689680064402594, 1.6880001718383297, 0.14440088715332994]"
      ]
     },
     "execution_count": 172,
     "metadata": {},
     "output_type": "execute_result"
    }
   ],
   "source": [
    "mod_enet = ElasticNet(alpha=0.1)\n",
    "res = cross_val_score(mod_enet, inp[feat_back], out, cv = 5, scoring= 'neg_mean_squared_error')\n",
    "rmse = np.sqrt(abs(res))\n",
    "be = np.mean(rmse) # Bias Error\n",
    "ve = np.std(rmse) # Variance Error\n",
    "cve = ve/be # Coefficient of Variance\n",
    "res_enet = [be,ve,cve]\n",
    "res_enet"
   ]
  },
  {
   "cell_type": "markdown",
   "metadata": {},
   "source": [
    "let's use hyperparameter tuning to get best alpha value."
   ]
  },
  {
   "cell_type": "code",
   "execution_count": 173,
   "metadata": {},
   "outputs": [
    {
     "name": "stdout",
     "output_type": "stream",
     "text": [
      "{'l1_ratio': 0.3, 'alpha': 0.001}\n",
      "124.68768851459201\n"
     ]
    }
   ],
   "source": [
    "mod_enet = ElasticNet()\n",
    "param = {'alpha': [0.0001,0.001,0.005,0.01,0.05,0.1,0.5,1,2,3,4,5,6,7,8,9,10,20,30,40,50,60,70,80,90,100,1000],\n",
    "         'l1_ratio': [0.1,0.2,0.3,0.4,0.5,0.6,0.7,0.8,0.9]}\n",
    "random = RandomizedSearchCV(mod_enet, param_distributions= param, cv = 3, scoring = 'neg_mean_squared_error')\n",
    "mod_hyp = random.fit(inp[feat_back],out)\n",
    "print(mod_hyp.best_params_)\n",
    "print(abs(mod_hyp.best_score_))"
   ]
  },
  {
   "cell_type": "markdown",
   "metadata": {},
   "source": [
    "So for alpha = 0.001 and l1_ratio = 0.3 , ElasticNet giving best result."
   ]
  },
  {
   "cell_type": "code",
   "execution_count": 174,
   "metadata": {},
   "outputs": [
    {
     "data": {
      "text/html": [
       "<div>\n",
       "<style scoped>\n",
       "    .dataframe tbody tr th:only-of-type {\n",
       "        vertical-align: middle;\n",
       "    }\n",
       "\n",
       "    .dataframe tbody tr th {\n",
       "        vertical-align: top;\n",
       "    }\n",
       "\n",
       "    .dataframe thead th {\n",
       "        text-align: right;\n",
       "    }\n",
       "</style>\n",
       "<table border=\"1\" class=\"dataframe\">\n",
       "  <thead>\n",
       "    <tr style=\"text-align: right;\">\n",
       "      <th></th>\n",
       "      <th>mean_fit_time</th>\n",
       "      <th>std_fit_time</th>\n",
       "      <th>mean_score_time</th>\n",
       "      <th>std_score_time</th>\n",
       "      <th>param_l1_ratio</th>\n",
       "      <th>param_alpha</th>\n",
       "      <th>params</th>\n",
       "      <th>split0_test_score</th>\n",
       "      <th>split1_test_score</th>\n",
       "      <th>split2_test_score</th>\n",
       "      <th>mean_test_score</th>\n",
       "      <th>std_test_score</th>\n",
       "      <th>rank_test_score</th>\n",
       "    </tr>\n",
       "  </thead>\n",
       "  <tbody>\n",
       "    <tr>\n",
       "      <th>0</th>\n",
       "      <td>0.001809</td>\n",
       "      <td>0.000166</td>\n",
       "      <td>0.001055</td>\n",
       "      <td>0.000032</td>\n",
       "      <td>0.6</td>\n",
       "      <td>20</td>\n",
       "      <td>{'l1_ratio': 0.6, 'alpha': 20}</td>\n",
       "      <td>-4362.255174</td>\n",
       "      <td>-5938.098970</td>\n",
       "      <td>-5157.456306</td>\n",
       "      <td>-5152.603484</td>\n",
       "      <td>643.344687</td>\n",
       "      <td>5</td>\n",
       "    </tr>\n",
       "    <tr>\n",
       "      <th>1</th>\n",
       "      <td>0.001655</td>\n",
       "      <td>0.000031</td>\n",
       "      <td>0.001096</td>\n",
       "      <td>0.000087</td>\n",
       "      <td>0.4</td>\n",
       "      <td>60</td>\n",
       "      <td>{'l1_ratio': 0.4, 'alpha': 60}</td>\n",
       "      <td>-5083.830897</td>\n",
       "      <td>-6751.984988</td>\n",
       "      <td>-5923.903524</td>\n",
       "      <td>-5919.906470</td>\n",
       "      <td>681.026920</td>\n",
       "      <td>7</td>\n",
       "    </tr>\n",
       "    <tr>\n",
       "      <th>2</th>\n",
       "      <td>0.001662</td>\n",
       "      <td>0.000003</td>\n",
       "      <td>0.001081</td>\n",
       "      <td>0.000004</td>\n",
       "      <td>0.2</td>\n",
       "      <td>100</td>\n",
       "      <td>{'l1_ratio': 0.2, 'alpha': 100}</td>\n",
       "      <td>-5155.439531</td>\n",
       "      <td>-6818.599863</td>\n",
       "      <td>-5995.792010</td>\n",
       "      <td>-5989.943801</td>\n",
       "      <td>678.994955</td>\n",
       "      <td>10</td>\n",
       "    </tr>\n",
       "    <tr>\n",
       "      <th>3</th>\n",
       "      <td>0.001664</td>\n",
       "      <td>0.000009</td>\n",
       "      <td>0.001073</td>\n",
       "      <td>0.000013</td>\n",
       "      <td>0.1</td>\n",
       "      <td>100</td>\n",
       "      <td>{'l1_ratio': 0.1, 'alpha': 100}</td>\n",
       "      <td>-5140.650990</td>\n",
       "      <td>-6795.060940</td>\n",
       "      <td>-5978.599513</td>\n",
       "      <td>-5971.437148</td>\n",
       "      <td>675.429022</td>\n",
       "      <td>8</td>\n",
       "    </tr>\n",
       "    <tr>\n",
       "      <th>4</th>\n",
       "      <td>0.001670</td>\n",
       "      <td>0.000007</td>\n",
       "      <td>0.001065</td>\n",
       "      <td>0.000002</td>\n",
       "      <td>0.3</td>\n",
       "      <td>0.001</td>\n",
       "      <td>{'l1_ratio': 0.3, 'alpha': 0.001}</td>\n",
       "      <td>-119.185175</td>\n",
       "      <td>-111.129603</td>\n",
       "      <td>-143.748288</td>\n",
       "      <td>-124.687689</td>\n",
       "      <td>13.873306</td>\n",
       "      <td>1</td>\n",
       "    </tr>\n",
       "    <tr>\n",
       "      <th>5</th>\n",
       "      <td>0.001671</td>\n",
       "      <td>0.000012</td>\n",
       "      <td>0.001074</td>\n",
       "      <td>0.000011</td>\n",
       "      <td>0.7</td>\n",
       "      <td>8</td>\n",
       "      <td>{'l1_ratio': 0.7, 'alpha': 8}</td>\n",
       "      <td>-2816.533467</td>\n",
       "      <td>-4026.162940</td>\n",
       "      <td>-3466.341834</td>\n",
       "      <td>-3436.346080</td>\n",
       "      <td>494.284449</td>\n",
       "      <td>4</td>\n",
       "    </tr>\n",
       "    <tr>\n",
       "      <th>6</th>\n",
       "      <td>0.001664</td>\n",
       "      <td>0.000014</td>\n",
       "      <td>0.001071</td>\n",
       "      <td>0.000010</td>\n",
       "      <td>0.5</td>\n",
       "      <td>70</td>\n",
       "      <td>{'l1_ratio': 0.5, 'alpha': 70}</td>\n",
       "      <td>-5138.463300</td>\n",
       "      <td>-6813.918379</td>\n",
       "      <td>-5984.500349</td>\n",
       "      <td>-5978.960676</td>\n",
       "      <td>684.012888</td>\n",
       "      <td>9</td>\n",
       "    </tr>\n",
       "    <tr>\n",
       "      <th>7</th>\n",
       "      <td>0.001675</td>\n",
       "      <td>0.000016</td>\n",
       "      <td>0.001082</td>\n",
       "      <td>0.000011</td>\n",
       "      <td>0.9</td>\n",
       "      <td>40</td>\n",
       "      <td>{'l1_ratio': 0.9, 'alpha': 40}</td>\n",
       "      <td>-4596.289942</td>\n",
       "      <td>-6321.211758</td>\n",
       "      <td>-5458.627871</td>\n",
       "      <td>-5458.709857</td>\n",
       "      <td>704.196385</td>\n",
       "      <td>6</td>\n",
       "    </tr>\n",
       "    <tr>\n",
       "      <th>8</th>\n",
       "      <td>0.001666</td>\n",
       "      <td>0.000014</td>\n",
       "      <td>0.001064</td>\n",
       "      <td>0.000003</td>\n",
       "      <td>0.7</td>\n",
       "      <td>0.0001</td>\n",
       "      <td>{'l1_ratio': 0.7, 'alpha': 0.0001}</td>\n",
       "      <td>-119.300318</td>\n",
       "      <td>-111.338749</td>\n",
       "      <td>-143.448905</td>\n",
       "      <td>-124.695991</td>\n",
       "      <td>13.652850</td>\n",
       "      <td>2</td>\n",
       "    </tr>\n",
       "    <tr>\n",
       "      <th>9</th>\n",
       "      <td>0.001662</td>\n",
       "      <td>0.000007</td>\n",
       "      <td>0.001071</td>\n",
       "      <td>0.000010</td>\n",
       "      <td>0.7</td>\n",
       "      <td>7</td>\n",
       "      <td>{'l1_ratio': 0.7, 'alpha': 7}</td>\n",
       "      <td>-2592.212268</td>\n",
       "      <td>-3731.072267</td>\n",
       "      <td>-3215.009367</td>\n",
       "      <td>-3179.431301</td>\n",
       "      <td>465.617778</td>\n",
       "      <td>3</td>\n",
       "    </tr>\n",
       "  </tbody>\n",
       "</table>\n",
       "</div>"
      ],
      "text/plain": [
       "   mean_fit_time  std_fit_time  mean_score_time  std_score_time  \\\n",
       "0       0.001809      0.000166         0.001055        0.000032   \n",
       "1       0.001655      0.000031         0.001096        0.000087   \n",
       "2       0.001662      0.000003         0.001081        0.000004   \n",
       "3       0.001664      0.000009         0.001073        0.000013   \n",
       "4       0.001670      0.000007         0.001065        0.000002   \n",
       "5       0.001671      0.000012         0.001074        0.000011   \n",
       "6       0.001664      0.000014         0.001071        0.000010   \n",
       "7       0.001675      0.000016         0.001082        0.000011   \n",
       "8       0.001666      0.000014         0.001064        0.000003   \n",
       "9       0.001662      0.000007         0.001071        0.000010   \n",
       "\n",
       "  param_l1_ratio param_alpha                              params  \\\n",
       "0            0.6          20      {'l1_ratio': 0.6, 'alpha': 20}   \n",
       "1            0.4          60      {'l1_ratio': 0.4, 'alpha': 60}   \n",
       "2            0.2         100     {'l1_ratio': 0.2, 'alpha': 100}   \n",
       "3            0.1         100     {'l1_ratio': 0.1, 'alpha': 100}   \n",
       "4            0.3       0.001   {'l1_ratio': 0.3, 'alpha': 0.001}   \n",
       "5            0.7           8       {'l1_ratio': 0.7, 'alpha': 8}   \n",
       "6            0.5          70      {'l1_ratio': 0.5, 'alpha': 70}   \n",
       "7            0.9          40      {'l1_ratio': 0.9, 'alpha': 40}   \n",
       "8            0.7      0.0001  {'l1_ratio': 0.7, 'alpha': 0.0001}   \n",
       "9            0.7           7       {'l1_ratio': 0.7, 'alpha': 7}   \n",
       "\n",
       "   split0_test_score  split1_test_score  split2_test_score  mean_test_score  \\\n",
       "0       -4362.255174       -5938.098970       -5157.456306     -5152.603484   \n",
       "1       -5083.830897       -6751.984988       -5923.903524     -5919.906470   \n",
       "2       -5155.439531       -6818.599863       -5995.792010     -5989.943801   \n",
       "3       -5140.650990       -6795.060940       -5978.599513     -5971.437148   \n",
       "4        -119.185175        -111.129603        -143.748288      -124.687689   \n",
       "5       -2816.533467       -4026.162940       -3466.341834     -3436.346080   \n",
       "6       -5138.463300       -6813.918379       -5984.500349     -5978.960676   \n",
       "7       -4596.289942       -6321.211758       -5458.627871     -5458.709857   \n",
       "8        -119.300318        -111.338749        -143.448905      -124.695991   \n",
       "9       -2592.212268       -3731.072267       -3215.009367     -3179.431301   \n",
       "\n",
       "   std_test_score  rank_test_score  \n",
       "0      643.344687                5  \n",
       "1      681.026920                7  \n",
       "2      678.994955               10  \n",
       "3      675.429022                8  \n",
       "4       13.873306                1  \n",
       "5      494.284449                4  \n",
       "6      684.012888                9  \n",
       "7      704.196385                6  \n",
       "8       13.652850                2  \n",
       "9      465.617778                3  "
      ]
     },
     "execution_count": 174,
     "metadata": {},
     "output_type": "execute_result"
    }
   ],
   "source": [
    "results = pd.DataFrame(mod_hyp.cv_results_)\n",
    "results"
   ]
  },
  {
   "cell_type": "code",
   "execution_count": 175,
   "metadata": {},
   "outputs": [
    {
     "data": {
      "text/plain": [
       "[11.14176153781014, 1.0364987303502644, 0.0930282636935688]"
      ]
     },
     "execution_count": 175,
     "metadata": {},
     "output_type": "execute_result"
    }
   ],
   "source": [
    "mod_enet = ElasticNet(alpha=0.001, l1_ratio=0.3)\n",
    "res = cross_val_score(mod_enet, inp[feat_back], out, cv = 5, scoring= 'neg_mean_squared_error')\n",
    "rmse = np.sqrt(abs(res))\n",
    "be = np.mean(rmse) # Bias Error\n",
    "ve = np.std(rmse) # Variance Error\n",
    "cve = ve/be # Coefficient of Variance\n",
    "res_enet = [be,ve,cve]\n",
    "res_enet"
   ]
  },
  {
   "cell_type": "code",
   "execution_count": 176,
   "metadata": {},
   "outputs": [
    {
     "data": {
      "text/html": [
       "<div>\n",
       "<style scoped>\n",
       "    .dataframe tbody tr th:only-of-type {\n",
       "        vertical-align: middle;\n",
       "    }\n",
       "\n",
       "    .dataframe tbody tr th {\n",
       "        vertical-align: top;\n",
       "    }\n",
       "\n",
       "    .dataframe thead th {\n",
       "        text-align: right;\n",
       "    }\n",
       "</style>\n",
       "<table border=\"1\" class=\"dataframe\">\n",
       "  <thead>\n",
       "    <tr style=\"text-align: right;\">\n",
       "      <th></th>\n",
       "      <th>Linear Regression</th>\n",
       "      <th>Ridge</th>\n",
       "      <th>Lasso</th>\n",
       "      <th>ElasticNet</th>\n",
       "    </tr>\n",
       "  </thead>\n",
       "  <tbody>\n",
       "    <tr>\n",
       "      <th>Bias Error</th>\n",
       "      <td>11.142928</td>\n",
       "      <td>11.142702</td>\n",
       "      <td>11.142711</td>\n",
       "      <td>11.141762</td>\n",
       "    </tr>\n",
       "    <tr>\n",
       "      <th>Variance Error</th>\n",
       "      <td>1.025881</td>\n",
       "      <td>1.027761</td>\n",
       "      <td>1.027357</td>\n",
       "      <td>1.036499</td>\n",
       "    </tr>\n",
       "    <tr>\n",
       "      <th>Coefficient of Variance</th>\n",
       "      <td>0.092066</td>\n",
       "      <td>0.092236</td>\n",
       "      <td>0.092200</td>\n",
       "      <td>0.093028</td>\n",
       "    </tr>\n",
       "  </tbody>\n",
       "</table>\n",
       "</div>"
      ],
      "text/plain": [
       "                         Linear Regression      Ridge      Lasso  ElasticNet\n",
       "Bias Error                       11.142928  11.142702  11.142711   11.141762\n",
       "Variance Error                    1.025881   1.027761   1.027357    1.036499\n",
       "Coefficient of Variance           0.092066   0.092236   0.092200    0.093028"
      ]
     },
     "execution_count": 176,
     "metadata": {},
     "output_type": "execute_result"
    }
   ],
   "source": [
    "scorecard = pd.DataFrame()\n",
    "scorecard['Linear Regression'] = res_base\n",
    "scorecard['Ridge'] = res_ridge\n",
    "scorecard['Lasso'] = res_las\n",
    "scorecard['ElasticNet'] = res_enet\n",
    "scorecard.index = ['Bias Error', 'Variance Error', 'Coefficient of Variance']\n",
    "scorecard"
   ]
  },
  {
   "cell_type": "markdown",
   "metadata": {},
   "source": [
    "So we can see Ridge, Lasso and ElasticNet giving more or less same values as Linear Regression. So we will stick to Linear Regression."
   ]
  },
  {
   "cell_type": "markdown",
   "metadata": {},
   "source": [
    "#### Feature Interaction:"
   ]
  },
  {
   "cell_type": "code",
   "execution_count": 182,
   "metadata": {},
   "outputs": [
    {
     "data": {
      "text/plain": [
       "(500, 6)"
      ]
     },
     "execution_count": 182,
     "metadata": {},
     "output_type": "execute_result"
    }
   ],
   "source": [
    "inter = PolynomialFeatures(degree = 2, include_bias=False, interaction_only= True)\n",
    "inp_inter = inter.fit_transform(inp[feat_back])\n",
    "inp_inter = pd.DataFrame(inp_inter)\n",
    "inp_inter.shape"
   ]
  },
  {
   "cell_type": "code",
   "execution_count": 180,
   "metadata": {},
   "outputs": [
    {
     "data": {
      "text/html": [
       "<table class=\"simpletable\">\n",
       "<caption>OLS Regression Results</caption>\n",
       "<tr>\n",
       "  <th>Dep. Variable:</th>    <td>Yearly Amount Spent</td> <th>  R-squared:         </th> <td>   0.980</td>\n",
       "</tr>\n",
       "<tr>\n",
       "  <th>Model:</th>                    <td>OLS</td>         <th>  Adj. R-squared:    </th> <td>   0.980</td>\n",
       "</tr>\n",
       "<tr>\n",
       "  <th>Method:</th>              <td>Least Squares</td>    <th>  F-statistic:       </th> <td>   4046.</td>\n",
       "</tr>\n",
       "<tr>\n",
       "  <th>Date:</th>              <td>Tue, 08 Dec 2020</td>   <th>  Prob (F-statistic):</th>  <td>  0.00</td> \n",
       "</tr>\n",
       "<tr>\n",
       "  <th>Time:</th>                  <td>07:44:06</td>       <th>  Log-Likelihood:    </th> <td> -1906.5</td>\n",
       "</tr>\n",
       "<tr>\n",
       "  <th>No. Observations:</th>       <td>   500</td>        <th>  AIC:               </th> <td>   3827.</td>\n",
       "</tr>\n",
       "<tr>\n",
       "  <th>Df Residuals:</th>           <td>   493</td>        <th>  BIC:               </th> <td>   3856.</td>\n",
       "</tr>\n",
       "<tr>\n",
       "  <th>Df Model:</th>               <td>     6</td>        <th>                     </th>     <td> </td>   \n",
       "</tr>\n",
       "<tr>\n",
       "  <th>Covariance Type:</th>       <td>nonrobust</td>      <th>                     </th>     <td> </td>   \n",
       "</tr>\n",
       "</table>\n",
       "<table class=\"simpletable\">\n",
       "<tr>\n",
       "    <td></td>       <th>coef</th>     <th>std err</th>      <th>t</th>      <th>P>|t|</th>  <th>[0.025</th>    <th>0.975]</th>  \n",
       "</tr>\n",
       "<tr>\n",
       "  <th>const</th> <td> -820.8766</td> <td>  219.509</td> <td>   -3.740</td> <td> 0.000</td> <td>-1252.165</td> <td> -389.588</td>\n",
       "</tr>\n",
       "<tr>\n",
       "  <th>0</th>     <td>   18.2233</td> <td>    6.663</td> <td>    2.735</td> <td> 0.006</td> <td>    5.132</td> <td>   31.315</td>\n",
       "</tr>\n",
       "<tr>\n",
       "  <th>1</th>     <td>   29.9336</td> <td>   17.368</td> <td>    1.723</td> <td> 0.085</td> <td>   -4.191</td> <td>   64.059</td>\n",
       "</tr>\n",
       "<tr>\n",
       "  <th>2</th>     <td>   42.3210</td> <td>   18.211</td> <td>    2.324</td> <td> 0.021</td> <td>    6.541</td> <td>   78.101</td>\n",
       "</tr>\n",
       "<tr>\n",
       "  <th>3</th>     <td>    0.3460</td> <td>    0.528</td> <td>    0.655</td> <td> 0.513</td> <td>   -0.692</td> <td>    1.384</td>\n",
       "</tr>\n",
       "<tr>\n",
       "  <th>4</th>     <td>    0.8488</td> <td>    0.509</td> <td>    1.669</td> <td> 0.096</td> <td>   -0.150</td> <td>    1.848</td>\n",
       "</tr>\n",
       "<tr>\n",
       "  <th>5</th>     <td>   -0.6949</td> <td>    0.505</td> <td>   -1.377</td> <td> 0.169</td> <td>   -1.686</td> <td>    0.297</td>\n",
       "</tr>\n",
       "</table>\n",
       "<table class=\"simpletable\">\n",
       "<tr>\n",
       "  <th>Omnibus:</th>       <td>23.074</td> <th>  Durbin-Watson:     </th> <td>   1.989</td>\n",
       "</tr>\n",
       "<tr>\n",
       "  <th>Prob(Omnibus):</th> <td> 0.000</td> <th>  Jarque-Bera (JB):  </th> <td>  41.378</td>\n",
       "</tr>\n",
       "<tr>\n",
       "  <th>Skew:</th>          <td>-0.302</td> <th>  Prob(JB):          </th> <td>1.03e-09</td>\n",
       "</tr>\n",
       "<tr>\n",
       "  <th>Kurtosis:</th>      <td> 4.274</td> <th>  Cond. No.          </th> <td>1.88e+05</td>\n",
       "</tr>\n",
       "</table><br/><br/>Warnings:<br/>[1] Standard Errors assume that the covariance matrix of the errors is correctly specified.<br/>[2] The condition number is large, 1.88e+05. This might indicate that there are<br/>strong multicollinearity or other numerical problems."
      ],
      "text/plain": [
       "<class 'statsmodels.iolib.summary.Summary'>\n",
       "\"\"\"\n",
       "                             OLS Regression Results                            \n",
       "===============================================================================\n",
       "Dep. Variable:     Yearly Amount Spent   R-squared:                       0.980\n",
       "Model:                             OLS   Adj. R-squared:                  0.980\n",
       "Method:                  Least Squares   F-statistic:                     4046.\n",
       "Date:                 Tue, 08 Dec 2020   Prob (F-statistic):               0.00\n",
       "Time:                         07:44:06   Log-Likelihood:                -1906.5\n",
       "No. Observations:                  500   AIC:                             3827.\n",
       "Df Residuals:                      493   BIC:                             3856.\n",
       "Df Model:                            6                                         \n",
       "Covariance Type:             nonrobust                                         \n",
       "==============================================================================\n",
       "                 coef    std err          t      P>|t|      [0.025      0.975]\n",
       "------------------------------------------------------------------------------\n",
       "const       -820.8766    219.509     -3.740      0.000   -1252.165    -389.588\n",
       "0             18.2233      6.663      2.735      0.006       5.132      31.315\n",
       "1             29.9336     17.368      1.723      0.085      -4.191      64.059\n",
       "2             42.3210     18.211      2.324      0.021       6.541      78.101\n",
       "3              0.3460      0.528      0.655      0.513      -0.692       1.384\n",
       "4              0.8488      0.509      1.669      0.096      -0.150       1.848\n",
       "5             -0.6949      0.505     -1.377      0.169      -1.686       0.297\n",
       "==============================================================================\n",
       "Omnibus:                       23.074   Durbin-Watson:                   1.989\n",
       "Prob(Omnibus):                  0.000   Jarque-Bera (JB):               41.378\n",
       "Skew:                          -0.302   Prob(JB):                     1.03e-09\n",
       "Kurtosis:                       4.274   Cond. No.                     1.88e+05\n",
       "==============================================================================\n",
       "\n",
       "Warnings:\n",
       "[1] Standard Errors assume that the covariance matrix of the errors is correctly specified.\n",
       "[2] The condition number is large, 1.88e+05. This might indicate that there are\n",
       "strong multicollinearity or other numerical problems.\n",
       "\"\"\""
      ]
     },
     "execution_count": 180,
     "metadata": {},
     "output_type": "execute_result"
    }
   ],
   "source": [
    "inpc = sm.add_constant(inp_inter)\n",
    "ols_mod = sm.OLS(out,inpc).fit()\n",
    "ols_mod.summary()"
   ]
  },
  {
   "cell_type": "markdown",
   "metadata": {},
   "source": [
    "So after using feature interaction, we are getting same R2 and Adjusted R2. So we will not use feature interaction."
   ]
  },
  {
   "cell_type": "markdown",
   "metadata": {},
   "source": [
    "---------"
   ]
  },
  {
   "cell_type": "markdown",
   "metadata": {},
   "source": [
    "#### Final Model:"
   ]
  },
  {
   "cell_type": "code",
   "execution_count": 190,
   "metadata": {},
   "outputs": [
    {
     "data": {
      "text/html": [
       "<table class=\"simpletable\">\n",
       "<caption>OLS Regression Results</caption>\n",
       "<tr>\n",
       "  <th>Dep. Variable:</th>    <td>Yearly Amount Spent</td> <th>  R-squared:         </th> <td>   0.980</td>\n",
       "</tr>\n",
       "<tr>\n",
       "  <th>Model:</th>                    <td>OLS</td>         <th>  Adj. R-squared:    </th> <td>   0.980</td>\n",
       "</tr>\n",
       "<tr>\n",
       "  <th>Method:</th>              <td>Least Squares</td>    <th>  F-statistic:       </th> <td>   8056.</td>\n",
       "</tr>\n",
       "<tr>\n",
       "  <th>Date:</th>              <td>Tue, 08 Dec 2020</td>   <th>  Prob (F-statistic):</th>  <td>  0.00</td> \n",
       "</tr>\n",
       "<tr>\n",
       "  <th>Time:</th>                  <td>07:59:43</td>       <th>  Log-Likelihood:    </th> <td> -1909.1</td>\n",
       "</tr>\n",
       "<tr>\n",
       "  <th>No. Observations:</th>       <td>   500</td>        <th>  AIC:               </th> <td>   3826.</td>\n",
       "</tr>\n",
       "<tr>\n",
       "  <th>Df Residuals:</th>           <td>   496</td>        <th>  BIC:               </th> <td>   3843.</td>\n",
       "</tr>\n",
       "<tr>\n",
       "  <th>Df Model:</th>               <td>     3</td>        <th>                     </th>     <td> </td>   \n",
       "</tr>\n",
       "<tr>\n",
       "  <th>Covariance Type:</th>       <td>nonrobust</td>      <th>                     </th>     <td> </td>   \n",
       "</tr>\n",
       "</table>\n",
       "<table class=\"simpletable\">\n",
       "<tr>\n",
       "            <td></td>              <th>coef</th>     <th>std err</th>      <th>t</th>      <th>P>|t|</th>  <th>[0.025</th>    <th>0.975]</th>  \n",
       "</tr>\n",
       "<tr>\n",
       "  <th>const</th>                <td>-1028.6791</td> <td>   17.994</td> <td>  -57.169</td> <td> 0.000</td> <td>-1064.032</td> <td> -993.326</td>\n",
       "</tr>\n",
       "<tr>\n",
       "  <th>Avg. Session Length</th>  <td>   25.4130</td> <td>    0.507</td> <td>   50.141</td> <td> 0.000</td> <td>   24.417</td> <td>   26.409</td>\n",
       "</tr>\n",
       "<tr>\n",
       "  <th>Time on App</th>          <td>   38.9114</td> <td>    0.509</td> <td>   76.391</td> <td> 0.000</td> <td>   37.911</td> <td>   39.912</td>\n",
       "</tr>\n",
       "<tr>\n",
       "  <th>Length of Membership</th> <td>   61.9503</td> <td>    0.507</td> <td>  122.163</td> <td> 0.000</td> <td>   60.954</td> <td>   62.947</td>\n",
       "</tr>\n",
       "</table>\n",
       "<table class=\"simpletable\">\n",
       "<tr>\n",
       "  <th>Omnibus:</th>       <td>28.753</td> <th>  Durbin-Watson:     </th> <td>   2.004</td>\n",
       "</tr>\n",
       "<tr>\n",
       "  <th>Prob(Omnibus):</th> <td> 0.000</td> <th>  Jarque-Bera (JB):  </th> <td>  51.958</td>\n",
       "</tr>\n",
       "<tr>\n",
       "  <th>Skew:</th>          <td>-0.376</td> <th>  Prob(JB):          </th> <td>5.22e-12</td>\n",
       "</tr>\n",
       "<tr>\n",
       "  <th>Kurtosis:</th>      <td> 4.389</td> <th>  Cond. No.          </th> <td>1.29e+03</td>\n",
       "</tr>\n",
       "</table><br/><br/>Warnings:<br/>[1] Standard Errors assume that the covariance matrix of the errors is correctly specified.<br/>[2] The condition number is large, 1.29e+03. This might indicate that there are<br/>strong multicollinearity or other numerical problems."
      ],
      "text/plain": [
       "<class 'statsmodels.iolib.summary.Summary'>\n",
       "\"\"\"\n",
       "                             OLS Regression Results                            \n",
       "===============================================================================\n",
       "Dep. Variable:     Yearly Amount Spent   R-squared:                       0.980\n",
       "Model:                             OLS   Adj. R-squared:                  0.980\n",
       "Method:                  Least Squares   F-statistic:                     8056.\n",
       "Date:                 Tue, 08 Dec 2020   Prob (F-statistic):               0.00\n",
       "Time:                         07:59:43   Log-Likelihood:                -1909.1\n",
       "No. Observations:                  500   AIC:                             3826.\n",
       "Df Residuals:                      496   BIC:                             3843.\n",
       "Df Model:                            3                                         \n",
       "Covariance Type:             nonrobust                                         \n",
       "========================================================================================\n",
       "                           coef    std err          t      P>|t|      [0.025      0.975]\n",
       "----------------------------------------------------------------------------------------\n",
       "const                -1028.6791     17.994    -57.169      0.000   -1064.032    -993.326\n",
       "Avg. Session Length     25.4130      0.507     50.141      0.000      24.417      26.409\n",
       "Time on App             38.9114      0.509     76.391      0.000      37.911      39.912\n",
       "Length of Membership    61.9503      0.507    122.163      0.000      60.954      62.947\n",
       "==============================================================================\n",
       "Omnibus:                       28.753   Durbin-Watson:                   2.004\n",
       "Prob(Omnibus):                  0.000   Jarque-Bera (JB):               51.958\n",
       "Skew:                          -0.376   Prob(JB):                     5.22e-12\n",
       "Kurtosis:                       4.389   Cond. No.                     1.29e+03\n",
       "==============================================================================\n",
       "\n",
       "Warnings:\n",
       "[1] Standard Errors assume that the covariance matrix of the errors is correctly specified.\n",
       "[2] The condition number is large, 1.29e+03. This might indicate that there are\n",
       "strong multicollinearity or other numerical problems.\n",
       "\"\"\""
      ]
     },
     "execution_count": 190,
     "metadata": {},
     "output_type": "execute_result"
    }
   ],
   "source": [
    "inpc = sm.add_constant(inp[feat_back])\n",
    "ols_mod_final = sm.OLS(out,inpc).fit()\n",
    "ols_mod_final.summary()"
   ]
  },
  {
   "cell_type": "code",
   "execution_count": 194,
   "metadata": {},
   "outputs": [
    {
     "data": {
      "text/html": [
       "<div>\n",
       "<style scoped>\n",
       "    .dataframe tbody tr th:only-of-type {\n",
       "        vertical-align: middle;\n",
       "    }\n",
       "\n",
       "    .dataframe tbody tr th {\n",
       "        vertical-align: top;\n",
       "    }\n",
       "\n",
       "    .dataframe thead th {\n",
       "        text-align: right;\n",
       "    }\n",
       "</style>\n",
       "<table border=\"1\" class=\"dataframe\">\n",
       "  <thead>\n",
       "    <tr style=\"text-align: right;\">\n",
       "      <th></th>\n",
       "      <th>Base Model</th>\n",
       "      <th>Final Model</th>\n",
       "    </tr>\n",
       "  </thead>\n",
       "  <tbody>\n",
       "    <tr>\n",
       "      <th>const</th>\n",
       "      <td>-1045.212206</td>\n",
       "      <td>-1028.679086</td>\n",
       "    </tr>\n",
       "    <tr>\n",
       "      <th>Avg. Session Length</th>\n",
       "      <td>25.424936</td>\n",
       "      <td>25.413048</td>\n",
       "    </tr>\n",
       "    <tr>\n",
       "      <th>Time on App</th>\n",
       "      <td>38.875060</td>\n",
       "      <td>38.911373</td>\n",
       "    </tr>\n",
       "    <tr>\n",
       "      <th>Time on Website</th>\n",
       "      <td>0.445678</td>\n",
       "      <td>NaN</td>\n",
       "    </tr>\n",
       "    <tr>\n",
       "      <th>Length of Membership</th>\n",
       "      <td>61.967558</td>\n",
       "      <td>61.950326</td>\n",
       "    </tr>\n",
       "  </tbody>\n",
       "</table>\n",
       "</div>"
      ],
      "text/plain": [
       "                       Base Model  Final Model\n",
       "const                -1045.212206 -1028.679086\n",
       "Avg. Session Length     25.424936    25.413048\n",
       "Time on App             38.875060    38.911373\n",
       "Time on Website          0.445678          NaN\n",
       "Length of Membership    61.967558    61.950326"
      ]
     },
     "execution_count": 194,
     "metadata": {},
     "output_type": "execute_result"
    }
   ],
   "source": [
    "coef = pd.DataFrame()\n",
    "coef['Base Model'] = ols_mod_base.params\n",
    "coef['Final Model'] = ols_mod_final.params\n",
    "coef"
   ]
  },
  {
   "cell_type": "code",
   "execution_count": 184,
   "metadata": {},
   "outputs": [
    {
     "data": {
      "text/plain": [
       "[0.9825649723224259, 10.925359121808494]"
      ]
     },
     "execution_count": 184,
     "metadata": {},
     "output_type": "execute_result"
    }
   ],
   "source": [
    "lr = LinearRegression()\n",
    "lr.fit(inp[feat_back],out)\n",
    "ypred = lr.predict(xtest[feat_back])\n",
    "r2 = r2_score(ytest,ypred)\n",
    "rmse = np.sqrt(abs(mean_squared_error(ytest,ypred)))\n",
    "final_res = [r2,rmse]\n",
    "final_res"
   ]
  },
  {
   "cell_type": "code",
   "execution_count": 185,
   "metadata": {},
   "outputs": [
    {
     "data": {
      "text/html": [
       "<div>\n",
       "<style scoped>\n",
       "    .dataframe tbody tr th:only-of-type {\n",
       "        vertical-align: middle;\n",
       "    }\n",
       "\n",
       "    .dataframe tbody tr th {\n",
       "        vertical-align: top;\n",
       "    }\n",
       "\n",
       "    .dataframe thead th {\n",
       "        text-align: right;\n",
       "    }\n",
       "</style>\n",
       "<table border=\"1\" class=\"dataframe\">\n",
       "  <thead>\n",
       "    <tr style=\"text-align: right;\">\n",
       "      <th></th>\n",
       "      <th>Base Model</th>\n",
       "      <th>Final Model</th>\n",
       "    </tr>\n",
       "  </thead>\n",
       "  <tbody>\n",
       "    <tr>\n",
       "      <th>R2</th>\n",
       "      <td>0.982471</td>\n",
       "      <td>0.982565</td>\n",
       "    </tr>\n",
       "    <tr>\n",
       "      <th>RMSE</th>\n",
       "      <td>10.954748</td>\n",
       "      <td>10.925359</td>\n",
       "    </tr>\n",
       "  </tbody>\n",
       "</table>\n",
       "</div>"
      ],
      "text/plain": [
       "      Base Model  Final Model\n",
       "R2      0.982471     0.982565\n",
       "RMSE   10.954748    10.925359"
      ]
     },
     "execution_count": 185,
     "metadata": {},
     "output_type": "execute_result"
    }
   ],
   "source": [
    "model = pd.DataFrame()\n",
    "model['Base Model'] = base_res\n",
    "model['Final Model'] = final_res\n",
    "model.index = ['R2', 'RMSE']\n",
    "model"
   ]
  },
  {
   "cell_type": "markdown",
   "metadata": {},
   "source": [
    "So we are getting same R2 as base model in our final model but , emse has been reduced a little bit in our final model."
   ]
  },
  {
   "cell_type": "markdown",
   "metadata": {},
   "source": [
    "### 8.\tSummarize as follows (10 marks) \n",
    "\n",
    "1.\tSummarize the overall fit of the model and list down the measures to prove that it is a good model\n",
    "2.\tWrite down a business interpretation/explanation of the model – which variables are affecting the target the most and explain the relationship. Feel free to use charts or graphs to explain.\n",
    "3.\tWhat changes from the base model had the most affect on model performance\n",
    "4.\tWhat are the key risks to your results and interpretation\n"
   ]
  },
  {
   "cell_type": "markdown",
   "metadata": {},
   "source": [
    "#### 1.\tSummarize the overall fit of the model and list down the measures to prove that it is a good model"
   ]
  },
  {
   "cell_type": "markdown",
   "metadata": {},
   "source": [
    "In the base model, there were 4 features but after feature selection technique, we have 3 features and drop one feature i.e. 'Time on Website'. And the R2 and Adjusted R2 score of base model and final model is same i.e. 0.980. We have used RMSE also as a metric. And the value of RMSE has been reduced in the final."
   ]
  },
  {
   "cell_type": "markdown",
   "metadata": {},
   "source": [
    "#### 2.\tWrite down a business interpretation/explanation of the model – which variables are affecting the target the most and explain the relationship. Feel free to use charts or graphs to explain."
   ]
  },
  {
   "cell_type": "markdown",
   "metadata": {},
   "source": [
    "We have 3 features in our final model which are affecting the target variable the most."
   ]
  },
  {
   "cell_type": "code",
   "execution_count": 195,
   "metadata": {},
   "outputs": [
    {
     "data": {
      "image/png": "[encoded data removed]",
      "text/plain": [
       "<Figure size 432x288 with 1 Axes>"
      ]
     },
     "metadata": {
      "needs_background": "light"
     },
     "output_type": "display_data"
    },
    {
     "data": {
      "image/png": "[encoded data removed]",
      "text/plain": [
       "<Figure size 432x288 with 1 Axes>"
      ]
     },
     "metadata": {
      "needs_background": "light"
     },
     "output_type": "display_data"
    },
    {
     "data": {
      "image/png": "[encoded data removed]",
      "text/plain": [
       "<Figure size 432x288 with 1 Axes>"
      ]
     },
     "metadata": {
      "needs_background": "light"
     },
     "output_type": "display_data"
    }
   ],
   "source": [
    "for i in inp[feat_back].columns:\n",
    "    sns.scatterplot(x = out, y = final_df[i])\n",
    "    plt.show()"
   ]
  },
  {
   "cell_type": "markdown",
   "metadata": {},
   "source": [
    "Length of Membership has the highest linear relationship with the target variable and affecting the most folowed by 'Time on App' and 'Avg. Session Length'."
   ]
  },
  {
   "cell_type": "code",
   "execution_count": 196,
   "metadata": {},
   "outputs": [
    {
     "data": {
      "text/html": [
       "<table class=\"simpletable\">\n",
       "<caption>OLS Regression Results</caption>\n",
       "<tr>\n",
       "  <th>Dep. Variable:</th>    <td>Yearly Amount Spent</td> <th>  R-squared:         </th> <td>   0.980</td>\n",
       "</tr>\n",
       "<tr>\n",
       "  <th>Model:</th>                    <td>OLS</td>         <th>  Adj. R-squared:    </th> <td>   0.980</td>\n",
       "</tr>\n",
       "<tr>\n",
       "  <th>Method:</th>              <td>Least Squares</td>    <th>  F-statistic:       </th> <td>   8056.</td>\n",
       "</tr>\n",
       "<tr>\n",
       "  <th>Date:</th>              <td>Tue, 08 Dec 2020</td>   <th>  Prob (F-statistic):</th>  <td>  0.00</td> \n",
       "</tr>\n",
       "<tr>\n",
       "  <th>Time:</th>                  <td>08:08:00</td>       <th>  Log-Likelihood:    </th> <td> -1909.1</td>\n",
       "</tr>\n",
       "<tr>\n",
       "  <th>No. Observations:</th>       <td>   500</td>        <th>  AIC:               </th> <td>   3826.</td>\n",
       "</tr>\n",
       "<tr>\n",
       "  <th>Df Residuals:</th>           <td>   496</td>        <th>  BIC:               </th> <td>   3843.</td>\n",
       "</tr>\n",
       "<tr>\n",
       "  <th>Df Model:</th>               <td>     3</td>        <th>                     </th>     <td> </td>   \n",
       "</tr>\n",
       "<tr>\n",
       "  <th>Covariance Type:</th>       <td>nonrobust</td>      <th>                     </th>     <td> </td>   \n",
       "</tr>\n",
       "</table>\n",
       "<table class=\"simpletable\">\n",
       "<tr>\n",
       "            <td></td>              <th>coef</th>     <th>std err</th>      <th>t</th>      <th>P>|t|</th>  <th>[0.025</th>    <th>0.975]</th>  \n",
       "</tr>\n",
       "<tr>\n",
       "  <th>const</th>                <td>-1028.6791</td> <td>   17.994</td> <td>  -57.169</td> <td> 0.000</td> <td>-1064.032</td> <td> -993.326</td>\n",
       "</tr>\n",
       "<tr>\n",
       "  <th>Avg. Session Length</th>  <td>   25.4130</td> <td>    0.507</td> <td>   50.141</td> <td> 0.000</td> <td>   24.417</td> <td>   26.409</td>\n",
       "</tr>\n",
       "<tr>\n",
       "  <th>Time on App</th>          <td>   38.9114</td> <td>    0.509</td> <td>   76.391</td> <td> 0.000</td> <td>   37.911</td> <td>   39.912</td>\n",
       "</tr>\n",
       "<tr>\n",
       "  <th>Length of Membership</th> <td>   61.9503</td> <td>    0.507</td> <td>  122.163</td> <td> 0.000</td> <td>   60.954</td> <td>   62.947</td>\n",
       "</tr>\n",
       "</table>\n",
       "<table class=\"simpletable\">\n",
       "<tr>\n",
       "  <th>Omnibus:</th>       <td>28.753</td> <th>  Durbin-Watson:     </th> <td>   2.004</td>\n",
       "</tr>\n",
       "<tr>\n",
       "  <th>Prob(Omnibus):</th> <td> 0.000</td> <th>  Jarque-Bera (JB):  </th> <td>  51.958</td>\n",
       "</tr>\n",
       "<tr>\n",
       "  <th>Skew:</th>          <td>-0.376</td> <th>  Prob(JB):          </th> <td>5.22e-12</td>\n",
       "</tr>\n",
       "<tr>\n",
       "  <th>Kurtosis:</th>      <td> 4.389</td> <th>  Cond. No.          </th> <td>1.29e+03</td>\n",
       "</tr>\n",
       "</table><br/><br/>Warnings:<br/>[1] Standard Errors assume that the covariance matrix of the errors is correctly specified.<br/>[2] The condition number is large, 1.29e+03. This might indicate that there are<br/>strong multicollinearity or other numerical problems."
      ],
      "text/plain": [
       "<class 'statsmodels.iolib.summary.Summary'>\n",
       "\"\"\"\n",
       "                             OLS Regression Results                            \n",
       "===============================================================================\n",
       "Dep. Variable:     Yearly Amount Spent   R-squared:                       0.980\n",
       "Model:                             OLS   Adj. R-squared:                  0.980\n",
       "Method:                  Least Squares   F-statistic:                     8056.\n",
       "Date:                 Tue, 08 Dec 2020   Prob (F-statistic):               0.00\n",
       "Time:                         08:08:00   Log-Likelihood:                -1909.1\n",
       "No. Observations:                  500   AIC:                             3826.\n",
       "Df Residuals:                      496   BIC:                             3843.\n",
       "Df Model:                            3                                         \n",
       "Covariance Type:             nonrobust                                         \n",
       "========================================================================================\n",
       "                           coef    std err          t      P>|t|      [0.025      0.975]\n",
       "----------------------------------------------------------------------------------------\n",
       "const                -1028.6791     17.994    -57.169      0.000   -1064.032    -993.326\n",
       "Avg. Session Length     25.4130      0.507     50.141      0.000      24.417      26.409\n",
       "Time on App             38.9114      0.509     76.391      0.000      37.911      39.912\n",
       "Length of Membership    61.9503      0.507    122.163      0.000      60.954      62.947\n",
       "==============================================================================\n",
       "Omnibus:                       28.753   Durbin-Watson:                   2.004\n",
       "Prob(Omnibus):                  0.000   Jarque-Bera (JB):               51.958\n",
       "Skew:                          -0.376   Prob(JB):                     5.22e-12\n",
       "Kurtosis:                       4.389   Cond. No.                     1.29e+03\n",
       "==============================================================================\n",
       "\n",
       "Warnings:\n",
       "[1] Standard Errors assume that the covariance matrix of the errors is correctly specified.\n",
       "[2] The condition number is large, 1.29e+03. This might indicate that there are\n",
       "strong multicollinearity or other numerical problems.\n",
       "\"\"\""
      ]
     },
     "execution_count": 196,
     "metadata": {},
     "output_type": "execute_result"
    }
   ],
   "source": [
    "ols_mod_final.summary()"
   ]
  },
  {
   "cell_type": "markdown",
   "metadata": {},
   "source": [
    "1. 1 unit change in 'Avg.Session Length', 25 unit change in 'Yearly Amount Spent'.\n",
    "2. 1 unit change in 'Time on App', 39 unit change in 'Yearly Amount Spent'.\n",
    "3. 1 unit change in 'Length of Membership', 62 unit change in 'Yearly Amount Spent'."
   ]
  },
  {
   "cell_type": "markdown",
   "metadata": {},
   "source": [
    "#### 3.\tWhat changes from the base model had the most affect on model performance"
   ]
  },
  {
   "cell_type": "markdown",
   "metadata": {},
   "source": [
    "We had one useless feature in our base model i.e. 'Time on Website'. Using Feature Selection Technique, we have removed that feature and still getting same R2 and Adjusted R2 score and less RMSE in our final model. Then we have checked if the model is overfitting or not and it's not a overfit model but still we have regularization techniques to improve the model performance. But failed to do so and stick with Linear Regression as it is giving best result."
   ]
  },
  {
   "cell_type": "markdown",
   "metadata": {},
   "source": [
    "#### 4.\tWhat are the key risks to your results and interpretation"
   ]
  },
  {
   "cell_type": "code",
   "execution_count": 198,
   "metadata": {},
   "outputs": [
    {
     "data": {
      "image/png": "[encoded data removed]",
      "text/plain": [
       "<Figure size 432x288 with 1 Axes>"
      ]
     },
     "metadata": {
      "needs_background": "light"
     },
     "output_type": "display_data"
    }
   ],
   "source": [
    "sns.distplot(ols_mod_final.resid)\n",
    "plt.show()"
   ]
  },
  {
   "cell_type": "markdown",
   "metadata": {},
   "source": [
    "We can see, the distribution of residue of my final model is normally ditributed."
   ]
  },
  {
   "cell_type": "code",
   "execution_count": 201,
   "metadata": {},
   "outputs": [
    {
     "data": {
      "image/png": "[encoded data removed]",
      "text/plain": [
       "<Figure size 432x288 with 1 Axes>"
      ]
     },
     "metadata": {
      "needs_background": "light"
     },
     "output_type": "display_data"
    }
   ],
   "source": [
    "sns.scatterplot(inp[feat_back].iloc[:,0],ols_mod_final.resid)\n",
    "plt.show()"
   ]
  },
  {
   "cell_type": "code",
   "execution_count": 202,
   "metadata": {},
   "outputs": [
    {
     "data": {
      "image/png": "[encoded data removed]",
      "text/plain": [
       "<Figure size 432x288 with 1 Axes>"
      ]
     },
     "metadata": {
      "needs_background": "light"
     },
     "output_type": "display_data"
    }
   ],
   "source": [
    "sns.scatterplot(inp[feat_back].iloc[:,1],ols_mod_final.resid)\n",
    "plt.show()"
   ]
  },
  {
   "cell_type": "code",
   "execution_count": 203,
   "metadata": {},
   "outputs": [
    {
     "data": {
      "image/png": "[encoded data removed]",
      "text/plain": [
       "<Figure size 432x288 with 1 Axes>"
      ]
     },
     "metadata": {
      "needs_background": "light"
     },
     "output_type": "display_data"
    }
   ],
   "source": [
    "sns.scatterplot(inp[feat_back].iloc[:,2],ols_mod_final.resid)\n",
    "plt.show()"
   ]
  },
  {
   "cell_type": "markdown",
   "metadata": {},
   "source": [
    "The features are randomly scattered with respect to residue of final model."
   ]
  },
  {
   "cell_type": "markdown",
   "metadata": {},
   "source": [
    "As we can see that, residue of final model is normally distributed and the features are randomly scattered with respect to residue, we can say our final model is appropriate and there is no such risk involve in it.\n"
   ]
  },
  {
   "cell_type": "code",
   "execution_count": null,
   "metadata": {},
   "outputs": [],
   "source": []
  }
 ],
 "metadata": {
  "hide_input": false,
  "kernelspec": {
   "display_name": "Python 3",
   "language": "python",
   "name": "python3"
  },
  "language_info": {
   "codemirror_mode": {
    "name": "ipython",
    "version": 3
   },
   "file_extension": ".py",
   "mimetype": "text/x-python",
   "name": "python",
   "nbconvert_exporter": "python",
   "pygments_lexer": "ipython3",
   "version": "3.7.3"
  },
  "toc": {
   "base_numbering": 1,
   "nav_menu": {},
   "number_sections": true,
   "sideBar": true,
   "skip_h1_title": false,
   "title_cell": "Table of Contents",
   "title_sidebar": "Contents",
   "toc_cell": false,
   "toc_position": {},
   "toc_section_display": true,
   "toc_window_display": false
  },
  "varInspector": {
   "cols": {
    "lenName": 16,
    "lenType": 16,
    "lenVar": 40
   },
   "kernels_config": {
    "python": {
     "delete_cmd_postfix": "",
     "delete_cmd_prefix": "del ",
     "library": "var_list.py",
     "varRefreshCmd": "print(var_dic_list())"
    },
    "r": {
     "delete_cmd_postfix": ") ",
     "delete_cmd_prefix": "rm(",
     "library": "var_list.r",
     "varRefreshCmd": "cat(var_dic_list()) "
    }
   },
   "types_to_exclude": [
    "module",
    "function",
    "builtin_function_or_method",
    "instance",
    "_Feature"
   ],
   "window_display": false
  }
 },
 "nbformat": 4,
 "nbformat_minor": 2
}
